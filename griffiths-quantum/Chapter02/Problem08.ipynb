{
 "cells": [
  {
   "cell_type": "markdown",
   "metadata": {},
   "source": [
    "# Problem 2.8"
   ]
  },
  {
   "cell_type": "markdown",
   "metadata": {},
   "source": [
    "## Part a."
   ]
  },
  {
   "cell_type": "markdown",
   "metadata": {},
   "source": [
    "We have\n",
    "\n",
    "$$\n",
    "\\Psi(x, 0) = \\begin{cases}\n",
    "  C, & 0 \\leq x \\le \\frac{a}{2} \\\\\n",
    "  0, & \\textrm{otherwise}\n",
    "\\end{cases}\n",
    "$$\n",
    "\n",
    "for some normalization constant $C$.  To find the normalization constant we must have\n",
    "\n",
    "$$\n",
    "|\\Psi|^2 = \\int_0^{\\frac{a}{2}} C^2 \\, dx = C^2 x \\, \\bigg\\rvert_0^{\\frac{a}{2}} = C^2 \\frac{a}{2} = 1\n",
    "$$\n",
    "\n",
    "Solving for $C$ yields\n",
    "\n",
    "$$\n",
    "C = \\sqrt{\\frac{2}{a}}\n",
    "$$\n",
    "\n",
    "Hence\n",
    "\n",
    "$$\n",
    "\\Psi(x, 0) = \\begin{cases}\n",
    "  \\sqrt{\\frac{2}{a}}, & 0 \\leq x \\le \\frac{a}{2} \\\\\n",
    "  0, & \\textrm{otherwise}\n",
    "\\end{cases}\n",
    "$$"
   ]
  },
  {
   "cell_type": "markdown",
   "metadata": {},
   "source": [
    "## Part b."
   ]
  },
  {
   "cell_type": "markdown",
   "metadata": {},
   "source": [
    "This energy corresponds to the ground state, $n = 1$.  Solving for the Fourier coefficient $c_1$ gives\n",
    "\n",
    "$$\n",
    "\\begin{eqnarray}\n",
    "c_1 & = & \\sqrt{\\frac{a}{2}} \\int_0^a \\sin \\left( \\frac{\\pi x}{a} \\right) \\Psi(x, 0) \\, dx \\\\\n",
    "& = & \\sqrt{\\frac{2}{a}} \\int_0^{\\frac{a}{2}} \\sin \\left( \\frac{\\pi x}{a} \\right) \\sqrt{\\frac{2}{a}} \\, dx \\\\\n",
    "& = & \\frac{2}{a} \\int_0^{\\frac{a}{2}} \\sin \\left( \\frac{\\pi x}{a} \\right) \\, dx \\\\\n",
    "& = & \\frac{2}{a} \\left[ -\\frac{a}{\\pi} \\cos \\left( \\frac{\\pi x}{a} \\right) \\right]_0^{\\frac{a}{2}} \\\\\n",
    "& = & \\frac{2}{a} \\left[ 1 - \\cos \\left( \\frac{\\pi}{2} \\right) \\right] \\\\\n",
    "& = & \\frac{2}{\\pi}\n",
    "\\end{eqnarray}\n",
    "$$"
   ]
  },
  {
   "cell_type": "markdown",
   "metadata": {},
   "source": [
    "The probability of finding the particle in the ground state is then\n",
    "\n",
    "$$\n",
    "p = |c_1|^2 = \\frac{4}{\\pi^2}\n",
    "$$"
   ]
  }
 ],
 "metadata": {
  "kernelspec": {
   "display_name": "Python 3",
   "language": "python",
   "name": "python3"
  },
  "language_info": {
   "codemirror_mode": {
    "name": "ipython",
    "version": 3
   },
   "file_extension": ".py",
   "mimetype": "text/x-python",
   "name": "python",
   "nbconvert_exporter": "python",
   "pygments_lexer": "ipython3",
   "version": "3.8.5"
  }
 },
 "nbformat": 4,
 "nbformat_minor": 4
}
