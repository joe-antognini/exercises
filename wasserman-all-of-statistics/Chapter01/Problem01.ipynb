{
 "cells": [
  {
   "cell_type": "markdown",
   "metadata": {},
   "source": [
    "# Problem 1.1\n",
    "\n",
    "We need to fill in a few details in the proof of theorem 1.8.\n",
    "\n",
    "----\n",
    "\n",
    "The first thing we would like to show is that $B_1, B_2, \\ldots$ are disjoint.  Recall that $B_i$ is defined by\n",
    "\n",
    "$$\n",
    "B_i = \\{\\omega \\in \\Omega : \\omega \\in A_i, \\omega \\notin A_{i-1}, \\ldots, \\omega \\notin A_1\\}.\n",
    "$$\n",
    "\n",
    "The $B_i$ are disjoint iff $B_i \\cap B_j = \\emptyset$ whenever $i \\neq j$.\n",
    "\n",
    "Suppose, without loss of generality, that $j > i$.  Then one of the conditions for an element $\\omega$ to be in $B_j$ is that $\\omega \\notin B_i$.  Hence $\\omega \\in B_j \\Longrightarrow \\omega \\notin B_i$.  Thus we can never have an element which is a member of both $B_i$ and $B_j$ and so $B_i \\cap B_j = \\emptyset$.\n",
    "\n",
    "----\n",
    "\n",
    "A second detail we would like to show is that\n",
    "\n",
    "$$\n",
    "A_n = \\bigcup_{i=1}^n A_i = \\bigcup_{i=1}^n B_i, \\; \\forall n.\n",
    "$$\n",
    "\n",
    "Let's start with proving the first equality.  Recall that for any $i < j$ we have that $A_i \\subset A_j$.  This implies that $A_n = A_n \\cup A_{n - 1}$ since the union of a set with any of its subsets is the set itself.  By induction we can apply the same reasoning to $A_{n-1}$ until we arrive at the base case of $A_1$ and so we have\n",
    "\n",
    "$$\n",
    "A_n = \\bigcup_{i=1}^n A_i.\n",
    "$$\n",
    "\n",
    "The next part is to prove the second equality.  Let us prove this by induction.  Suppose that it is the case that\n",
    "\n",
    "$$\n",
    "\\bigcup_{i=1}^{n-1} A_i = \\bigcup_{i=1}^{n-1} B_i.\n",
    "$$\n",
    "\n",
    "Now take the union with $B_n$.  The right hand side is $\\bigcup_{i=1}^n B_i$ as desired.  The left hand side is now\n",
    "\n",
    "$$\n",
    "\\left( \\bigcup_{i=1}^{n-1} A_i \\right) \\cup B_n = A_{n-1} \\cup B_n.\n",
    "$$\n",
    "\n",
    "Now consider an element $\\omega$ of $A_n$.  It is either in $A_{n-1}$ or not.  If it is, then it is in the set $A_{n-1} \\cup B_n$.  If it is not, then it must be an element of $B_n$ by the definition of $B_n$, and so is also an element of the set $A_{n-1} \\cup B_n$.  Hence $\\omega \\in A_n \\Longrightarrow A_{n-1} \\cup B_n$.  Now consider an element $\\omega \\notin A_n$.  By definition $\\omega \\notin B_n$.  Furthermore since $A_{n-1} \\subset A_n$ we must have that $\\omega \\notin A_{n-1}$.  Hence $\\omega \\notin A_{n-1} \\cup B_n$.  Thus all elements not in $A_n$ are not in $A_{n-1} \\cup B_n$.  This implies that $A_n = A_{n-1} \\cup B_n$.  And because $A_n$ = \\bigcup_{i=1}^n A_i we have that\n",
    "\n",
    "$$\n",
    "\\bigcup_{i=1}^n A_i = \\bigcup_{i=1}^n B_i.\n",
    "$$\n",
    "\n",
    "It remains only to prove the base case of $n = 1$.  Here by defintion we have that $A_1 = B_1$.  Hence the second equality is proved.\n",
    "\n",
    "----\n",
    "\n",
    "The third equality can be seen simply by taking $n \\to \\infty$."
   ]
  }
 ],
 "metadata": {
  "kernelspec": {
   "display_name": "Python 3",
   "language": "python",
   "name": "python3"
  },
  "language_info": {
   "codemirror_mode": {
    "name": "ipython",
    "version": 3
   },
   "file_extension": ".py",
   "mimetype": "text/x-python",
   "name": "python",
   "nbconvert_exporter": "python",
   "pygments_lexer": "ipython3",
   "version": "3.8.5"
  }
 },
 "nbformat": 4,
 "nbformat_minor": 4
}
