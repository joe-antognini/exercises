{
 "cells": [
  {
   "cell_type": "markdown",
   "metadata": {},
   "source": [
    "## Problem 1.2\n",
    "\n",
    "### Part a.\n",
    "\n",
    "The distribution is\n",
    "\n",
    "$$\n",
    "\\rho(x) = \\frac{1}{2 \\sqrt{hx}}\n",
    "$$\n",
    "\n",
    "We already have $\\langle x \\rangle$ so we must calculate $\\langle x^2 \\rangle$.\n",
    "\n",
    "$$\n",
    "\\begin{eqnarray}\n",
    "\\langle x^2 \\rangle & = & \\int_0^h x^2 \\cdot \\frac{1}{2 \\sqrt{h x}} \\, dx \\\\\n",
    "& = & \\int_0^h \\frac{x^{3/2}}{2 \\sqrt{h}} \\, dx \\\\\n",
    "& = & \\frac{x^{5/2}}{5 \\sqrt{h}} \\, \\bigg\\rvert_0^h \\\\\n",
    "& = & \\frac{h^2}{5}\n",
    "\\end{eqnarray}\n",
    "$$\n",
    "\n",
    "This means that\n",
    "\n",
    "$$\n",
    "\\begin{eqnarray}\n",
    "\\sigma^2 & = & \\frac{h^2}{5} - \\left( \\frac{h}{3} \\right)^2 \\\\\n",
    "& = & \\frac{4}{9} h^2\n",
    "\\end{eqnarray}\n",
    "$$\n",
    "\n",
    "And therefore\n",
    "\n",
    "$$\n",
    "\\sigma = \\frac{2}{3} h\n",
    "$$\n",
    "\n",
    "### Part b.\n",
    "\n",
    "Since the probability distribution is 0 for $x < 0$ and $x > h$, the probability that $x$ is found more than one standard deviation from the mean is zero."
   ]
  }
 ],
 "metadata": {
  "kernelspec": {
   "display_name": "Python 3",
   "language": "python",
   "name": "python3"
  },
  "language_info": {
   "codemirror_mode": {
    "name": "ipython",
    "version": 3
   },
   "file_extension": ".py",
   "mimetype": "text/x-python",
   "name": "python",
   "nbconvert_exporter": "python",
   "pygments_lexer": "ipython3",
   "version": "3.7.4"
  }
 },
 "nbformat": 4,
 "nbformat_minor": 2
}
