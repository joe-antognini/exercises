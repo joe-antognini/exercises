{
 "cells": [
  {
   "cell_type": "markdown",
   "metadata": {},
   "source": [
    "# Problem 2.13\n",
    "\n",
    "## Part a.\n",
    "\n",
    "$$\n",
    "\\begin{eqnarray}\n",
    "A^2 \\int 9\\psi_0^2 + 24 \\psi_0 \\psi_1 + 16 \\psi_1^2 \\, dx & = & 1 \\\\\n",
    "25 A^2 & = & 1\\\\\n",
    "\\end{eqnarray}\n",
    "$$\n",
    "\n",
    "$$\n",
    "\\implies A = \\frac{1}{5}\n",
    "$$"
   ]
  },
  {
   "cell_type": "markdown",
   "metadata": {},
   "source": [
    "## Part b.\n",
    "\n",
    "$$\n",
    "\\begin{eqnarray}\n",
    "\\Psi(x, t) & = & \\frac{3}{5} \\psi_0(x) e^{-iE_0 t / \\hbar} + \\frac{4}{5} \\psi_1(x) e^{-i E_1 t / \\hbar} \\\\\n",
    "& = & \\frac{3}{5} \\psi_0(x) e^{-i\\omega t / 2} + \\frac{4}{5} \\psi_1(x) e^{-3i\\omega t/2}\n",
    "\\end{eqnarray}\n",
    "$$"
   ]
  },
  {
   "cell_type": "markdown",
   "metadata": {},
   "source": [
    "$$\n",
    "\\begin{eqnarray}\n",
    "|\\Psi(x, t)|^2 & = & \\frac{9}{25} \\psi_0^2(x) \\psi_0(x) + \\frac{12}{25} \\psi_0^*(x) \\psi_1(x) e^{-i\\omega t} + \\frac{12}{25} \\psi_0(x) \\psi_1^*(x) e^{i\\omega t} + \\frac{16}{25}\\psi_1^*(x) \\psi_1(x) \\\\\n",
    "& = & \\frac{9}{25} \\sqrt{\\frac{m\\omega}{\\pi\\hbar}} e^{-m\\omega x^2 / \\hbar} + \\frac{16}{25} \\left( \\frac{2m\\omega}{\\hbar} \\right) \\sqrt{\\frac{m\\omega}{\\pi\\hbar}} x^2 e^{-m\\omega x^2 / \\hbar} + \\frac{12}{25} \\sqrt{\\frac{m\\omega}{\\pi\\hbar}} \\sqrt{\\frac{2m\\omega}{\\hbar}} x e^{-m\\omega x^2 / \\hbar} \\cos (\\omega t)\n",
    "\\end{eqnarray}\n",
    "$$"
   ]
  },
  {
   "cell_type": "markdown",
   "metadata": {},
   "source": [
    "Let\n",
    "\n",
    "$$\n",
    "\\begin{eqnarray}\n",
    "\\alpha & \\equiv & \\left( \\frac{m\\omega}{\\pi \\hbar} \\right)^{\\frac{1}{4}} \\\\\n",
    "\\xi & \\equiv & \\sqrt{\\frac{m\\omega}{\\hbar}} x\n",
    "\\end{eqnarray}\n",
    "$$"
   ]
  },
  {
   "cell_type": "markdown",
   "metadata": {},
   "source": [
    "Hence\n",
    "\n",
    "$$\n",
    "| \\Psi(x, t) |^2 = \\frac{9}{25} \\alpha e^{-\\xi^2} + \\frac{32}{25} \\alpha^2 \\xi^2 e^{-\\xi^2} + \\frac{12 \\sqrt{2}}{25} \\alpha^2 \\xi e^{-\\xi^2} \\cos(\\omega t)\n",
    "$$"
   ]
  },
  {
   "cell_type": "markdown",
   "metadata": {},
   "source": [
    "## Part c.\n",
    "\n",
    "$$\n",
    "\\begin{eqnarray}\n",
    "\\langle x \\rangle & = & \\int_{-\\infty}^{\\infty} \\Psi^*(x, t) x \\Psi(x, t) \\, dx \\\\\n",
    "& = & \\int_{-\\infty}^{\\infty} \\frac{9}{25} x \\psi_0(x)^2 + \\frac{16}{25} x \\psi_1^2 + \\frac{12}{25} x \\psi_0^*\\psi_1 e^{-i\\omega t} + \\frac{12}{25} x \\psi_0 \\psi_1^* e^{i \\omega t} \\, dx \\\\\n",
    "& = & \\frac{12}{25} \\int_{-\\infty}^{\\infty} x \\psi_0 \\psi_1 \\left( e^{-i\\omega t} + e^{i\\omega t} \\right) \\, dx \\\\\n",
    "& = & \\frac{24}{25} \\cos (\\omega t) \\int_{-\\infty}^{\\infty} \\frac{1}{\\sqrt{\\pi} x^2} \\xi \\alpha e^{-\\xi^2 / 2} \\alpha \\sqrt{2} \\xi e^{-\\xi^2 / 2} \\, dx \\\\\n",
    "& = & \\frac{24}{25} \\sqrt{\\frac{2}{\\pi}} \\cos(\\omega t) \\frac{1}{\\sqrt{\\pi} \\alpha^2} \\int_{-\\infty}^{\\infty} \\xi^2 e^{-xi^2} \\, dx \\\\\n",
    "& = & \\frac{12}{25} \\sqrt{\\frac{2}{\\pi}} \\frac{1}{\\alpha^2} \\cos(\\omega t) \\\\\n",
    "& = & \\frac{12}{25} \\sqrt{\\frac{2 \\hbar}{m\\omega}} \\cos(\\omega t)\n",
    "\\end{eqnarray}\n",
    "$$"
   ]
  },
  {
   "cell_type": "markdown",
   "metadata": {},
   "source": [
    "$$\n",
    "\\begin{eqnarray}\n",
    "\\langle p \\rangle & = & i \\sqrt{\\frac{\\hbar m \\omega}{2}} \\int_{\\infty}^{\\infty} \\left( \\frac{3}{5} \\psi_0 e^{i E_0 t / \\hbar} + \\frac{4}{5} \\psi_1 e^{i E_1 t / \\hbar} \\right) \\left( a_+ - a_- \\right) \\left( \\frac{3}{5} \\psi_0 e^{-i E_0 t / \\hbar} + \\frac{4}{5} \\psi_1 e^{-i E_1 t / \\hbar} \\right) \\, dx \\\\\n",
    "& = & i \\sqrt{\\frac{\\hbar m \\omega}{2}} \\int_{-\\infty}^{\\infty} \\frac{12}{25} \\psi_1^2 e^{i(E_1 - E_0) t / \\hbar} - \\frac{12}{25} \\psi_0^2 e^{i (E_0 - E_1) t / \\hbar} \\, dx \\\\\n",
    "& = & -\\frac{12}{25} \\sqrt{\\frac{\\hbar m \\omega}{2}} \\left( \\frac{e^{i \\omega t} - e^{-i \\omega t}}{i} \\right) \\\\\n",
    "& = & -\\frac{24}{25} \\sqrt{\\frac{\\hbar m \\omega}{2}} \\sin (\\omega t)\n",
    "\\end{eqnarray}\n",
    "$$"
   ]
  },
  {
   "cell_type": "markdown",
   "metadata": {},
   "source": [
    "$$\n",
    "\\frac{d\\langle p \\rangle}{dt} = -\\frac{24}{25} \\sqrt{\\frac{\\hbar m}{2}} \\omega \\cos (\\omega t)\n",
    "$$\n",
    "\n",
    "$$\n",
    "\\frac{\\partial V}{\\partial x} = m \\omega^2 x\n",
    "$$\n",
    "\n",
    "$$\n",
    "\\begin{eqnarray}\n",
    "\\bigg< - \\frac{\\partial V}{\\partial x} \\bigg> & = & -m\\omega^2 \\langle x \\rangle \\\\\n",
    "& = & -\\frac{24}{25} \\sqrt{\\frac{\\hbar m \\omega}{2}} \\omega \\cos(\\omega t)\n",
    "\\end{eqnarray}\n",
    "$$"
   ]
  },
  {
   "cell_type": "markdown",
   "metadata": {},
   "source": [
    "## Part d.\n",
    "\n",
    "$$\n",
    "p(E_0) = \\frac{9}{25}\n",
    "$$\n",
    "\n",
    "$$\n",
    "p(E_1) = \\frac{16}{25}\n",
    "$$"
   ]
  }
 ],
 "metadata": {
  "kernelspec": {
   "display_name": "Python 3",
   "language": "python",
   "name": "python3"
  },
  "language_info": {
   "codemirror_mode": {
    "name": "ipython",
    "version": 3
   },
   "file_extension": ".py",
   "mimetype": "text/x-python",
   "name": "python",
   "nbconvert_exporter": "python",
   "pygments_lexer": "ipython3",
   "version": "3.8.10"
  }
 },
 "nbformat": 4,
 "nbformat_minor": 4
}
