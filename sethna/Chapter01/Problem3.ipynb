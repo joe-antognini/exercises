{
 "cells": [
  {
   "cell_type": "markdown",
   "metadata": {},
   "source": [
    "# Problem 3"
   ]
  },
  {
   "cell_type": "code",
   "execution_count": 2,
   "metadata": {},
   "outputs": [
    {
     "name": "stdout",
     "output_type": "stream",
     "text": [
      "Populating the interactive namespace from numpy and matplotlib\n"
     ]
    }
   ],
   "source": [
    "%pylab inline\n",
    "\n",
    "from sympy import *"
   ]
  },
  {
   "cell_type": "markdown",
   "metadata": {},
   "source": [
    "## Part a.\n",
    "\n",
    "Over a very short period of time, the probability that a car arrives is distributed as a Bernoulli distribution, so the expected value is simply $dt / \\tau$.  Since each instant is independent, the expected value over an hour is\n",
    "\n",
    "$$\n",
    "\\int_{0 \\, \\textrm{min.}}^{60 \\, \\textrm{min.}} \\frac{dt}{\\tau} = 12\n",
    "$$"
   ]
  },
  {
   "cell_type": "markdown",
   "metadata": {},
   "source": [
    "## Part b."
   ]
  },
  {
   "cell_type": "markdown",
   "metadata": {},
   "source": [
    "The probability that $n$ buses pass in 10 minutes is given by\n",
    "\n",
    "$$\n",
    "p_{\\textrm{bus}}(n) = \\begin{cases}\n",
    "  1, & n = 2 \\\\\n",
    "  0, & \\textrm{otherwise}.\n",
    "\\end{cases}\n",
    "$$\n",
    "\n",
    "The probability that a car arrives in a very short interval $dt$ is distributed as a Bernoulli distribution with probability $p = dt / \\tau$.  The probability that $n$ cars arrive in $N = t / dt$ intervals with $t = 10 \\, \\textrm{min.}$ is then a binomial distribution:\n",
    "\n",
    "$$\n",
    "p(n) = \\choose{N n} p^n (1 - p)^{N - n}\n",
    "$$\n",
    "\n",
    "Taking the limit $dt \\to 0$ is equivalent to taking the limit $N \\to \\infty$, so we have\n",
    "\n",
    "$$\n",
    "\\begin{eqnarray}\n",
    "p(n) & = & \\lim_{N \\to \\infty} \\frac{N!}{n! (N - n)!} \\left( \\frac{t}{N \\tau} \\right)^n \\left(1 - \\frac{t}{N \\tau} \\right)^{N - n} \\\\\n",
    " & = & \\frac{1}{n!} \\frac{N!}{(N - n)! N^n} \\left( \\frac{t}{\\tau} \\right)^n \\left(1 - \\frac{t}{N\\tau} \\right)^n \\left(1 - \\frac{t}{N \\tau} \\right)^N \\\\\n",
    " & = & \\frac{1}{n!} \\left( \\frac{t}{\\tau} \\right)^n e^{-t/\\tau}\n",
    "\\end{eqnarray}\n",
    "$$"
   ]
  },
  {
   "cell_type": "markdown",
   "metadata": {},
   "source": [
    "## Part c.\n",
    "\n",
    "The probability distribution for the arrival times between buses is given by\n",
    "\n",
    "$$\n",
    "f(\\Delta) = \\delta(n - 5)\n",
    "$$\n",
    "\n",
    "The probability that no cars arrive in at least time $\\Delta$ is given by\n",
    "\n",
    "$$\n",
    "p(\\Delta) = \\lim_{N \\to \\infty} \\left(1 - \\frac{\\Delta}{N \\tau} \\right)^N = e^{-\\Delta / \\tau}\n",
    "$$\n",
    "\n",
    "This probability is one minus the CDF of $\\Delta$, so we have:\n",
    "\n",
    "$$\n",
    "1 - F(\\Delta) = p(\\Delta) = e^{-\\Delta / \\tau}\n",
    "$$\n",
    "\n",
    "and so the probability distirbution of $\\Delta$ is\n",
    "\n",
    "$$\n",
    "f(\\Delta) = \\frac{1}{\\tau} e^{-\\Delta / \\tau}\n",
    "$$"
   ]
  },
  {
   "cell_type": "markdown",
   "metadata": {},
   "source": [
    "## Part d."
   ]
  },
  {
   "cell_type": "markdown",
   "metadata": {},
   "source": [
    "The probability that a randomly arriving observer will have to wait time $\\Delta$ for the next bus is\n",
    "\n",
    "$$\n",
    "p_{\\textrm{bus}}(\\Delta) = \n",
    "\\begin{cases}\n",
    "\\frac{1}{\\tau}, & \\Delta < \\tau \\\\\n",
    "0, & \\textrm{otherwise}. \\\\\n",
    "\\end{cases}\n",
    "$$"
   ]
  },
  {
   "cell_type": "markdown",
   "metadata": {},
   "source": [
    "Since the arrival of each car is an independent event, the distribution of wait times between cars is equal to the distribution of wait times for a randomly arriving observer:\n",
    "\n",
    "$$\n",
    "p_{\\textrm{car}}(\\Delta) = \\frac{1}{\\tau} e^{-\\Delta / \\tau}.\n",
    "$$\n",
    "\n",
    "The mean of the distribution of wait times for buses is 2.5 minutes.  The mean of the distribution of wait times for cars is given by\n",
    "\n",
    "$$\n",
    "\\mathbb{E}[\\Delta] = \\int_0^{\\infty} \\frac{\\Delta}{\\tau} e^{-\\Delta / \\tau} \\, d\\Delta.\n",
    "$$\n",
    "\n",
    "Integrating by parts gives\n",
    "\n",
    "$$\n",
    "\\mathbb{E}[\\Delta] = \\left. \\tau \\left( -\\frac{\\Delta}{\\tau} e^{-\\Delta / \\tau} \\right|_0^{\\infty} + \\int_0^{\\infty} e^{-\\Delta / \\tau} \\, d(\\Delta / \\tau) \\right) = \\tau\n",
    "$$"
   ]
  },
  {
   "cell_type": "markdown",
   "metadata": {},
   "source": [
    "## Part e.\n",
    "\n",
    "The time-weighted gap between cars is\n",
    "\n",
    "$$\n",
    "p_{\\textrm{time}}(\\Delta) = \\frac{\\frac{\\Delta}{\\tau} e^{-\\Delta / \\tau}}{\\int_0^{\\infty} \\frac{\\Delta}{\\tau} e^{-\\Delta / \\tau} \\, d\\Delta}\n",
    "$$\n",
    "\n",
    "We calculated the normalizing constant in part d to be $\\tau$, so we have\n",
    "\n",
    "$$\n",
    "p_{\\textrm{time}}(\\Delta) = \\frac{\\Delta}{\\tau^2} e^{-\\Delta / \\tau}.\n",
    "$$\n",
    "\n",
    "The expected value of this distribution can be calculated using integration by parts twice to find\n",
    "\n",
    "$$\n",
    "\\mathbb{E}_{\\textrm{time}}[\\Delta] = 2 \\tau.\n",
    "$$"
   ]
  },
  {
   "cell_type": "code",
   "execution_count": 3,
   "metadata": {},
   "outputs": [],
   "source": [
    "tau = Symbol('tau')\n",
    "Delta = Symbol('Delta')"
   ]
  },
  {
   "cell_type": "code",
   "execution_count": 7,
   "metadata": {},
   "outputs": [
    {
     "data": {
      "text/plain": [
       "Piecewise((2*tau, pi/2 > Abs(arg(tau))), (Integral(Delta**2*exp(-Delta/tau)/tau**2, (Delta, 0, oo)), True))"
      ]
     },
     "execution_count": 7,
     "metadata": {},
     "output_type": "execute_result"
    }
   ],
   "source": [
    "integrate(Delta**2 / tau**2 * exp(-Delta / tau), (Delta, 0, oo))"
   ]
  },
  {
   "cell_type": "code",
   "execution_count": null,
   "metadata": {},
   "outputs": [],
   "source": []
  }
 ],
 "metadata": {
  "kernelspec": {
   "display_name": "Python 3",
   "language": "python",
   "name": "python3"
  },
  "language_info": {
   "codemirror_mode": {
    "name": "ipython",
    "version": 3
   },
   "file_extension": ".py",
   "mimetype": "text/x-python",
   "name": "python",
   "nbconvert_exporter": "python",
   "pygments_lexer": "ipython3",
   "version": "3.6.5"
  }
 },
 "nbformat": 4,
 "nbformat_minor": 2
}
