{
 "cells": [
  {
   "cell_type": "markdown",
   "metadata": {},
   "source": [
    "# Problem 2.17\n",
    "\n",
    "## Part a.\n",
    "\n",
    "$$\n",
    "\\begin{eqnarray}\n",
    "H_3(\\xi) & = & (-1)^3 e^{\\xi^2} \\left( \\frac{d}{d \\xi} \\right)^3 e^{-\\xi^2} \\\\\n",
    "& = & -e^{\\xi^2} \\left( \\frac{d}{d\\xi} \\right)^2 2 (-\\xi) e^{-\\xi^2} \\\\\n",
    "& = & 2 e^{\\xi^2} \\frac{d}{d\\xi} \\left[ e^{-\\xi^2} - 2 \\xi^2 e^{-\\xi^2} \\right] \\\\\n",
    "& = & 2 e^{\\xi^2} \\left(-2 \\xi e^{-\\xi^2} - 4 \\xi e^{-\\xi^2} + 4 \\xi^3 e^{-\\xi^2} \\right) \\\\\n",
    "& = & 8 \\xi^3 - 12 \\xi\n",
    "\\end{eqnarray}\n",
    "$$"
   ]
  },
  {
   "cell_type": "markdown",
   "metadata": {},
   "source": [
    "$$\n",
    "\\begin{eqnarray}\n",
    "H_4(\\xi) & = & (-1)^4 e^{\\xi^2} \\left( \\frac{d}{d\\xi}\\right)^4 e^{-\\xi^2} \\\\\n",
    "& = & e^{\\xi^2} \\left( \\frac{d}{d\\xi} \\right)^3 (-2 \\xi) e^{-\\xi^2} \\\\\n",
    "& = & -2e^{\\xi^2} \\left( \\frac{d}{d\\xi} \\right)^2 \\left(-2\\xi^2 e^{-\\xi^2} + e^{-\\xi^2} \\right) \\\\\n",
    "& = & -2 e^{\\xi^2} \\frac{d}{d\\xi} \\left[ -4\\xi e^{-\\xi^2} + 4\\xi^3 e^{-\\xi^2} - 2\\xi e^{-\\xi^2} \\right] \\\\\n",
    "& = & -2 e^{\\xi^2} \\left(-4 e^{-\\xi^2} + 8 \\xi^2 e^{-\\xi^2} + 12 \\xi^2 e^{-\\xi^2} - 8 \\xi^4 e^{-\\xi^2} - 2 e^{-\\xi^2}  + 4 \\xi^2 e^{-\\xi^2} \\right) \\\\\n",
    "& = & 8 - 16 \\xi^2 - 24 \\xi^2 + 16 \\xi^4 + 4 - 8 \\xi^2 \\\\\n",
    "& = & 16 \\xi^4 - 48 \\xi^2 + 12\n",
    "\\end{eqnarray}\n",
    "$$"
   ]
  },
  {
   "cell_type": "markdown",
   "metadata": {},
   "source": [
    "## Part b.\n",
    "\n",
    "$$\n",
    "\\begin{eqnarray}\n",
    "H_5(\\xi) & = & 2\\xi H_4(\\xi) - 8 H_3(\\xi) \\\\\n",
    "& = & 32 \\xi^5 - 96 \\xi^3 + 24 \\xi - 64 \\xi^3 + 96 \\xi \\\\\n",
    "& = & 32 \\xi^5 - 160\\xi^3 + 120 \\xi \\\\\n",
    "\\end{eqnarray}\n",
    "$$\n",
    "\n",
    "$$\n",
    "\\begin{eqnarray}\n",
    "H_6(\\xi) & = & 2\\xi H_5(\\xi) - 10 H_4(\\xi) \\\\\n",
    "& = & 64 \\xi^6 - 320\\xi^4 + 240 \\xi^2 - 160\\xi^4 + 480\\xi^2 - 120 \\\\\n",
    "& = & 64\\xi^6 - 480\\xi^4 + 720 \\xi^2 - 120\n",
    "\\end{eqnarray}\n",
    "$$"
   ]
  },
  {
   "cell_type": "markdown",
   "metadata": {},
   "source": [
    "## Part c.\n",
    "\n",
    "$$\n",
    "\\begin{eqnarray}\n",
    "\\frac{dH_5}{d\\xi} & = & 160 \\xi^4 - 480 \\xi^2 + 120 \\\\\n",
    "& = & 10(16 \\xi^4 - 48\\xi^2 + 12) \\\\\n",
    "& = & 10 H_4(\\xi)\n",
    "\\end{eqnarray}\n",
    "$$\n",
    "\n",
    "$$\n",
    "\\begin{eqnarray}\n",
    "\\frac{dH_6}{d\\xi} & = & 384 \\xi^5 - 1920\\xi^3 + 144 \\xi \\\\\n",
    "& = & 12(32\\xi^5 - 160\\xi^3 + 120) \\\\\n",
    "& = & 12 H_5(\\xi)\n",
    "\\end{eqnarray}\n",
    "$$"
   ]
  },
  {
   "cell_type": "markdown",
   "metadata": {},
   "source": [
    "## Part d.\n",
    "\n",
    "$$\n",
    "H_0 = e^{-z^2 + 2z\\xi} \\, \\bigg|_{z=0} = 1\n",
    "$$\n",
    "\n",
    "$$\n",
    "\\begin{eqnarray}\n",
    "H_1 & = & \\frac{d}{dz}e^{-z^2 + 2z\\xi} \\, \\bigg|_{z=0} \\\\\n",
    "& = & (-2z + 2\\xi) e^{-z^2 + 2z\\xi} \\, \\bigg|_{z=0} \\\\\n",
    "& = & 2\\xi\n",
    "\\end{eqnarray}\n",
    "$$\n",
    "\n",
    "$$\n",
    "\\begin{eqnarray}\n",
    "H_2 & = & \\frac{d^2}{dz^2} \\left[ e^{-z^2 + 2z\\xi} \\right]_{z=0} \\\\\n",
    "& = & \\frac{d}{dz} \\left[ (-2z + 2\\xi) e^{-z^2 + 2z\\xi} \\right]_{z=0} \\\\\n",
    "& = & -2e^{-z^2 + 2z\\xi} + (-2z + 2\\xi)(-2z + 2\\xi) e^{-z^2 + 2z\\xi} \\, \\bigg|_{z=0} \\\\\n",
    "& = & \\left[-2 + 4z^2 -8z\\xi + 4\\xi^2 \\right] e^{-z^2+2z\\xi} \\, \\bigg|_{z=0} \\\\\n",
    "& = & 4\\xi^2 - 2\n",
    "\\end{eqnarray}\n",
    "$$"
   ]
  }
 ],
 "metadata": {
  "kernelspec": {
   "display_name": "Python 3",
   "language": "python",
   "name": "python3"
  },
  "language_info": {
   "codemirror_mode": {
    "name": "ipython",
    "version": 3
   },
   "file_extension": ".py",
   "mimetype": "text/x-python",
   "name": "python",
   "nbconvert_exporter": "python",
   "pygments_lexer": "ipython3",
   "version": "3.8.10"
  }
 },
 "nbformat": 4,
 "nbformat_minor": 4
}
