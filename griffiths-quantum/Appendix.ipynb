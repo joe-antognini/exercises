{
 "cells": [
  {
   "cell_type": "markdown",
   "metadata": {},
   "source": [
    "# Appendix"
   ]
  },
  {
   "cell_type": "code",
   "execution_count": 1,
   "metadata": {},
   "outputs": [],
   "source": [
    "import numpy as np"
   ]
  },
  {
   "cell_type": "markdown",
   "metadata": {},
   "source": [
    "Invisible Latex commands are in this cell.\n",
    "\n",
    "$$\\newcommand{\\ket}[1]{\\left|{#1}\\right\\rangle}$$\n",
    "$$\\newcommand{\\bra}[1]{\\left\\langle{#1}\\right|}$$\n",
    "$$\\newcommand{\\braket}[2]{\\left\\langle{#1}\\middle|{#2}\\right\\rangle}$$\n",
    "$$\\newcommand{\\norm}[1]{\\left\\lVert#1\\right\\rVert}$$"
   ]
  },
  {
   "cell_type": "markdown",
   "metadata": {},
   "source": [
    "## Problem A.1"
   ]
  },
  {
   "cell_type": "markdown",
   "metadata": {},
   "source": [
    "### Part a."
   ]
  },
  {
   "cell_type": "markdown",
   "metadata": {},
   "source": [
    "Yes, the subset of all vectors with $a_z = 0$ is a vector space.  Since the the original set is a vector space, the properties of vector addition and multiplication all hold, but we must show that the subspace is closed.  Here, note that the sum of any two vectors in the subspace will have $a_z = 0$ as well since the sum can be done component-wise.  Furthermore, scalar multiplication is closed since we can again perform the operation component-wise and this will maintain $a_z = 0$.  Finally, the null vector is in this subspace since the null vector has $a_z = 0$, and the inverse vectors are in the subspace since the inverses can be found component-wise and $-0 = 0 = a_z$.\n",
    "\n",
    "The dimension of the subspace is 2 since it is spanned by the basis vectors $\\hat{i}$ and $\\hat{j}$."
   ]
  },
  {
   "cell_type": "markdown",
   "metadata": {},
   "source": [
    "### Part b."
   ]
  },
  {
   "cell_type": "markdown",
   "metadata": {},
   "source": [
    "The subspace of all vectors with $a_z = 1$ is not a subspace because it is not closed under vector addition or scalar multiplication.  For example, $2 \\cdot \\hat{k}$ is not in the subspace even though $\\hat{k}$ is.  Furthermore the subspace does not have a null vector since the null vector must have $a_z = 0$."
   ]
  },
  {
   "cell_type": "markdown",
   "metadata": {},
   "source": [
    "### Part c."
   ]
  },
  {
   "cell_type": "markdown",
   "metadata": {},
   "source": [
    "The subset of all vectors whose components are all equal is a vector space.\n",
    "\n",
    "Consider $\\textbf{a} = a \\hat{i} + a \\hat{j} + a \\hat{k}$ and $\\textbf{b} = b \\hat{i} + b \\hat{j} + b \\hat{k}$.  Then $\\textbf{a} + \\textbf{b} = (a + b) \\hat{i} + (a + b) \\hat{j} + (a + b) \\hat{k}$.  All the components are equal, so the vector stays in the subspace.  Similarly, $c \\textbf{a} = ca \\hat{i} + ca \\hat{j} + ca \\hat{k}$.  All the components are equal so the vector stays in the subspace.  Thus the subspace is closed under addition and multiplication.  Finally, the null vector exists in this subspace and the inverse vectors all also have the same components and so exist in the subspace."
   ]
  },
  {
   "cell_type": "markdown",
   "metadata": {},
   "source": [
    "## Problem A.2\n",
    "\n",
    "### Part a.\n",
    "\n",
    "This set is a vector space.  The sum of two polynomials of degree $N$ is also a polynomial of degree $N$ or less, so the set is closed under addition.  Multiplying a polynomial of degree $N$ by a scalar is also a polynomial of degree $N$ or less, so the set is closed under multiplication.  Furthermore, $0$ exists as a null vector, and the inverse vectors also exist by taking the coefficients of the polynomials and multilpying them by $-1$.\n",
    "\n",
    "### Part b.\n",
    "\n",
    "The set of even polynomials is also a vector space since the sum of two even polynomials is also an even polynomial (nor does multiplication by a scalar change the evenness of the polynomial).  Furthermore this subset contains the null vector and every inverse vector.\n",
    "\n",
    "### Part c.\n",
    "\n",
    "The subset of polynomials with the leading coefficient equal to 1 is not a vector space since the sum of two such polynomials has a leading coefficient equal to 2 and is therefore not in the space.\n",
    "\n",
    "### Part d.\n",
    "\n",
    "The subset of polynomials with the value 0 at $x = 1$ is a vector space.  We can write such polynomials as\n",
    "\n",
    "$$\n",
    "a = (x - 1) \\sum_{i = 0}^{N - 1} a_i x^i\n",
    "$$\n",
    "\n",
    "Now, the sum of two such polynomials is\n",
    "\n",
    "\\begin{eqnarray}\n",
    "\\textbf{a} + \\textbf{b} & = & (x - 1) \\sum_{i = 0}^{N - 1} a_i x^i + (x - 1) \\sum_{i = 0}^{N - 1} b_i x^i \\\\\n",
    " & = & (x - 1) \\sum_{i = 0}^{N - 1} (a_i + b_i) x^i\n",
    "\\end{eqnarray}\n",
    "\n",
    "and so is closed under vector addition.  Similarly, multiplying such a polynomial by a scalar results in\n",
    "\n",
    "\\begin{eqnarray}\n",
    "c \\textbf{a} & = & c (x - 1) \\sum_{i = 0}^{N - 1} a_i x^i \\\\\n",
    "& = & (x - 1) \\sum_{i = 0}^{N - 1} (c a_i) x^i\n",
    "\\end{eqnarray}\n",
    "\n",
    "and so is closed under scalar multiplication.  The space contains the null vector since setting the $a_i = 0$ results in a polynomial which is 0 at $x = 1$.  Finally, the space contains all inverse vectors by setting the coefficients equal to $-a_i$.\n",
    "\n",
    "### Part e.\n",
    "\n",
    "The subset of polynomials with the value 1 at $x = 0$ is not a vector space since it does not contain the null vector nor is it closed under addition since the sum of two such polynomials will have the value 2 at $x = 0$."
   ]
  },
  {
   "cell_type": "markdown",
   "metadata": {},
   "source": [
    "## Problem A.3\n",
    "\n",
    "We may write the vector $\\ket{\\alpha}$ as\n",
    "\n",
    "$$\n",
    "\\ket{\\alpha} = \\sum_i a_i \\ket{e_i}\n",
    "$$\n",
    "\n",
    "Now, suppose there were some other component representation in this basis.  Then we could write \n",
    "\n",
    "$$\n",
    "\\ket{\\alpha} = \\sum_i b_i \\ket{e_i}\n",
    "$$\n",
    "\n",
    "with $a_i \\neq b_i$ for some $i$.  But now consider the difference between these two representations:\n",
    "\n",
    "$$\n",
    "\\sum_i a_i \\ket{e_i} - \\sum_i b_i \\ket{e_i} = \\sum_i (a_i - b_i) \\ket{e_i} \\neq 0\n",
    "$$\n",
    "\n",
    "since by assumption there is some component that is different.  But we must have that this difference equals zero since $\\ket{\\alpha} - \\ket{\\alpha} = 0$ and the null vector has zeros in all components."
   ]
  },
  {
   "cell_type": "markdown",
   "metadata": {},
   "source": [
    "## Problem A.4\n",
    "\n",
    "$$\n",
    "\\norm{e_1} = 2\n",
    "$$\n",
    "\n",
    "$$\n",
    "\\ket{e_1^{\\prime}} = \\frac{1}{2}(1 + i) \\hat{i} + \\frac{1}{2} \\hat{j} + \\frac{i}{2} \\hat{k}\n",
    "$$\n",
    "\n",
    "$$\n",
    "\\braket{e_1^{\\prime}}{e_2} = \\frac{i}{2} (1 - i) + \\frac{3}{2} - \\frac{i}{2} = \\frac{1}{2}(i + 1 - 3 - i) = 2\n",
    "$$\n",
    "\n",
    "$$\n",
    "\\ket{e_2} - \\braket{e_1^{\\prime}}{e_2} = i \\hat{i} + 3 \\hat{j} + \\hat{k} - 2((1 + i) \\hat{i} + \\hat{j} + i \\hat{k}) \n",
    "= -\\hat{i} + 2 \\hat{j} + (1 - i) \\hat{k}\n",
    "$$\n",
    "\n",
    "$$\n",
    "\\norm{\\ket{e_2} - \\braket{e_1^{\\prime}}{e_2}} = \\sqrt{1 + 4 + 2} = \\sqrt{7}\n",
    "$$\n",
    "\n",
    "$$\n",
    "\\ket{e_2^{\\prime}} = -\\frac{1}{\\sqrt{7}} \\hat{i} + \\frac{2}{\\sqrt{7}} \\hat{j} + \\frac{1 - i}{\\sqrt{7}} \\hat{k}\n",
    "$$\n",
    "\n",
    "$$\n",
    "\\braket{e_1^{\\prime}}{e_3} = 14\n",
    "$$\n",
    "\n",
    "$$\n",
    "\\braket{e_2^{\\prime}}{e_3} = 8 \\sqrt{7}\n",
    "$$\n",
    "\n",
    "$$\n",
    "\\ket{e_3} - \\braket{e_1^{\\prime}}{e_3} - \\braket{e_2^{\\prime}}{e_3} =\n",
    "28 \\hat{j} - 7((1 + i) \\hat{i} + \\hat{j} + i \\hat{k}) - 8(-\\hat{i} + 2\\hat{j} + (1 - i) \\hat{k}) =\n",
    "(1 - 7i) \\hat{i} + 5 \\hat{j} + (-8 + i)\\hat{k}\n",
    "$$\n",
    "\n",
    "$$\n",
    "\\norm{\\ket{e_3} - \\braket{e_1^{\\prime}}{e_3} - \\braket{e_2^{\\prime}}{e_3}} = \\sqrt{140}\n",
    "$$\n",
    "\n",
    "$$\n",
    "\\ket{e_3^{\\prime}} = \\frac{1}{2 \\sqrt{35}} ((1 - 7i) \\hat{i} + 5 \\hat{j} + (-8 + i) \\hat{k})\n",
    "$$"
   ]
  },
  {
   "cell_type": "code",
   "execution_count": 2,
   "metadata": {},
   "outputs": [],
   "source": [
    "e1 = np.array([1 + 1j, 1, 1j])\n",
    "e2 = np.array([1j, 3, 1])\n",
    "e3 = np.array([0, 28, 0])"
   ]
  },
  {
   "cell_type": "code",
   "execution_count": 3,
   "metadata": {},
   "outputs": [
    {
     "data": {
      "text/plain": [
       "array([0.5+0.5j, 0.5+0.j , 0. +0.5j])"
      ]
     },
     "execution_count": 3,
     "metadata": {},
     "output_type": "execute_result"
    }
   ],
   "source": [
    "e1prime = e1 / np.linalg.norm(e1)\n",
    "e1prime"
   ]
  },
  {
   "cell_type": "code",
   "execution_count": 4,
   "metadata": {},
   "outputs": [],
   "source": [
    "e2prime = (e2 - np.vdot(e1prime, e2) * e1prime) / np.linalg.norm(e2 - np.vdot(e1prime, e2) * e1prime)"
   ]
  },
  {
   "cell_type": "code",
   "execution_count": 5,
   "metadata": {},
   "outputs": [
    {
     "data": {
      "text/plain": [
       "True"
      ]
     },
     "execution_count": 5,
     "metadata": {},
     "output_type": "execute_result"
    }
   ],
   "source": [
    "np.allclose(e2prime, np.array([-1 / np.sqrt(7), 2 / np.sqrt(7), (1 - 1j) / np.sqrt(7)]))"
   ]
  },
  {
   "cell_type": "code",
   "execution_count": 6,
   "metadata": {},
   "outputs": [],
   "source": [
    "e3prime = ((e3 - np.vdot(e1prime, e3) * e1prime - np.vdot(e2prime, e3) * e2prime) /\n",
    "    np.linalg.norm(e3 - np.vdot(e1prime, e3) * e1prime - np.vdot(e2prime, e3) * e2prime))"
   ]
  },
  {
   "cell_type": "code",
   "execution_count": 7,
   "metadata": {},
   "outputs": [
    {
     "data": {
      "text/plain": [
       "True"
      ]
     },
     "execution_count": 7,
     "metadata": {},
     "output_type": "execute_result"
    }
   ],
   "source": [
    "np.allclose(e3prime, 1 / (2 * np.sqrt(35)) * np.array([1 - 7j, 5, -8 + 1j]))"
   ]
  },
  {
   "cell_type": "markdown",
   "metadata": {},
   "source": [
    "## Problem A.5\n",
    "\n",
    "Let\n",
    "\n",
    "$$\n",
    "\\ket{\\gamma} \\equiv \\ket{\\beta} - \\frac{\\braket{\\alpha}{\\beta}}{\\braket{\\alpha}{\\alpha}} \\ket{\\alpha}.\n",
    "$$\n",
    "\n",
    "Now consider the norm of $\\gamma$:\n",
    "\n",
    "\\begin{eqnarray}\n",
    "\\braket{\\gamma}{\\gamma} & = & \\left( \\bra{\\beta} - \\frac{\\braket{\\beta}{\\alpha}}{\\braket{\\alpha}{\\alpha}} \\bra{\\alpha} \\right) \\left( \\ket{\\beta} - \\frac{\\braket{\\alpha}{\\beta}}{\\braket{\\alpha}{\\alpha}} \\ket{\\alpha} \\right) \\\\\n",
    "& = & \\braket{\\beta}{\\beta} - \\frac{\\braket{\\alpha}{\\beta}}{\\braket{\\alpha}{\\alpha}} \\braket{\\beta}{\\alpha} - \\frac{\\braket{\\beta}{\\alpha}}{\\braket{\\alpha}{\\alpha}} \\braket{\\alpha}{\\beta} + \\frac{\\braket{\\beta}{\\alpha} \\braket{\\alpha}{\\beta}}{\\braket{\\alpha}{\\alpha}^2} \\braket{\\alpha}{\\alpha} \\\\\n",
    "& = & \\braket{\\beta}{\\beta} + \\frac{\\braket{\\beta}{\\alpha} \\braket{\\alpha}{\\beta}}{\\braket{\\alpha}{\\alpha}}\n",
    "\\end{eqnarray}\n",
    "\n",
    "Now, note that $\\braket{\\gamma}{\\gamma} \\geq 0$, so\n",
    "\n",
    "$$\n",
    "\\braket{\\alpha}{\\alpha} \\braket{\\beta}{\\beta} \\geq \\left| \\braket{\\alpha}{\\beta} \\right|^2\n",
    "$$\n",
    "\n",
    "as required."
   ]
  },
  {
   "cell_type": "markdown",
   "metadata": {},
   "source": [
    "## Problem A.6\n",
    "\n",
    "$$\n",
    "\\braket{\\alpha}{\\beta} = (1 - i)(4 - i) - i(2 - 2i) = 1 - 7i\n",
    "$$\n",
    "\n",
    "$$\n",
    "\\braket{\\beta}{\\alpha} = 1 + 7i\n",
    "$$\n",
    "\n",
    "$$\n",
    "\\braket{\\alpha}{\\alpha} = 4\n",
    "$$\n",
    "\n",
    "$$\n",
    "\\braket{\\beta}{\\beta} = 25\n",
    "$$\n",
    "\n",
    "$$\n",
    "\\cos \\theta = \\sqrt{\\frac{(1 + 7i)(1 - 7i)}{4 \\times 25}} = \\frac{1}{\\sqrt{2}}\n",
    "$$\n",
    "\n",
    "And so $\\theta = \\pi / 4$."
   ]
  },
  {
   "cell_type": "code",
   "execution_count": 8,
   "metadata": {},
   "outputs": [],
   "source": [
    "alpha = np.array([1 + 1j, 1, 1j])\n",
    "beta = np.array([4 - 1j, 0, 2 - 2j])"
   ]
  },
  {
   "cell_type": "code",
   "execution_count": 9,
   "metadata": {},
   "outputs": [
    {
     "data": {
      "text/plain": [
       "True"
      ]
     },
     "execution_count": 9,
     "metadata": {},
     "output_type": "execute_result"
    }
   ],
   "source": [
    "np.allclose(\n",
    "    np.pi / 4, \n",
    "    np.arccos(np.sqrt(np.vdot(alpha, beta) * np.vdot(beta, alpha) /\n",
    "                      (np.linalg.norm(alpha)**2 * np.linalg.norm(beta)**2))),\n",
    ")"
   ]
  },
  {
   "cell_type": "markdown",
   "metadata": {},
   "source": [
    "## Problem A.7\n",
    "\n",
    "\\begin{eqnarray}\n",
    "\\norm{\\ket{\\alpha} + \\ket{\\beta}}^2 & = & \\left( \\bra{\\alpha} + \\bra{\\beta} \\right) \\left(\\ket{\\alpha} + \\ket{\\beta}\\right) \\\\\n",
    "& = & \\braket{\\alpha}{\\alpha} + \\braket{\\beta}{\\beta} + \\braket{\\alpha}{\\beta} + \\braket{\\beta}{\\alpha} \\\\\n",
    "& = & \\norm{\\alpha}^2 + \\norm{\\beta}^2 + \\braket{\\alpha}{\\beta} + \\braket{\\alpha}{\\beta}^*\n",
    "\\end{eqnarray}\n",
    "\n",
    "Now note that by the Schwarz inequality $|\\braket{\\alpha}{\\beta}| \\leq \\norm{\\alpha} \\norm{\\beta}$.  This implies that\n",
    "\n",
    "\\begin{eqnarray}\n",
    "\\norm{\\ket{\\alpha} + \\ket{\\beta}}^2 & \\leq & \\norm{\\alpha}^2 + \\norm{\\beta}^2 + 2 \\norm{\\alpha} \\norm{\\beta} \\\\\n",
    "& \\leq & \\left( \\norm{\\alpha} + \\norm{\\beta} \\right)^2\n",
    "\\end{eqnarray}\n",
    "\n",
    "Therefore $\\norm{\\ket{\\alpha} + \\ket{\\beta}} \\leq \\norm{\\alpha} + \\norm{\\beta}$ as required."
   ]
  },
  {
   "cell_type": "markdown",
   "metadata": {},
   "source": [
    "## Problem A.8"
   ]
  },
  {
   "cell_type": "code",
   "execution_count": 10,
   "metadata": {},
   "outputs": [],
   "source": [
    "A = np.array([[-1, 1, 1j], [2, 0, 3], [2j, -2j, 2]])\n",
    "B = np.array([[2, 0, -1j], [0, 1, 0], [1j, 3, 2]])"
   ]
  },
  {
   "cell_type": "markdown",
   "metadata": {},
   "source": [
    "### Part a.\n",
    "\n",
    "$$\n",
    "\\textbf{A} + \\textbf{B} = \\left(\n",
    "\\begin{matrix}\n",
    "1 & 1 & 0 \\\\\n",
    "2 & 1 & 3 \\\\\n",
    "3i & 3 - 2i & 4 \\\\\n",
    "\\end{matrix} \\right)\n",
    "$$"
   ]
  },
  {
   "cell_type": "code",
   "execution_count": 11,
   "metadata": {},
   "outputs": [
    {
     "data": {
      "text/plain": [
       "array([[1.+0.j, 1.+0.j, 0.+0.j],\n",
       "       [2.+0.j, 1.+0.j, 3.+0.j],\n",
       "       [0.+3.j, 3.-2.j, 4.+0.j]])"
      ]
     },
     "execution_count": 11,
     "metadata": {},
     "output_type": "execute_result"
    }
   ],
   "source": [
    "A + B"
   ]
  },
  {
   "cell_type": "markdown",
   "metadata": {},
   "source": [
    "### Part b.\n",
    "\n",
    "$$\n",
    "\\textbf{A} \\textbf{B} = \\left(\n",
    "\\begin{matrix}\n",
    "-3 & 1 + 3i & 3i \\\\\n",
    "4 + 3i & 9 & 6 - 2i \\\\\n",
    "6i & 6 - 2i & 6 \\\\\n",
    "\\end{matrix} \\right)\n",
    "$$"
   ]
  },
  {
   "cell_type": "code",
   "execution_count": 12,
   "metadata": {},
   "outputs": [
    {
     "data": {
      "text/plain": [
       "array([[-3.+0.j,  1.+3.j,  0.+3.j],\n",
       "       [ 4.+3.j,  9.+0.j,  6.-2.j],\n",
       "       [ 0.+6.j,  6.-2.j,  6.+0.j]])"
      ]
     },
     "execution_count": 12,
     "metadata": {},
     "output_type": "execute_result"
    }
   ],
   "source": [
    "A @ B"
   ]
  },
  {
   "cell_type": "markdown",
   "metadata": {},
   "source": [
    "### Part c.\n",
    "\n",
    "$$\n",
    "\\textbf{B} \\textbf{A} = \\left(\n",
    "\\begin{matrix}\n",
    "0 & 0 & 0 \\\\\n",
    "2 & 0 & 3 \\\\\n",
    "6 + 3i & -3i & 12 \\\\\n",
    "\\end{matrix} \\right)\n",
    "$$\n",
    "\n",
    "This implies that\n",
    "\n",
    "$$\n",
    "\\left[ \\textbf{A}, \\textbf{B} \\right] = \\left(\n",
    "\\begin{matrix}\n",
    "-3 & 1 + 3i & 3i \\\\\n",
    "2 + 3i & 9 & 3 - 2i \\\\\n",
    "-6 + 3i & 6 + i & -6 \\\\\n",
    "\\end{matrix}\n",
    "\\right)\n",
    "$$"
   ]
  },
  {
   "cell_type": "code",
   "execution_count": 13,
   "metadata": {},
   "outputs": [
    {
     "data": {
      "text/plain": [
       "array([[-3.+0.j,  1.+3.j,  0.+3.j],\n",
       "       [ 2.+3.j,  9.+0.j,  3.-2.j],\n",
       "       [-6.+3.j,  6.+1.j, -6.+0.j]])"
      ]
     },
     "execution_count": 13,
     "metadata": {},
     "output_type": "execute_result"
    }
   ],
   "source": [
    "A@B - B@A"
   ]
  },
  {
   "cell_type": "markdown",
   "metadata": {},
   "source": [
    "### Part d.\n",
    "\n",
    "$$\n",
    "\\tilde{\\textbf{A}} = \\left(\n",
    "\\begin{matrix}\n",
    "-1 & 2 & 2i \\\\\n",
    "1 & 0 & -2i \\\\\n",
    "i & 3 & 2 \\\\\n",
    "\\end{matrix} \\right)\n",
    "$$"
   ]
  },
  {
   "cell_type": "code",
   "execution_count": 14,
   "metadata": {},
   "outputs": [
    {
     "data": {
      "text/plain": [
       "array([[-1.+0.j,  2.+0.j,  0.+2.j],\n",
       "       [ 1.+0.j,  0.+0.j, -0.-2.j],\n",
       "       [ 0.+1.j,  3.+0.j,  2.+0.j]])"
      ]
     },
     "execution_count": 14,
     "metadata": {},
     "output_type": "execute_result"
    }
   ],
   "source": [
    "np.transpose(A)"
   ]
  },
  {
   "cell_type": "markdown",
   "metadata": {},
   "source": [
    "### Part e.\n",
    "\n",
    "$$\n",
    "\\textbf{A}^* = \\left(\n",
    "\\begin{matrix}\n",
    "-1 & 1 & -i \\\\\n",
    "2 & 0 & 3 \\\\\n",
    "-2i & 2i & 2 \\\\\n",
    "\\end{matrix} \\right)\n",
    "$$"
   ]
  },
  {
   "cell_type": "code",
   "execution_count": 15,
   "metadata": {},
   "outputs": [
    {
     "data": {
      "text/plain": [
       "array([[-1.-0.j,  1.-0.j,  0.-1.j],\n",
       "       [ 2.-0.j,  0.-0.j,  3.-0.j],\n",
       "       [ 0.-2.j, -0.+2.j,  2.-0.j]])"
      ]
     },
     "execution_count": 15,
     "metadata": {},
     "output_type": "execute_result"
    }
   ],
   "source": [
    "np.conj(A)"
   ]
  },
  {
   "cell_type": "markdown",
   "metadata": {},
   "source": [
    "### Part f.\n",
    "\n",
    "$$\n",
    "\\textbf{A}^\\dagger = \\left(\n",
    "\\begin{matrix}\n",
    "-1 & 2 & -2i \\\\\n",
    "1 & 0 & 2i \\\\\n",
    "-i & 3 & 2 \\\\\n",
    "\\end{matrix} \\right)\n",
    "$$"
   ]
  },
  {
   "cell_type": "code",
   "execution_count": 16,
   "metadata": {},
   "outputs": [
    {
     "data": {
      "text/plain": [
       "array([[-1.-0.j,  2.-0.j,  0.-2.j],\n",
       "       [ 1.-0.j,  0.-0.j, -0.+2.j],\n",
       "       [ 0.-1.j,  3.-0.j,  2.-0.j]])"
      ]
     },
     "execution_count": 16,
     "metadata": {},
     "output_type": "execute_result"
    }
   ],
   "source": [
    "np.matrix.getH(A)"
   ]
  },
  {
   "cell_type": "markdown",
   "metadata": {},
   "source": [
    "### Part g.\n",
    "\n",
    "$$\n",
    "\\textrm{det}(\\textbf{B}) = \n",
    "2 \\left| \\begin{matrix} 1 & 0 \\\\ 3 & 2 \\end{matrix} \\right|\n",
    "-i \\left| \\begin{matrix} 0 & 1 \\\\ i & 3 \\end{matrix} \\right|\n",
    "= 4 - 1 = 3\n",
    "$$"
   ]
  },
  {
   "cell_type": "code",
   "execution_count": 17,
   "metadata": {},
   "outputs": [
    {
     "data": {
      "text/plain": [
       "(2.9999999999999996+0j)"
      ]
     },
     "execution_count": 17,
     "metadata": {},
     "output_type": "execute_result"
    }
   ],
   "source": [
    "np.linalg.det(B)"
   ]
  },
  {
   "cell_type": "markdown",
   "metadata": {},
   "source": [
    "### Part h.\n",
    "\n",
    "The matrix of cofactors is given by\n",
    "\n",
    "$$\n",
    "\\textbf{C} = \\left( \\begin{matrix}\n",
    "2 & 0 & -i \\\\\n",
    "-3i & 5 & -6 \\\\\n",
    "i & 0 & 2 \\\\\n",
    "\\end{matrix} \\right)\n",
    "$$\n",
    "\n",
    "and so the inverse is\n",
    "\n",
    "$$\n",
    "\\textbf{B}^{-1} = \\frac{1}{3} \\left( \\begin{matrix}\n",
    "2 & -3i & i \\\\\n",
    "0 & 3 & 0 \\\\\n",
    "-i & -6 & 2 \\\\\n",
    "\\end{matrix} \\right)\n",
    "$$\n",
    "\n",
    "We have\n",
    "\n",
    "$$\n",
    "\\textbf{B}^{-1} \\textbf{B} = \\frac{1}{3} \\left( \\begin{matrix}\n",
    "2 & -3i & i \\\\\n",
    "0 & 3 & 0 \\\\\n",
    "-i & -6 & 2 \\\\\n",
    "\\end{matrix} \\right) \\left( \\begin{matrix}\n",
    "2 & 0 & -i \\\\\n",
    "0 & 1 & 0 \\\\\n",
    "i & 3 & 2 \\\\\n",
    "\\end{matrix} \\right)\n",
    "= \\left( \\begin{matrix}\n",
    "1 & 0 & 0 \\\\\n",
    "0 & 1 & 0 \\\\\n",
    "0 & 0 & 1 \\\\\n",
    "\\end{matrix} \\right)\n",
    "$$\n",
    "\n",
    "as required."
   ]
  },
  {
   "cell_type": "code",
   "execution_count": 18,
   "metadata": {},
   "outputs": [
    {
     "data": {
      "text/plain": [
       "array([[ 0.66666667+0.j        ,  0.        -1.j        ,\n",
       "         0.        +0.33333333j],\n",
       "       [ 0.        +0.j        ,  1.        +0.j        ,\n",
       "         0.        +0.j        ],\n",
       "       [ 0.        -0.33333333j, -2.        -0.j        ,\n",
       "         0.66666667+0.j        ]])"
      ]
     },
     "execution_count": 18,
     "metadata": {},
     "output_type": "execute_result"
    }
   ],
   "source": [
    "np.linalg.inv(B)"
   ]
  },
  {
   "cell_type": "markdown",
   "metadata": {},
   "source": [
    "$\\textbf{A}$ does not have an inverse because its determinant is zero:\n",
    "\n",
    "$$\n",
    "\\textrm{det}(\\textbf{A}) = - \\left| \\begin{matrix} 0 & 3 \\\\ -2i & 1 \\end{matrix} \\right|\n",
    "- \\left| \\begin{matrix} 2 & 3 \\\\ 2i & 2 \\end{matrix} \\right|\n",
    "+ i \\left| \\begin{matrix} 2 & 0 \\\\ 2i & -2i \\\\ \\end{matrix} \\right|\n",
    "= -6i -4 + 6i + 4 = 0\n",
    "$$"
   ]
  },
  {
   "cell_type": "code",
   "execution_count": 19,
   "metadata": {},
   "outputs": [
    {
     "data": {
      "text/plain": [
       "0j"
      ]
     },
     "execution_count": 19,
     "metadata": {},
     "output_type": "execute_result"
    }
   ],
   "source": [
    "np.linalg.det(A)"
   ]
  },
  {
   "cell_type": "markdown",
   "metadata": {},
   "source": [
    "## Problem A.9\n",
    "\n",
    "### Part a.\n",
    "\n",
    "$$\n",
    "\\textbf{A} \\textbf{a} = \\left( \\begin{matrix}\n",
    "-1 & 1 & i \\\\\n",
    "2 & 0 & 3 \\\\\n",
    "2i & -2i & 2 \\\\\n",
    "\\end{matrix} \\right) \\left( \\begin{matrix}\n",
    "i \\\\\n",
    "2i \\\\\n",
    "2 \\\\\n",
    "\\end{matrix} \\right) = \\left( \\begin{matrix}\n",
    "3i \\\\\n",
    "6 + 2 i \\\\\n",
    "6 \\\\\n",
    "\\end{matrix} \\right)\n",
    "$$"
   ]
  },
  {
   "cell_type": "code",
   "execution_count": 20,
   "metadata": {},
   "outputs": [],
   "source": [
    "a = np.array([[1j], [2j], [2]])\n",
    "b = np.array([[2], [1 - 1j], [0]])"
   ]
  },
  {
   "cell_type": "code",
   "execution_count": 21,
   "metadata": {},
   "outputs": [
    {
     "data": {
      "text/plain": [
       "array([[0.+3.j],\n",
       "       [6.+2.j],\n",
       "       [6.+0.j]])"
      ]
     },
     "execution_count": 21,
     "metadata": {},
     "output_type": "execute_result"
    }
   ],
   "source": [
    "np.matmul(A, a)"
   ]
  },
  {
   "cell_type": "markdown",
   "metadata": {},
   "source": [
    "### Part b.\n",
    "\n",
    "$$\n",
    "\\textbf{a}^{\\dagger} \\textbf{b} = \\left( \\begin{matrix}\n",
    "-i & -2i & 2 \\\\ \\end{matrix} \\right) \\left( \\begin{matrix}\n",
    "2 \\\\\n",
    "1 - i \\\\\n",
    "0 \\\\\n",
    "\\end{matrix} \\right) = -2i - 2i - 2 = -2 - 4i\n",
    "$$"
   ]
  },
  {
   "cell_type": "code",
   "execution_count": 22,
   "metadata": {},
   "outputs": [
    {
     "data": {
      "text/plain": [
       "array([[-2.-4.j]])"
      ]
     },
     "execution_count": 22,
     "metadata": {},
     "output_type": "execute_result"
    }
   ],
   "source": [
    "np.dot(np.conj(a.T), b)"
   ]
  },
  {
   "cell_type": "markdown",
   "metadata": {},
   "source": [
    "### Part c.\n",
    "\n",
    "$$\n",
    "\\tilde{\\textbf{a}} \\textbf{B} \\textbf{b} = \\left( \\begin{matrix}\n",
    "i & 2i & 2 \\end{matrix} \\right) \\left( \\begin{matrix}\n",
    "2 & 0 & -i \\\\\n",
    "0 & 1 & 0 \\\\\n",
    "i & 3 & 2 \\\\\n",
    "\\end{matrix} \\right) \\left( \\begin{matrix}\n",
    "2 \\\\\n",
    "1 - i \\\\\n",
    "0 \\\\\n",
    "\\end{matrix} \\right) = \\left( \\begin{matrix}\n",
    "i & 2i & 2 \\end{matrix} \\right) \\left( \\begin{matrix}\n",
    "4 \\\\\n",
    "1 - i \\\\\n",
    "3 - i \\\\\n",
    "\\end{matrix} \\right) = 8 + 4i\n",
    "$$"
   ]
  },
  {
   "cell_type": "code",
   "execution_count": 23,
   "metadata": {},
   "outputs": [
    {
     "data": {
      "text/plain": [
       "array([[8.+4.j]])"
      ]
     },
     "execution_count": 23,
     "metadata": {},
     "output_type": "execute_result"
    }
   ],
   "source": [
    "np.matmul(a.T, np.matmul(B, b))"
   ]
  },
  {
   "cell_type": "markdown",
   "metadata": {},
   "source": [
    "### Part d.\n",
    "\n",
    "$$\n",
    "\\textbf{a} \\textbf{b}^{\\dagger} = \\left( \\begin{matrix}\n",
    "i \\\\\n",
    "2i \\\\\n",
    "2 \\\\\n",
    "\\end{matrix} \\right) \\left( \\begin{matrix}\n",
    "2 & 1 + i & 0 \\\\\n",
    "\\end{matrix} \\right) = \\left( \\begin{matrix}\n",
    "2i & -1 + i & 0 \\\\\n",
    "4i & -2 + 2i & 0 \\\\\n",
    "4 & 2 + 2i & 0 \\\\\n",
    "\\end{matrix} \\right)\n",
    "$$"
   ]
  },
  {
   "cell_type": "code",
   "execution_count": 24,
   "metadata": {},
   "outputs": [
    {
     "data": {
      "text/plain": [
       "array([[ 0.+2.j, -1.+1.j,  0.+0.j],\n",
       "       [ 0.+4.j, -2.+2.j,  0.+0.j],\n",
       "       [ 4.+0.j,  2.+2.j,  0.+0.j]])"
      ]
     },
     "execution_count": 24,
     "metadata": {},
     "output_type": "execute_result"
    }
   ],
   "source": [
    "np.matmul(a, np.conj(b.T))"
   ]
  },
  {
   "cell_type": "markdown",
   "metadata": {},
   "source": [
    "## Problem A.10\n",
    "\n",
    "### Part a.\n",
    "\n",
    "Consider an arbitrary element of the matrix $\\textbf{T}$, $T_{ij}$.  In general we will have that $T_{ij} \\neq T_{ji}$.  Now suppose it is possible to write $\\textbf{T}$ as a sum of a symmetrix matrix $\\textbf{S}$ and an antisymmetric matrix $\\textbf{A}$.  Then we have\n",
    "\n",
    "$$\n",
    "\\begin{eqnarray}\n",
    "T_{ij} & = & S_{ij} + A_{ij}, \\\\\n",
    "T_{ji} & = & S_{ij} - A_{ij}\n",
    "\\end{eqnarray}\n",
    "$$\n",
    "\n",
    "Solving for $S_{ij}$ and $A_{ij}$ we find\n",
    "\n",
    "$$\n",
    "\\begin{eqnarray}\n",
    "S_{ij} = \\frac{1}{2} \\left( T_{ij} + T_{ji} \\right) \\\\\n",
    "A_{ij} = \\frac{1}{2} \\left( T_{ij} - T_{ji} \\right) \\\\\n",
    "\\end{eqnarray}\n",
    "$$\n",
    "By inspection it can be verified that $\\textbf{S}$ is indeed symmetric and $\\textbf{A}$ is antisymmetric.\n",
    "\n",
    "Thus by construction it is possible to write any matrix as a sum of a symmetric and antisymmetric matrix."
   ]
  },
  {
   "cell_type": "markdown",
   "metadata": {},
   "source": [
    "### Part b.\n",
    "\n",
    "An arbitrary term of the matrix $\\textbf{T}$ can be written\n",
    "\n",
    "$$\n",
    "T_{ij} = a_{ij} + b_{ij} i.\n",
    "$$\n",
    "\n",
    "Construct a matrix $\\textbf{R}$ whose components are given by $R_{ij} = a_{ij}$ and a matrix $\\textbf{M}$ whose components are given by $M_{ij} = b_{ij} i$.  Then $\\textbf{R}$ is a real matrix and $\\textbf{M}$ is an imaginary matrix and any matrix can be written as the sum of the two."
   ]
  },
  {
   "cell_type": "markdown",
   "metadata": {},
   "source": [
    "### Part c.\n",
    "\n",
    "Consider an arbitrary element of the matrix $\\textbf{T}$, $T_{ij}$.  Suppose that it is possible to write $\\textbf{T}$ as the sum of a Hermitian matrix $\\textbf{H}$ and a skew-Hermitian matrix $\\textbf{K}$.  Then we have\n",
    "\n",
    "$$\n",
    "\\begin{eqnarray}\n",
    "T_{ij} & = & H_{ij} + K_{ij} \\\\\n",
    "T_{ji}^* & = & H_{ij} - K_{ij} \\\\\n",
    "\\end{eqnarray}\n",
    "$$\n",
    "\n",
    "Solving for $H_{ij}$ and $K_{ij}$ we find\n",
    "\n",
    "$$\n",
    "\\begin{eqnarray}\n",
    "H_{ij} & = & \\frac{1}{2} \\left( T_{ij} + T_{ji}^* \\right) \\\\\n",
    "K_{ij} & = & \\frac{1}{2} \\left( T_{ij} - T_{ji}^* \\right)\n",
    "\\end{eqnarray}\n",
    "$$\n",
    "By inspection it can be verified that $\\textbf{H}$ is indeed Hermitian and $\\textbf{K}$ is skew-Hermitian.\n",
    "\n",
    "Thus by construction it is possible to write any matrix as a sum of a Hermitian and skew-Hermitian matrix."
   ]
  },
  {
   "cell_type": "markdown",
   "metadata": {},
   "source": [
    "## Problem A.11\n",
    "\n",
    "Let us prove that $\\widetilde{\\textbf{S} \\textbf{T}} = \\tilde{\\textbf{T}} \\tilde{\\textbf{S}}$.  Consider an arbitrary element of $\\widetilde{\\textbf{S} \\textbf{T}}$:\n",
    "\n",
    "$$\n",
    "\\begin{eqnarray}\n",
    "\\left(\\widetilde{\\textbf{S} \\textbf{T}}\\right)_{ij} & = & \\sum_k S_{jk} T_{ki} \\\\\n",
    "& = & \\sum_k T_{ki} S_{jk} \\\\\n",
    "& = & \\sum_k \\tilde{T}_{ik} \\tilde{S}_{kj} \\\\\n",
    "& = & \\left( \\tilde{\\textbf{T}} \\tilde{\\textbf{S}} \\right)_{ij}\n",
    "\\end{eqnarray}\n",
    "$$"
   ]
  },
  {
   "cell_type": "markdown",
   "metadata": {},
   "source": [
    "Now let us prove that $(\\textbf{ST})^{\\dagger} = \\textbf{T}^{\\dagger} \\textbf{S}^{\\dagger}$.  Consider an arbitrary element:\n",
    "\n",
    "$$\n",
    "\\begin{eqnarray}\n",
    "\\left( \\textbf{ST} \\right)^{\\dagger}_{ij} & = & \\left( \\sum_k S_{ik} T_{kj} \\right)^{\\dagger} \\\\\n",
    "& = & \\sum_k S_{jk}^* T_{ki}^* \\\\\n",
    "& = & \\sum_k T_{ki}^* S_{jk}^* \\\\\n",
    "& = & \\left( \\textbf{T}^{\\dagger} \\textbf{S}^{\\dagger} \\right)_{ij}\n",
    "\\end{eqnarray}\n",
    "$$"
   ]
  },
  {
   "cell_type": "markdown",
   "metadata": {},
   "source": [
    "Let us prove that $(\\textbf{S} \\textbf{T})^{-1} = \\textbf{T}^{-1} \\textbf{S}^{-1}$.  Using the associative rule, we have\n",
    "\n",
    "$$\n",
    "\\left( \\left( \\textbf{ST} \\right)^{-1} \\textbf{S} \\right) \\textbf{T} = \\textbf{I}\n",
    "$$\n",
    "\n",
    "Since the inverse matrix is unique, this means that\n",
    "\n",
    "$$\n",
    "\\textbf{T}^{-1} = \\left( \\textbf{ST} \\right)^{-1} \\textbf{S}\n",
    "$$\n",
    "\n",
    "Now multiplying on the right by $\\textbf{S}^{-1}$ we have\n",
    "\n",
    "$$\n",
    "(\\textbf{S} \\textbf{T})^{-1} = \\textbf{T}^{-1} \\textbf{S}^{-1}\n",
    "$$\n",
    "as required."
   ]
  },
  {
   "cell_type": "markdown",
   "metadata": {},
   "source": [
    "Consider the transpose conjugate of the  product of two unitary matrices, $\\textbf{U}$ and $\\textbf{V}$:\n",
    "\n",
    "$$\n",
    "\\begin{eqnarray}\n",
    "\\left( \\textbf{UV} \\right)^{\\dagger} & = & \\textbf{V}^{\\dagger} \\textbf{U}^{\\dagger} \\\\\n",
    "& = & \\textbf{V}^{-1} \\textbf{U}^{-1} \\\\\n",
    "& = & \\left( \\textbf{UV} \\right)^{-1}\n",
    "\\end{eqnarray}\n",
    "$$\n",
    "So the product of two unitary matrices is unitary as well."
   ]
  },
  {
   "cell_type": "markdown",
   "metadata": {},
   "source": [
    "Now consider the transpose conjugate of the product of two Hermitian matrices, $\\textbf{S}$ and $\\textbf{T}$:\n",
    "\n",
    "$$\n",
    "\\begin{eqnarray}\n",
    "\\left( \\textbf{ST} \\right)^{\\dagger} & = & \\textbf{T}^{\\dagger} \\textbf{S}^{\\dagger} \\\\\n",
    "& = & \\textbf{TS}\n",
    "\\end{eqnarray}\n",
    "$$\n",
    "Thus the product of two Hermitian matrices will remain Hermitian if the two matrices commute."
   ]
  },
  {
   "cell_type": "markdown",
   "metadata": {},
   "source": [
    "The sum of two unitary matrices is not necessarily unitary.  Consider the sum of the identity matrix with itself.  The matrix $2 \\textbf{I}$ is not unitary."
   ]
  },
  {
   "cell_type": "markdown",
   "metadata": {},
   "source": [
    "The sum of two Hermitian matrices will be Hermitian because \n",
    "\n",
    "$$\n",
    "\\begin{eqnarray}\n",
    "\\left( \\textbf{S} + \\textbf{T} \\right)^{\\dagger} & = & \\textbf{S}^{\\dagger} + \\textbf{T}^{\\dagger} \\\\\n",
    "& = & \\textbf{S} + \\textbf{T}\n",
    "\\end{eqnarray}\n",
    "$$"
   ]
  },
  {
   "cell_type": "markdown",
   "metadata": {},
   "source": [
    "## Problem A.12\n",
    "\n",
    "Because $\\textbf{U} \\textbf{U}^{\\dagger} = \\textbf{U} \\textbf{U}^{-1}$, we have\n",
    "\n",
    "$$\n",
    "\\begin{eqnarray}\n",
    "\\left( \\textbf{U} \\textbf{U}^{\\dagger} \\right)_{ij} & = & \\delta_{ij} \\\\\n",
    "\\left( \\sum_k u_{ik} u_{jk}^* \\right) & = & \\delta_{ij} \\\\\n",
    "\\braket{u_j}{u_i} & = & \\delta_{ij}\n",
    "\\end{eqnarray}\n",
    "$$\n",
    "\n",
    "and so the rows are orthonormal.  The columns can be shown to be orthonormal by noting that the transpose of a unitary matrix is also unitary."
   ]
  },
  {
   "cell_type": "markdown",
   "metadata": {},
   "source": [
    "## Problem A.13\n",
    "\n",
    "A matrix is Hermitian iff $\\textbf{H} = \\textbf{H}^{\\dagger}$.  This means that $\\textrm{det}(\\textbf{H}) = \\textrm{det}(\\textbf{H}^{\\dagger})$.  But because the determinant of a matrix is invariant under the transpose operation, this means that $\\textrm{det}(\\textbf{H}) = \\textrm{det}(\\textbf{H}^*)$.  Now, since a determinant is simply a polynomial in the matrix entries, this means that the determinant of the complex conjugate matrix is equal to the complex conjugate of the determinant of the original matrix.  This means that $\\textrm{det}(\\textbf{H}) = \\left( \\textrm{det}(\\textbf{H})\\right)^*$.  This then implies that $\\textrm{det}(\\textbf{H})$ must be real.\n",
    "\n",
    "For a unitary matrix we have\n",
    "$$\n",
    "\\begin{eqnarray}\n",
    "\\textrm{det}(\\textbf{U}) & = & \\textrm{det}(\\tilde{\\textbf{U}}) \\\\\n",
    "& = & \\textrm{det}(\\textbf{U}^{\\dagger})^* \\\\\n",
    "& = & \\textrm{det}(\\textbf{U}^{-1})^* \\\\\n",
    "& = & \\frac{1}{\\textrm{det}(\\textbf{U})^*}\n",
    "\\end{eqnarray}\n",
    "$$\n",
    "This implies that $|\\textrm{det}(\\textbf{U})|^2 = 1$ and so $\\textrm{det}(\\textbf{U})$ has unit modulus.\n",
    "\n",
    "For an orthogonal matrix we have\n",
    "$$\n",
    "\\begin{eqnarray}\n",
    "\\textrm{det}(\\textbf{O}) & = & \\textrm{det}(\\tilde{\\textbf{O}}) \\\\\n",
    "& = & \\textrm{det}(\\textbf{O}^{-1}) \\\\\n",
    "& = & \\frac{1}{\\textrm{det}(\\textbf{O})}\n",
    "\\end{eqnarray}\n",
    "$$\n",
    "This implies that $\\textrm{det}(\\textbf{O})^2 = 1$.  Now, since all the entries of an orthogonal matrix are real, this means that the determinant must be real as well.  The only real numbers satisfying this equation is then $\\textrm{det}(\\textbf{O}) = \\pm 1$."
   ]
  },
  {
   "cell_type": "markdown",
   "metadata": {},
   "source": [
    "## Problem A.14\n",
    "\n",
    "### Part a.\n",
    "\n",
    "$$\n",
    "\\textbf{R}_1 = \\left( \\begin{matrix}\n",
    "\\cos \\theta & -\\sin \\theta & 0 \\\\\n",
    "\\sin \\theta & \\cos \\theta & 0 \\\\\n",
    "0 & 0 & 1\n",
    "\\end{matrix} \\right)\n",
    "$$\n",
    "\n",
    "### Part b.\n",
    "\n",
    "This matrix will rotate the $x$-axis into the $y$-axis, the $y$-axis into the $z$-axis, and the $z$-axis into the $x$-axis:\n",
    "$$\n",
    "\\textbf{R}_2 = \\left( \\begin{matrix}\n",
    "0 & 0 & 1 \\\\\n",
    "1 & 0 & 0 \\\\\n",
    "0 & 1 & 0 \\\\\n",
    "\\end{matrix} \\right)\n",
    "$$\n",
    "\n",
    "### Part c.\n",
    "\n",
    "$$\n",
    "\\textbf{R}_3 = \\left( \\begin{matrix}\n",
    "1 & 0 & 0 \\\\\n",
    "0 & 1 & 0 \\\\\n",
    "0 & 0 & -1 \\\\\n",
    "\\end{matrix} \\right)\n",
    "$$\n",
    "\n",
    "### Part d.\n",
    "\n",
    "$$\n",
    "\\textbf{R}_1 \\tilde{\\textbf{R}}_1 = \\left( \\begin{matrix}\n",
    "\\cos \\theta & -\\sin \\theta & 0 \\\\\n",
    "\\sin \\theta & \\cos \\theta & 0 \\\\\n",
    "0 & 0 & 1\n",
    "\\end{matrix} \\right) \\left( \\begin{matrix}\n",
    "\\cos \\theta & \\sin \\theta & 0 \\\\\n",
    "-\\sin \\theta & \\cos \\theta & 0 \\\\\n",
    "0 & 0 & 1\n",
    "\\end{matrix} \\right) = \\left( \\begin{matrix}\n",
    "\\cos^2 \\theta + \\sin^2 \\theta & \\cos \\theta \\sin \\theta - \\cos \\theta \\sin \\theta & 0 \\\\\n",
    "\\cos \\theta \\sin \\theta - \\cos \\theta \\sin \\theta & \\cos^2 \\theta + \\sin^2 \\theta & 0 \\\\\n",
    "0 & 0 & 1 \\\\\n",
    "\\end{matrix} \\right) = \\left( \\begin{matrix}\n",
    "1 & 0 & 0 \\\\\n",
    "0 & 1 & 0 \\\\\n",
    "0 & 0 & 1 \\\\\n",
    "\\end{matrix} \\right)\n",
    "$$\n",
    "\n",
    "$$\n",
    "\\textrm{det}(\\textbf{R}_1) = \\cos^2 \\theta + \\sin^2 \\theta = 1\n",
    "$$\n",
    "\n",
    "$$\n",
    "\\textbf{R}_2 \\tilde{\\textbf{R}}_2 = \\left( \\begin{matrix}\n",
    "0 & 0 & 1 \\\\\n",
    "1 & 0 & 0 \\\\\n",
    "0 & 1 & 0 \\\\\n",
    "\\end{matrix} \\right) \\left( \\begin{matrix}\n",
    "0 & 1 & 0 \\\\\n",
    "0 & 0 & 1 \\\\\n",
    "1 & 0 & 0 \\\\\n",
    "\\end{matrix} \\right) = \\left( \\begin{matrix}\n",
    "1 & 0 & 0 \\\\\n",
    "0 & 1 & 0 \\\\\n",
    "0 & 0 & 1 \\\\\n",
    "\\end{matrix} \\right)\n",
    "$$\n",
    "\n",
    "$$\n",
    "\\textrm{det}(\\textbf{R}_2) = 1\n",
    "$$\n",
    "\n",
    "$$\n",
    "\\textbf{R}_3 \\tilde{\\textbf{R}}_3 = \\left( \\begin{matrix}\n",
    "1 & 0 & 0 \\\\\n",
    "0 & 1 & 0 \\\\\n",
    "0 & 0 & -1 \\\\\n",
    "\\end{matrix} \\right) \\left( \\begin{matrix}\n",
    "1 & 0 & 0 \\\\\n",
    "0 & 1 & 0 \\\\\n",
    "0 & 0 & -1 \\\\\n",
    "\\end{matrix} \\right) = \\left( \\begin{matrix}\n",
    "1 & 0 & 0 \\\\\n",
    "0 & 1 & 0 \\\\\n",
    "0 & 0 & 1 \\\\\n",
    "\\end{matrix} \\right)\n",
    "$$\n",
    "\n",
    "$$\n",
    "\\textrm{det}(\\textbf{R}_3) = -1\n",
    "$$"
   ]
  },
  {
   "cell_type": "code",
   "execution_count": 27,
   "metadata": {},
   "outputs": [],
   "source": [
    "def R1(theta):\n",
    "    return np.array([\n",
    "        [np.cos(theta), -np.sin(theta), 0],\n",
    "        [np.sin(theta), np.cos(theta), 0],\n",
    "        [0, 0, 1]\n",
    "    ])"
   ]
  },
  {
   "cell_type": "code",
   "execution_count": 29,
   "metadata": {},
   "outputs": [
    {
     "data": {
      "text/plain": [
       "array([[ 1.00000000e+00, -1.95932709e-18,  0.00000000e+00],\n",
       "       [-1.95932709e-18,  1.00000000e+00,  0.00000000e+00],\n",
       "       [ 0.00000000e+00,  0.00000000e+00,  1.00000000e+00]])"
      ]
     },
     "execution_count": 29,
     "metadata": {},
     "output_type": "execute_result"
    }
   ],
   "source": [
    "R1(.123) @ R1(.123).T"
   ]
  },
  {
   "cell_type": "code",
   "execution_count": 30,
   "metadata": {},
   "outputs": [
    {
     "data": {
      "text/plain": [
       "1.0"
      ]
     },
     "execution_count": 30,
     "metadata": {},
     "output_type": "execute_result"
    }
   ],
   "source": [
    "np.linalg.det(R1(.123))"
   ]
  },
  {
   "cell_type": "code",
   "execution_count": 31,
   "metadata": {},
   "outputs": [],
   "source": [
    "R2 = np.array([\n",
    "    [0, 0, 1],\n",
    "    [1, 0, 0],\n",
    "    [0, 1, 0]\n",
    "])"
   ]
  },
  {
   "cell_type": "code",
   "execution_count": 32,
   "metadata": {},
   "outputs": [
    {
     "data": {
      "text/plain": [
       "array([[1, 0, 0],\n",
       "       [0, 1, 0],\n",
       "       [0, 0, 1]])"
      ]
     },
     "execution_count": 32,
     "metadata": {},
     "output_type": "execute_result"
    }
   ],
   "source": [
    "R2 @ R2.T"
   ]
  },
  {
   "cell_type": "code",
   "execution_count": 33,
   "metadata": {},
   "outputs": [
    {
     "data": {
      "text/plain": [
       "1.0"
      ]
     },
     "execution_count": 33,
     "metadata": {},
     "output_type": "execute_result"
    }
   ],
   "source": [
    "np.linalg.det(R2)"
   ]
  },
  {
   "cell_type": "code",
   "execution_count": 34,
   "metadata": {},
   "outputs": [],
   "source": [
    "R3 = np.array([\n",
    "    [1, 0, 0],\n",
    "    [0, 1, 0],\n",
    "    [0, 0, -1]\n",
    "])"
   ]
  },
  {
   "cell_type": "code",
   "execution_count": 35,
   "metadata": {},
   "outputs": [
    {
     "data": {
      "text/plain": [
       "array([[1, 0, 0],\n",
       "       [0, 1, 0],\n",
       "       [0, 0, 1]])"
      ]
     },
     "execution_count": 35,
     "metadata": {},
     "output_type": "execute_result"
    }
   ],
   "source": [
    "R3 @ R3.T"
   ]
  },
  {
   "cell_type": "code",
   "execution_count": 36,
   "metadata": {},
   "outputs": [
    {
     "data": {
      "text/plain": [
       "-1.0"
      ]
     },
     "execution_count": 36,
     "metadata": {},
     "output_type": "execute_result"
    }
   ],
   "source": [
    "np.linalg.det(R3)"
   ]
  }
 ],
 "metadata": {
  "kernelspec": {
   "display_name": "Python 3",
   "language": "python",
   "name": "python3"
  },
  "language_info": {
   "codemirror_mode": {
    "name": "ipython",
    "version": 3
   },
   "file_extension": ".py",
   "mimetype": "text/x-python",
   "name": "python",
   "nbconvert_exporter": "python",
   "pygments_lexer": "ipython3",
   "version": "3.6.5"
  }
 },
 "nbformat": 4,
 "nbformat_minor": 2
}
