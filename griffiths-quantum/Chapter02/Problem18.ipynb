{
 "cells": [
  {
   "cell_type": "markdown",
   "id": "28df6ea2",
   "metadata": {},
   "source": [
    "# Problem 2.18"
   ]
  },
  {
   "cell_type": "markdown",
   "id": "8b5d06dc",
   "metadata": {},
   "source": [
    "$$\n",
    "\\begin{eqnarray}\n",
    "Ae^{ikx} + Be^{-ikx} & = & A(\\cos(kx) + i \\sin(kx))) + B (\\cos(kx)-i \\sin(kx)) \\\\\n",
    "& = & (A + B)\\cos kx + (A - B) i \\sin kx\n",
    "\\end{eqnarray}\n",
    "$$\n",
    "\n",
    "$$\n",
    "\\implies C = A + B; \\qquad D = A - B\n",
    "$$"
   ]
  }
 ],
 "metadata": {
  "kernelspec": {
   "display_name": "Python 3 (ipykernel)",
   "language": "python",
   "name": "python3"
  },
  "language_info": {
   "codemirror_mode": {
    "name": "ipython",
    "version": 3
   },
   "file_extension": ".py",
   "mimetype": "text/x-python",
   "name": "python",
   "nbconvert_exporter": "python",
   "pygments_lexer": "ipython3",
   "version": "3.10.6"
  }
 },
 "nbformat": 4,
 "nbformat_minor": 5
}
