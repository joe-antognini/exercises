{
 "cells": [
  {
   "cell_type": "code",
   "execution_count": 1,
   "metadata": {},
   "outputs": [],
   "source": [
    "import matplotlib.pyplot as plt\n",
    "import numpy as np"
   ]
  },
  {
   "cell_type": "markdown",
   "metadata": {},
   "source": [
    "## Problem 1.4\n",
    "\n",
    "### Part a.\n",
    "\n",
    "The normalization constraint imposes\n",
    "\n",
    "$$\n",
    "\\begin{eqnarray}\n",
    "\\int_0^a A^2 \\left( \\frac{x}{a} \\right)^2 \\, dx + \\int_a^1 A^2 \\frac{(b-x)^2}{(b-a)^2} \\, dx & = & 1 \\\\\n",
    "\\implies \\frac{A^2 x^3}{3 a^2} \\, \\bigg\\rvert_0^a - \\frac{A^2 (b - x)^3}{3 (b - a)^2} \\, \\bigg\\rvert_a^b & = & 1 \\\\\n",
    "\\implies \\frac{A^2 a}{3} + \\frac{A^2 (b - a)}{3} & = & 1 \\\\\n",
    "\\implies A & = & \\sqrt{\\frac{3}{b}}\n",
    "\\end{eqnarray}\n",
    "$$"
   ]
  },
  {
   "cell_type": "markdown",
   "metadata": {},
   "source": [
    "### Part b.\n",
    "\n",
    "For concreteness, let us take $a = 1/3$ and $b = 1$."
   ]
  },
  {
   "cell_type": "code",
   "execution_count": 2,
   "metadata": {},
   "outputs": [],
   "source": [
    "X = np.linspace(-1, 2, num=500)\n",
    "Y = np.zeros_like(X)\n",
    "a = 1 / 3\n",
    "b = 1\n",
    "A = np.sqrt(3 / b)\n",
    "\n",
    "piece1 = A * X / a\n",
    "piece2 = A * (b - X) / (b - a)\n",
    "\n",
    "Y += ((X >= 0) & (X < a)) * piece1 + ((X >= a) & (X < b)) * piece2"
   ]
  },
  {
   "cell_type": "code",
   "execution_count": 3,
   "metadata": {},
   "outputs": [
    {
     "data": {
      "image/png": "[encoded data removed]",
      "text/plain": [
       "<Figure size 432x288 with 1 Axes>"
      ]
     },
     "metadata": {
      "needs_background": "light"
     },
     "output_type": "display_data"
    }
   ],
   "source": [
    "plt.plot(X, Y, c='k')\n",
    "plt.xlabel(r'$x$', fontsize=18)\n",
    "plt.ylabel(r'$\\Psi$', fontsize=18);"
   ]
  },
  {
   "cell_type": "markdown",
   "metadata": {},
   "source": [
    "### Part c.\n",
    "\n",
    "The mode of this distribution is given by the maximum of $\\Psi$, which is $a$.\n",
    "\n",
    "### Part d.\n",
    "\n",
    "The probability of finding the particle to the left of $a$ is\n",
    "\n",
    "$$\n",
    "\\begin{eqnarray}\n",
    "\\frac{3}{b} \\int_0^a \\left( \\frac{x}{a} \\right)^2 \\, dx & = & \\frac{x^3}{a^2 b} \\bigg\\rvert_0^a \\\\\n",
    "& = & \\frac{a}{b}\n",
    "\\end{eqnarray}\n",
    "$$\n",
    "\n",
    "This implies that in the case $b = a$, the probability of finding the particle to the left of $a$ is $1$, as it should be, and in the cse $b = 2a$, the probability is $1/2$, which is again as expected.\n",
    "\n",
    "### Part e.\n",
    "\n",
    "$$\n",
    "\\begin{eqnarray}\n",
    "\\mathbb{E}[x] & = & \\frac{3}{(ab)^2} \\int_0^a x^3 \\, dx + \\frac{3}{b^2 (b-a)^2} \\int_a^b x^3 \\, dx \\\\\n",
    "& = & \\frac{3}{4} \\left( \\frac{a}{b} \\right)^2 + \\frac{3}{4} \\frac{(b-a)^2}{b^2} \\\\\n",
    "& = & \\frac{3}{4} \\left( \\frac{a}{b} \\right)^2 \\left( 1 + \\left( \\frac{b}{a} - 1 \\right)^2 \\right)\n",
    "\\end{eqnarray}\n",
    "$$"
   ]
  }
 ],
 "metadata": {
  "kernelspec": {
   "display_name": "Python 3",
   "language": "python",
   "name": "python3"
  },
  "language_info": {
   "codemirror_mode": {
    "name": "ipython",
    "version": 3
   },
   "file_extension": ".py",
   "mimetype": "text/x-python",
   "name": "python",
   "nbconvert_exporter": "python",
   "pygments_lexer": "ipython3",
   "version": "3.7.4"
  }
 },
 "nbformat": 4,
 "nbformat_minor": 2
}
