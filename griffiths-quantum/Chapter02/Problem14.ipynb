{
 "cells": [
  {
   "cell_type": "markdown",
   "metadata": {},
   "source": [
    "# Problem 2.14\n",
    "\n",
    "$$\n",
    "\\Psi(x, 0) = \\left( \\frac{m \\omega^{\\prime}}{2\\pi \\hbar} \\right)^{\\frac{1}{4}} \\exp \\left(-\\frac{m\\omega^{\\prime}}{4\\hbar} x^2 \\right)\n",
    "$$"
   ]
  },
  {
   "cell_type": "markdown",
   "metadata": {},
   "source": [
    "$$\n",
    "p(E = \\frac{1}{2} \\hbar \\omega) = 0\n",
    "$$"
   ]
  },
  {
   "cell_type": "markdown",
   "metadata": {},
   "source": [
    "$$\n",
    "\\begin{eqnarray}\n",
    "c_0 & = & \\int_{-\\infty}^{\\infty} \\left( \\frac{m \\omega^{\\prime}}{\\pi\\hbar} \\right)^{\\frac{1}{4}} \\exp \\left( -\\frac{m\\omega^{\\prime}}{2 \\hbar} x^2 \\right)  \\left(\\frac{m\\omega^{\\prime}}{2 \\pi\\hbar} \\right)^{\\frac{1}{4}} \\exp \\left( -\\frac{m\\omega^{\\prime}}{4\\hbar} x^2 \\right) \\, dx \\\\\n",
    "& = & \\frac{1}{2^{1/4}} \\sqrt{\\frac{m\\omega^{\\prime}}{\\pi\\hbar}} \\int_{-\\infty}^{\\infty} \\exp \\left(\\frac{-3m\\omega^{\\prime}}{4\\hbar} x^2 \\right) \\, dx \\\\\n",
    "\\end{eqnarray}\n",
    "$$"
   ]
  },
  {
   "cell_type": "markdown",
   "metadata": {},
   "source": [
    "Now define\n",
    "\n",
    "$$\n",
    "\\xi \\equiv \\sqrt{\\frac{3m\\omega^{\\prime}}{4\\hbar}} x\n",
    "$$"
   ]
  },
  {
   "cell_type": "markdown",
   "metadata": {},
   "source": [
    "$$\n",
    "\\begin{eqnarray}\n",
    "c_0 & = & \\frac{1}{2^{1/4}} \\sqrt{\\frac{m\\omega^{\\prime}}{\\pi\\hbar}} 2 \\sqrt{\\frac{\\hbar}{3m\\omega^{\\prime}}} \\int_{-\\infty}^{\\infty} e^{-\\xi^2} \\, d\\xi \\\\\n",
    "& = & \\frac{2^{3/4}}{\\sqrt{3}}\n",
    "\\end{eqnarray}\n",
    "$$"
   ]
  },
  {
   "cell_type": "markdown",
   "metadata": {},
   "source": [
    "Hence,\n",
    "\n",
    "$$\n",
    "p(E_0 = \\hbar \\omega) = \\frac{\\sqrt{8}}{3} \\approx 0.943\n",
    "$$"
   ]
  }
 ],
 "metadata": {
  "kernelspec": {
   "display_name": "Python 3",
   "language": "python",
   "name": "python3"
  },
  "language_info": {
   "codemirror_mode": {
    "name": "ipython",
    "version": 3
   },
   "file_extension": ".py",
   "mimetype": "text/x-python",
   "name": "python",
   "nbconvert_exporter": "python",
   "pygments_lexer": "ipython3",
   "version": "3.8.10"
  }
 },
 "nbformat": 4,
 "nbformat_minor": 4
}
