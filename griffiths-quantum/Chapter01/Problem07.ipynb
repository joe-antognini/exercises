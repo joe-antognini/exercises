{
 "cells": [
  {
   "cell_type": "markdown",
   "metadata": {},
   "source": [
    "## Problem 1.7\n",
    "\n",
    "$$\n",
    "\\begin{eqnarray}\n",
    "\\frac{d \\langle p \\rangle}{dt} & = & -i \\hbar \\int \\frac{\\partial}{\\partial t} \\left[ \\Psi^* \\frac{\\partial \\Psi}{\\partial x} \\right] \\, dx \\\\\n",
    "& = & -i \\hbar \\int \\frac{\\partial \\Psi^*}{\\partial t} \\frac{\\partial \\Psi}{\\partial x} + \\Psi^* \\frac{\\partial^2 \\Psi}{\\partial t \\partial x} \\, dx \\\\\n",
    "& = & -i \\hbar \\int \\frac{\\partial \\Psi^*}{\\partial t} \\frac{\\partial \\Psi}{ \\partial x} + \\Psi^* \\frac{\\partial}{\\partial x} \\left[ \\frac{i \\hbar}{2m} \\frac{\\partial^2 \\Psi}{\\partial x^2} - \\frac{i}{\\hbar} V \\Psi \\right] \\, dx \\\\\n",
    "& = & -i \\hbar \\int \\frac{i \\hbar}{2m} \\left( \\Psi^* \\frac{\\partial^3 \\Psi}{\\partial x^3} - \\frac{\\partial^2 \\Psi^*}{\\partial x^2} \\frac{\\partial \\Psi}{\\partial x} \\right) + \\frac{i}{\\hbar} \\left( V \\Psi^* \\frac{\\partial \\Psi}{\\partial x} - \\Psi^* \\frac{\\partial V}{\\partial x} \\Psi - \\Psi^* V \\frac{\\partial \\Psi}{\\partial x} \\right) \\, dx \\\\\n",
    "& = & -i \\hbar \\int \\frac{i \\hbar}{2m} \\left( - \\frac{\\partial \\Psi^*}{\\partial x} \\frac{\\partial^2 \\Psi}{\\partial x^2} + \\frac{\\partial \\Psi^*}{\\partial x} \\frac{\\partial^2 \\Psi}{\\partial x^2} \\right) - \\frac{i}{\\hbar} \\frac{\\partial V}{\\partial x} |\\Psi|^2 \\, dx \\\\\n",
    "& = & -\\int \\frac{\\partial V}{\\partial x} |\\Psi|^2 \\, dx \\\\\n",
    "& = & \\left\\langle - \\frac{\\partial V}{\\partial x} \\right\\rangle \\\\\n",
    "\\end{eqnarray}\n",
    "$$\n",
    "\n",
    "Where we use integration by parts going from the fourth to the fifth line."
   ]
  }
 ],
 "metadata": {
  "kernelspec": {
   "display_name": "Python 3",
   "language": "python",
   "name": "python3"
  },
  "language_info": {
   "codemirror_mode": {
    "name": "ipython",
    "version": 3
   },
   "file_extension": ".py",
   "mimetype": "text/x-python",
   "name": "python",
   "nbconvert_exporter": "python",
   "pygments_lexer": "ipython3",
   "version": "3.7.4"
  }
 },
 "nbformat": 4,
 "nbformat_minor": 2
}
