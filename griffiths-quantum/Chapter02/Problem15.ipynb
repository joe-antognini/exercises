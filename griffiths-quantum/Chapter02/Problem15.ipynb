{
 "cells": [
  {
   "cell_type": "markdown",
   "metadata": {},
   "source": [
    "# Problem 2.15"
   ]
  },
  {
   "cell_type": "code",
   "execution_count": 1,
   "metadata": {},
   "outputs": [],
   "source": [
    "import numpy as np\n",
    "import scipy.special\n",
    "import sympy as sp"
   ]
  },
  {
   "cell_type": "markdown",
   "metadata": {},
   "source": [
    "$$\n",
    "\\psi_0 = \\sqrt{\\frac{m \\omega}{\\hbar}} \\exp \\left( -\\frac{m\\omega}{2 \\hbar} x^2 \\right)\n",
    "$$"
   ]
  },
  {
   "cell_type": "markdown",
   "metadata": {},
   "source": [
    "$$\n",
    "P \\left( |x| > \\sqrt{\\frac{2E}{m \\omega^2}} \\right) = P \\left( |x| > \\sqrt{\\frac{\\hbar}{m\\omega}} \\right)\n",
    "$$\n",
    "\n",
    "Let\n",
    "\n",
    "$$\n",
    "\\xi \\equiv \\sqrt{\\frac{m \\omega}{\\hbar}} x\n",
    "$$\n",
    "\n",
    "Now, because the function is even,\n",
    "\n",
    "$$\n",
    "\\begin{eqnarray}\n",
    "P \\left( |x| > \\sqrt{\\frac{2E}{m \\omega^2}} \\right) & = & 2 \\int_{\\sqrt{\\frac{\\hbar}{m\\omega}}}^{\\infty} \\sqrt{\\frac{m\\omega}{\\pi\\hbar}} \\exp \\left(-\\frac{m\\omega}{\\hbar} x^2 \\right) \\, dx \\\\\n",
    "& = & 2 \\int_1^{\\infty} \\frac{1}{\\sqrt{\\pi}} e^{-\\xi^2} \\, d\\xi\n",
    "\\end{eqnarray}\n",
    "$$"
   ]
  },
  {
   "cell_type": "code",
   "execution_count": 2,
   "metadata": {},
   "outputs": [],
   "source": [
    "xi = sp.symbols('xi')"
   ]
  },
  {
   "cell_type": "code",
   "execution_count": 5,
   "metadata": {},
   "outputs": [
    {
     "data": {
      "text/latex": [
       "$\\displaystyle 1 - \\operatorname{erf}{\\left(1 \\right)}$"
      ],
      "text/plain": [
       "1 - erf(1)"
      ]
     },
     "execution_count": 5,
     "metadata": {},
     "output_type": "execute_result"
    }
   ],
   "source": [
    "sp.simplify(2 * sp.integrate(1 / sp.sqrt(sp.pi) * sp.exp(-xi**2), (xi, 1, sp.oo)))"
   ]
  },
  {
   "cell_type": "code",
   "execution_count": 6,
   "metadata": {},
   "outputs": [
    {
     "data": {
      "text/plain": [
       "0.15729920705028522"
      ]
     },
     "execution_count": 6,
     "metadata": {},
     "output_type": "execute_result"
    }
   ],
   "source": [
    "1 - scipy.special.erf(1)"
   ]
  },
  {
   "cell_type": "markdown",
   "metadata": {},
   "source": [
    "So there is about a 15.7% chance that a particle in the ground state of the harmonic oscillator will be found in a classically forbidden region.."
   ]
  }
 ],
 "metadata": {
  "kernelspec": {
   "display_name": "Python 3",
   "language": "python",
   "name": "python3"
  },
  "language_info": {
   "codemirror_mode": {
    "name": "ipython",
    "version": 3
   },
   "file_extension": ".py",
   "mimetype": "text/x-python",
   "name": "python",
   "nbconvert_exporter": "python",
   "pygments_lexer": "ipython3",
   "version": "3.8.10"
  }
 },
 "nbformat": 4,
 "nbformat_minor": 4
}
