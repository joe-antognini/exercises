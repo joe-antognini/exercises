{
 "cells": [
  {
   "cell_type": "code",
   "execution_count": 1,
   "metadata": {},
   "outputs": [],
   "source": [
    "import numpy as np"
   ]
  },
  {
   "cell_type": "markdown",
   "metadata": {},
   "source": [
    "Invisible Latex commands are in this cell.\n",
    "\n",
    "$$\\newcommand{\\ket}[1]{\\left|{#1}\\right\\rangle}$$\n",
    "$$\\newcommand{\\bra}[1]{\\left\\langle{#1}\\right|}$$\n",
    "$$\\newcommand{\\braket}[2]{\\left\\langle{#1}\\middle|{#2}\\right\\rangle}$$\n",
    "$$\\newcommand{\\norm}[1]{\\left\\lVert#1\\right\\rVert}$$"
   ]
  },
  {
   "cell_type": "markdown",
   "metadata": {},
   "source": [
    "## Problem A.4\n",
    "\n",
    "$$\n",
    "\\norm{e_1} = 2\n",
    "$$\n",
    "\n",
    "$$\n",
    "\\ket{e_1^{\\prime}} = \\frac{1}{2}(1 + i) \\hat{i} + \\frac{1}{2} \\hat{j} + \\frac{i}{2} \\hat{k}\n",
    "$$\n",
    "\n",
    "$$\n",
    "\\braket{e_1^{\\prime}}{e_2} = \\frac{i}{2} (1 - i) + \\frac{3}{2} - \\frac{i}{2} = \\frac{1}{2}(i + 1 - 3 - i) = 2\n",
    "$$\n",
    "\n",
    "$$\n",
    "\\ket{e_2} - \\braket{e_1^{\\prime}}{e_2} = i \\hat{i} + 3 \\hat{j} + \\hat{k} - 2((1 + i) \\hat{i} + \\hat{j} + i \\hat{k}) \n",
    "= -\\hat{i} + 2 \\hat{j} + (1 - i) \\hat{k}\n",
    "$$\n",
    "\n",
    "$$\n",
    "\\norm{\\ket{e_2} - \\braket{e_1^{\\prime}}{e_2}} = \\sqrt{1 + 4 + 2} = \\sqrt{7}\n",
    "$$\n",
    "\n",
    "$$\n",
    "\\ket{e_2^{\\prime}} = -\\frac{1}{\\sqrt{7}} \\hat{i} + \\frac{2}{\\sqrt{7}} \\hat{j} + \\frac{1 - i}{\\sqrt{7}} \\hat{k}\n",
    "$$\n",
    "\n",
    "$$\n",
    "\\braket{e_1^{\\prime}}{e_3} = 14\n",
    "$$\n",
    "\n",
    "$$\n",
    "\\braket{e_2^{\\prime}}{e_3} = 8 \\sqrt{7}\n",
    "$$\n",
    "\n",
    "$$\n",
    "\\ket{e_3} - \\braket{e_1^{\\prime}}{e_3} - \\braket{e_2^{\\prime}}{e_3} =\n",
    "28 \\hat{j} - 7((1 + i) \\hat{i} + \\hat{j} + i \\hat{k}) - 8(-\\hat{i} + 2\\hat{j} + (1 - i) \\hat{k}) =\n",
    "(1 - 7i) \\hat{i} + 5 \\hat{j} + (-8 + i)\\hat{k}\n",
    "$$\n",
    "\n",
    "$$\n",
    "\\norm{\\ket{e_3} - \\braket{e_1^{\\prime}}{e_3} - \\braket{e_2^{\\prime}}{e_3}} = \\sqrt{140}\n",
    "$$\n",
    "\n",
    "$$\n",
    "\\ket{e_3^{\\prime}} = \\frac{1}{2 \\sqrt{35}} ((1 - 7i) \\hat{i} + 5 \\hat{j} + (-8 + i) \\hat{k})\n",
    "$$"
   ]
  },
  {
   "cell_type": "code",
   "execution_count": 2,
   "metadata": {},
   "outputs": [
    {
     "data": {
      "text/plain": [
       "array([0.5+0.5j, 0.5+0.j , 0. +0.5j])"
      ]
     },
     "execution_count": 2,
     "metadata": {},
     "output_type": "execute_result"
    }
   ],
   "source": [
    "e1 = np.array([1 + 1j, 1, 1j])\n",
    "e2 = np.array([1j, 3, 1])\n",
    "e3 = np.array([0, 28, 0])\n",
    "\n",
    "e1prime = e1 / np.linalg.norm(e1)\n",
    "e1prime"
   ]
  },
  {
   "cell_type": "code",
   "execution_count": 3,
   "metadata": {},
   "outputs": [
    {
     "data": {
      "text/plain": [
       "True"
      ]
     },
     "execution_count": 3,
     "metadata": {},
     "output_type": "execute_result"
    }
   ],
   "source": [
    "e2prime = (e2 - np.vdot(e1prime, e2) * e1prime) / np.linalg.norm(e2 - np.vdot(e1prime, e2) * e1prime)\n",
    "np.allclose(e2prime, np.array([-1 / np.sqrt(7), 2 / np.sqrt(7), (1 - 1j) / np.sqrt(7)]))"
   ]
  },
  {
   "cell_type": "code",
   "execution_count": 4,
   "metadata": {},
   "outputs": [
    {
     "data": {
      "text/plain": [
       "True"
      ]
     },
     "execution_count": 4,
     "metadata": {},
     "output_type": "execute_result"
    }
   ],
   "source": [
    "e3prime = ((e3 - np.vdot(e1prime, e3) * e1prime - np.vdot(e2prime, e3) * e2prime) /\n",
    "    np.linalg.norm(e3 - np.vdot(e1prime, e3) * e1prime - np.vdot(e2prime, e3) * e2prime))\n",
    "np.allclose(e3prime, 1 / (2 * np.sqrt(35)) * np.array([1 - 7j, 5, -8 + 1j]))"
   ]
  }
 ],
 "metadata": {
  "kernelspec": {
   "display_name": "Python 3",
   "language": "python",
   "name": "python3"
  },
  "language_info": {
   "codemirror_mode": {
    "name": "ipython",
    "version": 3
   },
   "file_extension": ".py",
   "mimetype": "text/x-python",
   "name": "python",
   "nbconvert_exporter": "python",
   "pygments_lexer": "ipython3",
   "version": "3.7.3"
  }
 },
 "nbformat": 4,
 "nbformat_minor": 2
}
