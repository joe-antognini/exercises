{
 "cells": [
  {
   "cell_type": "markdown",
   "metadata": {},
   "source": [
    "# Problem 1.13\n",
    "\n",
    "## Part a.\n",
    "\n",
    "The sample space consists of a sequence of at least one heads terminating with a tails, or a sequence of at least one tails terminating with a heads:\n",
    "\n",
    "$$\n",
    "\\Omega = \\{ HT, TH, HHT, TTH, HHHT, TTTH, \\ldots \\}\n",
    "$$\n",
    "\n",
    "## Part b.\n",
    "\n",
    "The probability of a particular sequence of length $n$ is $2^{-n}$, and because there are two sequences of length $n$, the probabiilty of observng a sequence of length $n$ is $2^{1 - n}$.  So the probabiilty of observing a sequence of length 3 is $1 / 4$."
   ]
  }
 ],
 "metadata": {
  "kernelspec": {
   "display_name": "Python 3",
   "language": "python",
   "name": "python3"
  },
  "language_info": {
   "codemirror_mode": {
    "name": "ipython",
    "version": 3
   },
   "file_extension": ".py",
   "mimetype": "text/x-python",
   "name": "python",
   "nbconvert_exporter": "python",
   "pygments_lexer": "ipython3",
   "version": "3.8.10"
  }
 },
 "nbformat": 4,
 "nbformat_minor": 4
}
