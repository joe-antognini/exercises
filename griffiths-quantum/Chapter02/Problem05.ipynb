{
 "cells": [
  {
   "cell_type": "markdown",
   "metadata": {},
   "source": [
    "# Problem 2.5\n",
    "\n",
    "## Part a.\n",
    "\n",
    "We have that\n",
    "\n",
    "$$\n",
    "\\Psi (x, 0) = A \\left( \\psi_1 + \\psi_2 \\right)\n",
    "$$\n",
    "\n",
    "and\n",
    "\n",
    "$$\n",
    "\\int \\Psi^2 \\, dx = 1.\n",
    "$$\n",
    "\n",
    "This implies that\n",
    "\n",
    "$$\n",
    "A^2 \\int \\left| \\psi_1 + \\psi_2 \\right|^2 \\, dx = 1,\n",
    "$$\n",
    "\n",
    "and so\n",
    "\n",
    "$$\n",
    "\\int \\left| \\psi_1 \\right|^2 \\, dx + \\int \\left| \\psi_2 \\right|^2 \\, dx = \\frac{1}{A^2}\n",
    "$$\n",
    "\n",
    "since $\\psi_1$ and $\\psi_2$ are orthogonal (and so the cross term is zero).  Hence\n",
    "\n",
    "$$\n",
    "A = \\frac{1}{\\sqrt{2}}.\n",
    "$$"
   ]
  },
  {
   "cell_type": "markdown",
   "metadata": {},
   "source": [
    "## Part b.\n",
    "\n",
    "$$\n",
    "\\Psi (x, t) = \\frac{1}{\\sqrt{2}} \\left[ \\psi_1(x) e^{-i E_1 t / \\hbar} + \\psi_2(x) e^{-i E_2 t / \\hbar} \\right]\n",
    "$$"
   ]
  },
  {
   "cell_type": "markdown",
   "metadata": {},
   "source": [
    "$$\n",
    "\\begin{eqnarray}\n",
    "\\left| \\Psi \\right|^2 & = & \\frac{1}{2} \\left( \\psi_1^2 + \\psi_2^2 \\right) + \\frac{1}{2} \\psi_1 \\psi_2 \\left( e^{-i (E_1 - E_2) t / \\hbar} + e^{i (E_1 - E_2) t / \\hbar} \\right) \\\\\n",
    "& = & \\frac{1}{2} \\left( \\psi_1^2 + \\psi_2^2 \\right) + \\psi_1 \\psi_2 \\cos \\left( \\frac{(E_1 - E_2) t}{\\hbar} \\right)\n",
    "\\end{eqnarray}\n",
    "$$"
   ]
  },
  {
   "cell_type": "markdown",
   "metadata": {},
   "source": [
    "Let us now define\n",
    "\n",
    "$$\n",
    "\\omega \\equiv \\frac{\\pi^2 \\hbar}{2 m a^2}\n",
    "$$\n",
    "\n",
    "Now we have\n",
    "\n",
    "$$\n",
    "| \\Psi |^2 = \\frac{1}{a} \\left[ \\sin^2 \\left( \\frac{\\pi}{a} x \\right) + \\sin^2 \\left( \\frac{ 2 \\pi}{a} x \\right) \\right] + \\frac{2}{a} \\sin \\left( \\frac{\\pi x}{a} \\right) \\sin \\left( \\frac{2 \\pi x}{a} \\right) \\cos (3 \\omega t).\n",
    "$$"
   ]
  },
  {
   "cell_type": "markdown",
   "metadata": {},
   "source": [
    "## Part c.\n",
    "\n",
    "$$\n",
    "\\begin{eqnarray}\n",
    "\\langle x \\rangle & = & \\frac{1}{2} \\int \\psi_1^2 x \\, dx + \\frac{1}{2} \\int \\psi_2^2 \\x \\, dx + \\frac{2}{a} \\int_0^a x \\sin \\left( \\frac{\\pi x}{a} \\right) \\sin \\left( \\frac{2 \\pi x}{a} \\right) \\cos (3 \\omega t) \\, dx \\\\\n",
    "& = & \\frac{a}{2} - \\frac{8 a}{9 \\pi^2} \\cos (3 \\omega t)\n",
    "\\end{eqnarray}\n",
    "$$"
   ]
  },
  {
   "cell_type": "markdown",
   "metadata": {},
   "source": [
    "## Part d.\n",
    "\n",
    "We have that\n",
    "\n",
    "$$\n",
    "\\begin{eqnarray}\n",
    "\\langle p \\rangle & = & m \\frac{d \\langle x \\rangle}{dt} \\\\\n",
    "& = & - \\frac{8am}{9 \\pi^2} \\cdot 3 \\omega \\sin(3 \\omega t) \\\\\n",
    "& = & -\\frac{8am\\omega}{3\\pi^2} \\sin(3 \\omega t)\n",
    "\\end{eqnarray}\n",
    "$$"
   ]
  },
  {
   "cell_type": "markdown",
   "metadata": {},
   "source": [
    "## Part e.\n",
    "\n",
    "There are only two possible energies that one could measure: $E_1$ and $E_2$.  Since $\\psi_1$ and $\\psi_2$ have equal amplitudes there is an equal probability of measuring either energy.  The expected value of the energy is\n",
    "\n",
    "$$\n",
    "\\begin{eqnarray}\n",
    "\\langle H \\rangle & = & \\frac{1}{2} \\left( E_1 + E_2 \\right) \\\\\n",
    "& = & \\frac{\\pi^2 \\hbar^2}{4 m a^2} (1 + 4) \\\\\n",
    "& = & \\frac{5 \\pi^2 \\hbar^2}{4 m a^2}\n",
    "\\end{eqnarray}\n",
    "$$"
   ]
  }
 ],
 "metadata": {
  "kernelspec": {
   "display_name": "Python 3",
   "language": "python",
   "name": "python3"
  },
  "language_info": {
   "codemirror_mode": {
    "name": "ipython",
    "version": 3
   },
   "file_extension": ".py",
   "mimetype": "text/x-python",
   "name": "python",
   "nbconvert_exporter": "python",
   "pygments_lexer": "ipython3",
   "version": "3.8.5"
  }
 },
 "nbformat": 4,
 "nbformat_minor": 4
}
