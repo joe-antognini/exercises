{
 "cells": [
  {
   "cell_type": "markdown",
   "metadata": {},
   "source": [
    "# Problem 5"
   ]
  },
  {
   "cell_type": "code",
   "execution_count": 1,
   "metadata": {},
   "outputs": [
    {
     "name": "stdout",
     "output_type": "stream",
     "text": [
      "Populating the interactive namespace from numpy and matplotlib\n"
     ]
    }
   ],
   "source": [
    "%pylab inline"
   ]
  },
  {
   "cell_type": "markdown",
   "metadata": {},
   "source": [
    "## Part a.\n",
    "\n",
    "From the recursion relation,\n",
    "\n",
    "$$\n",
    "\\Gamma(0) = \\frac{\\Gamma(1)}{0}\n",
    "$$\n",
    "\n",
    "which has a singularity.  Similarly, for $-1$, we have\n",
    "\n",
    "$$\n",
    "\\Gamma(-1) = \\frac{\\Gamma(0)}{-1} = \\frac{\\Gamma(1)}{-1 \\cdot 0}\n",
    "$$\n",
    "\n",
    "And so on for any negative integer."
   ]
  },
  {
   "cell_type": "markdown",
   "metadata": {},
   "source": [
    "## Part b."
   ]
  },
  {
   "cell_type": "code",
   "execution_count": 10,
   "metadata": {},
   "outputs": [
    {
     "data": {
      "image/png": "[encoded data removed]",
      "text/plain": [
       "<matplotlib.figure.Figure at 0x118087588>"
      ]
     },
     "metadata": {
      "needs_background": "light"
     },
     "output_type": "display_data"
    }
   ],
   "source": [
    "num = 50\n",
    "X = -1 / np.arange(1, num + 1)\n",
    "\n",
    "fig = plt.figure()\n",
    "ax = fig.add_subplot(1, 1, 1)\n",
    "scatter(X, np.zeros(num), c='k', edgecolor='none')\n",
    "ax.spines['left'].set_position('center')\n",
    "ax.spines['bottom'].set_position('center')\n",
    "ax.set_xlim([-1.2, 1.2])\n",
    "ax.set_ylim([-1, 1])\n",
    "\n",
    "ax.xaxis.set_ticks_position('bottom')\n",
    "ax.yaxis.set_ticks_position('left')\n",
    "ax.spines['right'].set_color('none')\n",
    "ax.spines['top'].set_color('none')"
   ]
  },
  {
   "cell_type": "markdown",
   "metadata": {},
   "source": [
    "The radius of convergence is given by\n",
    "\n",
    "$$\n",
    "\\begin{eqnarray}\n",
    "r_c & = & \\sqrt{\\left| \\frac{A_{2j-1}}{A_{2j + 1}} \\right|} \\\\\n",
    " & = & \\left[ \\, \\left| \\frac{ (-1)^{j-1} 2 (2 ( j - 1))! / (2 \\pi)^{2j}}{(-1)^j 2(2j)! / (2 \\pi)^{2(j + 1)}} \\right| \\, \\right]^{\\frac{1}{2}} \\\\\n",
    " & = & \\sqrt{ \\frac{(2\\pi)^2}{2 j (2j - 1)}} \\\\\n",
    " & = & \\frac{2 \\sqrt{2} \\pi}{\\sqrt{j (2j - 1)}} \\\\\n",
    "\\lim_{j \\to \\infty} r_c & = & 0.\n",
    "\\end{eqnarray}\n",
    "$$\n",
    "\n"
   ]
  },
  {
   "cell_type": "markdown",
   "metadata": {},
   "source": [
    "## Part d."
   ]
  },
  {
   "cell_type": "code",
   "execution_count": 12,
   "metadata": {},
   "outputs": [
    {
     "data": {
      "text/plain": [
       "0.9996930094273442"
      ]
     },
     "execution_count": 12,
     "metadata": {},
     "output_type": "execute_result"
    }
   ],
   "source": [
    "np.sqrt(2 * np.pi) * np.exp(-1) * (\n",
    "    1 + 1 / 12 + 1 / 288 - 139 / 51840 - 571 / 2488320 + 163879 / 209018880 + 5246819 / 75246796800\n",
    "    - 534703531 / 902961561600 - 4483131259 / 86684309913600\n",
    ")"
   ]
  }
 ],
 "metadata": {
  "kernelspec": {
   "display_name": "Python 3",
   "language": "python",
   "name": "python3"
  },
  "language_info": {
   "codemirror_mode": {
    "name": "ipython",
    "version": 3
   },
   "file_extension": ".py",
   "mimetype": "text/x-python",
   "name": "python",
   "nbconvert_exporter": "python",
   "pygments_lexer": "ipython3",
   "version": "3.6.5"
  }
 },
 "nbformat": 4,
 "nbformat_minor": 2
}
