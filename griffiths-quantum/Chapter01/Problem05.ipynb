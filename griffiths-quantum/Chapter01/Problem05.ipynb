{
 "cells": [
  {
   "cell_type": "code",
   "execution_count": 1,
   "metadata": {},
   "outputs": [],
   "source": [
    "import matplotlib.pyplot as plt\n",
    "import numpy as np"
   ]
  },
  {
   "cell_type": "markdown",
   "metadata": {},
   "source": [
    "## Problem 1.5\n",
    "\n",
    "### Part a.\n",
    "\n",
    "$$\n",
    "\\begin{eqnarray}\n",
    "\\int_{-\\infty}^{\\infty} | \\Psi |^2 \\, dx & = & 1 \\\\\n",
    "A^2 \\int_{-\\infty}^{\\infty} e^{-2 \\lambda |x|} \\, dx & = & 1 \\\\\n",
    "2 A^2 \\int_0^{\\infty} e^{-2 \\lambda x} \\, dx & = & 1 \\\\\n",
    "-\\frac{A^2}{\\lambda} e^{-2 \\lambda x} \\bigg\\rvert_0^{\\infty} & = & 1 \\\\\n",
    "\\frac{A^2}{\\lambda} & = & 1 \\\\\n",
    "\\implies A & = & \\sqrt{\\lambda} \\\\\n",
    "\\end{eqnarray}\n",
    "$$\n",
    "\n",
    "### Part b.\n",
    "\n",
    "$$\n",
    "\\begin{eqnarray}\n",
    "\\mathbb{E}[x] & = & \\lambda \\int_{-\\infty}^{\\infty} x e^{-2 \\lambda |x|} \\, dx \\\\\n",
    "& = & 0 \\\\\n",
    "\\end{eqnarray}\n",
    "$$\n",
    "\n",
    "where the last step follows because the integrand is an odd function.\n",
    "\n",
    "$$\n",
    "\\begin{eqnarray}\n",
    "\\mathbb{E}[x^2] & = & \\lambda \\int_{-\\infty}^{\\infty} x^2 e^{-2 \\lambda |x|} \\, dx \\\\\n",
    "& = & 2 \\lambda \\int_0^{\\infty} x^2 e^{-2 \\lambda x} \\, dx \\\\\n",
    "\\end{eqnarray}\n",
    "$$\n",
    "\n",
    "Now let $u \\equiv 2 \\lambda x$.  Then we have\n",
    "\n",
    "$$\n",
    "\\begin{eqnarray}\n",
    "\\mathbb{E}[x^2] & = & \\frac{1}{4 \\lambda^2} \\int_0^{\\infty} u^2 e^{-u} \\, du \\\\\n",
    "& = & \\frac{1}{4 \\lambda^2} \\left[ -u^2 e^{-u} \\bigg\\rvert_0^{\\infty} + \\int_0^{\\infty} 2 u e^{-u} \\, du \\right] \\\\\n",
    "& = & \\frac{1}{4 \\lambda^2} \\left[ -2u e^{-u} \\bigg\\rvert_0^{\\infty} + 2 \\int_0^{\\infty} e^{-u} \\, du \\right] \\\\\n",
    "& = & \\frac{1}{2 \\lambda^2}\n",
    "\\end{eqnarray}\n",
    "$$\n",
    "\n",
    "where we have performed integration by parts twice and in both cases the boundary conditions disappear.\n",
    "\n",
    "### Part c.\n",
    "\n",
    "The standard deviation is\n",
    "\n",
    "$$\n",
    "\\begin{eqnarray}\n",
    "\\sigma & = & \\sqrt{\\mathbb{E}[x^2] - \\mathbb{E}[x]^2} \\\\\n",
    "& = & \\frac{1}{\\sqrt{2} \\lambda}\n",
    "\\end{eqnarray}\n",
    "$$"
   ]
  },
  {
   "cell_type": "code",
   "execution_count": 2,
   "metadata": {},
   "outputs": [
    {
     "data": {
      "image/png": "[encoded data removed]",
      "text/plain": [
       "<Figure size 432x288 with 1 Axes>"
      ]
     },
     "metadata": {
      "needs_background": "light"
     },
     "output_type": "display_data"
    }
   ],
   "source": [
    "X = np.linspace(-5, 5, num=500)\n",
    "lambda_ = 1\n",
    "A = np.sqrt(lambda_)\n",
    "Psi2 = A * np.exp(-lambda_ * np.abs(X))\n",
    "sigma = 1 / (np.sqrt(2) * lambda_)\n",
    "\n",
    "plt.plot(X, Psi2, c='k')\n",
    "plt.xlabel('$x$', fontsize=18)\n",
    "plt.ylabel('$|\\Psi|^2$', fontsize=18)\n",
    "plt.axvline(sigma, color='k', linestyle=':')\n",
    "plt.axvline(-sigma, color='k', linestyle=':')\n",
    "plt.axvspan(-sigma, sigma, color='lightgray', alpha=0.2);"
   ]
  },
  {
   "cell_type": "markdown",
   "metadata": {},
   "source": [
    "The probability that the particle will be found more than one standard deviation from the origin is:\n",
    "\n",
    "$$\n",
    "\\begin{eqnarray}\n",
    "p(|x| > \\sigma) & = & 2 \\int_{\\frac{1}{\\sqrt{2} \\lambda}}^{\\infty} \\lambda e^{-2 \\lambda x} \\, dx \\\\\n",
    "& = & -e^{-2 \\lambda x} \\bigg\\rvert_{\\frac{1}{\\sqrt{2} \\lambda}}^{\\infty} \\\\\n",
    "& = & e^{-\\sqrt{2}}\n",
    "\\end{eqnarray}\n",
    "$$"
   ]
  }
 ],
 "metadata": {
  "kernelspec": {
   "display_name": "Python 3",
   "language": "python",
   "name": "python3"
  },
  "language_info": {
   "codemirror_mode": {
    "name": "ipython",
    "version": 3
   },
   "file_extension": ".py",
   "mimetype": "text/x-python",
   "name": "python",
   "nbconvert_exporter": "python",
   "pygments_lexer": "ipython3",
   "version": "3.7.4"
  }
 },
 "nbformat": 4,
 "nbformat_minor": 2
}
