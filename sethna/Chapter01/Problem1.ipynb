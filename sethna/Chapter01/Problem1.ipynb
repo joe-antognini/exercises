{
 "cells": [
  {
   "cell_type": "markdown",
   "metadata": {},
   "source": [
    "# Problem 1\n",
    "\n",
    "## Part a.\n",
    "\n",
    "Since each square in Figure 1.4 is equally likely, the probability of $p(4)$ with bosons is\n",
    "\n",
    "$$\n",
    "p(4) = \\frac{2}{6} = \\frac{1}{3}.\n",
    "$$\n",
    "\n",
    "For fermions the probability of $p(4)$ is\n",
    "\n",
    "$$\n",
    "p(4) = \\frac{1}{3}.\n",
    "$$"
   ]
  },
  {
   "cell_type": "markdown",
   "metadata": {},
   "source": [
    "## Part b.\n",
    "\n",
    "The probability of rolling a six with three fermions is 1.  The only possible roll is 1, 2, 3, which adds up to 6."
   ]
  },
  {
   "cell_type": "markdown",
   "metadata": {},
   "source": [
    "## Part c."
   ]
  },
  {
   "cell_type": "markdown",
   "metadata": {},
   "source": [
    "For a turn with three rolls, the number of legal states for bosons is 10, so the fraction of triples is $3/10$.  In the case of distinguishable particles there are $3^3 = 27$ legal states, so the fraction of triples is $3 / 27 = 1 / 9$.  The enhancement factor is therefore\n",
    "\n",
    "$$\n",
    "f = \\frac{3/10}{1/9} = \\frac{27}{10}.\n",
    "$$\n",
    "\n",
    "For a turn with $M$ rolls, the number of legal states for bosons is\n",
    "\n",
    "$$\n",
    "n_b = \\frac{1}{2}(M + 1)(M + 2)\n",
    "$$\n",
    "\n",
    "and the number of legal states for distinguishable particles is\n",
    "\n",
    "$$\n",
    "n_d = 3^M.\n",
    "$$\n",
    "\n",
    "Since there are the same number of triple states in both cases, the enhancement in probability that a triple state is achieved in the case of bosons is simply $n_d / n_b$:\n",
    "\n",
    "$$\n",
    "f = \\frac{2 \\cdot 3^M}{(M + 1)(M + 2)}.\n",
    "$$"
   ]
  }
 ],
 "metadata": {
  "kernelspec": {
   "display_name": "Python 3",
   "language": "python",
   "name": "python3"
  },
  "language_info": {
   "codemirror_mode": {
    "name": "ipython",
    "version": 3
   },
   "file_extension": ".py",
   "mimetype": "text/x-python",
   "name": "python",
   "nbconvert_exporter": "python",
   "pygments_lexer": "ipython3",
   "version": "3.6.5"
  }
 },
 "nbformat": 4,
 "nbformat_minor": 2
}
