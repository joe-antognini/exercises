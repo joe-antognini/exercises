{
 "cells": [
  {
   "cell_type": "markdown",
   "metadata": {},
   "source": [
    "# Problem 1.13"
   ]
  },
  {
   "cell_type": "markdown",
   "metadata": {},
   "source": [
    "Let the distance between the center of the needle and the nearest line above the center of the needle be represented as $r$.  Let the angle of the needle from the lines be $\\theta$.  Then the probability distribution is uniform in both $r$ and $\\theta$:\n",
    "\n",
    "$$\n",
    "p(r, \\theta) = p_r(r) p_{\\theta}(\\theta) = \\frac{1}{2 \\pi \\ell}\n",
    "$$"
   ]
  },
  {
   "cell_type": "markdown",
   "metadata": {},
   "source": [
    "The condition that the needle crosses a line is that\n",
    "\n",
    "$$\n",
    "r < \\frac{\\ell}{2} \\cos \\theta\n",
    "$$\n",
    "\n",
    "The probability that this condition is met is then\n",
    "\n",
    "$$\n",
    "\\begin{eqnarray}\n",
    "p(r < \\ell/2 \\cos \\theta) & = & \\frac{1}{\\pi \\ell} \\int_{-frac{\\pi}{2}}^{\\frac{\\pi}{2}} \\, d\\theta \\int_{-\\frac{\\ell}{2} \\cos \\theta}^{\\frac{\\ell}{2} \\cos \\theta} \\, dr \\\\\n",
    "& = & \\frac{1}{\\pi \\ell} \\int_{-\\frac{\\pi}{2}}^{\\frac{\\pi}{2}} \\, d\\theta \\, \\ell \\cos \\theta \\\\\n",
    "& = & \\frac{\\sin \\theta}{\\pi} \\bigg\\rvert_{-\\frac{\\pi}{2}}^{\\frac{\\pi}{2}} \\\\\n",
    "& = & \\frac{2}{\\pi}\n",
    "\\end{eqnarray}\n",
    "$$"
   ]
  }
 ],
 "metadata": {
  "kernelspec": {
   "display_name": "Python 3",
   "language": "python",
   "name": "python3"
  },
  "language_info": {
   "codemirror_mode": {
    "name": "ipython",
    "version": 3
   },
   "file_extension": ".py",
   "mimetype": "text/x-python",
   "name": "python",
   "nbconvert_exporter": "python",
   "pygments_lexer": "ipython3",
   "version": "3.7.4"
  }
 },
 "nbformat": 4,
 "nbformat_minor": 2
}
