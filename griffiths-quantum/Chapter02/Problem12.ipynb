{
 "cells": [
  {
   "cell_type": "markdown",
   "metadata": {},
   "source": [
    "# Problem 2.12\n",
    "\n",
    "$$\n",
    "\\begin{eqnarray}\n",
    "\\langle x \\rangle & = & \\int \\psi_n^* \\hat{x} \\psi_n \\, dx \\\\\n",
    "& = & \\sqrt{\\frac{\\hbar}{2m\\omega}} \\int \\psi_n^* (a_+ + a_-) \\psi_n \\, dx \\\\\n",
    "& \\propto & \\int \\psi_n^* \\psi_{n+1} + \\psi_n^* \\psi_{n-1} \\, dx \\\\\n",
    "& = & 0\n",
    "\\end{eqnarray}\n",
    "$$\n",
    "\n",
    "$$\n",
    "\\begin{eqnarray}\n",
    "\\langle x^2 \\rangle & = & \\frac{\\hbar}{2m\\omega} \\int \\psi_n^* (a_+ + a_-)^2 \\psi_n \\, dx \\\\\n",
    "& = & \\frac{\\hbar}{2m\\omega} \\int \\psi_n^* a_+ a_- \\psi_n + \\psi_n^* a_- a_+ \\psi_n \\, dx \\\\\n",
    "& = & \\frac{\\hbar}{2m\\omega} \\int n \\psi_n^* \\psi_n + (n + 1)\\psi_n^* \\psi_n \\, dx \\\\\n",
    "& = & \\frac{(2n + 1)\\hbar}{2m\\omega} \\\\\n",
    "& = & \\frac{\\hbar}{m\\omega} \\left( n + \\frac{1}{2} \\right)\n",
    "\\end{eqnarray}\n",
    "$$\n",
    "\n",
    "$$\n",
    "\\begin{eqnarray}\n",
    "\\langle p \\rangle & = & i \\sqrt{\\frac{\\hbar m\\omega}{2}} \\int \\psi_n^* (a_+ - a_-) \\psi_n \\, dx \\\\\n",
    "& = & 0\n",
    "\\end{eqnarray}\n",
    "$$\n",
    "\n",
    "$$\n",
    "\\begin{eqnarray}\n",
    "\\langle p^2 \\rangle & = & -\\frac{1}{2} \\hbar m\\omega \\int \\psi_n^* (a_+ - a_-)^2 \\psi_n \\, dx \\\\\n",
    "& = & \\frac{1}{2} \\hbar m \\omega \\int \\psi_n^* (a_+ a_- + a_- a_+) \\psi_n \\, dx \\\\\n",
    "& = & \\frac{2n + 1}{2} \\hbar m\\omega \\\\\n",
    "& = & \\hbar m \\omega \\left( n + \\frac{1}{2} \\right)\n",
    "\\end{eqnarray}\n",
    "$$\n",
    "\n",
    "$$\n",
    "\\begin{eqnarray}\n",
    "\\langle T \\rangle & = & \\biggl< \\frac{p^2}{2m} \\biggr> \\\\\n",
    "& = & \\frac{1}{2} \\hbar \\omega \\left( n + \\frac{1}{2} \\right)\n",
    "\\end{eqnarray}\n",
    "$$\n",
    "\n",
    "$$\n",
    "\\sigma_x = \\sqrt{\\frac{\\hbar}{m\\omega}\\left(n + \\frac{1}{2} \\right)}\n",
    "$$\n",
    "\n",
    "$$\n",
    "\\sigma_p = \\sqrt{\\hbar m \\omega \\left( n + \\frac{1}{2} \\right)}\n",
    "$$\n",
    "\n",
    "$$\n",
    "\\implies \\sigma_x \\sigma_p = \\hbar \\left( n + \\frac{1}{2} \\right)\n",
    "$$"
   ]
  }
 ],
 "metadata": {
  "kernelspec": {
   "display_name": "Python 3",
   "language": "python",
   "name": "python3"
  },
  "language_info": {
   "codemirror_mode": {
    "name": "ipython",
    "version": 3
   },
   "file_extension": ".py",
   "mimetype": "text/x-python",
   "name": "python",
   "nbconvert_exporter": "python",
   "pygments_lexer": "ipython3",
   "version": "3.8.10"
  }
 },
 "nbformat": 4,
 "nbformat_minor": 4
}
