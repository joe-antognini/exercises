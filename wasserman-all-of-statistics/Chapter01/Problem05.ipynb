{
 "cells": [
  {
   "cell_type": "markdown",
   "metadata": {},
   "source": [
    "# Problem 1.5\n",
    "\n",
    "The sample space is a union of an infinite number of subsets, each with a unique number of elements $k$, where $k \\in \\{2, 3, \\ldots\\}$ or $k \\in \\{k \\in \\mathbb{N}^+ : k \\geq 2 \\}$.  The subset with $k$ elements consists of $k - 1$ elements, each of which has a $T$ at the end and for which the $i^{\\textrm{th}}$ element has a $T$ in the $i^{\\textrm{th}}$ spot.  So, in all the sample space looks like:\n",
    "\n",
    "$$\n",
    "\\{TT, THT, HTT, THHT, HTHT, HHTT, THHHT, HTHHT, HHTHT, \\ldots \\}\n",
    "$$\n",
    "\n",
    "The probability of seeing a particular sequence of $k$ flips is $1 / 2^k$.  There are $k-1$ sequences of length $k$ that satisfy the requirement that there be exactly two tails, so the probability is\n",
    "\n",
    "$$\n",
    "p = \\frac{k - 1}{2^k}.\n",
    "$$"
   ]
  }
 ],
 "metadata": {
  "kernelspec": {
   "display_name": "Python 3",
   "language": "python",
   "name": "python3"
  },
  "language_info": {
   "codemirror_mode": {
    "name": "ipython",
    "version": 3
   },
   "file_extension": ".py",
   "mimetype": "text/x-python",
   "name": "python",
   "nbconvert_exporter": "python",
   "pygments_lexer": "ipython3",
   "version": "3.8.10"
  }
 },
 "nbformat": 4,
 "nbformat_minor": 4
}
