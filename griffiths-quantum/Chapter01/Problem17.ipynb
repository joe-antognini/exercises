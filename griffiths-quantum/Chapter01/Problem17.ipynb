{
 "cells": [
  {
   "cell_type": "markdown",
   "metadata": {},
   "source": [
    "# Problem 1.17\n",
    "\n",
    "## Part a.\n",
    "\n",
    "$$\n",
    "A^2 \\int_{-a}^a (a^2 - x^2)^2 \\, dx = 1\n",
    "$$\n",
    "\n",
    "$$\n",
    "\\implies A = \\frac{1}{4} \\sqrt{\\frac{15}{a^5}}\n",
    "$$"
   ]
  },
  {
   "cell_type": "markdown",
   "metadata": {},
   "source": [
    "## Part b.\n",
    "\n",
    "$$\n",
    "\\begin{eqnarray}\n",
    "\\langle x \\rangle & = & \\frac{15}{16 a^5} \\int_{-a}^a x (a^2 - x^2)^2 \\, dx \\\\\n",
    "& = & 0\n",
    "\\end{eqnarray}\n",
    "$$"
   ]
  },
  {
   "cell_type": "markdown",
   "metadata": {},
   "source": [
    "## Part c.\n",
    "\n",
    "$$\n",
    "\\begin{eqnarray}\n",
    "\\langle p \\rangle & = & \\frac{15}{16 a^5} \\int_{-a}^a (a^2 - x^2) \\frac{i}{\\hbar} \\frac{\\partial}{\\partial x} \\left( a^2 - x^2\\right) \\, dx \\\\\n",
    "& = & \\frac{15 i}{16 a^5 \\hbar} \\int_{-a}^a -2x (a^2 - x^2) \\, dx \\\\\n",
    "& = & 0\n",
    "\\end{eqnarray}\n",
    "$$"
   ]
  },
  {
   "cell_type": "markdown",
   "metadata": {},
   "source": [
    "## Part d.\n",
    "\n",
    "$$\n",
    "\\begin{eqnarray}\n",
    "\\langle x^2 \\rangle & = & \\frac{15}{16 a^5} \\int_{-a}^a x^2 (a^2 - x^2)^2 \\, dx \\\\\n",
    "& = & \\frac{15}{105} a^2\n",
    "\\end{eqnarray}\n",
    "$$"
   ]
  },
  {
   "cell_type": "markdown",
   "metadata": {},
   "source": [
    "$$\n",
    "\\begin{eqnarray}\n",
    "\\langle x^2 \\rangle & = & \\frac{15}{16 a^5} \\int_{-a}^a x^2 (a^2 - x^2)^2 \\, dx \\\\\n",
    "& = & \\frac{15}{16 a^5} \\int_{-a}^a a^4 x^2 - 2 a^2 x^4 + x^6 \\, dx \\\\\n",
    "& = & \\frac{15}{16 a^5} \\left[ \\frac{a^4 x^3}{3} - \\frac{2 a^2 x^5}{5} + \\frac{x^7}{7} \\right]_{-a}^a \\\\\n",
    "& = & \\frac{15}{8 a^5} \\left( \\frac{a^7}{3} - \\frac{2a^7}{5} + \\frac{a^7}{7} \\right) \\\\\n",
    "& = & \\frac{15a^2}{8} \\left( \\frac{35 - 42 + 15}{105} \\right) \\\\\n",
    "& = & \\frac{a^2}{7}\n",
    "\\end{eqnarray}\n",
    "$$"
   ]
  },
  {
   "cell_type": "markdown",
   "metadata": {},
   "source": [
    "## Part e.\n",
    "\n",
    "$$\n",
    "\\begin{eqnarray}\n",
    "\\langle p^2 \\rangle & = & \\frac{15 \\hbar^2}{16 a^5} \\int_{-a}^a 2(a^2 - x^2) \\, dx \\\\\n",
    "& = & \\frac{30 \\hbar^2}{16 a^5} \\int_{-a}^a (a^2 - x^2) \\, dx \\\\\n",
    "& = & \\frac{5 \\hbar^2}{2 a^2}\n",
    "\\end{eqnarray}\n",
    "$$"
   ]
  },
  {
   "cell_type": "markdown",
   "metadata": {},
   "source": [
    "## Part f.\n",
    "\n",
    "$$\n",
    "\\sigma_x = \\frac{a}{\\sqrt{7}}\n",
    "$$"
   ]
  },
  {
   "cell_type": "markdown",
   "metadata": {},
   "source": [
    "## Part g.\n",
    "\n",
    "$$\n",
    "\\sigma_p = \\sqrt{\\frac{5}{2}} \\frac{\\hbar}{a}\n",
    "$$"
   ]
  },
  {
   "cell_type": "markdown",
   "metadata": {},
   "source": [
    "## Part h.\n",
    "\n",
    "$$\n",
    "\\begin{eqnarray}\n",
    "\\sigma_x \\sigma_p & = & \\left( \\frac{a}{\\sqrt{7}} \\right) \\left( \\sqrt{\\frac{5}{2}} \\frac{\\hbar}{a} \\right) \\\\\n",
    "& = & \\sqrt{\\frac{5}{14}} \\hbar \\\\\n",
    "& > & \\frac{\\hbar}{2}\n",
    "\\end{eqnarray}\n",
    "$$"
   ]
  }
 ],
 "metadata": {
  "kernelspec": {
   "display_name": "Python 3",
   "language": "python",
   "name": "python3"
  },
  "language_info": {
   "codemirror_mode": {
    "name": "ipython",
    "version": 3
   },
   "file_extension": ".py",
   "mimetype": "text/x-python",
   "name": "python",
   "nbconvert_exporter": "python",
   "pygments_lexer": "ipython3",
   "version": "3.7.4"
  }
 },
 "nbformat": 4,
 "nbformat_minor": 2
}
