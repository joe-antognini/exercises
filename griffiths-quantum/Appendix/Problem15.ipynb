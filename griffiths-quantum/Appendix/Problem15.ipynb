{
 "cells": [
  {
   "cell_type": "code",
   "execution_count": 1,
   "metadata": {},
   "outputs": [],
   "source": [
    "import numpy as np"
   ]
  },
  {
   "cell_type": "markdown",
   "metadata": {},
   "source": [
    "## Problem A.15\n",
    "\n",
    "$$\n",
    "\\textbf{T}_x = \\left( \\begin{matrix}\n",
    "1 & 0 & 0 \\\\\n",
    "0 & \\cos \\theta & -\\sin \\theta \\\\\n",
    "0 & \\sin \\theta & \\cos \\theta \\\\\n",
    "\\end{matrix} \\right)\n",
    "$$\n",
    "\n",
    "$$\n",
    "\\textbf{T}_y = \\left( \\begin{matrix}\n",
    "-\\cos \\theta & 0 & \\sin \\theta \\\\\n",
    "0 & 1 & 0 \\\\\n",
    "-\\sin \\theta & 0 & \\cos \\theta \\\\\n",
    "\\end{matrix} \\right)\n",
    "$$\n",
    "\n",
    "$$\n",
    "\\textbf{S} = \\left( \\begin{matrix}\n",
    "0 & -1 & 0 \\\\\n",
    "1 & 0 & 0 \\\\\n",
    "0 & 0 & 1 \\\\\n",
    "\\end{matrix} \\right)\n",
    "$$\n",
    "\n",
    "$$\n",
    "\\textbf{S} \\textbf{T}_x \\textbf{S}^{-1} = \\left( \\begin{matrix}\n",
    "0 & -1 & 0 \\\\\n",
    "1 & 0 & 0 \\\\\n",
    "0 & 0 & 1 \\\\\n",
    "\\end{matrix} \\right) \\left( \\begin{matrix}\n",
    "1 & 0 & 0 \\\\\n",
    "0 & \\cos \\theta & -\\sin \\theta \\\\\n",
    "0 & \\sin \\theta & \\cos \\theta \\\\\n",
    "\\end{matrix} \\right) \\left( \\begin{matrix}\n",
    "0 & 1 & 0 \\\\\n",
    "-1 & 0 & 0 \\\\\n",
    "0 & 0 & 1 \\\\\n",
    "\\end{matrix} \\right)\n",
    "$$\n",
    "\n",
    "$$\n",
    "\\implies \\textbf{S} \\textbf{T}_x \\textbf{S}^{-1} = \\left( \\begin{matrix}\n",
    "0 & -\\cos \\theta & \\sin \\theta \\\\\n",
    "1 & 0 & 0 \\\\\n",
    "0 & \\sin \\theta & \\cos \\theta \\\\\n",
    "\\end{matrix} \\right) \\left( \\begin{matrix}\n",
    "0 & 1 & 0 \\\\\n",
    "-1 & 0 & 0 \\\\\n",
    "0 & 0 & 1 \\\\\n",
    "\\end{matrix} \\right)\n",
    "$$\n",
    "\n",
    "$$\n",
    "\\implies \\textbf{S} \\textbf{T}_x \\textbf{S}^{-1} = \\left( \\begin{matrix}\n",
    "\\cos \\theta & 0 & \\sin \\theta \\\\\n",
    "0 & 1 & 0 \\\\\n",
    "-\\sin \\theta & 0 & \\cos \\theta \\\\\n",
    "\\end{matrix} \\right)\n",
    "$$\n",
    "\n",
    "This transformation is therefore equivalent to reflecting about the $x$-axis and then rotating by $-\\theta$ about the $y$-axis.\n",
    "\n",
    "Now for $\\textbf{T}_y$:\n",
    "\n",
    "$$\n",
    "\\textbf{S} \\textbf{T}_y \\textbf{S}^{-1} = \\left( \\begin{matrix}\n",
    "0 & -1 & 0 \\\\\n",
    "1 & 0 & 0 \\\\\n",
    "0 & 0 & 1 \\\\\n",
    "\\end{matrix} \\right) \\left( \\begin{matrix}\n",
    "-\\cos \\theta & 0 & \\sin \\theta \\\\\n",
    "0 & 1 & 0 \\\\\n",
    "-\\sin \\theta & 0 & \\cos \\theta \\\\\n",
    "\\end{matrix} \\right) \\left( \\begin{matrix}\n",
    "0 & 1 & 0 \\\\\n",
    "-1 & 0 & 0 \\\\\n",
    "0 & 0 & 1 \\\\\n",
    "\\end{matrix} \\right)\n",
    "$$\n",
    "\n",
    "$$\n",
    "\\implies \\textbf{S} \\textbf{T}_y \\textbf{S}^{-1} = \\left( \\begin{matrix}\n",
    "0 & -1 & 0 \\\\\n",
    "-\\cos \\theta & 0 & \\sin \\theta \\\\\n",
    "-\\sin \\theta & 0 & \\cos \\theta \\\\\n",
    "\\end{matrix} \\right) \\left( \\begin{matrix}\n",
    "0 & 1 & 0 \\\\\n",
    "-1 & 0 & 0 \\\\\n",
    "0 & 0 & 1 \\\\\n",
    "\\end{matrix} \\right)\n",
    "$$\n",
    "\n",
    "$$\n",
    "\\implies \\textbf{S} \\textbf{T}_y \\textbf{S}^{-1} = \\left( \\begin{matrix}\n",
    "1 & 0 & 0 \\\\\n",
    "0 & -\\cos \\theta & \\sin \\theta \\\\\n",
    "0 & -\\sin \\theta & \\cos \\theta \\\\\n",
    "\\end{matrix} \\right)\n",
    "$$\n",
    "\n",
    "This transformation is therefore equivalent to reflecting about the $y$-axis and rotating by $-\\theta$ about the $x$-axis."
   ]
  },
  {
   "cell_type": "code",
   "execution_count": 2,
   "metadata": {},
   "outputs": [],
   "source": [
    "S = np.array([\n",
    "    [0, -1, 0],\n",
    "    [1, 0, 0],\n",
    "    [0, 0, 1]\n",
    "])\n",
    "\n",
    "theta = 0.123\n",
    "\n",
    "Tx = np.array([\n",
    "    [1, 0, 0],\n",
    "    [0, np.cos(theta), -np.sin(theta)],\n",
    "    [0, np.sin(theta), np.cos(theta)],\n",
    "])\n",
    "\n",
    "Ty = np.array([\n",
    "    [-np.cos(theta), 0, np.sin(theta)],\n",
    "    [0, 1, 0],\n",
    "    [-np.sin(theta), 0, np.cos(theta)],\n",
    "])"
   ]
  },
  {
   "cell_type": "code",
   "execution_count": 3,
   "metadata": {},
   "outputs": [
    {
     "data": {
      "text/plain": [
       "array([[ 0.        , -0.99244503,  0.12269009],\n",
       "       [ 1.        ,  0.        ,  0.        ],\n",
       "       [ 0.        ,  0.12269009,  0.99244503]])"
      ]
     },
     "execution_count": 3,
     "metadata": {},
     "output_type": "execute_result"
    }
   ],
   "source": [
    "S @ Tx"
   ]
  },
  {
   "cell_type": "code",
   "execution_count": 4,
   "metadata": {},
   "outputs": [
    {
     "data": {
      "text/plain": [
       "array([[ 0.99244503,  0.        ,  0.12269009],\n",
       "       [ 0.        ,  1.        ,  0.        ],\n",
       "       [-0.12269009,  0.        ,  0.99244503]])"
      ]
     },
     "execution_count": 4,
     "metadata": {},
     "output_type": "execute_result"
    }
   ],
   "source": [
    "S @ Tx @ np.linalg.inv(S)"
   ]
  },
  {
   "cell_type": "code",
   "execution_count": 5,
   "metadata": {},
   "outputs": [
    {
     "data": {
      "text/plain": [
       "array([[ 0.        , -1.        ,  0.        ],\n",
       "       [-0.99244503,  0.        ,  0.12269009],\n",
       "       [-0.12269009,  0.        ,  0.99244503]])"
      ]
     },
     "execution_count": 5,
     "metadata": {},
     "output_type": "execute_result"
    }
   ],
   "source": [
    "S @ Ty"
   ]
  },
  {
   "cell_type": "code",
   "execution_count": 6,
   "metadata": {},
   "outputs": [
    {
     "data": {
      "text/plain": [
       "array([[ 1.        ,  0.        ,  0.        ],\n",
       "       [ 0.        , -0.99244503,  0.12269009],\n",
       "       [ 0.        , -0.12269009,  0.99244503]])"
      ]
     },
     "execution_count": 6,
     "metadata": {},
     "output_type": "execute_result"
    }
   ],
   "source": [
    "S @ Ty @ np.linalg.inv(S)"
   ]
  }
 ],
 "metadata": {
  "kernelspec": {
   "display_name": "Python 3",
   "language": "python",
   "name": "python3"
  },
  "language_info": {
   "codemirror_mode": {
    "name": "ipython",
    "version": 3
   },
   "file_extension": ".py",
   "mimetype": "text/x-python",
   "name": "python",
   "nbconvert_exporter": "python",
   "pygments_lexer": "ipython3",
   "version": "3.7.3"
  }
 },
 "nbformat": 4,
 "nbformat_minor": 2
}
