{
 "cells": [
  {
   "cell_type": "code",
   "execution_count": 1,
   "metadata": {},
   "outputs": [],
   "source": [
    "import numpy as np"
   ]
  },
  {
   "cell_type": "markdown",
   "metadata": {},
   "source": [
    "## Problem A.23\n",
    "\n",
    "### Part a.\n",
    "\n",
    "Let us calculate the commutator of $\\textbf{M}$ with its Hermitian conjugate:\n",
    "\n",
    "$$\n",
    "\\textbf{M} \\textbf{M}^{\\dagger} - \\textbf{M}^{\\dagger} \\textbf{M} = \\left( \\begin{matrix}\n",
    "1 & 1 \\\\\n",
    "1 & i\n",
    "\\end{matrix} \\right) \\left( \\begin{matrix}\n",
    "1 & 1 \\\\\n",
    "1 & -i\n",
    "\\end{matrix} \\right) - \\left( \\begin{matrix}\n",
    "1 & 1 \\\\\n",
    "1 & -i\n",
    "\\end{matrix} \\right) \\left( \\begin{matrix}\n",
    "1 & 1 \\\\\n",
    "1 & i\n",
    "\\end{matrix} \\right)\n",
    "$$\n",
    "\n",
    "$$\n",
    "\\textbf{M} \\textbf{M}^{\\dagger} - \\textbf{M}^{\\dagger} \\textbf{M} = \\left( \\begin{matrix}\n",
    "2 & 1 - i \\\\\n",
    "1 + i & 2 \\\\\n",
    "\\end{matrix} \\right) - \\left( \\begin{matrix}\n",
    "2 & 1 + i \\\\\n",
    "1 & 2 \\\\\n",
    "\\end{matrix} \\right)\n",
    "$$\n",
    "\n",
    "$$\n",
    "\\textbf{M} \\textbf{M}^{\\dagger} - \\textbf{M}^{\\dagger} \\textbf{M} = \\left( \\begin{matrix}\n",
    "0 & -2i \\\\\n",
    "2i & 0 \\\\\n",
    "\\end{matrix} \\right)\n",
    "$$\n",
    "\n",
    "So $\\textbf{M}$ is not normal."
   ]
  },
  {
   "cell_type": "markdown",
   "metadata": {},
   "source": [
    "#### Numerical tests"
   ]
  },
  {
   "cell_type": "code",
   "execution_count": 2,
   "metadata": {},
   "outputs": [
    {
     "data": {
      "text/plain": [
       "array([[0.+0.j, 0.-2.j],\n",
       "       [0.+2.j, 0.+0.j]])"
      ]
     },
     "execution_count": 2,
     "metadata": {},
     "output_type": "execute_result"
    }
   ],
   "source": [
    "M = np.array([[1, 1], [1, 1j]])\n",
    "M @ np.matrix.getH(M) - np.matrix.getH(M) @ M"
   ]
  },
  {
   "cell_type": "markdown",
   "metadata": {},
   "source": [
    "### Part b.\n",
    "\n",
    "First we need to find the eigenvalues:\n",
    "\n",
    "$$\n",
    "\\left| \\begin{matrix}\n",
    "1 - \\lambda & 1 \\\\\n",
    "1 & i - \\lambda \\\\\n",
    "\\end{matrix} \\right| = 0\n",
    "$$\n",
    "\n",
    "$$\n",
    "\\begin{eqnarray}\n",
    "\\implies (1 - \\lambda) (i - \\lambda) - 1 & = & 0 \\\\\n",
    "\\implies \\lambda^2 - (1 + i) \\lambda - 1 + i & = & 0 \\\\\n",
    "\\implies \\lambda & = & \\frac{1}{2} \\left( 1 + i \\pm \\sqrt{(1 + i)^2  +4 (1 - i)} \\right) \\\\\n",
    "\\implies \\lambda & = & \\frac{1}{2} \\left( 1 + i \\pm \\sqrt{4 - 2i} \\right)\n",
    "\\end{eqnarray}\n",
    "$$\n",
    "\n",
    "The first eigenvector is then given by the solution to the equation\n",
    "\n",
    "$$\n",
    "\\begin{eqnarray}\n",
    "v_1^{(1)} + v_2^{(1)} & = & \\frac{1}{2} \\left( 1 + i + \\sqrt{4 - 2i} \\right) v_1^{(1)} \\\\\n",
    "\\implies v_2^{(1)} & = & \\frac{1}{2} \\left( -1 + i + \\sqrt{4 - 2i} \\right) v_1^{(1)}\n",
    "\\end{eqnarray}\n",
    "$$\n",
    "\n",
    "The second eigenvector is then\n",
    "\n",
    "$$\n",
    "\\begin{eqnarray}\n",
    "v_1^{(2)} + i v_2^{(2)} & = & \\frac{1}{2} \\left( 1 + i - \\sqrt{4 - 2i} \\right) v_2^{(2)} \\\\\n",
    "\\implies v_1^{(2)} & = & \\frac{1}{2} \\left(1 - i - \\sqrt{4 - 2i} \\right) v_2^{(2)}\n",
    "\\end{eqnarray}\n",
    "$$\n",
    "\n",
    "The inverse of the similarity matrix is then:\n",
    "\n",
    "$$\n",
    "\\textbf{S}^{-1} = \\left( \\begin{matrix}\n",
    "1 & -\\frac{1}{2} \\left(1 - i - \\sqrt{4 - 2i} \\right) \\\\\n",
    "\\frac{1}{2} \\left(1 - i - \\sqrt{4 - 2i} \\right) & 1 \\\\\n",
    "\\end{matrix} \\right)\n",
    "$$\n",
    "\n",
    "The determinant of this matrix is\n",
    "\n",
    "$$\n",
    "\\begin{eqnarray}\n",
    "\\textrm{det}(\\textbf{S}^{-1}) & = & 1 + \\frac{1}{4} \\left( 1 - i - \\sqrt{4 - 2i} \\right)^2 \\\\\n",
    "& = & 1 + \\frac{1}{4} \\left( -2i + 4 - 2i - 2(1 - i) \\sqrt{4 - 2i} \\right) \\\\\n",
    "& = & 1 + 1 - i - \\frac{1}{2} (1 - i) \\sqrt{4 - 2i} \\\\\n",
    "& = & 2 - i - \\frac{1}{2} (1 - i) \\sqrt{4 - 2i} \\\\\n",
    "\\end{eqnarray}\n",
    "$$\n",
    "\n",
    "Since this determinant is non-zero, the matrix $\\textbf{S}$ exists and the matrix $\\textbf{M}$ is diagonalizable."
   ]
  },
  {
   "cell_type": "markdown",
   "metadata": {},
   "source": [
    "#### Numerical tests"
   ]
  },
  {
   "cell_type": "code",
   "execution_count": 3,
   "metadata": {},
   "outputs": [
    {
     "data": {
      "text/plain": [
       "array([ 1.52908551+0.25706586j, -0.52908551+0.74293414j])"
      ]
     },
     "execution_count": 3,
     "metadata": {},
     "output_type": "execute_result"
    }
   ],
   "source": [
    "np.linalg.eigvals(M)"
   ]
  },
  {
   "cell_type": "code",
   "execution_count": 4,
   "metadata": {},
   "outputs": [
    {
     "data": {
      "text/plain": [
       "(0.5290855136357462+0.2570658641216772j)"
      ]
     },
     "execution_count": 4,
     "metadata": {},
     "output_type": "execute_result"
    }
   ],
   "source": [
    "(-1 + 1j + np.sqrt(4 - 2j)) / 2"
   ]
  },
  {
   "cell_type": "code",
   "execution_count": 5,
   "metadata": {},
   "outputs": [
    {
     "data": {
      "text/plain": [
       "(-0.5290855136357462-0.2570658641216772j)"
      ]
     },
     "execution_count": 5,
     "metadata": {},
     "output_type": "execute_result"
    }
   ],
   "source": [
    "(1 - 1j - np.sqrt(4 - 2j)) / 2"
   ]
  },
  {
   "cell_type": "code",
   "execution_count": 6,
   "metadata": {},
   "outputs": [
    {
     "data": {
      "text/plain": [
       "array([[ 1.        +0.j        , -0.52908551-0.25706586j],\n",
       "       [ 0.52908551+0.25706586j,  1.        +0.j        ]])"
      ]
     },
     "execution_count": 6,
     "metadata": {},
     "output_type": "execute_result"
    }
   ],
   "source": [
    "eigvectors = np.linalg.eig(M)[1]\n",
    "eigvectors /= eigvectors[0, 0]\n",
    "eigvectors"
   ]
  },
  {
   "cell_type": "code",
   "execution_count": 7,
   "metadata": {},
   "outputs": [
    {
     "data": {
      "text/plain": [
       "(1.2138486222425766+0.2720196495140689j)"
      ]
     },
     "execution_count": 7,
     "metadata": {},
     "output_type": "execute_result"
    }
   ],
   "source": [
    "np.linalg.det(eigvectors.T)"
   ]
  },
  {
   "cell_type": "code",
   "execution_count": 8,
   "metadata": {},
   "outputs": [
    {
     "data": {
      "text/plain": [
       "(1.2138486222425766+0.272019649514069j)"
      ]
     },
     "execution_count": 8,
     "metadata": {},
     "output_type": "execute_result"
    }
   ],
   "source": [
    "2 - 1j - 1 / 2 * (1 - 1j) * np.sqrt(4 - 2j)"
   ]
  }
 ],
 "metadata": {
  "kernelspec": {
   "display_name": "Python 3",
   "language": "python",
   "name": "python3"
  },
  "language_info": {
   "codemirror_mode": {
    "name": "ipython",
    "version": 3
   },
   "file_extension": ".py",
   "mimetype": "text/x-python",
   "name": "python",
   "nbconvert_exporter": "python",
   "pygments_lexer": "ipython3",
   "version": "3.7.3"
  }
 },
 "nbformat": 4,
 "nbformat_minor": 2
}
