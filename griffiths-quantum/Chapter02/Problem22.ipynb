{
 "cells": [
  {
   "cell_type": "markdown",
   "id": "bc7f8f50",
   "metadata": {},
   "source": [
    "# Problem 2.22\n",
    "\n",
    "## Part a.\n",
    "\n",
    "$$\n",
    "\\begin{eqnarray}\n",
    "A^2 \\int_{-\\infty}^{\\infty} e^{-2ax^2} \\, dx & = & \\frac{A^2}{\\sqrt{2a}} \\int_{-\\infty}^{\\infty} e^{-u^2} \\, du \\\\\n",
    "& = & A^2 \\sqrt{\\frac{\\pi}{2a}} \\\\\n",
    "& = & 1\n",
    "\\end{eqnarray}\n",
    "$$\n",
    "\n",
    "$$\n",
    "\\implies A = \\left( \\frac{2a}{\\pi} \\right)^{\\frac{1}{4}}\n",
    "$$"
   ]
  },
  {
   "cell_type": "markdown",
   "id": "a6a38d87",
   "metadata": {},
   "source": [
    "## Part b.\n",
    "\n",
    "$$\n",
    "\\begin{eqnarray}\n",
    "\\phi(k) & = & \\frac{1}{\\sqrt{2\\pi}} \\int_{-\\infty}^{\\infty} \\left( \\frac{2a}{\\pi} \\right)^{\\frac{1}{4}} e^{-ax^2 - ikx} \\, dx \\\\\n",
    "& = & \\left( \\frac{a}{2\\pi^3}\\right)^{\\frac{1}{4}} \\int_{-\\infty}^{\\infty} e^{-ax^2 -ikx} \\, dx\n",
    "\\end{eqnarray}\n",
    "$$"
   ]
  },
  {
   "cell_type": "markdown",
   "id": "87b02056",
   "metadata": {},
   "source": [
    "Now let\n",
    "\n",
    "$$\n",
    "u \\equiv \\sqrt{a}\\left(x + \\frac{ik}{2a}\\right)\n",
    "$$\n",
    "\n",
    "$$\n",
    "\\implies u^2 = ax^2 + ikx - \\frac{k^2}{4a}\n",
    "$$"
   ]
  },
  {
   "cell_type": "markdown",
   "id": "60b9789d",
   "metadata": {},
   "source": [
    "So,\n",
    "\n",
    "$$\n",
    "\\begin{eqnarray}\n",
    "\\phi(k) & = & \\frac{1}{\\sqrt{a}} \\left( \\frac{a}{2\\pi^3}\\right)^{\\frac{1}{4}} \\int_{-\\infty}^{\\infty} e^{-u^2 - k^2/4a} \\, du \\\\\n",
    "& = & \\left( \\frac{1}{2a\\pi^3} \\right)^{\\frac{1}{4}} e^{-k^2/4a} \\sqrt{\\pi} \\\\\n",
    "& = & \\frac{e^{-k^2/4a}}{(2a\\pi)^{1/4}}\n",
    "\\end{eqnarray}\n",
    "$$"
   ]
  },
  {
   "cell_type": "markdown",
   "id": "38802126",
   "metadata": {},
   "source": [
    "$$\n",
    "\\Psi(x, t) = \\frac{1}{\\sqrt{2\\pi}} \\int_{-\\infty}^{\\infty} \\left( \\frac{1}{2\\pi a} \\right)^{\\frac{1}{4}} e^{-k^2/4a+ikx - \\frac{i\\hbar t}{2m}k^2} \\, dk\n",
    "$$"
   ]
  },
  {
   "cell_type": "markdown",
   "id": "c158be78",
   "metadata": {},
   "source": [
    "$$\n",
    "\\alpha \\equiv \\frac{i\\hbar t}{2m} + \\frac{1}{4a}; \\qquad \\beta \\equiv -ix; \\qquad u \\equiv \\sqrt{\\alpha}\\left(k + \\frac{\\beta}{2\\alpha} \\right) \\implies dk = \\frac{du}{\\sqrt{\\alpha}}\n",
    "$$"
   ]
  },
  {
   "cell_type": "markdown",
   "id": "1f9ee3b4",
   "metadata": {},
   "source": [
    "$$\n",
    "\\implies u^2 = \\alpha k^2 + \\beta k + \\frac{\\beta^2}{4\\alpha}\n",
    "$$\n",
    "\n",
    "$$\n",
    "\\begin{eqnarray}\n",
    "\\implies \\Psi(x, t) & = & \\left( \\frac{1}{8\\pi^3 a}\\right)^{\\frac{1}{4}} \\int_{-\\infty}^{\\infty} e^{-u^2 + \\beta^2 / 4\\alpha} \\, \\frac{du}{\\sqrt{\\alpha}} \\\\\n",
    "& = & \\frac{e^{\\beta^2 / 4\\alpha}}{(8\\pi^3 a \\alpha^2)^{1/4}} \\int_{-\\infty}^{\\infty} e^{-u^2} \\, du \\\\\n",
    "& = & \\frac{e^{\\beta^2/4\\alpha}}{(8\\pi a \\alpha^2)^{1/4}} \\\\\n",
    "& = & \\frac{\\exp \\left( -\\frac{x^2}{1/a + 2i \\hbar t/m} \\right)}{(8\\pi a)^{1/4} \\sqrt{\\frac{i\\hbar t}{2m} + \\frac{1}{4a}}} \\\\\n",
    "& = & \\left( \\frac{2a}{\\pi} \\right)^{\\frac{1}{4}} \\frac{\\exp \\left(-\\frac{ax^2}{1 + 2ia\\hbar t/m}\\right)}{\\sqrt{1 + 2ia \\hbar t/m}}\n",
    "\\end{eqnarray}\n",
    "$$"
   ]
  },
  {
   "cell_type": "markdown",
   "id": "5057e5d7",
   "metadata": {},
   "source": [
    "## Part c.\n",
    "\n",
    "$$\n",
    "\\begin{eqnarray}\n",
    "|\\Psi(x, t)|^2 & = & \\sqrt{\\frac{2a}{\\pi}} \\left[ \\left(1 + \\frac{2ia\\hbar t}{m} \\right)\\left(1 - \\frac{2ia\\hbar t}{m}\\right)\\right]^{\\frac{1}{2}} \\exp \\left(-\\frac{ax^2}{1 + 2ia\\hbar t/m} - \\frac{ax^2}{1 - 2ia\\hbar t/m} \\right)\n",
    " \\\\\n",
    "& = & \\sqrt{\\frac{2a}{\\pi}} \\left[1 + \\left(\\frac{2a\\hbar t}{m}\\right)^2 \\right]^{\\frac{1}{2}} \\exp \\left[ -ax^2 \\left( \\frac{1 - 2ia \\hbar t/m + 1 + 2ia\\hbar t / m}{1 + (2a \\hbar t/m)^2} \\right) \\right] \\\\\n",
    "\\end{eqnarray}\n",
    "$$"
   ]
  },
  {
   "cell_type": "markdown",
   "id": "70e78400",
   "metadata": {},
   "source": [
    "Let\n",
    "\n",
    "$$\n",
    "w \\equiv \\sqrt{\\frac{a}{1 + (2a\\hbar t / m)^2}}\n",
    "$$"
   ]
  },
  {
   "cell_type": "markdown",
   "id": "41e56e10",
   "metadata": {},
   "source": [
    "$$\n",
    "|\\Psi(x, t)|^2 = \\sqrt{\\frac{2}{\\pi}} w e^{-2w^2 x^2}\n",
    "$$"
   ]
  },
  {
   "cell_type": "markdown",
   "id": "84aace14",
   "metadata": {},
   "source": [
    "$$\n",
    "t = 0 \\implies w = \\sqrt{a}\n",
    "$$\n",
    "\n",
    "$$\n",
    "t \\gg \\frac{m}{\\hbar a} \\implies w \\simeq \\frac{m}{\\hbar t \\sqrt{a}}\n",
    "$$"
   ]
  },
  {
   "cell_type": "markdown",
   "id": "4918d272",
   "metadata": {},
   "source": [
    "$$\n",
    "t \\to \\infty \\implies w \\to 0\n",
    "$$\n",
    "\n",
    "So over time the wave function spreads out."
   ]
  },
  {
   "cell_type": "markdown",
   "id": "f0a59fb5",
   "metadata": {},
   "source": [
    "## Part d.\n",
    "\n",
    "$$\n",
    "\\gamma \\equiv \\frac{2\\hbar at}{m}\n",
    "$$\n",
    "\n",
    "$$\n",
    "\\Psi(x, t) = \\sqrt[4]{\\frac{2a}{\\pi}} \\frac{e^{\\frac{-ax^2}{1+i\\gamma}}}{\\sqrt{1 + i\\gamma}}\n",
    "$$"
   ]
  },
  {
   "cell_type": "markdown",
   "id": "ed9d4262",
   "metadata": {},
   "source": [
    "$$\n",
    "\\begin{eqnarray}\n",
    "\\left< x \\right> & = & \\sqrt{\\frac{2a}{\\pi}} \\int_{-\\infty}^{\\infty} \\frac{e^{\\frac{-ax^2}{1+i\\gamma}}}{\\sqrt{1 + i\\gamma}} \\cdot x \\cdot \\frac{e^{\\frac{-ax^2}{1+i\\gamma}}}{\\sqrt{1 + i\\gamma}} \\, dx \\\\\n",
    "& = & \\sqrt{\\frac{2a}{\\pi(1 + \\gamma^2)}} \\int_{-\\infty}^{\\infty} x \\exp \\left(-ax^2 \\left(\\frac{1+i\\gamma + 1 - i\\gamma}{1 + \\gamma^2} \\right) \\right) \\, dx \\\\\n",
    "& = & \\sqrt{\\frac{2a}{\\pi(1 + \\gamma^2)}} \\int_{-\\infty}^{\\infty} x e^{-\\frac{2ax^2}{1+\\gamma^2}} \\, dx \\\\\n",
    "& = & 0\n",
    "\\end{eqnarray}\n",
    "$$"
   ]
  },
  {
   "cell_type": "markdown",
   "id": "7b385b75",
   "metadata": {},
   "source": [
    "$$\n",
    "\\begin{eqnarray}\n",
    "\\left< x^2 \\right> & = & \\sqrt{\\frac{2a}{\\pi(1 + \\gamma^2)}} \\int_{-\\infty}^{\\infty} x^2 e^{-\\frac{2ax^2}{1 + \\gamma^2}} \\, dx \\\\\n",
    "& = & \\sqrt{\\frac{2a}{\\pi(1 + \\gamma^2)}} \\left( \\frac{\\sqrt{\\pi}}{2}\\right) \\left(\\frac{1 + \\gamma^2}{2a} \\right)^{\\frac{3}{2}} \\\\\n",
    "& = & \\frac{1 + \\gamma^2}{4a}\n",
    "\\end{eqnarray}\n",
    "$$"
   ]
  },
  {
   "cell_type": "markdown",
   "id": "70864e0e",
   "metadata": {},
   "source": [
    "$$\n",
    "\\begin{eqnarray}\n",
    "\\left< p \\right> & = & \\sqrt{\\frac{2a}{\\pi(1 + \\gamma^2)}} \\int_{-\\infty}^{\\infty} e^{-\\frac{ax^2}{1 + i\\gamma}} \\frac{\\partial}{\\partial x} \\left[ e^{-\\frac{ax^2}{1 + i\\gamma}} \\right] \\, dx \\\\\n",
    "& = & \\sqrt{\\frac{2a}{\\pi(1 + \\gamma^2)}} \\int_{-\\infty}^{\\infty} e^{-\\frac{ax^2}{1 + i\\gamma}} \\left(-\\frac{2ax}{1 + i\\gamma}\\right) e^{-\\frac{ax^2}{1+i\\gamma}} \\, dx \\\\\n",
    "& = & 0\n",
    "\\end{eqnarray}\n",
    "$$"
   ]
  },
  {
   "cell_type": "markdown",
   "id": "fc56cd67",
   "metadata": {},
   "source": [
    "$$\n",
    "\\begin{eqnarray}\n",
    "\\left< p^2\\right> & = & -\\hbar^2 \\int_{-\\infty}^{\\infty} \\sqrt{\\frac{2a}{\\pi}} \\frac{e^{-\\frac{ax^2}{1-i\\gamma}}}{\\sqrt{1 - i\\gamma}} \\frac{\\partial^2}{\\partial x^2} \\left[ \\frac{e^{-\\frac{ax^2}{1+i\\gamma}}}{\\sqrt{1+i\\gamma}} \\right] \\, dx \\\\\n",
    "& = & -\\frac{\\hbar^2}{\\sqrt{1 + \\gamma^2}} \\sqrt{\\frac{2a}{\\pi}} \\int_{-\\infty}^{\\infty} e^{-\\frac{ax^2}{1-i\\gamma}} \\frac{\\partial}{\\partial x} \\left[-\\frac{2ax}{1+i\\gamma} e^{-\\frac{ax^2}{1+i\\gamma}} \\right] \\, dx \\\\\n",
    "& = & \\frac{2a\\hbar^2}{1+i\\gamma} \\sqrt{\\frac{2a}{\\pi(1 + \\gamma^2)}} \\int_{-\\infty}^{\\infty} e^{-\\frac{ax^2}{1-i\\gamma}} \\left[e^{-\\frac{ax^2}{1+i\\gamma}} - \\frac{2ax^2}{1+i\\gamma}e^{-\\frac{ax^2}{1+i\\gamma}} \\right] \\, dx \\\\\n",
    "& = & \\frac{2a\\hbar^2}{1+i\\gamma} \\sqrt{\\frac{2a}{\\pi(1+\\gamma^2)}} \\int_{-\\infty}^{\\infty} \\exp \\left[ -ax^2 \\left( \\frac{1+i\\gamma + 1 - i\\gamma}{1 + \\gamma^2} \\right) \\right] \\left[1 - \\frac{2ax^2}{1 + i\\gamma} \\right] \\, dx \\\\\n",
    "& = & \\frac{2a\\hbar^2}{1+i\\gamma} \\sqrt{\\frac{2a}{\\pi(1+\\gamma^2)}} \\left[ \\int_{-\\infty}^{\\infty} e^{-\\frac{2ax^2}{1+\\gamma^2}} \\, dx - \\frac{2a}{1 + i \\gamma} \\int_{-\\infty}^{\\infty} x^2 e^{-\\frac{2ax^2}{1 + \\gamma^2}} \\, dx \\right] \\\\\n",
    "& = & \\frac{2a\\hbar^2}{1+i\\gamma} \\sqrt{\\frac{2a}{\\pi(1+\\gamma^2)}} \\left[ \\sqrt{\\pi} \\sqrt{\\frac{1 + \\gamma^2}{2a}} - \\left(\\frac{2a}{1 + i\\gamma}\\right) \\left( \\frac{\\sqrt{\\pi}}{2} \\right) \\left(\\frac{1 + \\gamma^2}{2a}\\right)^{\\frac{3}{2}} \\right] \\\\\n",
    "& = & \\frac{2a\\hbar^2}{1+i\\gamma} \\left[1 - \\left(\\frac{2a}{1+i\\gamma}\\right) \\left(\\frac{1}{2}\\right) \\left(\\frac{1+\\gamma^2}{2a} \\right) \\right] \\\\\n",
    "& = & \\frac{2a\\hbar^2}{1+i\\gamma} \\left[1 - \\frac{(1+\\gamma^2)}{2(1 + i\\gamma)}\\right] \\\\\n",
    "& = & \\frac{2a\\hbar^2(1 -i\\gamma)}{1+\\gamma^2} \\left[1 - \\frac{(1+\\gamma^2)(1 - i\\gamma)}{2(1 + \\gamma^2)} \\right] \\\\\n",
    "& = & \\frac{2a\\hbar^2}{1 + \\gamma^2} \\left[ 1 - i\\gamma - \\frac{1}{2}(1 - 2\\gamma i - \\gamma^2) \\right] \\\\\n",
    "& = & \\frac{2a\\hbar^2}{1 + \\gamma^2} \\left( \\frac{1}{2} + \\frac{1}{2}\\gamma^2 \\right) \\\\\n",
    "& = & a\\hbar^2\n",
    "\\end{eqnarray}\n",
    "$$"
   ]
  },
  {
   "cell_type": "markdown",
   "id": "dca1b8c9",
   "metadata": {},
   "source": [
    "And so,\n",
    "\n",
    "$$\n",
    "\\sigma_x = \\frac{1}{2} \\sqrt{\\frac{1 + \\gamma^2}{a}}\n",
    "$$\n",
    "\n",
    "and\n",
    "\n",
    "$$\n",
    "\\sigma_p = \\hbar \\sqrt{a}\n",
    "$$"
   ]
  },
  {
   "cell_type": "markdown",
   "id": "460624ce",
   "metadata": {},
   "source": [
    "## Part e.\n",
    "\n",
    "$$\n",
    "\\sigma_x \\sigma_p = \\frac{\\hbar}{2} \\sqrt{1 + \\gamma^2}\n",
    "$$\n",
    "\n",
    "Note that $\\gamma \\geq 0$ with $\\gamma = 0$ at $t = 0$.  So the uncertainty principle always holds and the system comes closest to the uncertainty limit at $t = 0$."
   ]
  }
 ],
 "metadata": {
  "kernelspec": {
   "display_name": "Python 3 (ipykernel)",
   "language": "python",
   "name": "python3"
  },
  "language_info": {
   "codemirror_mode": {
    "name": "ipython",
    "version": 3
   },
   "file_extension": ".py",
   "mimetype": "text/x-python",
   "name": "python",
   "nbconvert_exporter": "python",
   "pygments_lexer": "ipython3",
   "version": "3.10.6"
  }
 },
 "nbformat": 4,
 "nbformat_minor": 5
}
