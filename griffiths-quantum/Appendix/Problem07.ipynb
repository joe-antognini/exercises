{
 "cells": [
  {
   "cell_type": "markdown",
   "metadata": {},
   "source": [
    "Invisible Latex commands are in this cell.\n",
    "\n",
    "$$\\newcommand{\\ket}[1]{\\left|{#1}\\right\\rangle}$$\n",
    "$$\\newcommand{\\bra}[1]{\\left\\langle{#1}\\right|}$$\n",
    "$$\\newcommand{\\braket}[2]{\\left\\langle{#1}\\middle|{#2}\\right\\rangle}$$\n",
    "$$\\newcommand{\\norm}[1]{\\left\\lVert#1\\right\\rVert}$$"
   ]
  },
  {
   "cell_type": "markdown",
   "metadata": {},
   "source": [
    "## Problem A.7\n",
    "\n",
    "\\begin{eqnarray}\n",
    "\\norm{\\ket{\\alpha} + \\ket{\\beta}}^2 & = & \\left( \\bra{\\alpha} + \\bra{\\beta} \\right) \\left(\\ket{\\alpha} + \\ket{\\beta}\\right) \\\\\n",
    "& = & \\braket{\\alpha}{\\alpha} + \\braket{\\beta}{\\beta} + \\braket{\\alpha}{\\beta} + \\braket{\\beta}{\\alpha} \\\\\n",
    "& = & \\norm{\\alpha}^2 + \\norm{\\beta}^2 + \\braket{\\alpha}{\\beta} + \\braket{\\alpha}{\\beta}^*\n",
    "\\end{eqnarray}\n",
    "\n",
    "Now note that by the Schwarz inequality $|\\braket{\\alpha}{\\beta}| \\leq \\norm{\\alpha} \\norm{\\beta}$.  This implies that\n",
    "\n",
    "\\begin{eqnarray}\n",
    "\\norm{\\ket{\\alpha} + \\ket{\\beta}}^2 & \\leq & \\norm{\\alpha}^2 + \\norm{\\beta}^2 + 2 \\norm{\\alpha} \\norm{\\beta} \\\\\n",
    "& \\leq & \\left( \\norm{\\alpha} + \\norm{\\beta} \\right)^2\n",
    "\\end{eqnarray}\n",
    "\n",
    "Therefore $\\norm{\\ket{\\alpha} + \\ket{\\beta}} \\leq \\norm{\\alpha} + \\norm{\\beta}$ as required."
   ]
  }
 ],
 "metadata": {
  "kernelspec": {
   "display_name": "Python 3",
   "language": "python",
   "name": "python3"
  },
  "language_info": {
   "codemirror_mode": {
    "name": "ipython",
    "version": 3
   },
   "file_extension": ".py",
   "mimetype": "text/x-python",
   "name": "python",
   "nbconvert_exporter": "python",
   "pygments_lexer": "ipython3",
   "version": "3.7.3"
  }
 },
 "nbformat": 4,
 "nbformat_minor": 2
}
