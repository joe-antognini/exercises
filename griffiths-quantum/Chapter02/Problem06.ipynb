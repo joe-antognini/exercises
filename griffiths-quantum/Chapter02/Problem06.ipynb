{
 "cells": [
  {
   "cell_type": "markdown",
   "metadata": {},
   "source": [
    "# Problem 2.6\n",
    "\n",
    "Let us first normalize the wavefunction.\n",
    "\n",
    "$$\n",
    "A^2 \\int \\psi_1^2 + \\left(e^{i \\phi} + e^{-i \\phi} \\right) \\psi_1 \\psi_2 + \\psi_2^2 \\, dx = 1\n",
    "$$\n",
    "\n",
    "Since $\\psi_1$ and $\\psi_2$ are orthogonal the cross term disappears.  Hence\n",
    "\n",
    "$$\n",
    "A = \\frac{1}{\\sqrt{2}}.\n",
    "$$\n",
    "\n",
    "We now have\n",
    "\n",
    "$$\n",
    "\\Psi(x, t) = \\frac{1}{\\sqrt{2}} \\left[ \\psi_1 e^{-i E_1 t / \\hbar} + \\psi_2 e^{-i(Et/\\hbar + \\phi)} \\right]\n",
    "$$"
   ]
  },
  {
   "cell_type": "markdown",
   "metadata": {},
   "source": [
    "The amplitude is\n",
    "\n",
    "$$\n",
    "\\begin{eqnarray}\n",
    "\\left| \\Psi(x, t) \\right|^2 & = & \\frac{1}{2} \\psi_1^2 + \\frac{1}{2} \\psi_2^2 + \\psi_1 \\psi_2 \\cos \\left[ \\frac{(E_1 - E_2) t}{\\hbar} - \\phi \\right] \\\\\n",
    "& = & \\frac{1}{a} \\left[ \\sin^2 \\left( \\frac{\\pi}{a} x \\right) + \\sin^2 \\left( \\frac{2\\pi}{a} x \\right) \\right] + \\frac{2}{a} \\sin \\left( \\frac{\\pi}{a} x \\right) \\sin \\left( \\frac{2 \\pi}{a} x \\right) \\cos \\left( 3 \\omega t - \\phi \\right)\n",
    "\\end{eqnarray}\n",
    "$$"
   ]
  },
  {
   "cell_type": "markdown",
   "metadata": {},
   "source": [
    "And the expected value of the position is\n",
    "\n",
    "$$\n",
    "\\langle x \\rangle = \\frac{a}{2} - \\frac{8a}{9\\pi^2} \\cos \\left( 3 \\omega t - \\phi \\right).\n",
    "$$"
   ]
  },
  {
   "cell_type": "markdown",
   "metadata": {},
   "source": [
    "So this phase difference between the two modes results in similar behavior in the particle except that now the oscillatory portion of the patricle's position exhibits this phase offset.\n",
    "\n",
    "In the special case that $\\phi = \\pi / 2$ the cosine becomes a sine.  Hence at time zero the particle is now expected to be observed at the midpoint whereas before it was expected to be observed with the maximum displacement from the midpoint.\n",
    "\n",
    "In the case that $\\phi = \\pi$ we have a result that is identical to the original situation, except that now the sign of the oscillatory component is flipped to be positive.  Hence at time zero the particle is now expected to be observed on the *right* hand side rather than the left hand side of the midpoint."
   ]
  }
 ],
 "metadata": {
  "kernelspec": {
   "display_name": "Python 3",
   "language": "python",
   "name": "python3"
  },
  "language_info": {
   "codemirror_mode": {
    "name": "ipython",
    "version": 3
   },
   "file_extension": ".py",
   "mimetype": "text/x-python",
   "name": "python",
   "nbconvert_exporter": "python",
   "pygments_lexer": "ipython3",
   "version": "3.8.5"
  }
 },
 "nbformat": 4,
 "nbformat_minor": 4
}
