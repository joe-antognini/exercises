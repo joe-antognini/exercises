{
 "cells": [
  {
   "cell_type": "markdown",
   "metadata": {},
   "source": [
    "# Appendix"
   ]
  },
  {
   "cell_type": "code",
   "execution_count": 1,
   "metadata": {},
   "outputs": [],
   "source": [
    "import numpy as np"
   ]
  },
  {
   "cell_type": "markdown",
   "metadata": {},
   "source": [
    "Invisible Latex commands are in this cell.\n",
    "\n",
    "$$\\newcommand{\\ket}[1]{\\left|{#1}\\right\\rangle}$$\n",
    "$$\\newcommand{\\bra}[1]{\\left\\langle{#1}\\right|}$$\n",
    "$$\\newcommand{\\braket}[2]{\\left\\langle{#1}\\middle|{#2}\\right\\rangle}$$\n",
    "$$\\newcommand{\\norm}[1]{\\left\\lVert#1\\right\\rVert}$$"
   ]
  },
  {
   "cell_type": "markdown",
   "metadata": {},
   "source": [
    "## Problem A.1"
   ]
  },
  {
   "cell_type": "markdown",
   "metadata": {},
   "source": [
    "### Part a."
   ]
  },
  {
   "cell_type": "markdown",
   "metadata": {},
   "source": [
    "Yes, the subset of all vectors with $a_z = 0$ is a vector space.  Since the the original set is a vector space, the properties of vector addition and multiplication all hold, but we must show that the subspace is closed.  Here, note that the sum of any two vectors in the subspace will have $a_z = 0$ as well since the sum can be done component-wise.  Furthermore, scalar multiplication is closed since we can again perform the operation component-wise and this will maintain $a_z = 0$.  Finally, the null vector is in this subspace since the null vector has $a_z = 0$, and the inverse vectors are in the subspace since the inverses can be found component-wise and $-0 = 0 = a_z$.\n",
    "\n",
    "The dimension of the subspace is 2 since it is spanned by the basis vectors $\\hat{i}$ and $\\hat{j}$."
   ]
  },
  {
   "cell_type": "markdown",
   "metadata": {},
   "source": [
    "### Part b."
   ]
  },
  {
   "cell_type": "markdown",
   "metadata": {},
   "source": [
    "The subspace of all vectors with $a_z = 1$ is not a subspace because it is not closed under vector addition or scalar multiplication.  For example, $2 \\cdot \\hat{k}$ is not in the subspace even though $\\hat{k}$ is.  Furthermore the subspace does not have a null vector since the null vector must have $a_z = 0$."
   ]
  },
  {
   "cell_type": "markdown",
   "metadata": {},
   "source": [
    "### Part c."
   ]
  },
  {
   "cell_type": "markdown",
   "metadata": {},
   "source": [
    "The subset of all vectors whose components are all equal is a vector space.\n",
    "\n",
    "Consider $\\textbf{a} = a \\hat{i} + a \\hat{j} + a \\hat{k}$ and $\\textbf{b} = b \\hat{i} + b \\hat{j} + b \\hat{k}$.  Then $\\textbf{a} + \\textbf{b} = (a + b) \\hat{i} + (a + b) \\hat{j} + (a + b) \\hat{k}$.  All the components are equal, so the vector stays in the subspace.  Similarly, $c \\textbf{a} = ca \\hat{i} + ca \\hat{j} + ca \\hat{k}$.  All the components are equal so the vector stays in the subspace.  Thus the subspace is closed under addition and multiplication.  Finally, the null vector exists in this subspace and the inverse vectors all also have the same components and so exist in the subspace."
   ]
  },
  {
   "cell_type": "markdown",
   "metadata": {},
   "source": [
    "## Problem A.2\n",
    "\n",
    "### Part a.\n",
    "\n",
    "This set is a vector space.  The sum of two polynomials of degree $N$ is also a polynomial of degree $N$ or less, so the set is closed under addition.  Multiplying a polynomial of degree $N$ by a scalar is also a polynomial of degree $N$ or less, so the set is closed under multiplication.  Furthermore, $0$ exists as a null vector, and the inverse vectors also exist by taking the coefficients of the polynomials and multilpying them by $-1$.\n",
    "\n",
    "### Part b.\n",
    "\n",
    "The set of even polynomials is also a vector space since the sum of two even polynomials is also an even polynomial (nor does multiplication by a scalar change the evenness of the polynomial).  Furthermore this subset contains the null vector and every inverse vector.\n",
    "\n",
    "### Part c.\n",
    "\n",
    "The subset of polynomials with the leading coefficient equal to 1 is not a vector space since the sum of two such polynomials has a leading coefficient equal to 2 and is therefore not in the space.\n",
    "\n",
    "### Part d.\n",
    "\n",
    "The subset of polynomials with the value 0 at $x = 1$ is a vector space.  We can write such polynomials as\n",
    "\n",
    "$$\n",
    "a = (x - 1) \\sum_{i = 0}^{N - 1} a_i x^i\n",
    "$$\n",
    "\n",
    "Now, the sum of two such polynomials is\n",
    "\n",
    "\\begin{eqnarray}\n",
    "\\textbf{a} + \\textbf{b} & = & (x - 1) \\sum_{i = 0}^{N - 1} a_i x^i + (x - 1) \\sum_{i = 0}^{N - 1} b_i x^i \\\\\n",
    " & = & (x - 1) \\sum_{i = 0}^{N - 1} (a_i + b_i) x^i\n",
    "\\end{eqnarray}\n",
    "\n",
    "and so is closed under vector addition.  Similarly, multiplying such a polynomial by a scalar results in\n",
    "\n",
    "\\begin{eqnarray}\n",
    "c \\textbf{a} & = & c (x - 1) \\sum_{i = 0}^{N - 1} a_i x^i \\\\\n",
    "& = & (x - 1) \\sum_{i = 0}^{N - 1} (c a_i) x^i\n",
    "\\end{eqnarray}\n",
    "\n",
    "and so is closed under scalar multiplication.  The space contains the null vector since setting the $a_i = 0$ results in a polynomial which is 0 at $x = 1$.  Finally, the space contains all inverse vectors by setting the coefficients equal to $-a_i$.\n",
    "\n",
    "### Part e.\n",
    "\n",
    "The subset of polynomials with the value 1 at $x = 0$ is not a vector space since it does not contain the null vector nor is it closed under addition since the sum of two such polynomials will have the value 2 at $x = 0$."
   ]
  },
  {
   "cell_type": "markdown",
   "metadata": {},
   "source": [
    "## Problem A.3\n",
    "\n",
    "We may write the vector $\\ket{\\alpha}$ as\n",
    "\n",
    "$$\n",
    "\\ket{\\alpha} = \\sum_i a_i \\ket{e_i}\n",
    "$$\n",
    "\n",
    "Now, suppose there were some other component representation in this basis.  Then we could write \n",
    "\n",
    "$$\n",
    "\\ket{\\alpha} = \\sum_i b_i \\ket{e_i}\n",
    "$$\n",
    "\n",
    "with $a_i \\neq b_i$ for some $i$.  But now consider the difference between these two representations:\n",
    "\n",
    "$$\n",
    "\\sum_i a_i \\ket{e_i} - \\sum_i b_i \\ket{e_i} = \\sum_i (a_i - b_i) \\ket{e_i} \\neq 0\n",
    "$$\n",
    "\n",
    "since by assumption there is some component that is different.  But we must have that this difference equals zero since $\\ket{\\alpha} - \\ket{\\alpha} = 0$ and the null vector has zeros in all components."
   ]
  },
  {
   "cell_type": "markdown",
   "metadata": {},
   "source": [
    "## Problem A.4\n",
    "\n",
    "$$\n",
    "\\norm{e_1} = 2\n",
    "$$\n",
    "\n",
    "$$\n",
    "\\ket{e_1^{\\prime}} = \\frac{1}{2}(1 + i) \\hat{i} + \\frac{1}{2} \\hat{j} + \\frac{i}{2} \\hat{k}\n",
    "$$\n",
    "\n",
    "$$\n",
    "\\braket{e_1^{\\prime}}{e_2} = \\frac{i}{2} (1 - i) + \\frac{3}{2} - \\frac{i}{2} = \\frac{1}{2}(i + 1 - 3 - i) = 2\n",
    "$$\n",
    "\n",
    "$$\n",
    "\\ket{e_2} - \\braket{e_1^{\\prime}}{e_2} = i \\hat{i} + 3 \\hat{j} + \\hat{k} - 2((1 + i) \\hat{i} + \\hat{j} + i \\hat{k}) \n",
    "= -\\hat{i} + 2 \\hat{j} + (1 - i) \\hat{k}\n",
    "$$\n",
    "\n",
    "$$\n",
    "\\norm{\\ket{e_2} - \\braket{e_1^{\\prime}}{e_2}} = \\sqrt{1 + 4 + 2} = \\sqrt{7}\n",
    "$$\n",
    "\n",
    "$$\n",
    "\\ket{e_2^{\\prime}} = -\\frac{1}{\\sqrt{7}} \\hat{i} + \\frac{2}{\\sqrt{7}} \\hat{j} + \\frac{1 - i}{\\sqrt{7}} \\hat{k}\n",
    "$$\n",
    "\n",
    "$$\n",
    "\\braket{e_1^{\\prime}}{e_3} = 14\n",
    "$$\n",
    "\n",
    "$$\n",
    "\\braket{e_2^{\\prime}}{e_3} = 8 \\sqrt{7}\n",
    "$$\n",
    "\n",
    "$$\n",
    "\\ket{e_3} - \\braket{e_1^{\\prime}}{e_3} - \\braket{e_2^{\\prime}}{e_3} =\n",
    "28 \\hat{j} - 7((1 + i) \\hat{i} + \\hat{j} + i \\hat{k}) - 8(-\\hat{i} + 2\\hat{j} + (1 - i) \\hat{k}) =\n",
    "(1 - 7i) \\hat{i} + 5 \\hat{j} + (-8 + i)\\hat{k}\n",
    "$$\n",
    "\n",
    "$$\n",
    "\\norm{\\ket{e_3} - \\braket{e_1^{\\prime}}{e_3} - \\braket{e_2^{\\prime}}{e_3}} = \\sqrt{140}\n",
    "$$\n",
    "\n",
    "$$\n",
    "\\ket{e_3^{\\prime}} = \\frac{1}{2 \\sqrt{35}} ((1 - 7i) \\hat{i} + 5 \\hat{j} + (-8 + i) \\hat{k})\n",
    "$$"
   ]
  },
  {
   "cell_type": "code",
   "execution_count": 2,
   "metadata": {},
   "outputs": [],
   "source": [
    "e1 = np.array([1 + 1j, 1, 1j])\n",
    "e2 = np.array([1j, 3, 1])\n",
    "e3 = np.array([0, 28, 0])"
   ]
  },
  {
   "cell_type": "code",
   "execution_count": 3,
   "metadata": {},
   "outputs": [
    {
     "data": {
      "text/plain": [
       "array([0.5+0.5j, 0.5+0.j , 0. +0.5j])"
      ]
     },
     "execution_count": 3,
     "metadata": {},
     "output_type": "execute_result"
    }
   ],
   "source": [
    "e1prime = e1 / np.linalg.norm(e1)\n",
    "e1prime"
   ]
  },
  {
   "cell_type": "code",
   "execution_count": 4,
   "metadata": {},
   "outputs": [],
   "source": [
    "e2prime = (e2 - np.vdot(e1prime, e2) * e1prime) / np.linalg.norm(e2 - np.vdot(e1prime, e2) * e1prime)"
   ]
  },
  {
   "cell_type": "code",
   "execution_count": 5,
   "metadata": {},
   "outputs": [
    {
     "data": {
      "text/plain": [
       "True"
      ]
     },
     "execution_count": 5,
     "metadata": {},
     "output_type": "execute_result"
    }
   ],
   "source": [
    "np.allclose(e2prime, np.array([-1 / np.sqrt(7), 2 / np.sqrt(7), (1 - 1j) / np.sqrt(7)]))"
   ]
  },
  {
   "cell_type": "code",
   "execution_count": 6,
   "metadata": {},
   "outputs": [],
   "source": [
    "e3prime = ((e3 - np.vdot(e1prime, e3) * e1prime - np.vdot(e2prime, e3) * e2prime) /\n",
    "    np.linalg.norm(e3 - np.vdot(e1prime, e3) * e1prime - np.vdot(e2prime, e3) * e2prime))"
   ]
  },
  {
   "cell_type": "code",
   "execution_count": 7,
   "metadata": {},
   "outputs": [
    {
     "data": {
      "text/plain": [
       "True"
      ]
     },
     "execution_count": 7,
     "metadata": {},
     "output_type": "execute_result"
    }
   ],
   "source": [
    "np.allclose(e3prime, 1 / (2 * np.sqrt(35)) * np.array([1 - 7j, 5, -8 + 1j]))"
   ]
  },
  {
   "cell_type": "markdown",
   "metadata": {},
   "source": [
    "## Problem A.5\n",
    "\n",
    "Let\n",
    "\n",
    "$$\n",
    "\\ket{\\gamma} \\equiv \\ket{\\beta} - \\frac{\\braket{\\alpha}{\\beta}}{\\braket{\\alpha}{\\alpha}} \\ket{\\alpha}.\n",
    "$$\n",
    "\n",
    "Now consider the norm of $\\gamma$:\n",
    "\n",
    "\\begin{eqnarray}\n",
    "\\braket{\\gamma}{\\gamma} & = & \\left( \\bra{\\beta} - \\frac{\\braket{\\beta}{\\alpha}}{\\braket{\\alpha}{\\alpha}} \\bra{\\alpha} \\right) \\left( \\ket{\\beta} - \\frac{\\braket{\\alpha}{\\beta}}{\\braket{\\alpha}{\\alpha}} \\ket{\\alpha} \\right) \\\\\n",
    "& = & \\braket{\\beta}{\\beta} - \\frac{\\braket{\\alpha}{\\beta}}{\\braket{\\alpha}{\\alpha}} \\braket{\\beta}{\\alpha} - \\frac{\\braket{\\beta}{\\alpha}}{\\braket{\\alpha}{\\alpha}} \\braket{\\alpha}{\\beta} + \\frac{\\braket{\\beta}{\\alpha} \\braket{\\alpha}{\\beta}}{\\braket{\\alpha}{\\alpha}^2} \\braket{\\alpha}{\\alpha} \\\\\n",
    "& = & \\braket{\\beta}{\\beta} + \\frac{\\braket{\\beta}{\\alpha} \\braket{\\alpha}{\\beta}}{\\braket{\\alpha}{\\alpha}}\n",
    "\\end{eqnarray}\n",
    "\n",
    "Now, note that $\\braket{\\gamma}{\\gamma} \\geq 0$, so\n",
    "\n",
    "$$\n",
    "\\braket{\\alpha}{\\alpha} \\braket{\\beta}{\\beta} \\geq \\left| \\braket{\\alpha}{\\beta} \\right|^2\n",
    "$$\n",
    "\n",
    "as required."
   ]
  },
  {
   "cell_type": "markdown",
   "metadata": {},
   "source": [
    "## Problem A.6\n",
    "\n",
    "$$\n",
    "\\braket{\\alpha}{\\beta} = (1 - i)(4 - i) - i(2 - 2i) = 1 - 7i\n",
    "$$\n",
    "\n",
    "$$\n",
    "\\braket{\\beta}{\\alpha} = 1 + 7i\n",
    "$$\n",
    "\n",
    "$$\n",
    "\\braket{\\alpha}{\\alpha} = 4\n",
    "$$\n",
    "\n",
    "$$\n",
    "\\braket{\\beta}{\\beta} = 25\n",
    "$$\n",
    "\n",
    "$$\n",
    "\\cos \\theta = \\sqrt{\\frac{(1 + 7i)(1 - 7i)}{4 \\times 25}} = \\frac{1}{\\sqrt{2}}\n",
    "$$\n",
    "\n",
    "And so $\\theta = \\pi / 4$."
   ]
  },
  {
   "cell_type": "code",
   "execution_count": 8,
   "metadata": {},
   "outputs": [],
   "source": [
    "alpha = np.array([1 + 1j, 1, 1j])\n",
    "beta = np.array([4 - 1j, 0, 2 - 2j])"
   ]
  },
  {
   "cell_type": "code",
   "execution_count": 9,
   "metadata": {},
   "outputs": [
    {
     "data": {
      "text/plain": [
       "True"
      ]
     },
     "execution_count": 9,
     "metadata": {},
     "output_type": "execute_result"
    }
   ],
   "source": [
    "np.allclose(\n",
    "    np.pi / 4, \n",
    "    np.arccos(np.sqrt(np.vdot(alpha, beta) * np.vdot(beta, alpha) /\n",
    "                      (np.linalg.norm(alpha)**2 * np.linalg.norm(beta)**2))),\n",
    ")"
   ]
  },
  {
   "cell_type": "markdown",
   "metadata": {},
   "source": [
    "## Problem A.7\n",
    "\n",
    "\\begin{eqnarray}\n",
    "\\norm{\\ket{\\alpha} + \\ket{\\beta}}^2 & = & \\left( \\bra{\\alpha} + \\bra{\\beta} \\right) \\left(\\ket{\\alpha} + \\ket{\\beta}\\right) \\\\\n",
    "& = & \\braket{\\alpha}{\\alpha} + \\braket{\\beta}{\\beta} + \\braket{\\alpha}{\\beta} + \\braket{\\beta}{\\alpha} \\\\\n",
    "& = & \\norm{\\alpha}^2 + \\norm{\\beta}^2 + \\braket{\\alpha}{\\beta} + \\braket{\\alpha}{\\beta}^*\n",
    "\\end{eqnarray}\n",
    "\n",
    "Now note that by the Schwarz inequality $|\\braket{\\alpha}{\\beta}| \\leq \\norm{\\alpha} \\norm{\\beta}$.  This implies that\n",
    "\n",
    "\\begin{eqnarray}\n",
    "\\norm{\\ket{\\alpha} + \\ket{\\beta}}^2 & \\leq & \\norm{\\alpha}^2 + \\norm{\\beta}^2 + 2 \\norm{\\alpha} \\norm{\\beta} \\\\\n",
    "& \\leq & \\left( \\norm{\\alpha} + \\norm{\\beta} \\right)^2\n",
    "\\end{eqnarray}\n",
    "\n",
    "Therefore $\\norm{\\ket{\\alpha} + \\ket{\\beta}} \\leq \\norm{\\alpha} + \\norm{\\beta}$ as required."
   ]
  },
  {
   "cell_type": "markdown",
   "metadata": {},
   "source": [
    "## Problem A.8"
   ]
  },
  {
   "cell_type": "code",
   "execution_count": 10,
   "metadata": {},
   "outputs": [],
   "source": [
    "A = np.array([[-1, 1, 1j], [2, 0, 3], [2j, -2j, 2]])\n",
    "B = np.array([[2, 0, -1j], [0, 1, 0], [1j, 3, 2]])"
   ]
  },
  {
   "cell_type": "markdown",
   "metadata": {},
   "source": [
    "### Part a.\n",
    "\n",
    "$$\n",
    "\\textbf{A} + \\textbf{B} = \\left(\n",
    "\\begin{matrix}\n",
    "1 & 1 & 0 \\\\\n",
    "2 & 1 & 3 \\\\\n",
    "3i & 3 - 2i & 4 \\\\\n",
    "\\end{matrix} \\right)\n",
    "$$"
   ]
  },
  {
   "cell_type": "code",
   "execution_count": 11,
   "metadata": {},
   "outputs": [
    {
     "data": {
      "text/plain": [
       "array([[1.+0.j, 1.+0.j, 0.+0.j],\n",
       "       [2.+0.j, 1.+0.j, 3.+0.j],\n",
       "       [0.+3.j, 3.-2.j, 4.+0.j]])"
      ]
     },
     "execution_count": 11,
     "metadata": {},
     "output_type": "execute_result"
    }
   ],
   "source": [
    "A + B"
   ]
  },
  {
   "cell_type": "markdown",
   "metadata": {},
   "source": [
    "### Part b.\n",
    "\n",
    "$$\n",
    "\\textbf{A} \\textbf{B} = \\left(\n",
    "\\begin{matrix}\n",
    "-3 & 1 + 3i & 3i \\\\\n",
    "4 + 3i & 9 & 6 - 2i \\\\\n",
    "6i & 6 - 2i & 6 \\\\\n",
    "\\end{matrix} \\right)\n",
    "$$"
   ]
  },
  {
   "cell_type": "code",
   "execution_count": 12,
   "metadata": {},
   "outputs": [
    {
     "data": {
      "text/plain": [
       "array([[-3.+0.j,  1.+3.j,  0.+3.j],\n",
       "       [ 4.+3.j,  9.+0.j,  6.-2.j],\n",
       "       [ 0.+6.j,  6.-2.j,  6.+0.j]])"
      ]
     },
     "execution_count": 12,
     "metadata": {},
     "output_type": "execute_result"
    }
   ],
   "source": [
    "A @ B"
   ]
  },
  {
   "cell_type": "markdown",
   "metadata": {},
   "source": [
    "### Part c.\n",
    "\n",
    "$$\n",
    "\\textbf{B} \\textbf{A} = \\left(\n",
    "\\begin{matrix}\n",
    "0 & 0 & 0 \\\\\n",
    "2 & 0 & 3 \\\\\n",
    "6 + 3i & -3i & 12 \\\\\n",
    "\\end{matrix} \\right)\n",
    "$$\n",
    "\n",
    "This implies that\n",
    "\n",
    "$$\n",
    "\\left[ \\textbf{A}, \\textbf{B} \\right] = \\left(\n",
    "\\begin{matrix}\n",
    "-3 & 1 + 3i & 3i \\\\\n",
    "2 + 3i & 9 & 3 - 2i \\\\\n",
    "-6 + 3i & 6 + i & -6 \\\\\n",
    "\\end{matrix}\n",
    "\\right)\n",
    "$$"
   ]
  },
  {
   "cell_type": "code",
   "execution_count": 13,
   "metadata": {},
   "outputs": [
    {
     "data": {
      "text/plain": [
       "array([[-3.+0.j,  1.+3.j,  0.+3.j],\n",
       "       [ 2.+3.j,  9.+0.j,  3.-2.j],\n",
       "       [-6.+3.j,  6.+1.j, -6.+0.j]])"
      ]
     },
     "execution_count": 13,
     "metadata": {},
     "output_type": "execute_result"
    }
   ],
   "source": [
    "A@B - B@A"
   ]
  },
  {
   "cell_type": "markdown",
   "metadata": {},
   "source": [
    "### Part d.\n",
    "\n",
    "$$\n",
    "\\tilde{\\textbf{A}} = \\left(\n",
    "\\begin{matrix}\n",
    "-1 & 2 & 2i \\\\\n",
    "1 & 0 & -2i \\\\\n",
    "i & 3 & 2 \\\\\n",
    "\\end{matrix} \\right)\n",
    "$$"
   ]
  },
  {
   "cell_type": "code",
   "execution_count": 14,
   "metadata": {},
   "outputs": [
    {
     "data": {
      "text/plain": [
       "array([[-1.+0.j,  2.+0.j,  0.+2.j],\n",
       "       [ 1.+0.j,  0.+0.j, -0.-2.j],\n",
       "       [ 0.+1.j,  3.+0.j,  2.+0.j]])"
      ]
     },
     "execution_count": 14,
     "metadata": {},
     "output_type": "execute_result"
    }
   ],
   "source": [
    "np.transpose(A)"
   ]
  },
  {
   "cell_type": "markdown",
   "metadata": {},
   "source": [
    "### Part e.\n",
    "\n",
    "$$\n",
    "\\textbf{A}^* = \\left(\n",
    "\\begin{matrix}\n",
    "-1 & 1 & -i \\\\\n",
    "2 & 0 & 3 \\\\\n",
    "-2i & 2i & 2 \\\\\n",
    "\\end{matrix} \\right)\n",
    "$$"
   ]
  },
  {
   "cell_type": "code",
   "execution_count": 15,
   "metadata": {},
   "outputs": [
    {
     "data": {
      "text/plain": [
       "array([[-1.-0.j,  1.-0.j,  0.-1.j],\n",
       "       [ 2.-0.j,  0.-0.j,  3.-0.j],\n",
       "       [ 0.-2.j, -0.+2.j,  2.-0.j]])"
      ]
     },
     "execution_count": 15,
     "metadata": {},
     "output_type": "execute_result"
    }
   ],
   "source": [
    "np.conj(A)"
   ]
  },
  {
   "cell_type": "markdown",
   "metadata": {},
   "source": [
    "### Part f.\n",
    "\n",
    "$$\n",
    "\\textbf{A}^\\dagger = \\left(\n",
    "\\begin{matrix}\n",
    "-1 & 2 & -2i \\\\\n",
    "1 & 0 & 2i \\\\\n",
    "-i & 3 & 2 \\\\\n",
    "\\end{matrix} \\right)\n",
    "$$"
   ]
  },
  {
   "cell_type": "code",
   "execution_count": 16,
   "metadata": {},
   "outputs": [
    {
     "data": {
      "text/plain": [
       "array([[-1.-0.j,  2.-0.j,  0.-2.j],\n",
       "       [ 1.-0.j,  0.-0.j, -0.+2.j],\n",
       "       [ 0.-1.j,  3.-0.j,  2.-0.j]])"
      ]
     },
     "execution_count": 16,
     "metadata": {},
     "output_type": "execute_result"
    }
   ],
   "source": [
    "np.matrix.getH(A)"
   ]
  },
  {
   "cell_type": "markdown",
   "metadata": {},
   "source": [
    "### Part g.\n",
    "\n",
    "$$\n",
    "\\textrm{det}(\\textbf{B}) = \n",
    "2 \\left| \\begin{matrix} 1 & 0 \\\\ 3 & 2 \\end{matrix} \\right|\n",
    "-i \\left| \\begin{matrix} 0 & 1 \\\\ i & 3 \\end{matrix} \\right|\n",
    "= 4 - 1 = 3\n",
    "$$"
   ]
  },
  {
   "cell_type": "code",
   "execution_count": 17,
   "metadata": {},
   "outputs": [
    {
     "data": {
      "text/plain": [
       "(2.9999999999999996+0j)"
      ]
     },
     "execution_count": 17,
     "metadata": {},
     "output_type": "execute_result"
    }
   ],
   "source": [
    "np.linalg.det(B)"
   ]
  },
  {
   "cell_type": "markdown",
   "metadata": {},
   "source": [
    "### Part h.\n",
    "\n",
    "The matrix of cofactors is given by\n",
    "\n",
    "$$\n",
    "\\textbf{C} = \\left( \\begin{matrix}\n",
    "2 & 0 & -i \\\\\n",
    "-3i & 5 & -6 \\\\\n",
    "i & 0 & 2 \\\\\n",
    "\\end{matrix} \\right)\n",
    "$$\n",
    "\n",
    "and so the inverse is\n",
    "\n",
    "$$\n",
    "\\textbf{B}^{-1} = \\frac{1}{3} \\left( \\begin{matrix}\n",
    "2 & -3i & i \\\\\n",
    "0 & 3 & 0 \\\\\n",
    "-i & -6 & 2 \\\\\n",
    "\\end{matrix} \\right)\n",
    "$$\n",
    "\n",
    "We have\n",
    "\n",
    "$$\n",
    "\\textbf{B}^{-1} \\textbf{B} = \\frac{1}{3} \\left( \\begin{matrix}\n",
    "2 & -3i & i \\\\\n",
    "0 & 3 & 0 \\\\\n",
    "-i & -6 & 2 \\\\\n",
    "\\end{matrix} \\right) \\left( \\begin{matrix}\n",
    "2 & 0 & -i \\\\\n",
    "0 & 1 & 0 \\\\\n",
    "i & 3 & 2 \\\\\n",
    "\\end{matrix} \\right)\n",
    "= \\left( \\begin{matrix}\n",
    "1 & 0 & 0 \\\\\n",
    "0 & 1 & 0 \\\\\n",
    "0 & 0 & 1 \\\\\n",
    "\\end{matrix} \\right)\n",
    "$$\n",
    "\n",
    "as required."
   ]
  },
  {
   "cell_type": "code",
   "execution_count": 18,
   "metadata": {},
   "outputs": [
    {
     "data": {
      "text/plain": [
       "array([[ 0.66666667+0.j        ,  0.        -1.j        ,\n",
       "         0.        +0.33333333j],\n",
       "       [ 0.        +0.j        ,  1.        +0.j        ,\n",
       "         0.        +0.j        ],\n",
       "       [ 0.        -0.33333333j, -2.        -0.j        ,\n",
       "         0.66666667+0.j        ]])"
      ]
     },
     "execution_count": 18,
     "metadata": {},
     "output_type": "execute_result"
    }
   ],
   "source": [
    "np.linalg.inv(B)"
   ]
  },
  {
   "cell_type": "markdown",
   "metadata": {},
   "source": [
    "$\\textbf{A}$ does not have an inverse because its determinant is zero:\n",
    "\n",
    "$$\n",
    "\\textrm{det}(\\textbf{A}) = - \\left| \\begin{matrix} 0 & 3 \\\\ -2i & 1 \\end{matrix} \\right|\n",
    "- \\left| \\begin{matrix} 2 & 3 \\\\ 2i & 2 \\end{matrix} \\right|\n",
    "+ i \\left| \\begin{matrix} 2 & 0 \\\\ 2i & -2i \\\\ \\end{matrix} \\right|\n",
    "= -6i -4 + 6i + 4 = 0\n",
    "$$"
   ]
  },
  {
   "cell_type": "code",
   "execution_count": 19,
   "metadata": {},
   "outputs": [
    {
     "data": {
      "text/plain": [
       "0j"
      ]
     },
     "execution_count": 19,
     "metadata": {},
     "output_type": "execute_result"
    }
   ],
   "source": [
    "np.linalg.det(A)"
   ]
  },
  {
   "cell_type": "markdown",
   "metadata": {},
   "source": [
    "## Problem A.9\n",
    "\n",
    "### Part a.\n",
    "\n",
    "$$\n",
    "\\textbf{A} \\textbf{a} = \\left( \\begin{matrix}\n",
    "-1 & 1 & i \\\\\n",
    "2 & 0 & 3 \\\\\n",
    "2i & -2i & 2 \\\\\n",
    "\\end{matrix} \\right) \\left( \\begin{matrix}\n",
    "i \\\\\n",
    "2i \\\\\n",
    "2 \\\\\n",
    "\\end{matrix} \\right) = \\left( \\begin{matrix}\n",
    "3i \\\\\n",
    "6 + 2 i \\\\\n",
    "6 \\\\\n",
    "\\end{matrix} \\right)\n",
    "$$"
   ]
  },
  {
   "cell_type": "code",
   "execution_count": 20,
   "metadata": {},
   "outputs": [],
   "source": [
    "a = np.array([[1j], [2j], [2]])\n",
    "b = np.array([[2], [1 - 1j], [0]])"
   ]
  },
  {
   "cell_type": "code",
   "execution_count": 21,
   "metadata": {},
   "outputs": [
    {
     "data": {
      "text/plain": [
       "array([[0.+3.j],\n",
       "       [6.+2.j],\n",
       "       [6.+0.j]])"
      ]
     },
     "execution_count": 21,
     "metadata": {},
     "output_type": "execute_result"
    }
   ],
   "source": [
    "np.matmul(A, a)"
   ]
  },
  {
   "cell_type": "markdown",
   "metadata": {},
   "source": [
    "### Part b.\n",
    "\n",
    "$$\n",
    "\\textbf{a}^{\\dagger} \\textbf{b} = \\left( \\begin{matrix}\n",
    "-i & -2i & 2 \\\\ \\end{matrix} \\right) \\left( \\begin{matrix}\n",
    "2 \\\\\n",
    "1 - i \\\\\n",
    "0 \\\\\n",
    "\\end{matrix} \\right) = -2i - 2i - 2 = -2 - 4i\n",
    "$$"
   ]
  },
  {
   "cell_type": "code",
   "execution_count": 22,
   "metadata": {},
   "outputs": [
    {
     "data": {
      "text/plain": [
       "array([[-2.-4.j]])"
      ]
     },
     "execution_count": 22,
     "metadata": {},
     "output_type": "execute_result"
    }
   ],
   "source": [
    "np.dot(np.conj(a.T), b)"
   ]
  },
  {
   "cell_type": "markdown",
   "metadata": {},
   "source": [
    "### Part c.\n",
    "\n",
    "$$\n",
    "\\tilde{\\textbf{a}} \\textbf{B} \\textbf{b} = \\left( \\begin{matrix}\n",
    "i & 2i & 2 \\end{matrix} \\right) \\left( \\begin{matrix}\n",
    "2 & 0 & -i \\\\\n",
    "0 & 1 & 0 \\\\\n",
    "i & 3 & 2 \\\\\n",
    "\\end{matrix} \\right) \\left( \\begin{matrix}\n",
    "2 \\\\\n",
    "1 - i \\\\\n",
    "0 \\\\\n",
    "\\end{matrix} \\right) = \\left( \\begin{matrix}\n",
    "i & 2i & 2 \\end{matrix} \\right) \\left( \\begin{matrix}\n",
    "4 \\\\\n",
    "1 - i \\\\\n",
    "3 - i \\\\\n",
    "\\end{matrix} \\right) = 8 + 4i\n",
    "$$"
   ]
  },
  {
   "cell_type": "code",
   "execution_count": 23,
   "metadata": {},
   "outputs": [
    {
     "data": {
      "text/plain": [
       "array([[8.+4.j]])"
      ]
     },
     "execution_count": 23,
     "metadata": {},
     "output_type": "execute_result"
    }
   ],
   "source": [
    "np.matmul(a.T, np.matmul(B, b))"
   ]
  },
  {
   "cell_type": "markdown",
   "metadata": {},
   "source": [
    "### Part d.\n",
    "\n",
    "$$\n",
    "\\textbf{a} \\textbf{b}^{\\dagger} = \\left( \\begin{matrix}\n",
    "i \\\\\n",
    "2i \\\\\n",
    "2 \\\\\n",
    "\\end{matrix} \\right) \\left( \\begin{matrix}\n",
    "2 & 1 + i & 0 \\\\\n",
    "\\end{matrix} \\right) = \\left( \\begin{matrix}\n",
    "2i & -1 + i & 0 \\\\\n",
    "4i & -2 + 2i & 0 \\\\\n",
    "4 & 2 + 2i & 0 \\\\\n",
    "\\end{matrix} \\right)\n",
    "$$"
   ]
  },
  {
   "cell_type": "code",
   "execution_count": 24,
   "metadata": {},
   "outputs": [
    {
     "data": {
      "text/plain": [
       "array([[ 0.+2.j, -1.+1.j,  0.+0.j],\n",
       "       [ 0.+4.j, -2.+2.j,  0.+0.j],\n",
       "       [ 4.+0.j,  2.+2.j,  0.+0.j]])"
      ]
     },
     "execution_count": 24,
     "metadata": {},
     "output_type": "execute_result"
    }
   ],
   "source": [
    "np.matmul(a, np.conj(b.T))"
   ]
  },
  {
   "cell_type": "markdown",
   "metadata": {},
   "source": [
    "## Problem A.10\n",
    "\n",
    "### Part a.\n",
    "\n",
    "Consider an arbitrary element of the matrix $\\textbf{T}$, $T_{ij}$.  In general we will have that $T_{ij} \\neq T_{ji}$.  Now suppose it is possible to write $\\textbf{T}$ as a sum of a symmetrix matrix $\\textbf{S}$ and an antisymmetric matrix $\\textbf{A}$.  Then we have\n",
    "\n",
    "$$\n",
    "\\begin{eqnarray}\n",
    "T_{ij} & = & S_{ij} + A_{ij}, \\\\\n",
    "T_{ji} & = & S_{ij} - A_{ij}\n",
    "\\end{eqnarray}\n",
    "$$\n",
    "\n",
    "Solving for $S_{ij}$ and $A_{ij}$ we find\n",
    "\n",
    "$$\n",
    "\\begin{eqnarray}\n",
    "S_{ij} = \\frac{1}{2} \\left( T_{ij} + T_{ji} \\right) \\\\\n",
    "A_{ij} = \\frac{1}{2} \\left( T_{ij} - T_{ji} \\right) \\\\\n",
    "\\end{eqnarray}\n",
    "$$\n",
    "By inspection it can be verified that $\\textbf{S}$ is indeed symmetric and $\\textbf{A}$ is antisymmetric.\n",
    "\n",
    "Thus by construction it is possible to write any matrix as a sum of a symmetric and antisymmetric matrix."
   ]
  },
  {
   "cell_type": "markdown",
   "metadata": {},
   "source": [
    "### Part b.\n",
    "\n",
    "An arbitrary term of the matrix $\\textbf{T}$ can be written\n",
    "\n",
    "$$\n",
    "T_{ij} = a_{ij} + b_{ij} i.\n",
    "$$\n",
    "\n",
    "Construct a matrix $\\textbf{R}$ whose components are given by $R_{ij} = a_{ij}$ and a matrix $\\textbf{M}$ whose components are given by $M_{ij} = b_{ij} i$.  Then $\\textbf{R}$ is a real matrix and $\\textbf{M}$ is an imaginary matrix and any matrix can be written as the sum of the two."
   ]
  },
  {
   "cell_type": "markdown",
   "metadata": {},
   "source": [
    "### Part c.\n",
    "\n",
    "Consider an arbitrary element of the matrix $\\textbf{T}$, $T_{ij}$.  Suppose that it is possible to write $\\textbf{T}$ as the sum of a Hermitian matrix $\\textbf{H}$ and a skew-Hermitian matrix $\\textbf{K}$.  Then we have\n",
    "\n",
    "$$\n",
    "\\begin{eqnarray}\n",
    "T_{ij} & = & H_{ij} + K_{ij} \\\\\n",
    "T_{ji}^* & = & H_{ij} - K_{ij} \\\\\n",
    "\\end{eqnarray}\n",
    "$$\n",
    "\n",
    "Solving for $H_{ij}$ and $K_{ij}$ we find\n",
    "\n",
    "$$\n",
    "\\begin{eqnarray}\n",
    "H_{ij} & = & \\frac{1}{2} \\left( T_{ij} + T_{ji}^* \\right) \\\\\n",
    "K_{ij} & = & \\frac{1}{2} \\left( T_{ij} - T_{ji}^* \\right)\n",
    "\\end{eqnarray}\n",
    "$$\n",
    "By inspection it can be verified that $\\textbf{H}$ is indeed Hermitian and $\\textbf{K}$ is skew-Hermitian.\n",
    "\n",
    "Thus by construction it is possible to write any matrix as a sum of a Hermitian and skew-Hermitian matrix."
   ]
  },
  {
   "cell_type": "markdown",
   "metadata": {},
   "source": [
    "## Problem A.11\n",
    "\n",
    "Let us prove that $\\widetilde{\\textbf{S} \\textbf{T}} = \\tilde{\\textbf{T}} \\tilde{\\textbf{S}}$.  Consider an arbitrary element of $\\widetilde{\\textbf{S} \\textbf{T}}$:\n",
    "\n",
    "$$\n",
    "\\begin{eqnarray}\n",
    "\\left(\\widetilde{\\textbf{S} \\textbf{T}}\\right)_{ij} & = & \\sum_k S_{jk} T_{ki} \\\\\n",
    "& = & \\sum_k T_{ki} S_{jk} \\\\\n",
    "& = & \\sum_k \\tilde{T}_{ik} \\tilde{S}_{kj} \\\\\n",
    "& = & \\left( \\tilde{\\textbf{T}} \\tilde{\\textbf{S}} \\right)_{ij}\n",
    "\\end{eqnarray}\n",
    "$$"
   ]
  },
  {
   "cell_type": "markdown",
   "metadata": {},
   "source": [
    "Now let us prove that $(\\textbf{ST})^{\\dagger} = \\textbf{T}^{\\dagger} \\textbf{S}^{\\dagger}$.  Consider an arbitrary element:\n",
    "\n",
    "$$\n",
    "\\begin{eqnarray}\n",
    "\\left( \\textbf{ST} \\right)^{\\dagger}_{ij} & = & \\left( \\sum_k S_{ik} T_{kj} \\right)^{\\dagger} \\\\\n",
    "& = & \\sum_k S_{jk}^* T_{ki}^* \\\\\n",
    "& = & \\sum_k T_{ki}^* S_{jk}^* \\\\\n",
    "& = & \\left( \\textbf{T}^{\\dagger} \\textbf{S}^{\\dagger} \\right)_{ij}\n",
    "\\end{eqnarray}\n",
    "$$"
   ]
  },
  {
   "cell_type": "markdown",
   "metadata": {},
   "source": [
    "Let us prove that $(\\textbf{S} \\textbf{T})^{-1} = \\textbf{T}^{-1} \\textbf{S}^{-1}$.  Using the associative rule, we have\n",
    "\n",
    "$$\n",
    "\\left( \\left( \\textbf{ST} \\right)^{-1} \\textbf{S} \\right) \\textbf{T} = \\textbf{I}\n",
    "$$\n",
    "\n",
    "Since the inverse matrix is unique, this means that\n",
    "\n",
    "$$\n",
    "\\textbf{T}^{-1} = \\left( \\textbf{ST} \\right)^{-1} \\textbf{S}\n",
    "$$\n",
    "\n",
    "Now multiplying on the right by $\\textbf{S}^{-1}$ we have\n",
    "\n",
    "$$\n",
    "(\\textbf{S} \\textbf{T})^{-1} = \\textbf{T}^{-1} \\textbf{S}^{-1}\n",
    "$$\n",
    "as required."
   ]
  },
  {
   "cell_type": "markdown",
   "metadata": {},
   "source": [
    "Consider the transpose conjugate of the  product of two unitary matrices, $\\textbf{U}$ and $\\textbf{V}$:\n",
    "\n",
    "$$\n",
    "\\begin{eqnarray}\n",
    "\\left( \\textbf{UV} \\right)^{\\dagger} & = & \\textbf{V}^{\\dagger} \\textbf{U}^{\\dagger} \\\\\n",
    "& = & \\textbf{V}^{-1} \\textbf{U}^{-1} \\\\\n",
    "& = & \\left( \\textbf{UV} \\right)^{-1}\n",
    "\\end{eqnarray}\n",
    "$$\n",
    "So the product of two unitary matrices is unitary as well."
   ]
  },
  {
   "cell_type": "markdown",
   "metadata": {},
   "source": [
    "Now consider the transpose conjugate of the product of two Hermitian matrices, $\\textbf{S}$ and $\\textbf{T}$:\n",
    "\n",
    "$$\n",
    "\\begin{eqnarray}\n",
    "\\left( \\textbf{ST} \\right)^{\\dagger} & = & \\textbf{T}^{\\dagger} \\textbf{S}^{\\dagger} \\\\\n",
    "& = & \\textbf{TS}\n",
    "\\end{eqnarray}\n",
    "$$\n",
    "Thus the product of two Hermitian matrices will remain Hermitian if the two matrices commute."
   ]
  },
  {
   "cell_type": "markdown",
   "metadata": {},
   "source": [
    "The sum of two unitary matrices is not necessarily unitary.  Consider the sum of the identity matrix with itself.  The matrix $2 \\textbf{I}$ is not unitary."
   ]
  },
  {
   "cell_type": "markdown",
   "metadata": {},
   "source": [
    "The sum of two Hermitian matrices will be Hermitian because \n",
    "\n",
    "$$\n",
    "\\begin{eqnarray}\n",
    "\\left( \\textbf{S} + \\textbf{T} \\right)^{\\dagger} & = & \\textbf{S}^{\\dagger} + \\textbf{T}^{\\dagger} \\\\\n",
    "& = & \\textbf{S} + \\textbf{T}\n",
    "\\end{eqnarray}\n",
    "$$"
   ]
  },
  {
   "cell_type": "markdown",
   "metadata": {},
   "source": [
    "## Problem A.12\n",
    "\n",
    "Because $\\textbf{U} \\textbf{U}^{\\dagger} = \\textbf{U} \\textbf{U}^{-1}$, we have\n",
    "\n",
    "$$\n",
    "\\begin{eqnarray}\n",
    "\\left( \\textbf{U} \\textbf{U}^{\\dagger} \\right)_{ij} & = & \\delta_{ij} \\\\\n",
    "\\left( \\sum_k u_{ik} u_{jk}^* \\right) & = & \\delta_{ij} \\\\\n",
    "\\braket{u_j}{u_i} & = & \\delta_{ij}\n",
    "\\end{eqnarray}\n",
    "$$\n",
    "\n",
    "and so the rows are orthonormal.  The columns can be shown to be orthonormal by noting that the transpose of a unitary matrix is also unitary."
   ]
  },
  {
   "cell_type": "markdown",
   "metadata": {},
   "source": [
    "## Problem A.13\n",
    "\n",
    "A matrix is Hermitian iff $\\textbf{H} = \\textbf{H}^{\\dagger}$.  This means that $\\textrm{det}(\\textbf{H}) = \\textrm{det}(\\textbf{H}^{\\dagger})$.  But because the determinant of a matrix is invariant under the transpose operation, this means that $\\textrm{det}(\\textbf{H}) = \\textrm{det}(\\textbf{H}^*)$.  Now, since a determinant is simply a polynomial in the matrix entries, this means that the determinant of the complex conjugate matrix is equal to the complex conjugate of the determinant of the original matrix.  This means that $\\textrm{det}(\\textbf{H}) = \\left( \\textrm{det}(\\textbf{H})\\right)^*$.  This then implies that $\\textrm{det}(\\textbf{H})$ must be real.\n",
    "\n",
    "For a unitary matrix we have\n",
    "$$\n",
    "\\begin{eqnarray}\n",
    "\\textrm{det}(\\textbf{U}) & = & \\textrm{det}(\\tilde{\\textbf{U}}) \\\\\n",
    "& = & \\textrm{det}(\\textbf{U}^{\\dagger})^* \\\\\n",
    "& = & \\textrm{det}(\\textbf{U}^{-1})^* \\\\\n",
    "& = & \\frac{1}{\\textrm{det}(\\textbf{U})^*}\n",
    "\\end{eqnarray}\n",
    "$$\n",
    "This implies that $|\\textrm{det}(\\textbf{U})|^2 = 1$ and so $\\textrm{det}(\\textbf{U})$ has unit modulus.\n",
    "\n",
    "For an orthogonal matrix we have\n",
    "$$\n",
    "\\begin{eqnarray}\n",
    "\\textrm{det}(\\textbf{O}) & = & \\textrm{det}(\\tilde{\\textbf{O}}) \\\\\n",
    "& = & \\textrm{det}(\\textbf{O}^{-1}) \\\\\n",
    "& = & \\frac{1}{\\textrm{det}(\\textbf{O})}\n",
    "\\end{eqnarray}\n",
    "$$\n",
    "This implies that $\\textrm{det}(\\textbf{O})^2 = 1$.  Now, since all the entries of an orthogonal matrix are real, this means that the determinant must be real as well.  The only real numbers satisfying this equation is then $\\textrm{det}(\\textbf{O}) = \\pm 1$."
   ]
  },
  {
   "cell_type": "markdown",
   "metadata": {},
   "source": [
    "## Problem A.14\n",
    "\n",
    "### Part a.\n",
    "\n",
    "$$\n",
    "\\textbf{R}_1 = \\left( \\begin{matrix}\n",
    "\\cos \\theta & -\\sin \\theta & 0 \\\\\n",
    "\\sin \\theta & \\cos \\theta & 0 \\\\\n",
    "0 & 0 & 1\n",
    "\\end{matrix} \\right)\n",
    "$$\n",
    "\n",
    "### Part b.\n",
    "\n",
    "This matrix will rotate the $x$-axis into the $y$-axis, the $y$-axis into the $z$-axis, and the $z$-axis into the $x$-axis:\n",
    "$$\n",
    "\\textbf{R}_2 = \\left( \\begin{matrix}\n",
    "0 & 0 & 1 \\\\\n",
    "1 & 0 & 0 \\\\\n",
    "0 & 1 & 0 \\\\\n",
    "\\end{matrix} \\right)\n",
    "$$\n",
    "\n",
    "### Part c.\n",
    "\n",
    "$$\n",
    "\\textbf{R}_3 = \\left( \\begin{matrix}\n",
    "1 & 0 & 0 \\\\\n",
    "0 & 1 & 0 \\\\\n",
    "0 & 0 & -1 \\\\\n",
    "\\end{matrix} \\right)\n",
    "$$\n",
    "\n",
    "### Part d.\n",
    "\n",
    "$$\n",
    "\\textbf{R}_1 \\tilde{\\textbf{R}}_1 = \\left( \\begin{matrix}\n",
    "\\cos \\theta & -\\sin \\theta & 0 \\\\\n",
    "\\sin \\theta & \\cos \\theta & 0 \\\\\n",
    "0 & 0 & 1\n",
    "\\end{matrix} \\right) \\left( \\begin{matrix}\n",
    "\\cos \\theta & \\sin \\theta & 0 \\\\\n",
    "-\\sin \\theta & \\cos \\theta & 0 \\\\\n",
    "0 & 0 & 1\n",
    "\\end{matrix} \\right) = \\left( \\begin{matrix}\n",
    "\\cos^2 \\theta + \\sin^2 \\theta & \\cos \\theta \\sin \\theta - \\cos \\theta \\sin \\theta & 0 \\\\\n",
    "\\cos \\theta \\sin \\theta - \\cos \\theta \\sin \\theta & \\cos^2 \\theta + \\sin^2 \\theta & 0 \\\\\n",
    "0 & 0 & 1 \\\\\n",
    "\\end{matrix} \\right) = \\left( \\begin{matrix}\n",
    "1 & 0 & 0 \\\\\n",
    "0 & 1 & 0 \\\\\n",
    "0 & 0 & 1 \\\\\n",
    "\\end{matrix} \\right)\n",
    "$$\n",
    "\n",
    "$$\n",
    "\\textrm{det}(\\textbf{R}_1) = \\cos^2 \\theta + \\sin^2 \\theta = 1\n",
    "$$\n",
    "\n",
    "$$\n",
    "\\textbf{R}_2 \\tilde{\\textbf{R}}_2 = \\left( \\begin{matrix}\n",
    "0 & 0 & 1 \\\\\n",
    "1 & 0 & 0 \\\\\n",
    "0 & 1 & 0 \\\\\n",
    "\\end{matrix} \\right) \\left( \\begin{matrix}\n",
    "0 & 1 & 0 \\\\\n",
    "0 & 0 & 1 \\\\\n",
    "1 & 0 & 0 \\\\\n",
    "\\end{matrix} \\right) = \\left( \\begin{matrix}\n",
    "1 & 0 & 0 \\\\\n",
    "0 & 1 & 0 \\\\\n",
    "0 & 0 & 1 \\\\\n",
    "\\end{matrix} \\right)\n",
    "$$\n",
    "\n",
    "$$\n",
    "\\textrm{det}(\\textbf{R}_2) = 1\n",
    "$$\n",
    "\n",
    "$$\n",
    "\\textbf{R}_3 \\tilde{\\textbf{R}}_3 = \\left( \\begin{matrix}\n",
    "1 & 0 & 0 \\\\\n",
    "0 & 1 & 0 \\\\\n",
    "0 & 0 & -1 \\\\\n",
    "\\end{matrix} \\right) \\left( \\begin{matrix}\n",
    "1 & 0 & 0 \\\\\n",
    "0 & 1 & 0 \\\\\n",
    "0 & 0 & -1 \\\\\n",
    "\\end{matrix} \\right) = \\left( \\begin{matrix}\n",
    "1 & 0 & 0 \\\\\n",
    "0 & 1 & 0 \\\\\n",
    "0 & 0 & 1 \\\\\n",
    "\\end{matrix} \\right)\n",
    "$$\n",
    "\n",
    "$$\n",
    "\\textrm{det}(\\textbf{R}_3) = -1\n",
    "$$"
   ]
  },
  {
   "cell_type": "code",
   "execution_count": 25,
   "metadata": {},
   "outputs": [],
   "source": [
    "def R1(theta):\n",
    "    return np.array([\n",
    "        [np.cos(theta), -np.sin(theta), 0],\n",
    "        [np.sin(theta), np.cos(theta), 0],\n",
    "        [0, 0, 1]\n",
    "    ])"
   ]
  },
  {
   "cell_type": "code",
   "execution_count": 26,
   "metadata": {},
   "outputs": [
    {
     "data": {
      "text/plain": [
       "array([[ 1.00000000e+00, -1.95932709e-18,  0.00000000e+00],\n",
       "       [-1.95932709e-18,  1.00000000e+00,  0.00000000e+00],\n",
       "       [ 0.00000000e+00,  0.00000000e+00,  1.00000000e+00]])"
      ]
     },
     "execution_count": 26,
     "metadata": {},
     "output_type": "execute_result"
    }
   ],
   "source": [
    "R1(.123) @ R1(.123).T"
   ]
  },
  {
   "cell_type": "code",
   "execution_count": 27,
   "metadata": {},
   "outputs": [
    {
     "data": {
      "text/plain": [
       "1.0"
      ]
     },
     "execution_count": 27,
     "metadata": {},
     "output_type": "execute_result"
    }
   ],
   "source": [
    "np.linalg.det(R1(.123))"
   ]
  },
  {
   "cell_type": "code",
   "execution_count": 28,
   "metadata": {},
   "outputs": [],
   "source": [
    "R2 = np.array([\n",
    "    [0, 0, 1],\n",
    "    [1, 0, 0],\n",
    "    [0, 1, 0]\n",
    "])"
   ]
  },
  {
   "cell_type": "code",
   "execution_count": 29,
   "metadata": {},
   "outputs": [
    {
     "data": {
      "text/plain": [
       "array([[1, 0, 0],\n",
       "       [0, 1, 0],\n",
       "       [0, 0, 1]])"
      ]
     },
     "execution_count": 29,
     "metadata": {},
     "output_type": "execute_result"
    }
   ],
   "source": [
    "R2 @ R2.T"
   ]
  },
  {
   "cell_type": "code",
   "execution_count": 30,
   "metadata": {},
   "outputs": [
    {
     "data": {
      "text/plain": [
       "1.0"
      ]
     },
     "execution_count": 30,
     "metadata": {},
     "output_type": "execute_result"
    }
   ],
   "source": [
    "np.linalg.det(R2)"
   ]
  },
  {
   "cell_type": "code",
   "execution_count": 31,
   "metadata": {},
   "outputs": [],
   "source": [
    "R3 = np.array([\n",
    "    [1, 0, 0],\n",
    "    [0, 1, 0],\n",
    "    [0, 0, -1]\n",
    "])"
   ]
  },
  {
   "cell_type": "code",
   "execution_count": 32,
   "metadata": {},
   "outputs": [
    {
     "data": {
      "text/plain": [
       "array([[1, 0, 0],\n",
       "       [0, 1, 0],\n",
       "       [0, 0, 1]])"
      ]
     },
     "execution_count": 32,
     "metadata": {},
     "output_type": "execute_result"
    }
   ],
   "source": [
    "R3 @ R3.T"
   ]
  },
  {
   "cell_type": "code",
   "execution_count": 33,
   "metadata": {},
   "outputs": [
    {
     "data": {
      "text/plain": [
       "-1.0"
      ]
     },
     "execution_count": 33,
     "metadata": {},
     "output_type": "execute_result"
    }
   ],
   "source": [
    "np.linalg.det(R3)"
   ]
  },
  {
   "cell_type": "markdown",
   "metadata": {},
   "source": [
    "## Problem A.15"
   ]
  },
  {
   "cell_type": "markdown",
   "metadata": {},
   "source": [
    "$$\n",
    "\\textbf{T}_x = \\left( \\begin{matrix}\n",
    "1 & 0 & 0 \\\\\n",
    "0 & \\cos \\theta & -\\sin \\theta \\\\\n",
    "0 & \\sin \\theta & \\cos \\theta \\\\\n",
    "\\end{matrix} \\right)\n",
    "$$\n",
    "\n",
    "$$\n",
    "\\textbf{T}_y = \\left( \\begin{matrix}\n",
    "-\\cos \\theta & 0 & \\sin \\theta \\\\\n",
    "0 & 1 & 0 \\\\\n",
    "-\\sin \\theta & 0 & \\cos \\theta \\\\\n",
    "\\end{matrix} \\right)\n",
    "$$"
   ]
  },
  {
   "cell_type": "markdown",
   "metadata": {},
   "source": [
    "$$\n",
    "\\textbf{S} = \\left( \\begin{matrix}\n",
    "0 & -1 & 0 \\\\\n",
    "1 & 0 & 0 \\\\\n",
    "0 & 0 & 1 \\\\\n",
    "\\end{matrix} \\right)\n",
    "$$"
   ]
  },
  {
   "cell_type": "markdown",
   "metadata": {},
   "source": [
    "$$\n",
    "\\textbf{S} \\textbf{T}_x \\textbf{S}^{-1} = \\left( \\begin{matrix}\n",
    "0 & -1 & 0 \\\\\n",
    "1 & 0 & 0 \\\\\n",
    "0 & 0 & 1 \\\\\n",
    "\\end{matrix} \\right) \\left( \\begin{matrix}\n",
    "1 & 0 & 0 \\\\\n",
    "0 & \\cos \\theta & -\\sin \\theta \\\\\n",
    "0 & \\sin \\theta & \\cos \\theta \\\\\n",
    "\\end{matrix} \\right) \\left( \\begin{matrix}\n",
    "0 & 1 & 0 \\\\\n",
    "-1 & 0 & 0 \\\\\n",
    "0 & 0 & 1 \\\\\n",
    "\\end{matrix} \\right)\n",
    "$$\n",
    "\n",
    "$$\n",
    "\\implies \\textbf{S} \\textbf{T}_x \\textbf{S}^{-1} = \\left( \\begin{matrix}\n",
    "0 & -\\cos \\theta & \\sin \\theta \\\\\n",
    "1 & 0 & 0 \\\\\n",
    "0 & \\sin \\theta & \\cos \\theta \\\\\n",
    "\\end{matrix} \\right) \\left( \\begin{matrix}\n",
    "0 & 1 & 0 \\\\\n",
    "-1 & 0 & 0 \\\\\n",
    "0 & 0 & 1 \\\\\n",
    "\\end{matrix} \\right)\n",
    "$$\n",
    "\n",
    "$$\n",
    "\\implies \\textbf{S} \\textbf{T}_x \\textbf{S}^{-1} = \\left( \\begin{matrix}\n",
    "\\cos \\theta & 0 & \\sin \\theta \\\\\n",
    "0 & 1 & 0 \\\\\n",
    "-\\sin \\theta & 0 & \\cos \\theta \\\\\n",
    "\\end{matrix} \\right)\n",
    "$$\n",
    "\n",
    "This transformation is therefore equivalent to reflecting about the $x$-axis and then rotating by $-\\theta$ about the $y$-axis."
   ]
  },
  {
   "cell_type": "markdown",
   "metadata": {},
   "source": [
    "Now for $\\textbf{T}_y$:\n",
    "\n",
    "$$\n",
    "\\textbf{S} \\textbf{T}_y \\textbf{S}^{-1} = \\left( \\begin{matrix}\n",
    "0 & -1 & 0 \\\\\n",
    "1 & 0 & 0 \\\\\n",
    "0 & 0 & 1 \\\\\n",
    "\\end{matrix} \\right) \\left( \\begin{matrix}\n",
    "-\\cos \\theta & 0 & \\sin \\theta \\\\\n",
    "0 & 1 & 0 \\\\\n",
    "-\\sin \\theta & 0 & \\cos \\theta \\\\\n",
    "\\end{matrix} \\right) \\left( \\begin{matrix}\n",
    "0 & 1 & 0 \\\\\n",
    "-1 & 0 & 0 \\\\\n",
    "0 & 0 & 1 \\\\\n",
    "\\end{matrix} \\right)\n",
    "$$\n",
    "\n",
    "$$\n",
    "\\implies \\textbf{S} \\textbf{T}_y \\textbf{S}^{-1} = \\left( \\begin{matrix}\n",
    "0 & -1 & 0 \\\\\n",
    "-\\cos \\theta & 0 & \\sin \\theta \\\\\n",
    "-\\sin \\theta & 0 & \\cos \\theta \\\\\n",
    "\\end{matrix} \\right) \\left( \\begin{matrix}\n",
    "0 & 1 & 0 \\\\\n",
    "-1 & 0 & 0 \\\\\n",
    "0 & 0 & 1 \\\\\n",
    "\\end{matrix} \\right)\n",
    "$$\n",
    "\n",
    "$$\n",
    "\\implies \\textbf{S} \\textbf{T}_y \\textbf{S}^{-1} = \\left( \\begin{matrix}\n",
    "1 & 0 & 0 \\\\\n",
    "0 & -\\cos \\theta & \\sin \\theta \\\\\n",
    "0 & -\\sin \\theta & \\cos \\theta \\\\\n",
    "\\end{matrix} \\right)\n",
    "$$\n",
    "\n",
    "This transformation is therefore equivalent to reflecting about the $y$-axis and rotating by $-\\theta$ about the $x$-axis."
   ]
  },
  {
   "cell_type": "code",
   "execution_count": 34,
   "metadata": {},
   "outputs": [],
   "source": [
    "S = np.array([\n",
    "    [0, -1, 0],\n",
    "    [1, 0, 0],\n",
    "    [0, 0, 1]\n",
    "])"
   ]
  },
  {
   "cell_type": "code",
   "execution_count": 35,
   "metadata": {},
   "outputs": [],
   "source": [
    "theta = 0.123"
   ]
  },
  {
   "cell_type": "code",
   "execution_count": 36,
   "metadata": {},
   "outputs": [],
   "source": [
    "Tx = np.array([\n",
    "    [1, 0, 0],\n",
    "    [0, np.cos(theta), -np.sin(theta)],\n",
    "    [0, np.sin(theta), np.cos(theta)],\n",
    "])"
   ]
  },
  {
   "cell_type": "code",
   "execution_count": 37,
   "metadata": {},
   "outputs": [],
   "source": [
    "Ty = np.array([\n",
    "    [-np.cos(theta), 0, np.sin(theta)],\n",
    "    [0, 1, 0],\n",
    "    [-np.sin(theta), 0, np.cos(theta)],\n",
    "])"
   ]
  },
  {
   "cell_type": "code",
   "execution_count": 38,
   "metadata": {},
   "outputs": [
    {
     "data": {
      "text/plain": [
       "array([[ 0.        , -0.99244503,  0.12269009],\n",
       "       [ 1.        ,  0.        ,  0.        ],\n",
       "       [ 0.        ,  0.12269009,  0.99244503]])"
      ]
     },
     "execution_count": 38,
     "metadata": {},
     "output_type": "execute_result"
    }
   ],
   "source": [
    "S @ Tx"
   ]
  },
  {
   "cell_type": "code",
   "execution_count": 39,
   "metadata": {},
   "outputs": [
    {
     "data": {
      "text/plain": [
       "array([[ 0.99244503,  0.        ,  0.12269009],\n",
       "       [ 0.        ,  1.        ,  0.        ],\n",
       "       [-0.12269009,  0.        ,  0.99244503]])"
      ]
     },
     "execution_count": 39,
     "metadata": {},
     "output_type": "execute_result"
    }
   ],
   "source": [
    "S @ Tx @ np.linalg.inv(S)"
   ]
  },
  {
   "cell_type": "code",
   "execution_count": 40,
   "metadata": {},
   "outputs": [
    {
     "data": {
      "text/plain": [
       "array([[ 0.        , -1.        ,  0.        ],\n",
       "       [-0.99244503,  0.        ,  0.12269009],\n",
       "       [-0.12269009,  0.        ,  0.99244503]])"
      ]
     },
     "execution_count": 40,
     "metadata": {},
     "output_type": "execute_result"
    }
   ],
   "source": [
    "S @ Ty"
   ]
  },
  {
   "cell_type": "code",
   "execution_count": 41,
   "metadata": {
    "scrolled": true
   },
   "outputs": [
    {
     "data": {
      "text/plain": [
       "array([[ 1.        ,  0.        ,  0.        ],\n",
       "       [ 0.        , -0.99244503,  0.12269009],\n",
       "       [ 0.        , -0.12269009,  0.99244503]])"
      ]
     },
     "execution_count": 41,
     "metadata": {},
     "output_type": "execute_result"
    }
   ],
   "source": [
    "S @ Ty @ np.linalg.inv(S)"
   ]
  },
  {
   "cell_type": "markdown",
   "metadata": {},
   "source": [
    "## Problem A.16"
   ]
  },
  {
   "cell_type": "markdown",
   "metadata": {},
   "source": [
    "We wish to show that given two bases $e$ and $f$, then for any matrices $\\textbf{A}^e \\textbf{B}^e = \\textbf{C}^e$ implies that $\\textbf{A}^f \\textbf{B}^f = \\textbf{C}^f$.  Let us consider the product $\\textbf{A}^f \\textbf{B}^f$:\n",
    "\n",
    "$$\n",
    "\\begin{eqnarray}\n",
    "\\textbf{A}^f \\textbf{B}^f & = & \\textbf{S} \\textbf{A}^e \\textbf{S}^{-1} \\textbf{S} \\textbf{B}^e \\textbf{S}^{-1} \\\\\n",
    "& = & \\textbf{S} \\textbf{A}^e \\textbf{B}^e \\textbf{S}^{-1} \\\\\n",
    "& = & \\textbf{S} \\textbf{C}^e \\textbf{S}^{-1} \\\\\n",
    "& = & \\textbf{C}^f\n",
    "\\end{eqnarray}\n",
    "$$"
   ]
  },
  {
   "cell_type": "markdown",
   "metadata": {},
   "source": [
    "Now we must show that if $\\textbf{S}$ is unitary and $\\textbf{H}^e$ is Hermitian then $\\textbf{H}^f$ is Hermitian as well.  We have\n",
    "\n",
    "$$\n",
    "\\begin{eqnarray}\n",
    "\\textbf{H}^f & = & \\textbf{S} \\textbf{H}^e \\textbf{S}^{-1} \\\\\n",
    "& = & \\textbf{S} \\textbf{H}^e \\textbf{S}^{\\dagger}\n",
    "\\end{eqnarray}\n",
    "$$\n",
    "\n",
    "Now consider the adjoint:\n",
    "\n",
    "$$\n",
    "\\begin{eqnarray}\n",
    "\\textbf{H}^{\\dagger} & = & \\left( \\textbf{S} \\textbf{H}^e \\textbf{S}^{-1} \\right)^{\\dagger} \\\\\n",
    "& = & \\textbf{S}^{-1 \\dagger} \\textbf{H}^{e \\dagger} \\textbf{S}^{\\dagger} \\\\\n",
    "& = & \\textbf{S} \\textbf{H}^e \\textbf{S}^{\\dagger}\n",
    "\\end{eqnarray}\n",
    "$$\n",
    "\n",
    "And so $\\textbf{H}^f = \\textbf{H}^{f \\dagger}$ meaning that $\\textbf{H}^f$ is Hermitian."
   ]
  },
  {
   "cell_type": "markdown",
   "metadata": {},
   "source": [
    "Lastly we must show that $\\textbf{S}$ carries an orthonormal basis into another orthonormal basis if and only if it is unitary.  Consider the transformation $\\textbf{S}$ wihch transforms basis $e$ into $f$.  We thus have\n",
    "\n",
    "$$\n",
    "\\ket{f_i} = \\textbf{S} \\ket{e_i}\n",
    "$$\n",
    "\n",
    "Now, if $e$ is an orthonormal basis then we have\n",
    "\n",
    "$$\n",
    "\\braket{e_i}{e_j} = \\delta_{ij}.\n",
    "$$\n",
    "\n",
    "Let us first suppose that $\\textbf{S}$ is unitary.  Now consider the dot product of two basis vectors in the $f$ basis:\n",
    "\n",
    "$$\n",
    "\\begin{eqnarray}\n",
    "\\braket{f_i}{f_j} & = & \\bra{e_i} \\textbf{S}^{\\dagger} \\textbf{S} \\ket{e_j} \\\\\n",
    "& = & \\braket{e_i}{e_j} \\\\\n",
    "& = & \\delta_{ij}\n",
    "\\end{eqnarray}\n",
    "$$\n",
    "\n",
    "So the assumption that $\\textbf{S}$ is unitary implies that $\\textbf{S}$ carries one orthonormal basis into another.\n",
    "\n",
    "Now let us prove the other direction.  Let us suppose that $\\textbf{S}$ carries $e$ into another orthonormal basis.  This means that\n",
    "\n",
    "$$\n",
    "\\begin{eqnarray}\n",
    "\\braket{f_i}{f_j} & = & \\delta_{ij} \\\\\n",
    "\\bra{e_i} \\textbf{S}^{\\dagger} \\textbf{S} \\ket{e_j} & = & \\delta_{ij}\n",
    "\\end{eqnarray}\n",
    "$$\n",
    "\n",
    "However, we already know that $\\braket{e_i}{e_j} = \\delta_{ij}$, so $\\textbf{S}^{\\dagger} \\textbf{S} = I$, which implies that $\\textbf{S}^{\\dagger} = \\textbf{S}^{-1}$ and therefore $\\textbf{S}$ is unitary."
   ]
  },
  {
   "cell_type": "markdown",
   "metadata": {},
   "source": [
    "## Problem A.17"
   ]
  },
  {
   "cell_type": "markdown",
   "metadata": {},
   "source": [
    "Let us write out the first trace explicitly:\n",
    "\n",
    "$$\n",
    "\\textrm{Tr}(\\textbf{T}_1 \\textbf{T}_2) = \\sum_{i, k} \\textbf{T}_{1, ik} \\textbf{T}_{2, ki}\n",
    "$$\n",
    "\n",
    "Now consider the second trace:\n",
    "\n",
    "$$\n",
    "\\begin{eqnarray}\n",
    "\\textrm{Tr}(\\textbf{T}_2 \\textbf{T}_1) & = & \\sum_{i, k} \\textbf{T}_{2, ik} \\textbf{T}_{1, ki} \\\\\n",
    "& = & \\sum_{k, i} \\textbf{T}_{1, ki} \\textbf{T}_{2, ik} \\\\\n",
    "\\end{eqnarray}\n",
    "$$\n",
    "where we can do this second step because each individual term is just the product of two scalars and therefore commutes.  Now because the summation indices are dummy indices we can simply rename them:\n",
    "$$\n",
    "\\begin{eqnarray}\n",
    "\\textrm{Tr}(\\textbf{T}_2 \\textbf{T}_1) & = & \\sum_{i, k} \\textbf{T}_{1, ik} \\textbf{T}_{2, ki} \\\\\n",
    "& = & \\textrm{Tr}(\\textbf{T}_1 \\textbf{T}_2)\n",
    "\\end{eqnarray}\n",
    "$$"
   ]
  },
  {
   "cell_type": "markdown",
   "metadata": {},
   "source": [
    "As a counterexample to show that the trace is not conserved for all permutations of the product of three matrices, consider the following:\n",
    "\n",
    "$$\n",
    "\\textbf{T}_1 = \\left( \\begin{matrix}\n",
    "0 & 1 \\\\\n",
    "1 & 0 \\\\\n",
    "\\end{matrix} \\right)\n",
    "$$\n",
    "\n",
    "$$\n",
    "\\textbf{T}_2 = \\left( \\begin{matrix}\n",
    "1 & 1 \\\\\n",
    "0 & 0 \\\\\n",
    "\\end{matrix} \\right)\n",
    "$$\n",
    "\n",
    "$$\n",
    "\\textbf{T}_3 = \\left( \\begin{matrix}\n",
    "1 & 0 \\\\\n",
    "1 & 0 \\\\\n",
    "\\end{matrix} \\right)\n",
    "$$\n",
    "\n",
    "Now we have\n",
    "$$\n",
    "\\textbf{T}_1 \\textbf{T}_2 \\textbf{T}_3 = \\left( \\begin{matrix}\n",
    "0 & 1 \\\\\n",
    "1 & 0 \\\\\n",
    "\\end{matrix} \\right) \\left( \\begin{matrix}\n",
    "1 & 1 \\\\\n",
    "0 & 0 \\\\\n",
    "\\end{matrix} \\right) \\left( \\begin{matrix}\n",
    "1 & 0 \\\\\n",
    "1 & 0 \\\\\n",
    "\\end{matrix} \\right) = \\left( \\begin{matrix}\n",
    "0 & 1 \\\\\n",
    "1 & 0 \\\\\n",
    "\\end{matrix} \\right) \\left( \\begin{matrix}\n",
    "2 & 0 \\\\\n",
    "0 & 0 \\\\\n",
    "\\end{matrix} \\right) = \\left( \\begin{matrix}\n",
    "0 & 0 \\\\\n",
    "2 & 0 \\\\\n",
    "\\end{matrix} \\right).\n",
    "$$\n",
    "So we have\n",
    "$$\n",
    "\\textrm{Tr}(\\textbf{T}_1 \\textbf{T}_2 \\textbf{T}_3) = 0\n",
    "$$\n",
    "\n",
    "Now consider the following product:\n",
    "$$\n",
    "\\textbf{T}_2 \\textbf{T}_1 \\textbf{T}_3 = \\left( \\begin{matrix}\n",
    "1 & 1 \\\\\n",
    "0 & 0 \\\\\n",
    "\\end{matrix} \\right) \\left( \\begin{matrix}\n",
    "0 & 1 \\\\\n",
    "1 & 0 \\\\\n",
    "\\end{matrix} \\right) \\left( \\begin{matrix}\n",
    "1 & 0 \\\\\n",
    "1 & 0 \\\\\n",
    "\\end{matrix} \\right) = \\left( \\begin{matrix}\n",
    "1 & 1 \\\\\n",
    "0 & 0 \\\\\n",
    "\\end{matrix} \\right) \\left( \\begin{matrix}\n",
    "1 & 0 \\\\\n",
    "1 & 0 \\\\\n",
    "\\end{matrix} \\right) = \\left( \\begin{matrix}\n",
    "2 & 0 \\\\\n",
    "0 & 0 \\\\\n",
    "\\end{matrix} \\right).\n",
    "$$\n",
    "So we have $\\textrm{Tr}(\\textbf{T}_2 \\textbf{T}_1 \\textbf{T}_3) = 2$."
   ]
  },
  {
   "cell_type": "code",
   "execution_count": 42,
   "metadata": {},
   "outputs": [],
   "source": [
    "T1 = np.array([[0, 1], [1, 0]])\n",
    "T2 = np.array([[1, 1], [0, 0]])\n",
    "T3 = np.array([[1, 0], [1, 0]])"
   ]
  },
  {
   "cell_type": "code",
   "execution_count": 43,
   "metadata": {},
   "outputs": [
    {
     "data": {
      "text/plain": [
       "0"
      ]
     },
     "execution_count": 43,
     "metadata": {},
     "output_type": "execute_result"
    }
   ],
   "source": [
    "np.trace(T1 @ T2 @ T3)"
   ]
  },
  {
   "cell_type": "code",
   "execution_count": 44,
   "metadata": {},
   "outputs": [
    {
     "data": {
      "text/plain": [
       "2"
      ]
     },
     "execution_count": 44,
     "metadata": {},
     "output_type": "execute_result"
    }
   ],
   "source": [
    "np.trace(T2 @ T1 @ T3)"
   ]
  },
  {
   "cell_type": "markdown",
   "metadata": {},
   "source": [
    "## Problem A.18"
   ]
  },
  {
   "cell_type": "markdown",
   "metadata": {},
   "source": [
    "To find the eigenvalues we must solve the following determinant:\n",
    "\n",
    "$$\n",
    "\\begin{vmatrix}\n",
    "\\cos \\theta - \\lambda & -\\sin \\theta \\\\\n",
    "\\sin \\theta & \\cos \\theta - \\lambda \\\\\n",
    "\\end{vmatrix} = 0\n",
    "$$\n",
    "\n",
    "This implies that we must find the $\\lambda$ that satisfies the equation\n",
    "\n",
    "$$\n",
    "(\\cos \\theta - \\lambda)^2  +\\sin^2 \\theta = 0\n",
    "$$\n",
    "\n",
    "$$\n",
    "\\implies \\lambda^2 - 2 \\lambda \\cos \\theta + 1 = 0\n",
    "$$\n",
    "\n",
    "$$\n",
    "\\begin{eqnarray}\n",
    "\\implies \\lambda & = & \\frac{1}{2} \\left(2 \\cos \\theta \\pm \\sqrt{4 \\cos^2 \\theta - 4} \\right) \\\\\n",
    "& = & \\cos \\theta \\pm \\sqrt{\\cos^2 \\theta - 1} \\\\\n",
    "& = & \\cos \\theta \\pm \\sqrt{- \\sin^2 \\theta} \\\\\n",
    "& = & \\cos \\theta \\pm i \\sin \\theta\n",
    "\\end{eqnarray}\n",
    "$$\n",
    "\n",
    "Thus we only have a real solution iff $\\sin \\theta = 0$, which means that we must have $\\theta \\in \\{0, \\pi\\}$."
   ]
  },
  {
   "cell_type": "markdown",
   "metadata": {},
   "source": [
    "We can simplify the general case of complex eigenvalues with $\\lambda = e^{\\pm i \\theta}$.  To find the eigenvectors, we have in the positive case\n",
    "\n",
    "$$\n",
    "\\left( \\begin{matrix}\n",
    "\\cos \\theta & -\\sin \\theta \\\\\n",
    "\\sin \\theta & \\cos \\theta \\\\\n",
    "\\end{matrix} \\right) \\left( \\begin{matrix}\n",
    "v_1 \\\\\n",
    "v_2 \\\\\n",
    "\\end{matrix} \\right) = e^{i \\theta} \\left( \\begin{matrix}\n",
    "v_1 \\\\\n",
    "v_2 \\\\\n",
    "\\end{matrix} \\right)\n",
    "$$\n",
    "This implies the following set of equations:\n",
    "$$\n",
    "\\begin{eqnarray}\n",
    "\\cos \\theta v_1 - \\sin \\theta v_2 & = & e^{i \\theta} v_1 \\\\\n",
    "\\sin \\theta v_1 + \\cos \\theta v_2 & = & e^{i \\theta} v_2\n",
    "\\end{eqnarray}\n",
    "$$\n",
    "$$\n",
    "\\begin{eqnarray}\n",
    "\\implies v_1 & = & - \\frac{\\sin \\theta v_2}{e^{i \\theta} - \\cos \\theta} \\\\\n",
    "& = & -\\frac{v_2}{i} \\\\\n",
    "& = & i v_2\n",
    "\\end{eqnarray}\n",
    "$$\n",
    "And so the first eigenvector is\n",
    "$$\n",
    "a^{(1)} = \\frac{1}{\\sqrt{2}} \\left( \\begin{matrix}\n",
    "1 \\\\\n",
    "-i\n",
    "\\end{matrix} \\right)\n",
    "$$\n",
    "To find the second eigenvector, we now have\n",
    "$$\n",
    "\\left( \\begin{matrix}\n",
    "\\cos \\theta & -\\sin \\theta \\\\\n",
    "\\sin \\theta & \\cos \\theta \\\\\n",
    "\\end{matrix} \\right) \\left( \\begin{matrix}\n",
    "v_1 \\\\\n",
    "v_2 \\\\\n",
    "\\end{matrix} \\right) = e^{-i \\theta} \\left( \\begin{matrix}\n",
    "v_1 \\\\\n",
    "v_2 \\\\\n",
    "\\end{matrix} \\right)\n",
    "$$\n",
    "which similarly implies\n",
    "$$\n",
    "\\begin{eqnarray}\n",
    "\\cos \\theta v_1 - \\sin \\theta v_2 & = & e^{-i \\theta} v_1 \\\\\n",
    "\\sin \\theta v_1 + \\cos \\theta v_2 & = & e^{-i \\theta} v_2\n",
    "\\end{eqnarray}\n",
    "$$\n",
    "$$\n",
    "\\begin{eqnarray}\n",
    "\\implies v_1 & = & - \\frac{\\sin \\theta v_2}{e^{-i \\theta} - \\cos \\theta} \\\\\n",
    "& = & \\frac{v_2}{i} \\\\\n",
    "& = & -i v_2\n",
    "\\end{eqnarray}\n",
    "$$\n",
    "And so the second eigenvector is\n",
    "$$\n",
    "a^{(2)} = \\frac{1}{\\sqrt{2}} \\left( \\begin{matrix}\n",
    "1 \\\\\n",
    "i\n",
    "\\end{matrix} \\right)\n",
    "$$"
   ]
  },
  {
   "cell_type": "code",
   "execution_count": 45,
   "metadata": {},
   "outputs": [],
   "source": [
    "theta = 0.3\n",
    "R = np.array([[np.cos(theta), -np.sin(theta)], [np.sin(theta), np.cos(theta)]])"
   ]
  },
  {
   "cell_type": "code",
   "execution_count": 46,
   "metadata": {},
   "outputs": [],
   "source": [
    "a1 = np.array([1, -1j]) / np.sqrt(2)\n",
    "a2 = np.array([1, 1j]) / np.sqrt(2)"
   ]
  },
  {
   "cell_type": "code",
   "execution_count": 47,
   "metadata": {},
   "outputs": [
    {
     "data": {
      "text/plain": [
       "array([0.67552491+0.20896434j, 0.20896434-0.67552491j])"
      ]
     },
     "execution_count": 47,
     "metadata": {},
     "output_type": "execute_result"
    }
   ],
   "source": [
    "np.matmul(R, a1)"
   ]
  },
  {
   "cell_type": "code",
   "execution_count": 48,
   "metadata": {},
   "outputs": [
    {
     "data": {
      "text/plain": [
       "array([0.67552491+0.20896434j, 0.20896434-0.67552491j])"
      ]
     },
     "execution_count": 48,
     "metadata": {},
     "output_type": "execute_result"
    }
   ],
   "source": [
    "np.exp(1j * theta) * a1"
   ]
  },
  {
   "cell_type": "code",
   "execution_count": 49,
   "metadata": {},
   "outputs": [
    {
     "data": {
      "text/plain": [
       "array([0.67552491-0.20896434j, 0.20896434+0.67552491j])"
      ]
     },
     "execution_count": 49,
     "metadata": {},
     "output_type": "execute_result"
    }
   ],
   "source": [
    "np.matmul(R, a2)"
   ]
  },
  {
   "cell_type": "code",
   "execution_count": 50,
   "metadata": {},
   "outputs": [
    {
     "data": {
      "text/plain": [
       "array([0.67552491-0.20896434j, 0.20896434+0.67552491j])"
      ]
     },
     "execution_count": 50,
     "metadata": {},
     "output_type": "execute_result"
    }
   ],
   "source": [
    "np.exp(-1j * theta) * a2"
   ]
  },
  {
   "cell_type": "markdown",
   "metadata": {},
   "source": [
    "Now to find the similarity matrix $\\textbf{S}$ we note that the matrix $\\textbf{S}^{-1}$ has columns which are the eigenvectors:\n",
    "\n",
    "$$\n",
    "\\textbf{S}^{-1} = \\frac{1}{\\sqrt{2}} \\left( \\begin{matrix}\n",
    "1 & 1 \\\\\n",
    "-i & i \\\\\n",
    "\\end{matrix} \\right)\n",
    "$$"
   ]
  },
  {
   "cell_type": "markdown",
   "metadata": {},
   "source": [
    "The determinant of $\\textbf{S}^{-1}$ is\n",
    "\n",
    "$$\n",
    "\\textrm{det}(\\textbf{S}^{-1}) = i\n",
    "$$\n",
    "\n",
    "so the matrix $\\textbf{S}$ is\n",
    "\n",
    "$$\n",
    "\\textbf{S} = \\frac{1}{\\sqrt{2}} \\left( \\begin{matrix}\n",
    "1 & i \\\\\n",
    "1 & -i\n",
    "\\end{matrix} \\right)\n",
    "$$"
   ]
  },
  {
   "cell_type": "markdown",
   "metadata": {},
   "source": [
    "The diagonalization of $\\textbf{T}$ will be\n",
    "\n",
    "$$\n",
    "\\textbf{S} \\textbf{T} \\textbf{S}^{-1} = \\frac{1}{2} \\left( \\begin{matrix}\n",
    "1 & i \\\\\n",
    "1 & -i\n",
    "\\end{matrix} \\right) \\left( \\begin{matrix}\n",
    "\\cos \\theta & -\\sin \\theta \\\\\n",
    "\\sin \\theta & \\cos \\theta \\\\\n",
    "\\end{matrix} \\right) \\left( \\begin{matrix}\n",
    "1 & 1 \\\\\n",
    "-i & i \\\\\n",
    "\\end{matrix} \\right)\n",
    "$$"
   ]
  },
  {
   "cell_type": "markdown",
   "metadata": {},
   "source": [
    "$$\n",
    "\\textbf{S} \\textbf{T} \\textbf{S}^{-1} = \\frac{1}{2} \\left( \\begin{matrix}\n",
    "1 & i \\\\\n",
    "1 & -i\n",
    "\\end{matrix} \\right) \\left( \\begin{matrix}\n",
    "\\cos \\theta + i \\sin \\theta & \\cos \\theta - i \\sin \\theta \\\\\n",
    "\\sin \\theta - i \\cos \\theta & \\sin \\theta + i \\cos \\theta\n",
    "\\end{matrix} \\right)\n",
    "$$"
   ]
  },
  {
   "cell_type": "markdown",
   "metadata": {},
   "source": [
    "$$\n",
    "\\textbf{S} \\textbf{T} \\textbf{S}^{-1} = \\frac{1}{2} \\left( \\begin{matrix}\n",
    "1 & i \\\\\n",
    "1 & -i\n",
    "\\end{matrix} \\right) \\left( \\begin{matrix}\n",
    "e^{i \\theta} & e^{-i \\theta} \\\\\n",
    "-i e^{i \\theta} & i e^{-i \\theta}\n",
    "\\end{matrix} \\right)\n",
    "$$"
   ]
  },
  {
   "cell_type": "markdown",
   "metadata": {},
   "source": [
    "$$\n",
    "\\textbf{S} \\textbf{T} \\textbf{S}^{-1} = \\left( \\begin{matrix}\n",
    "e^{i \\theta} & 0 \\\\\n",
    "0 & e^{-i \\theta}\n",
    "\\end{matrix} \\right)\n",
    "$$"
   ]
  },
  {
   "cell_type": "markdown",
   "metadata": {},
   "source": [
    "## Problem A.19\n",
    "\n",
    "The eigenvalues are given by the solution to the equation\n",
    "\n",
    "$$\n",
    "\\left| \\begin{matrix}\n",
    "1 - \\lambda & 1 \\\\\n",
    "0 & 1 - \\lambda \\\\\n",
    "\\end{matrix} \\right| = 0\n",
    "$$"
   ]
  },
  {
   "cell_type": "markdown",
   "metadata": {},
   "source": [
    "This implies that\n",
    "\n",
    "$$\n",
    "(1 - \\lambda)^2 = 0\n",
    "$$\n",
    "\n",
    "and so the only eigenvalue is $\\lambda = 1$, which has degeneracy 2.\n",
    "\n",
    "The eigenvectors now must satisfy the equation\n",
    "\n",
    "$$\n",
    "\\left( \\begin{matrix}\n",
    "1 & 1 \\\\\n",
    "0 & 1 \\\\\n",
    "\\end{matrix} \\right) \\left( \\begin{matrix}\n",
    "v_1 \\\\\n",
    "v_2 \\\\\n",
    "\\end{matrix} \\right) = \\left( \\begin{matrix}\n",
    "v_1 \\\\\n",
    "v_2 \\\\\n",
    "\\end{matrix} \\right)\n",
    "$$\n",
    "\n",
    "Thus we must have that\n",
    "\n",
    "$$\n",
    "v_2 = 0\n",
    "$$\n",
    "\n",
    "and we have no constraint on $v_1$.  This means that the original matrix $\\textbf{M}$ is no diagonalizable because we cannot construct an eigenbasis that spans the vector space."
   ]
  },
  {
   "cell_type": "markdown",
   "metadata": {},
   "source": [
    "## Problem A.20\n",
    "\n",
    "The characteristic equation can be written\n",
    "\n",
    "$$\n",
    "C_n \\lambda^n + C_{n-1} \\lambda^{n-1} + \\cdots + C_0 = 0\n",
    "$$"
   ]
  },
  {
   "cell_type": "markdown",
   "metadata": {},
   "source": [
    "By the Leibniz formula, the determinant can be written\n",
    "\n",
    "$$\n",
    "\\textrm{det}(\\textbf{T} - \\lambda \\textbf{I}) = \\sum_{\\sigma} \\left( \\textrm{sgn}(\\sigma) \\prod_{i=1}^n T_{i \\sigma_i} - \\lambda \\delta_{i \\sigma_i} \\right),\n",
    "$$\n",
    "where $\\sigma$ represents a permutation and $\\sigma_i$ represents the $i^{\\textrm{th}}$ term of that permutation and the sum is taken over all possible permutations of the range $\\{1, \\ldots, n \\}$."
   ]
  },
  {
   "cell_type": "markdown",
   "metadata": {},
   "source": [
    "Let us first consider the $C_n$ coefficient.  To find its value we must identify the $\\lambda^n$ term.  Note that the Kronecker delta will vanish for at least one value of $i$ for all permutations except the first permutation, which is just the original order $[1, \\ldots, n]$.  Considering only that permutation, we find that the $\\lambda^n$ term is simply\n",
    "\n",
    "$$\n",
    "C_n = (-1)^n.\n",
    "$$\n",
    "\n",
    "Now consider the second coefficient, $C_{n-1}$, which is associated with the $\\lambda^{n-1}$ term.  Once again, observe that the Kronecker delta will vanish for at least one value of $i$ for all permutations except the first permutation, which is just the original order $[1, \\ldots, n]$.  But if the Kronecker delta vanishes for one value of $i$, it must vanish for some other value of $i$ because the first $i$ must occupy the space for this other value of $i$.  So in fact, at least *two* Kronecker deltas must vanish.  Thus, in order to obtain a $\\lambda^{n-1}$ term, only one permutation is possible: the original order of $[1, \\ldots, n]$.  Fixing this permutation, and examining the Leibniz formula, we find\n",
    "\n",
    "$$\n",
    "\\begin{eqnarray}\n",
    "C_{n-1} & = & \\sum_{i=1}^n (-1)^{n-1} T_{ii} \\\\\n",
    "& = & (-1)^{n-1} \\textrm{Tr}(\\textbf{T})\n",
    "\\end{eqnarray}\n",
    "$$"
   ]
  },
  {
   "cell_type": "markdown",
   "metadata": {},
   "source": [
    "For the last coefficient, $C_0$, note that any cross term in the Leibniz formula with the Kronecker delta will contain a power of $\\lambda$.  The term without any powers of $\\lambda$ can then just be written\n",
    "\n",
    "$$\n",
    "\\begin{eqnarray}\n",
    "C_0 & = & \\sum_{\\sigma} \\left( \\textrm{sgn}(\\sigma) \\prod_{i=1}^n T_{i \\sigma_i} \\right) \\\\\n",
    "& = & \\textrm{det}(\\textbf{T}) \n",
    "\\end{eqnarray}\n",
    "$$"
   ]
  },
  {
   "cell_type": "markdown",
   "metadata": {},
   "source": [
    "## Problem A.21\n",
    "\n",
    "Because it is a polynomial, the characteristic equation may be factored as such:\n",
    "\n",
    "$$\n",
    "\\prod_{i = 1}^n (\\lambda_i - \\lambda) = 0\n",
    "$$\n",
    "\n",
    "Consider now the term without any powers of $\\lambda$.  This must be the $C_0$ term, which in the previous problem was found to be $\\textrm{det}{\\textbf{T})$.  This term is then\n",
    "\n",
    "$$\n",
    "\\begin{eqnarray}\n",
    "\\textrm{det}(\\textbf{T}) & = & C_0 \\\\\n",
    "& = & \\prod_{i = 1}^n \\lambda_i\n",
    "\\end{eqnarray}\n",
    "$$"
   ]
  },
  {
   "cell_type": "markdown",
   "metadata": {},
   "source": [
    "Now consider the $\\lambda^{n-1}$ term, given by the coefficient $C_{n-1}$.  In the previous problem this was found to be equal to $(-1)^{n-1} \\textrm{Tr}(\\textbf{T})$.  Isolating the $\\lambda^{n-1}$ terms of the factorized characteristic equation, we find\n",
    "\n",
    "$$\n",
    "\\begin{eqnarray}\n",
    "(-1)^{n-1} \\textrm{Tr}(\\textbf{T}) & = & C_{n-1} \\\\\n",
    "& = & (-1)^{n-1} \\sum_{i=1}^n \\lambda_i\n",
    "\\end{eqnarray}\n",
    "$$\n",
    "which implies that\n",
    "$$\n",
    "\\textrm{Tr}(\\textbf{T}) = \\sum_{i=1}^n \\lambda_i.\n",
    "$$"
   ]
  },
  {
   "cell_type": "markdown",
   "metadata": {},
   "source": [
    "## Problem A.22\n",
    "\n",
    "### Part a.\n",
    "\n",
    "Suppose that $[\\textbf{T}_1^e, \\textbf{T}_2^e] = 0$.  This implies that\n",
    "\n",
    "$$\n",
    "\\textbf{T}_1^e \\textbf{T}_2^e - \\textbf{T}_2^e \\textbf{T}_1^e = 0\n",
    "$$\n",
    "\n",
    "Multiplying the left by $\\textbf{S}$ and the right by $\\textbf{S}^{-1}$, we have\n",
    "\n",
    "$$\n",
    "\\begin{eqnarray}\n",
    "\\textbf{S} \\textbf{T}_1^e \\textbf{T}_2^e \\textbf{S}^{-1} - \\textbf{S} \\textbf{T}_2^e \\textbf{T}_1^e \\textbf{S}^{-1} & = & 0 \\\\\n",
    "\\implies \\textbf{S} \\textbf{T}_1^e \\textbf{S}^{-1} \\textbf{S} \\textbf{T}_2^e \\textbf{S}^{-1} - \\textbf{S} \\textbf{T}_2^e \\textbf{S}^{-1} \\textbf{S} \\textbf{T}_1^e \\textbf{S}^{-1} & = & 0 \\\\\n",
    "\\implies \\textbf{T}_1^f \\textbf{T}_2^f - \\textbf{T}_2^f \\textbf{T}_1^f & = & 0\n",
    "\\end{eqnarray}\n",
    "$$"
   ]
  },
  {
   "cell_type": "markdown",
   "metadata": {},
   "source": [
    "### Part b.\n",
    "\n",
    "If two matrices $\\textbf{T}_1$ and $\\textbf{T}_2$ are simultaneously diagonalizable, then there exists a matrix $\\textbf{S}$ that will diagonalize both $\\textbf{T}_1$ and $\\textbf{T}_2$.  This means that we would have\n",
    "\n",
    "$$\n",
    "\\begin{eqnarray}\n",
    "\\textbf{S} \\textbf{T}_1 \\textbf{S}^{-1} & = & \\textbf{D}_1 \\\\\n",
    "\\textbf{S} \\textbf{T}_2 \\textbf{S}^{-1} & = & \\textbf{D}_2,\n",
    "\\end{eqnarray}\n",
    "$$\n",
    "\n",
    "where $\\textbf{D}_i$ represents some diagonal matrix.\n",
    "\n",
    "Consider now the commutator of $\\textbf{T}_1$ and $\\textbf{T}_2$.  By multiplying $\\textbf{S}$ on the left and $\\textbf{S}^{-1}$ on the right, we get\n",
    "\n",
    "$$\n",
    "\\begin{eqnarray}\n",
    "[\\textbf{T}_1, \\textbf{T}_2] & = & \\textbf{T}_1 \\textbf{T}_2 - \\textbf{T}_2 \\textbf{T}_1 \\\\\n",
    "& = & \\textbf{S} \\textbf{T}_1 \\textbf{S}^{-1} \\textbf{S} \\textbf{T}_2 - \\textbf{S} \\textbf{T}_2 \\textbf{S}^{-1} \\textbf{S} \\textbf{T}_1 \\textbf{S}^{-1} \\\\\n",
    "& = & \\textbf{D}_1 \\textbf{D}_2 - \\textbf{D}_2 \\textbf{D}_1 \\\\\n",
    "& = & 0\n",
    "\\end{eqnarray}\n",
    "$$\n",
    "\n",
    "where we obtain the last step because any two diagonal matrices commute."
   ]
  },
  {
   "cell_type": "markdown",
   "metadata": {},
   "source": [
    "## Problem A.23\n",
    "\n",
    "### Part a.\n",
    "\n",
    "Let us calculate the commutator of $\\textbf{M}$ with its Hermitian conjugate:\n",
    "\n",
    "$$\n",
    "\\textbf{M} \\textbf{M}^{\\dagger} - \\textbf{M}^{\\dagger} \\textbf{M} = \\left( \\begin{matrix}\n",
    "1 & 1 \\\\\n",
    "1 & i\n",
    "\\end{matrix} \\right) \\left( \\begin{matrix}\n",
    "1 & 1 \\\\\n",
    "1 & -i\n",
    "\\end{matrix} \\right) - \\left( \\begin{matrix}\n",
    "1 & 1 \\\\\n",
    "1 & -i\n",
    "\\end{matrix} \\right) \\left( \\begin{matrix}\n",
    "1 & 1 \\\\\n",
    "1 & i\n",
    "\\end{matrix} \\right)\n",
    "$$\n",
    "\n",
    "$$\n",
    "\\textbf{M} \\textbf{M}^{\\dagger} - \\textbf{M}^{\\dagger} \\textbf{M} = \\left( \\begin{matrix}\n",
    "2 & 1 - i \\\\\n",
    "1 + i & 2 \\\\\n",
    "\\end{matrix} \\right) - \\left( \\begin{matrix}\n",
    "2 & 1 + i \\\\\n",
    "1 & 2 \\\\\n",
    "\\end{matrix} \\right)\n",
    "$$\n",
    "\n",
    "$$\n",
    "\\textbf{M} \\textbf{M}^{\\dagger} - \\textbf{M}^{\\dagger} \\textbf{M} = \\left( \\begin{matrix}\n",
    "0 & -2i \\\\\n",
    "2i & 0 \\\\\n",
    "\\end{matrix} \\right)\n",
    "$$\n",
    "\n",
    "So $\\textbf{M}$ is not normal."
   ]
  },
  {
   "cell_type": "code",
   "execution_count": 51,
   "metadata": {},
   "outputs": [
    {
     "data": {
      "text/plain": [
       "array([[0.+0.j, 0.-2.j],\n",
       "       [0.+2.j, 0.+0.j]])"
      ]
     },
     "execution_count": 51,
     "metadata": {},
     "output_type": "execute_result"
    }
   ],
   "source": [
    "M = np.array([[1, 1], [1, 1j]])\n",
    "M @ np.matrix.getH(M) - np.matrix.getH(M) @ M"
   ]
  },
  {
   "cell_type": "markdown",
   "metadata": {},
   "source": [
    "### Part b.\n",
    "\n",
    "First we need to find the eigenvalues:\n",
    "\n",
    "$$\n",
    "\\left| \\begin{matrix}\n",
    "1 - \\lambda & 1 \\\\\n",
    "1 & i - \\lambda \\\\\n",
    "\\end{matrix} \\right| = 0\n",
    "$$\n",
    "\n",
    "$$\n",
    "\\begin{eqnarray}\n",
    "\\implies (1 - \\lambda) (i - \\lambda) - 1 & = & 0 \\\\\n",
    "\\implies \\lambda^2 - (1 + i) \\lambda - 1 + i & = & 0 \\\\\n",
    "\\implies \\lambda & = & \\frac{1}{2} \\left( 1 + i \\pm \\sqrt{(1 + i)^2  +4 (1 - i)} \\right) \\\\\n",
    "\\implies \\lambda & = & \\frac{1}{2} \\left( 1 + i \\pm \\sqrt{4 - 2i} \\right)\n",
    "\\end{eqnarray}\n",
    "$$"
   ]
  },
  {
   "cell_type": "markdown",
   "metadata": {},
   "source": [
    "The first eigenvector is then given by the solution to the equation\n",
    "\n",
    "$$\n",
    "\\begin{eqnarray}\n",
    "v_1^{(1)} + v_2^{(1)} & = & \\frac{1}{2} \\left( 1 + i + \\sqrt{4 - 2i} \\right) v_1^{(1)} \\\\\n",
    "\\implies v_2^{(1)} & = & \\frac{1}{2} \\left( -1 + i + \\sqrt{4 - 2i} \\right) v_1^{(1)}\n",
    "\\end{eqnarray}\n",
    "$$"
   ]
  },
  {
   "cell_type": "markdown",
   "metadata": {},
   "source": [
    "The second eigenvector is then\n",
    "\n",
    "$$\n",
    "\\begin{eqnarray}\n",
    "v_1^{(2)} + i v_2^{(2)} & = & \\frac{1}{2} \\left( 1 + i - \\sqrt{4 - 2i} \\right) v_2^{(2)} \\\\\n",
    "\\implies v_1^{(2)} & = & \\frac{1}{2} \\left(1 - i - \\sqrt{4 - 2i} \\right) v_2^{(2)}\n",
    "\\end{eqnarray}\n",
    "$$"
   ]
  },
  {
   "cell_type": "markdown",
   "metadata": {},
   "source": [
    "The inverse of the similarity matrix is then:\n",
    "\n",
    "$$\n",
    "\\textbf{S}^{-1} = \\left( \\begin{matrix}\n",
    "1 & -\\frac{1}{2} \\left(1 - i - \\sqrt{4 - 2i} \\right) \\\\\n",
    "\\frac{1}{2} \\left(1 - i - \\sqrt{4 - 2i} \\right) & 1 \\\\\n",
    "\\end{matrix} \\right)\n",
    "$$"
   ]
  },
  {
   "cell_type": "markdown",
   "metadata": {},
   "source": [
    "The determinant of this matrix is\n",
    "\n",
    "$$\n",
    "\\begin{eqnarray}\n",
    "\\textrm{det}(\\textbf{S}^{-1}) & = & 1 + \\frac{1}{4} \\left( 1 - i - \\sqrt{4 - 2i} \\right)^2 \\\\\n",
    "& = & 1 + \\frac{1}{4} \\left( -2i + 4 - 2i - 2(1 - i) \\sqrt{4 - 2i} \\right) \\\\\n",
    "& = & 1 + 1 - i - \\frac{1}{2} (1 - i) \\sqrt{4 - 2i} \\\\\n",
    "& = & 2 - i - \\frac{1}{2} (1 - i) \\sqrt{4 - 2i} \\\\\n",
    "\\end{eqnarray}\n",
    "$$\n",
    "\n",
    "Since this determinant is non-zero, the matrix $\\textbf{S}$ exists and the matrix $\\textbf{M}$ is diagonalizable."
   ]
  },
  {
   "cell_type": "code",
   "execution_count": 52,
   "metadata": {},
   "outputs": [
    {
     "data": {
      "text/plain": [
       "array([ 1.52908551+0.25706586j, -0.52908551+0.74293414j])"
      ]
     },
     "execution_count": 52,
     "metadata": {},
     "output_type": "execute_result"
    }
   ],
   "source": [
    "np.linalg.eigvals(M)"
   ]
  },
  {
   "cell_type": "code",
   "execution_count": 53,
   "metadata": {},
   "outputs": [
    {
     "data": {
      "text/plain": [
       "(0.5290855136357462+0.2570658641216772j)"
      ]
     },
     "execution_count": 53,
     "metadata": {},
     "output_type": "execute_result"
    }
   ],
   "source": [
    "(-1 + 1j + np.sqrt(4 - 2j)) / 2"
   ]
  },
  {
   "cell_type": "code",
   "execution_count": 54,
   "metadata": {},
   "outputs": [
    {
     "data": {
      "text/plain": [
       "(-0.5290855136357462-0.2570658641216772j)"
      ]
     },
     "execution_count": 54,
     "metadata": {},
     "output_type": "execute_result"
    }
   ],
   "source": [
    "(1 - 1j - np.sqrt(4 - 2j)) / 2"
   ]
  },
  {
   "cell_type": "code",
   "execution_count": 55,
   "metadata": {},
   "outputs": [],
   "source": [
    "eigvectors = np.linalg.eig(M)[1]\n",
    "eigvectors /= eigvectors[0, 0]"
   ]
  },
  {
   "cell_type": "code",
   "execution_count": 56,
   "metadata": {},
   "outputs": [
    {
     "data": {
      "text/plain": [
       "array([[ 1.        +0.j        , -0.52908551-0.25706586j],\n",
       "       [ 0.52908551+0.25706586j,  1.        +0.j        ]])"
      ]
     },
     "execution_count": 56,
     "metadata": {},
     "output_type": "execute_result"
    }
   ],
   "source": [
    "eigvectors"
   ]
  },
  {
   "cell_type": "code",
   "execution_count": 57,
   "metadata": {},
   "outputs": [
    {
     "data": {
      "text/plain": [
       "(1.2138486222425766+0.2720196495140689j)"
      ]
     },
     "execution_count": 57,
     "metadata": {},
     "output_type": "execute_result"
    }
   ],
   "source": [
    "np.linalg.det(eigvectors.T)"
   ]
  },
  {
   "cell_type": "code",
   "execution_count": 58,
   "metadata": {},
   "outputs": [
    {
     "data": {
      "text/plain": [
       "(1.2138486222425766+0.272019649514069j)"
      ]
     },
     "execution_count": 58,
     "metadata": {},
     "output_type": "execute_result"
    }
   ],
   "source": [
    "2 - 1j - 1 / 2 * (1 - 1j) * np.sqrt(4 - 2j)"
   ]
  },
  {
   "cell_type": "markdown",
   "metadata": {},
   "source": [
    "## Problem A.24\n",
    "\n",
    "Suppose that for any vector $\\ket{\\gamma}$ we have\n",
    "\n",
    "$$\n",
    "\\braket{\\gamma}{\\hat{T} \\gamma} = \\braket{\\hat{T} \\gamma}{\\gamma}\n",
    "$$\n",
    "\n",
    "Since $\\ket{\\gamma}$ is an arbitrary vector, we can write it as the sum of two other arbitrary vectors:\n",
    "\n",
    "$$\n",
    "\\ket{\\gamma} \\equiv \\ket{\\alpha} + \\ket{\\beta}\n",
    "$$\n",
    "\n",
    "Now, substituting,\n",
    "\n",
    "$$\n",
    "\\left( \\bra{\\alpha} + \\bra{\\beta} \\right) \\left( \\ket{\\hat{T} \\alpha} + \\ket{\\hat{T} \\beta} \\right) = \\left( \\bra{\\hat{T} \\alpha} + \\bra{\\hat{T} \\beta} \\right) \\left( \\ket{\\alpha} + \\ket{\\beta} \\right)\n",
    "$$\n",
    "\n",
    "$$\n",
    "\\implies \\braket{\\alpha}{\\hat{T} \\beta} + \\braket{\\beta}{\\hat{T} \\alpha} = \\braket{\\hat{T} \\alpha}{\\beta} + \\braket{\\hat{T} \\beta}{\\alpha}\n",
    "$$"
   ]
  },
  {
   "cell_type": "markdown",
   "metadata": {},
   "source": [
    "Now define another vector\n",
    "\n",
    "$$\n",
    "\\ket{\\gamma^{\\prime}} \\equiv \\ket{alpha} + i \\ket{\\beta}\n",
    "$$\n",
    "\n",
    "This now implies\n",
    "\n",
    "$$\n",
    "\\left( \\bra{\\alpha} - i \\bra{\\beta} \\right) \\left( \\ket{\\hat{T} \\alpha} + i \\ket{\\hat{T} \\beta} \\right) = \\left( \\bra{\\hat{T} \\alpha} - i \\bra{\\hat{T} \\beta} \\right) \\left( \\ket{\\alpha} + i \\ket{\\beta} \\right)\n",
    "$$\n",
    "\n",
    "$$\n",
    "\\implies \\braket{\\alpha}{\\hat{T} \\beta} - \\braket{\\beta}{\\hat{T} \\alpha} = \\braket{\\hat{T} \\alpha}{\\beta} - \\braket{\\hat{T} \\beta}{\\alpha}\n",
    "$$"
   ]
  },
  {
   "cell_type": "markdown",
   "metadata": {},
   "source": [
    "Adding the result from using $\\ket{\\gamma}$ with the result from using vector $\\ket{\\gamma^{\\prime}}$, we get\n",
    "\n",
    "$$\n",
    "\\braket{\\beta}{\\hat{T} \\alpha} = \\braket{\\hat{T} \\beta}{\\alpha}\n",
    "$$\n",
    "\n",
    "as required."
   ]
  },
  {
   "cell_type": "markdown",
   "metadata": {},
   "source": [
    "## Problem A.25\n",
    "\n",
    "### Part a."
   ]
  },
  {
   "cell_type": "markdown",
   "metadata": {},
   "source": [
    "$$\n",
    "\\textbf{T}^{\\dagger} = \\left( \\begin{matrix}\n",
    "1 & 1 - i \\\\\n",
    "1 + i & 0 \\\\\n",
    "\\end{matrix} \\right) = \\textbf{T}\n",
    "$$"
   ]
  },
  {
   "cell_type": "code",
   "execution_count": 59,
   "metadata": {},
   "outputs": [],
   "source": [
    "T = np.array([[1, 1-1j], [1+1j, 0]])"
   ]
  },
  {
   "cell_type": "code",
   "execution_count": 60,
   "metadata": {},
   "outputs": [
    {
     "data": {
      "text/plain": [
       "True"
      ]
     },
     "execution_count": 60,
     "metadata": {},
     "output_type": "execute_result"
    }
   ],
   "source": [
    "np.all(np.conj(T.T) == T)"
   ]
  },
  {
   "cell_type": "markdown",
   "metadata": {},
   "source": [
    "### Part b.\n",
    "\n",
    "The eigenvalues are found by solving the following equation:\n",
    "\n",
    "$$\n",
    "\\left| \\begin{matrix}\n",
    "1 - \\lambda & 1 - i \\\\\n",
    "1 + i & -\\lambda\n",
    "\\end{matrix} \\right| = 0\n",
    "$$\n",
    "\n",
    "$$\n",
    "\\begin{eqnarray}\n",
    "\\implies \\lambda^2 - \\lambda - (1 - i)(1 + i) & = & 0 \\\\\n",
    "\\implies \\lambda^2 - \\lambda - 2 & = & 0 \\\\\n",
    "\\implies \\lambda & = & \\frac{1}{2} \\left( 1 \\pm \\sqrt{1 + 8} \\right) \\\\\n",
    "\\implies \\lambda & \\in & \\{-1, 2\\}\n",
    "\\end{eqnarray}\n",
    "$$"
   ]
  },
  {
   "cell_type": "code",
   "execution_count": 61,
   "metadata": {},
   "outputs": [
    {
     "data": {
      "text/plain": [
       "array([ 2.+1.04672831e-16j, -1.-1.04672831e-16j])"
      ]
     },
     "execution_count": 61,
     "metadata": {},
     "output_type": "execute_result"
    }
   ],
   "source": [
    "np.linalg.eig(T)[0]"
   ]
  },
  {
   "cell_type": "markdown",
   "metadata": {},
   "source": [
    "### Part c.\n",
    "\n",
    "The eigenvector associated with the eigenvalue 2 is given by the solution to the equation\n",
    "\n",
    "$$\n",
    "\\left( \\begin{matrix}\n",
    "1 & 1 - i \\\\\n",
    "1 + i & 0\n",
    "\\end{matrix} \\right) \\left( \\begin{matrix}\n",
    "v_1 \\\\\n",
    "v_2\n",
    "\\end{matrix} \\right) = 2 \\left( \\begin{matrix}\n",
    "v_1 \\\\\n",
    "v_2\n",
    "\\end{matrix} \\right)\n",
    "$$"
   ]
  },
  {
   "cell_type": "markdown",
   "metadata": {},
   "source": [
    "This implies the following system of equations:\n",
    "\n",
    "$$\n",
    "\\begin{eqnarray}\n",
    "v_1 + (1 - i) v_2 & = & 2 v_1 \\\\\n",
    "(1 + i) v_1 = 2 v_2\n",
    "\\end{eqnarray}\n",
    "$$\n",
    "\n",
    "This yields the unnormalized eigenvector:\n",
    "\n",
    "$$\n",
    "\\textbf{v}^{(2)} = \\left( \\begin{matrix}\n",
    "1 \\\\\n",
    "\\frac{1}{2} (1 + i)\n",
    "\\end{matrix} \\right)\n",
    "$$\n",
    "\n",
    "Normalizing yields\n",
    "\n",
    "$$\n",
    "\\hat{\\textbf{v}}^{(2)} = \\left( \\begin{matrix}\n",
    "\\sqrt{\\frac{2}{3}} \\\\\n",
    "\\frac{1 + i}{\\sqrt{6}}\n",
    "\\end{matrix} \\right)\n",
    "$$"
   ]
  },
  {
   "cell_type": "markdown",
   "metadata": {},
   "source": [
    "The eigenvector associated with the eigenvalue -1 is given by the solution to the system of equations:\n",
    "\n",
    "$$\n",
    "\\begin{eqnarray}\n",
    "v_1 + (1 - i) v_2 & = & -v_1 \\\\\n",
    "(1 + i) v_1 = -v_2\n",
    "\\end{eqnarray}\n",
    "$$\n",
    "\n",
    "This yields the unnormalized eigenvector\n",
    "\n",
    "$$\n",
    "\\textbf{v}^{(-1)} = \\left( \\begin{matrix}\n",
    "1 \\\\\n",
    "-1 - i\n",
    "\\end{matrix} \\right)\n",
    "$$\n",
    "\n",
    "Normalizing yields\n",
    "\n",
    "$$\n",
    "\\hat{\\textbf{v}}^{(-1)} = \\left( \\begin{matrix}\n",
    "\\frac{1}{\\sqrt{3}} \\\\\n",
    "-\\frac{1 + i}{\\sqrt{3}}\n",
    "\\end{matrix} \\right)\n",
    "$$"
   ]
  },
  {
   "cell_type": "code",
   "execution_count": 62,
   "metadata": {},
   "outputs": [
    {
     "data": {
      "text/plain": [
       "array([[ 0.81649658+0.j        , -0.40824829+0.40824829j],\n",
       "       [ 0.40824829+0.40824829j,  0.81649658+0.j        ]])"
      ]
     },
     "execution_count": 62,
     "metadata": {},
     "output_type": "execute_result"
    }
   ],
   "source": [
    "np.linalg.eig(T)[1]"
   ]
  },
  {
   "cell_type": "code",
   "execution_count": 63,
   "metadata": {},
   "outputs": [
    {
     "data": {
      "text/plain": [
       "array([0.81649658+0.j        , 0.40824829+0.40824829j])"
      ]
     },
     "execution_count": 63,
     "metadata": {},
     "output_type": "execute_result"
    }
   ],
   "source": [
    "np.array([np.sqrt(2 / 3), (1 + 1j) / np.sqrt(6)])"
   ]
  },
  {
   "cell_type": "code",
   "execution_count": 64,
   "metadata": {},
   "outputs": [
    {
     "data": {
      "text/plain": [
       "array([ 0.57735027+0.j        , -0.57735027-0.57735027j])"
      ]
     },
     "execution_count": 64,
     "metadata": {},
     "output_type": "execute_result"
    }
   ],
   "source": [
    "np.array([1 / np.sqrt(3), -(1 + 1j) / np.sqrt(3)])"
   ]
  },
  {
   "cell_type": "code",
   "execution_count": 65,
   "metadata": {},
   "outputs": [
    {
     "data": {
      "text/plain": [
       "0.9999999999999998"
      ]
     },
     "execution_count": 65,
     "metadata": {},
     "output_type": "execute_result"
    }
   ],
   "source": [
    "np.abs(1 / (np.linalg.eig(T)[1][0, 1] * np.sqrt(3)))"
   ]
  },
  {
   "cell_type": "code",
   "execution_count": 66,
   "metadata": {},
   "outputs": [
    {
     "data": {
      "text/plain": [
       "array([ 0.57735027+0.j        , -0.57735027-0.57735027j])"
      ]
     },
     "execution_count": 66,
     "metadata": {},
     "output_type": "execute_result"
    }
   ],
   "source": [
    "np.linalg.eig(T)[1][:, 1] / (np.linalg.eig(T)[1][0, 1] * np.sqrt(3))"
   ]
  },
  {
   "cell_type": "markdown",
   "metadata": {},
   "source": [
    "### Part d.\n",
    "\n",
    "The inverse of the diagonalizing matrix is\n",
    "\n",
    "$$\n",
    "\\textbf{S}^{-1} = \\left( \\begin{matrix}\n",
    "\\sqrt{\\frac{2}{3}} & \\frac{1}{\\sqrt{3}} \\\\\n",
    "\\frac{1 + i}{\\sqrt{6}} & -\\frac{1 + i}{\\sqrt{3}}\n",
    "\\end{matrix} \\right)\n",
    "$$"
   ]
  },
  {
   "cell_type": "markdown",
   "metadata": {},
   "source": [
    "Now calculating $\\textbf{S}$ we have\n",
    "\n",
    "$$\n",
    "\\textbf{S} = \\left( -\\frac{\\sqrt{2}}{3}(1 + i) - \\frac{1}{3 \\sqrt{2}} (1 + i) \\right)^{-1} \\left( \\begin{matrix}\n",
    "-\\frac{1 + i}{\\sqrt{3}} & -\\frac{1}{\\sqrt{3}} \\\\\n",
    "-\\frac{1 + i}{\\sqrt{6}} & \\sqrt{\\frac{2}{3}}\n",
    "\\end{matrix} \\right)\n",
    "$$"
   ]
  },
  {
   "cell_type": "markdown",
   "metadata": {},
   "source": [
    "So we have\n",
    "\n",
    "$$\n",
    "\\textbf{S} = - \\frac{\\sqrt{2}}{1 + i} \\left( \\begin{matrix}\n",
    "-\\frac{1 + i}{\\sqrt{3}} & -\\frac{1}{\\sqrt{3}} \\\\\n",
    "\\frac{1 + i}{\\sqrt{6}} & \\sqrt{\\frac{2}{3}}\n",
    "\\end{matrix} \\right)\n",
    "$$\n",
    "\n",
    "which reduces to\n",
    "\n",
    "$$\n",
    "\\textbf{S} = \\left( \\begin{matrix}\n",
    "\\sqrt{\\frac{2}{3}} & \\frac{1 - i}{\\sqrt{6}} \\\\\n",
    "\\frac{1}{\\sqrt{3}} & -\\frac{1 - i}{\\sqrt{3}}\n",
    "\\end{matrix} \\right)\n",
    "$$"
   ]
  },
  {
   "cell_type": "code",
   "execution_count": 67,
   "metadata": {},
   "outputs": [],
   "source": [
    "Sinv = np.array([[np.sqrt(2 / 3), 1 / np.sqrt(3)], [(1 + 1j) / np.sqrt(6), -(1 + 1j) / np.sqrt(3)]])"
   ]
  },
  {
   "cell_type": "code",
   "execution_count": 68,
   "metadata": {},
   "outputs": [
    {
     "data": {
      "text/plain": [
       "array([[ 0.81649658+0.j        ,  0.40824829-0.40824829j],\n",
       "       [ 0.57735027+0.j        , -0.57735027+0.57735027j]])"
      ]
     },
     "execution_count": 68,
     "metadata": {},
     "output_type": "execute_result"
    }
   ],
   "source": [
    "S = np.linalg.inv(Sinv)\n",
    "S"
   ]
  },
  {
   "cell_type": "code",
   "execution_count": 69,
   "metadata": {},
   "outputs": [
    {
     "data": {
      "text/plain": [
       "array([[ 0.81649658+0.j        ,  0.40824829-0.40824829j],\n",
       "       [ 0.57735027+0.j        , -0.57735027+0.57735027j]])"
      ]
     },
     "execution_count": 69,
     "metadata": {},
     "output_type": "execute_result"
    }
   ],
   "source": [
    "np.array([[np.sqrt(2 / 3), (1 - 1j) / np.sqrt(6)], [1 / np.sqrt(3), -(1 - 1j) / np.sqrt(3)]])"
   ]
  },
  {
   "cell_type": "markdown",
   "metadata": {},
   "source": [
    "Now let's check that we can use $\\textbf{S}$ to diagonalize $\\textbf{T}$:\n",
    "\n",
    "$$\n",
    "\\textbf{S}\\textbf{T}\\textbf{S}^{-1} = \\left( \\begin{matrix}\n",
    "\\sqrt{\\frac{2}{3}} & \\frac{1 - i}{\\sqrt{6}} \\\\\n",
    "\\frac{1}{\\sqrt{3}} & -\\frac{1 - i}{\\sqrt{3}}\n",
    "\\end{matrix} \\right) \\left( \\begin{matrix}\n",
    "1 & 1 - i \\\\\n",
    "1 + i & 0\n",
    "\\end{matrix} \\right) \\left( \\begin{matrix}\n",
    "\\sqrt{\\frac{2}{3}} & \\frac{1}{\\sqrt{3}} \\\\\n",
    "\\frac{1 + i}{\\sqrt{6}} & -\\frac{1 + i}{\\sqrt{3}}\n",
    "\\end{matrix} \\right)\n",
    "$$"
   ]
  },
  {
   "cell_type": "markdown",
   "metadata": {},
   "source": [
    "$$\n",
    "\\textbf{S}\\textbf{T}\\textbf{S}^{-1} = \\left( \\begin{matrix}\n",
    "\\frac{2 \\sqrt{2}}{\\sqrt{3}} & \\sqrt{\\frac{2}{3}}(1 - i) \\\\\n",
    "-\\frac{1}{\\sqrt{3}} & \\frac{1 - i}{\\sqrt{3}}\n",
    "\\end{matrix} \\right) \\left( \\begin{matrix}\n",
    "\\sqrt{\\frac{2}{3}} & \\frac{1}{\\sqrt{3}} \\\\\n",
    "\\frac{1 + i}{\\sqrt{6}} & -\\frac{1 + i}{\\sqrt{3}}\n",
    "\\end{matrix} \\right)\n",
    "$$"
   ]
  },
  {
   "cell_type": "markdown",
   "metadata": {},
   "source": [
    "$$\n",
    "\\textbf{S}\\textbf{T}\\textbf{S}^{-1} = \\left( \\begin{matrix}\n",
    "2 & 0 \\\\\n",
    "0 & -1\n",
    "\\end{matrix} \\right)\n",
    "$$"
   ]
  },
  {
   "cell_type": "markdown",
   "metadata": {},
   "source": [
    "### Part e.\n",
    "\n",
    "We have\n",
    "\n",
    "$$\n",
    "\\textrm{Tr}(\\textbf{T}) = 1\n",
    "$$\n",
    "\n",
    "and\n",
    "\n",
    "$$\n",
    "\\textrm{det}(\\textbf{T}) = -2\n",
    "$$\n",
    "\n",
    "in both the original form and the diagonalized form."
   ]
  },
  {
   "cell_type": "markdown",
   "metadata": {},
   "source": [
    "## Problem A.26\n",
    "\n",
    "### Part a.\n",
    "\n",
    "We have\n",
    "\n",
    "$$\n",
    "\\textrm{det}(\\textbf{T}) = 2 \\left| \\begin{matrix}\n",
    "2 & i \\\\\n",
    "-i & 2 \\\\\n",
    "\\end{matrix} \\right| - i \\left| \\begin{matrix}\n",
    "-i & i \\\\\n",
    "1 & 2 \\\\\n",
    "\\end{matrix} \\right| + \\left| \\begin{matrix}\n",
    "-i & 2 \\\\\n",
    "1 & -i \\\\\n",
    "\\end{matrix} \\right| = 6 - 3 - 3 = 0\n",
    "$$\n",
    "\n",
    "And for the trace we have\n",
    "\n",
    "$$\n",
    "\\textrm{Tr}(\\textbf{T}) = 2 + 2 + 2 = 6\n",
    "$$"
   ]
  },
  {
   "cell_type": "markdown",
   "metadata": {},
   "source": [
    "### Part b.\n",
    "\n",
    "To find the eigenvalues we must solve the equation\n",
    "\n",
    "$$\n",
    "\\left| \\begin{matrix}\n",
    "2 - \\lambda & i & 1 \\\\\n",
    "-i & 2 - \\lambda & i \\\\\n",
    "1 & -i & 2 - \\lambda \\\\\n",
    "\\end{matrix} \\right| = 0\n",
    "$$\n",
    "\n",
    "$$\n",
    "\\implies (2 - \\lambda) \\left| \\begin{matrix}\n",
    "2 - \\lambda & i \\\\\n",
    "-i & 2 - \\lambda\n",
    "\\end{matrix} \\right| - i \\left| \\begin{matrix}\n",
    "-i & i \\\\\n",
    "1 & 2 - \\lambda \\\\\n",
    "\\end{matrix} \\right| + \\left| \\begin{matrix}\n",
    "-i & 2 - \\lambda \\\\\n",
    "1 & -i \\\\\n",
    "\\end{matrix} \\right| = 0\n",
    "$$\n",
    "\n",
    "$$\n",
    "\\implies (2 - \\lambda)^3 + 3 \\lambda - 8 = 0\n",
    "$$\n",
    "\n",
    "$$\n",
    "\\implies \\lambda^3 - 6 \\lambda^2 + 9 \\lambda = 0\n",
    "$$\n",
    "\n",
    "$$\n",
    "\\begin{eqnarray}\n",
    "\\implies \\lambda_1 & = & 0 \\\\\n",
    "\\lambda_2 & = & 3 \\\\\n",
    "\\lambda_3 & = & 3\n",
    "\\end{eqnarray}\n",
    "$$\n",
    "\n",
    "where $\\lambda = 3$ has a degeneracy of 2.  As is necessary, the sum of the eigenvalues is 6, consistent with the trace of $\\textbf{T}$ and their product is 0, consistent with the determinant.  The diagonalized form of $\\textbf{T}$ is\n",
    "\n",
    "$$\n",
    "\\textbf{T}^{\\prime} = \\left( \\begin{matrix}\n",
    "3 & 0 & 0 \\\\\n",
    "0 & 3 & 0 \\\\\n",
    "0 & 0 & 0\n",
    "\\end{matrix} \\right)\n",
    "$$"
   ]
  },
  {
   "cell_type": "markdown",
   "metadata": {},
   "source": [
    "### Part c.\n",
    "\n",
    "Let us find the eigenvector associated with $\\lambda_1 = 0$.  We must solve the following system of equations:\n",
    "\n",
    "$$\n",
    "\\begin{eqnarray}\n",
    "2 v_1 + i v_2 + v_3 & = & 0 \\\\\n",
    "-i v_1 + 2 v_2 + i v_3 & = & 0 \\\\\n",
    "v_1 - i v_2 + 2 v_3 & = & 0\n",
    "\\end{eqnarray}\n",
    "$$\n",
    "\n",
    "From the last equation we have\n",
    "$$\n",
    "v_1 = i v_2 - 2 v_3\n",
    "$$\n",
    "\n",
    "Substituting into the first we have\n",
    "\n",
    "$$\n",
    "2 (i v_2 - 2 v_3) + i v_2 + v_3 = 0\n",
    "$$\n",
    "\n",
    "$$\n",
    "\\implies 3i v_2 - 3 v_3 = 0\n",
    "$$\n",
    "\n",
    "$$\n",
    "\\implies v_3 = i v_2\n",
    "$$\n",
    "\n",
    "And now substituting back into the equation for $v_1$ we have\n",
    "\n",
    "$$\n",
    "v_1 = -i v_2\n",
    "$$\n",
    "\n",
    "Hence the first eigenvector is\n",
    "\n",
    "$$\n",
    "\\textbf{v}^{(1)} = \\left( \\begin{matrix}\n",
    "-i \\\\\n",
    "1 \\\\\n",
    "i\n",
    "\\end{matrix} \\right)\n",
    "$$\n",
    "\n",
    "Normalizing gives\n",
    "\n",
    "$$\n",
    "\\hat{\\textbf{v}}^{(1)} = \\frac{1}{\\sqrt{3}} \\left( \\begin{matrix}\n",
    "-i \\\\\n",
    "1 \\\\\n",
    "i\n",
    "\\end{matrix} \\right)\n",
    "$$"
   ]
  },
  {
   "cell_type": "markdown",
   "metadata": {},
   "source": [
    "The next two are degenerate with each other and are solutions to the following system of equations:\n",
    "\n",
    "$$\n",
    "\\begin{eqnarray}\n",
    "2 v_1 + i v_2 + v_3 & = & 3 v_1 \\\\\n",
    "-i v_1 + 2 v_2 + i v_3 & = & 3 v_2 \\\\\n",
    "v_1 - i v_2 + 2 v_3 & = & 3 v_3\n",
    "\\end{eqnarray}\n",
    "$$"
   ]
  },
  {
   "cell_type": "markdown",
   "metadata": {},
   "source": [
    "Solving the first equation, we have\n",
    "\n",
    "$$\n",
    "v_1 = i v_2 + v_3\n",
    "$$"
   ]
  },
  {
   "cell_type": "markdown",
   "metadata": {},
   "source": [
    "Due to the degeneracy, this is the only constraint on the eigenvectors.  For the first, let us choose $v_2 = 0$ and $v_1 = 1$.  Then we have\n",
    "\n",
    "$$\n",
    "\\textbf{v}^{(2)} = \\left( \\begin{matrix}\n",
    "1 \\\\\n",
    "0 \\\\\n",
    "1 \\\\\n",
    "\\end{matrix} \\right)\n",
    "$$\n",
    "\n",
    "Normalizing gives\n",
    "\n",
    "$$\n",
    "\\hat{\\textbf{v}}^{(2)} = \\frac{1}{\\sqrt{2}} \\left( \\begin{matrix}\n",
    "1 \\\\\n",
    "0 \\\\\n",
    "1 \\\\\n",
    "\\end{matrix} \\right)\n",
    "$$"
   ]
  },
  {
   "cell_type": "markdown",
   "metadata": {},
   "source": [
    "The last eigenvector must obey the above constraint but have an orthogonal component to the second eigenvector.  Let us choose $v_2 = i$ and $v_3 = 0$.  Then we have\n",
    "\n",
    "$$\n",
    "\\textbf{v}^{\\prime (3)} = \\left( \\begin{matrix}\n",
    "-1 \\\\\n",
    "i \\\\\n",
    "0\n",
    "\\end{matrix} \\right)\n",
    "$$\n",
    "\n"
   ]
  },
  {
   "cell_type": "markdown",
   "metadata": {},
   "source": [
    "But we would like this third eigenvector to be orthogonal to the second so let us orthogonalize it via the Gram-Schmidt process:\n",
    "\n",
    "$$\n",
    "\\textbf{v}^{(3)} = \\left( \\begin{matrix}\n",
    "-1 \\\\\n",
    "i \\\\\n",
    "0\n",
    "\\end{matrix} \\right) - \\braket{v^{(2)}}{v^{\\prime (3)}}\\ket{v^{(2)}} = \\left( \\begin{matrix}\n",
    "-1 \\\\\n",
    "i \\\\\n",
    "0\n",
    "\\end{matrix} \\right) + \\frac{1}{2} \\left( \\begin{matrix}\n",
    "1 \\\\\n",
    "0 \\\\\n",
    "1\n",
    "\\end{matrix} \\right) = \\left( \\begin{matrix}\n",
    "-\\frac{1}{2} \\\\\n",
    "i \\\\\n",
    "\\frac{1}{2}\n",
    "\\end{matrix} \\right)\n",
    "$$"
   ]
  },
  {
   "cell_type": "markdown",
   "metadata": {},
   "source": [
    "Normalizing gives\n",
    "\n",
    "$$\n",
    "\\hat{\\textbf{v}}^{(3)} = \\frac{1}{\\sqrt{6}} \\left( \\begin{matrix}\n",
    "-1 \\\\\n",
    "2i \\\\\n",
    "1\n",
    "\\end{matrix} \\right)\n",
    "$$"
   ]
  },
  {
   "cell_type": "markdown",
   "metadata": {},
   "source": [
    "These eigenvectors are mutually orthogonal because\n",
    "\n",
    "$$\n",
    "\\braket{\\hat{\\textbf{v}}^{(1)}}{\\hat{\\textbf{v}}^{(2)}} = \\frac{i}{\\sqrt{3}} \\times \\frac{1}{\\sqrt{2}} + \\frac{1}{\\sqrt{3}} \\times 0 - \\frac{i}{\\sqrt{3}} \\times \\frac{1}{\\sqrt{2}} = 0\n",
    "$$"
   ]
  },
  {
   "cell_type": "markdown",
   "metadata": {},
   "source": [
    "$$\n",
    "\\braket{\\hat{\\textbf{v}}^{(1)}}{\\hat{\\textbf{v}}^{(3)}} = \\frac{i}{\\sqrt{3}} \\times \\left( -\\frac{1}{\\sqrt{6}} \\right) + \\frac{1}{\\sqrt{3}} \\times \\frac{2i}{\\sqrt{6}} - \\frac{i}{\\sqrt{3}} \\times \\frac{1}{\\sqrt{6}} = 0\n",
    "$$"
   ]
  },
  {
   "cell_type": "markdown",
   "metadata": {},
   "source": [
    "$$\n",
    "\\braket{\\hat{\\textbf{v}}^{(2)}}{\\hat{\\textbf{v}}^{(3)}} = \\frac{1}{\\sqrt{2}} \\times \\left( -\\frac{1}{\\sqrt{6}} \\right) + 0 \\times \\frac{2i}{\\sqrt{6}} + \\frac{1}{\\sqrt{2}} \\times \\frac{1}{\\sqrt{6}} = 0\n",
    "$$"
   ]
  },
  {
   "cell_type": "code",
   "execution_count": 70,
   "metadata": {},
   "outputs": [],
   "source": [
    "v1p = np.array([-1j, 1, 1j]) / np.sqrt(3)\n",
    "v2p = np.array([1, 0, 1]) / np.sqrt(2)\n",
    "v3p = np.array([-1, 2j, 1]) / np.sqrt(6)"
   ]
  },
  {
   "cell_type": "code",
   "execution_count": 71,
   "metadata": {},
   "outputs": [
    {
     "name": "stdout",
     "output_type": "stream",
     "text": [
      "1.0\n",
      "0.9999999999999999\n",
      "1.0\n"
     ]
    }
   ],
   "source": [
    "print(np.linalg.norm(v1p))\n",
    "print(np.linalg.norm(v2p))\n",
    "print(np.linalg.norm(v3p))"
   ]
  },
  {
   "cell_type": "code",
   "execution_count": 72,
   "metadata": {},
   "outputs": [
    {
     "name": "stdout",
     "output_type": "stream",
     "text": [
      "0j\n",
      "0j\n",
      "0j\n"
     ]
    }
   ],
   "source": [
    "print(np.vdot(v1p, v2p))\n",
    "print(np.vdot(v1p, v3p))\n",
    "print(np.vdot(v2p, v3p))"
   ]
  },
  {
   "cell_type": "markdown",
   "metadata": {},
   "source": [
    "### Part d.\n",
    "\n",
    "The inverse of the diagonalizing matrix has the eigenvectros in the columns:\n",
    "\n",
    "$$\n",
    "\\textbf{S}^{-1} = \\left( \\begin{matrix}\n",
    "-\\frac{i}{\\sqrt{3}} & \\frac{1}{\\sqrt{2}} & -\\frac{1}{\\sqrt{6}} \\\\\n",
    "\\frac{1}{\\sqrt{3}} & 0 & \\frac{2i}{\\sqrt{6}} \\\\\n",
    "\\frac{i}{\\sqrt{3}} & \\frac{1}{\\sqrt{2}} & \\frac{1}{\\sqrt{6}}\n",
    "\\end{matrix} \\right)\n",
    "$$"
   ]
  },
  {
   "cell_type": "markdown",
   "metadata": {},
   "source": [
    "Since this matrix is unitary, the inverse is just the adjoint:\n",
    "\n",
    "$$\n",
    "\\textbf{S} = \\left( \\begin{matrix}\n",
    "\\frac{i}{\\sqrt{3}} & \\frac{1}{\\sqrt{3}} & -\\frac{i}{\\sqrt{3}} \\\\\n",
    "\\frac{1}{\\sqrt{2}} & 0 & \\frac{1}{\\sqrt{2}} \\\\\n",
    "\\frac{i}{\\sqrt{6}} & -\\frac{2i}{\\sqrt{6}} & \\frac{1}{\\sqrt{6}}\n",
    "\\end{matrix} \\right)\n",
    "$$"
   ]
  },
  {
   "cell_type": "markdown",
   "metadata": {},
   "source": [
    "This means that\n",
    "\n",
    "$$\n",
    "\\textbf{S} \\textbf{T} \\textbf{S}^{-1} = \\left( \\begin{matrix}\n",
    "0 & 0 & 0 \\\\\n",
    "0 & 3 & 0 \\\\\n",
    "0 & 0 & 3\n",
    "\\end{matrix} \\right)\n",
    "$$"
   ]
  },
  {
   "cell_type": "markdown",
   "metadata": {},
   "source": [
    "## Problem A.27"
   ]
  },
  {
   "cell_type": "markdown",
   "metadata": {},
   "source": [
    "### Part a.\n",
    "\n",
    "We would like to show that for an arbitrary unitary transformation, $\\hat{U}$, we have\n",
    "\n",
    "$$\n",
    "\\braket{\\hat{U} \\alpha}{\\hat{U} \\beta} = \\braket{\\alpha}{\\beta}.\n",
    "$$\n",
    "\n",
    "The dot product on the left can be written in matrix notation as\n",
    "\n",
    "$$\n",
    "\\begin{eqnarray}\n",
    "\\braket{\\hat{U} \\alpha}{\\hat{U} \\beta} & = & (\\textbf{U} \\alpha)^T (\\textbf{U} \\beta) \\\\\n",
    "& = & \\alpha^T \\textbf{U}^T \\textbf{U} \\beta \\\\\n",
    "& = & \\alpha^T \\textbf{U}^{-1} \\textbf{U} \\beta \\\\\n",
    "& = & \\alpha^T \\beta \\\\\n",
    "& = & \\braket{\\alpha}{\\beta}\n",
    "\\end{eqnarray}\n",
    "$$"
   ]
  },
  {
   "cell_type": "markdown",
   "metadata": {},
   "source": [
    "### Part b.\n",
    "\n",
    "We would now like to show that the eigenvalues of a unitary transform have unitary modulus.  Suppose the transformation has eigenvalue $\\lambda$.  Then we have:\n",
    "\n",
    "$$\n",
    "\\begin{eqnarray}\n",
    "& \\hat{U} \\ket{\\alpha} = \\lambda \\ket{\\alpha} \\\\\n",
    "\\implies & \\hat{U}^{-1} \\hat{U} \\ket{\\alpha} = \\lambda \\hat{U}^{-1} \\ket{\\alpha} \\\\\n",
    "\\implies & \\hat{U}^{-1} \\ket{\\alpha} = \\frac{1}{\\lambda} \\ket{\\alpha} \\\\\n",
    "\\implies & \\hat{U}^{\\dagger} \\ket{\\alpha} = \\frac{1}{\\lambda} \\ket{\\alpha} \\\\\n",
    "\\end{eqnarray}\n",
    "$$\n",
    "\n"
   ]
  },
  {
   "cell_type": "markdown",
   "metadata": {},
   "source": [
    "This now means that\n",
    "\n",
    "$$\n",
    "\\braket{\\alpha}{\\hat{U} \\alpha} = \\frac{1}{\\lambda} \\braket{\\alpha}{\\alpha}\n",
    "$$\n",
    "\n",
    "But we can also write\n",
    "\n",
    "$$\n",
    "\\begin{eqnarray}\n",
    "\\braket{\\alpha}{\\hat{U} \\alpha} & = & \\braket{\\hat{U}^{\\dagger} \\alpha}{\\alpha} \\\\\n",
    "& = & \\lambda^* \\braket{\\alpha}{\\alpha} \\\\\n",
    "\\end{eqnarray}\n",
    "$$\n",
    "\n",
    "This implies that\n",
    "\n",
    "$$\n",
    "\\frac{1}{\\lambda} \\braket{\\alpha}{\\alpha} = \\lambda^* \\braket{\\alpha}{\\alpha}\n",
    "$$\n",
    "\n",
    "$$\n",
    "\\implies \\lambda \\lambda^* = 1\n",
    "$$\n",
    "\n",
    "And so $|\\lambda|^2 = 1$."
   ]
  },
  {
   "cell_type": "markdown",
   "metadata": {},
   "source": [
    "### Part c.\n",
    "\n",
    "Now we wish to show that eigenvectors associated with distinct eigenvalues of a unitary transformation are orthogonal.  Consider two eigenvalues and eigenvectors:\n",
    "\n",
    "$$\n",
    "\\begin{eqnarray}\n",
    "\\hat{U} \\ket{\\alpha} & = & \\lambda_1 \\ket{\\alpha} \\\\\n",
    "\\hat{U} \\ket{\\beta} & = & \\lambda_2 \\ket{\\beta}\n",
    "\\end{eqnarray}\n",
    "$$\n",
    "\n",
    "Now consider the dot product of the eigenvectors:\n",
    "\n",
    "$$\n",
    "\\begin{eqnarray}\n",
    "\\braket{\\beta}{\\alpha} & = & \\braket{\\beta}{\\hat{U}^{-1} \\hat{U} \\alpha} \\\\\n",
    "& = & \\braket{\\hat{U} \\beta}{\\hat{U} \\alpha} \\\\\n",
    "& = & \\lambda_1 \\lambda_2^* \\braket{\\beta}{\\alpha}\n",
    "\\end{eqnarray}\n",
    "$$\n",
    "\n",
    "Now let us suppose that $\\braket{\\beta}{\\alpha}$ is nonzero (i.e., the two eigenvectors are not orthogonal).  Then we must have that\n",
    "\n",
    "$$\n",
    "\\lambda_1 \\lambda_2^* = 1\n",
    "$$\n",
    "\n",
    "But we know from Part b. that the modulus of each eigenvalue is unity.  The only way to multiply two complex numbers of unit modulus and get unity is if they are complex conjugates of one another.  (This can be seen by noting that the product of such a number with its complex conjugate will return unity, and the inverse is unique.)  This implies that $\\lambda_1 = \\lambda_2$.  But by assumption $\\lambda_1 \\neq \\lambda_2$ so we have a contradiction and it must be the case that $\\braket{\\beta}{\\alpha} = 0$."
   ]
  }
 ],
 "metadata": {
  "kernelspec": {
   "display_name": "Python 3",
   "language": "python",
   "name": "python3"
  },
  "language_info": {
   "codemirror_mode": {
    "name": "ipython",
    "version": 3
   },
   "file_extension": ".py",
   "mimetype": "text/x-python",
   "name": "python",
   "nbconvert_exporter": "python",
   "pygments_lexer": "ipython3",
   "version": "3.6.5"
  }
 },
 "nbformat": 4,
 "nbformat_minor": 2
}
