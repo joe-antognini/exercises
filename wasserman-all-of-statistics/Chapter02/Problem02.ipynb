{
 "cells": [
  {
   "cell_type": "markdown",
   "metadata": {},
   "source": [
    "# Problem 2.2"
   ]
  },
  {
   "cell_type": "markdown",
   "metadata": {},
   "source": [
    "$$\n",
    "F(x) = \\begin{cases}\n",
    "0, & x < 2 \\\\\n",
    "\\frac{1}{10}, & 2 \\leq x < 3 \\\\\n",
    "\\frac{1}{5}, & 3 \\leq x < 5 \\\\\n",
    "1, & x \\geq 5\n",
    "\\end{cases}\n",
    "$$"
   ]
  },
  {
   "cell_type": "code",
   "execution_count": 1,
   "metadata": {},
   "outputs": [],
   "source": [
    "import matplotlib.pyplot as plt\n",
    "import numpy as np"
   ]
  },
  {
   "cell_type": "code",
   "execution_count": 2,
   "metadata": {},
   "outputs": [],
   "source": [
    "X1 = np.arange(0, 3.)\n",
    "X2 = np.arange(2, 4.)\n",
    "X3 = np.arange(3, 6.)\n",
    "X4 = np.arange(5, 7.)\n",
    "\n",
    "Y1 = np.full_like(X1, 0)\n",
    "Y2 = np.full_like(X2, 1 / 10)\n",
    "Y3 = np.full_like(X3, 1 / 5)\n",
    "Y4 = np.full_like(X4, 1)"
   ]
  },
  {
   "cell_type": "code",
   "execution_count": 3,
   "metadata": {},
   "outputs": [
    {
     "data": {
      "image/png": "[encoded data removed]",
      "text/plain": [
       "<Figure size 360x360 with 1 Axes>"
      ]
     },
     "metadata": {
      "needs_background": "light"
     },
     "output_type": "display_data"
    }
   ],
   "source": [
    "plt.figure(figsize=(5, 5))\n",
    "\n",
    "for x, y in zip([X1, X2, X3, X4], [Y1, Y2, Y3, Y4]):\n",
    "    plt.plot(x, y, color='k')\n",
    "    plt.scatter(x[:1], y[:1], s=100, color='k')\n",
    "    plt.scatter(x[-1:], y[-1:], s=100, facecolors='none', color='k')\n",
    "\n",
    "plt.xlabel(r'$x$')\n",
    "plt.ylabel(r'$F(x)$');"
   ]
  },
  {
   "cell_type": "markdown",
   "metadata": {},
   "source": [
    "$$\n",
    "\\begin{eqnarray}\n",
    "\\mathbb{P}(2 < X \\leq 4.8) & = & F(4.8) - F(2) \\\\\n",
    "& = & \\frac{1}{5} - \\frac{1}{10} \\\\\n",
    "& = & \\frac{1}{10}\n",
    "\\end{eqnarray}\n",
    "$$\n",
    "\n",
    "$$\n",
    "\\begin{eqnarray}\n",
    "\\mathbb{P}(2 \\leq x \\leq 4.8) & = & F(4.8) - \\lim_{x \\to 2^-} F(x) \\\\\n",
    "& = & \\frac{1}{5} - 0 \\\\\n",
    "& = & \\frac{1}{5}\n",
    "\\end{eqnarray}\n",
    "$$"
   ]
  }
 ],
 "metadata": {
  "kernelspec": {
   "display_name": "Python 3 (ipykernel)",
   "language": "python",
   "name": "python3"
  },
  "language_info": {
   "codemirror_mode": {
    "name": "ipython",
    "version": 3
   },
   "file_extension": ".py",
   "mimetype": "text/x-python",
   "name": "python",
   "nbconvert_exporter": "python",
   "pygments_lexer": "ipython3",
   "version": "3.10.6"
  }
 },
 "nbformat": 4,
 "nbformat_minor": 4
}
