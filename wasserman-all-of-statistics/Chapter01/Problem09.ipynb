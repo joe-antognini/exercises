{
 "cells": [
  {
   "cell_type": "markdown",
   "metadata": {},
   "source": [
    "# Problem 1.9\n",
    "\n",
    "For some arbitrary event $A$,\n",
    "\n",
    "$$\n",
    "\\mathbb{P} (A | B) \\equiv \\frac{\\mathbb{P}(AB)}{\\mathbb{P}(B)}\n",
    "$$\n",
    "\n",
    "Since by assumption $\\mathbb{P}(B) > 0$ and $\\mathbb{P}(AB) > 0$, by the axioms of probability,\n",
    "\n",
    "$$\n",
    "\\frac{\\mathbb{P}(AB)}{\\mathbb{P}(B)} > 0\n",
    "$$\n",
    "\n",
    "So $\\mathbb{P}(A|B)$ satisfies the first axiom of probability.  Next, consider $\\mathbb{P}(\\Omega|B)$.\n",
    "\n",
    "$$\n",
    "\\begin{eqnarray}\n",
    "\\mathbb{P}(\\Omega|B) & = & \\frac{\\mathbb{P}(\\Omega \\cap B)}{\\mathbb{P}(B)} \\\\\n",
    "& = & \\frac{\\mathbb{P}(B)}{\\mathbb{P}(B)} \\\\\n",
    "& = & 1\n",
    "\\end{eqnarray}\n",
    "$$\n",
    "\n",
    "So the second axiom is satisfied.  Finally, consider for $A_i$ disjoint,\n",
    "\n",
    "$$\n",
    "\\begin{eqnarray}\n",
    "\\mathbb{P} \\left( \\bigcup_{i=1}^{\\infty} A_i | B \\right) & = & \\frac{\\mathbb{P} \\left[ \\left( \\bigcup_{i=1}^{\\infty} A_i \\right) \\cap B \\right]}{\\mathbb{P}(B)} \\\\\n",
    "& = & \\frac{\\mathbb{P}\\left( \\bigcup_{i=1}^{\\infty} \\left( A_i \\cap B \\right) \\right)}{\\mathbb{P}(B)} \\\\\n",
    "& = & \\frac{\\sum_{i=1}^{\\infty} \\mathbb{P}(A_i \\cap B)}{\\mathbb{P}(B)} \\\\\n",
    "& = & \\sum_{i=1}^{\\infty} \\frac{\\mathbb{P}(A_i B)}{\\mathbb{P}(B)} \\\\\n",
    "& = & \\sum_{i=1}^{\\infty} \\mathbb{P}(A_i | B)\n",
    "\\end{eqnarray}\n",
    "$$\n",
    "\n",
    "So all axioms are satisfied."
   ]
  }
 ],
 "metadata": {
  "kernelspec": {
   "display_name": "Python 3",
   "language": "python",
   "name": "python3"
  },
  "language_info": {
   "codemirror_mode": {
    "name": "ipython",
    "version": 3
   },
   "file_extension": ".py",
   "mimetype": "text/x-python",
   "name": "python",
   "nbconvert_exporter": "python",
   "pygments_lexer": "ipython3",
   "version": "3.8.10"
  }
 },
 "nbformat": 4,
 "nbformat_minor": 4
}
