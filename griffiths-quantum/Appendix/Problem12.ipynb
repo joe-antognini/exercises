{
 "cells": [
  {
   "cell_type": "markdown",
   "metadata": {},
   "source": [
    "Invisible Latex commands are in this cell.\n",
    "\n",
    "$$\\newcommand{\\ket}[1]{\\left|{#1}\\right\\rangle}$$\n",
    "$$\\newcommand{\\bra}[1]{\\left\\langle{#1}\\right|}$$\n",
    "$$\\newcommand{\\braket}[2]{\\left\\langle{#1}\\middle|{#2}\\right\\rangle}$$\n",
    "$$\\newcommand{\\norm}[1]{\\left\\lVert#1\\right\\rVert}$$"
   ]
  },
  {
   "cell_type": "markdown",
   "metadata": {},
   "source": [
    "## Problem A.12\n",
    "\n",
    "Because $\\textbf{U} \\textbf{U}^{\\dagger} = \\textbf{U} \\textbf{U}^{-1}$, we have\n",
    "\n",
    "$$\n",
    "\\begin{eqnarray}\n",
    "\\left( \\textbf{U} \\textbf{U}^{\\dagger} \\right)_{ij} & = & \\delta_{ij} \\\\\n",
    "\\left( \\sum_k u_{ik} u_{jk}^* \\right) & = & \\delta_{ij} \\\\\n",
    "\\braket{u_j}{u_i} & = & \\delta_{ij}\n",
    "\\end{eqnarray}\n",
    "$$\n",
    "\n",
    "and so the rows are orthonormal.  The columns can be shown to be orthonormal by noting that the transpose of a unitary matrix is also unitary."
   ]
  }
 ],
 "metadata": {
  "kernelspec": {
   "display_name": "Python 3",
   "language": "python",
   "name": "python3"
  },
  "language_info": {
   "codemirror_mode": {
    "name": "ipython",
    "version": 3
   },
   "file_extension": ".py",
   "mimetype": "text/x-python",
   "name": "python",
   "nbconvert_exporter": "python",
   "pygments_lexer": "ipython3",
   "version": "3.7.3"
  }
 },
 "nbformat": 4,
 "nbformat_minor": 2
}
