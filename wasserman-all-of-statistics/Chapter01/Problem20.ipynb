{
 "cells": [
  {
   "cell_type": "markdown",
   "metadata": {},
   "source": [
    "# Problem 1.20\n",
    "\n",
    "## Part a.\n",
    "\n",
    "Using Bayes's Theorem\n",
    "\n",
    "$$\n",
    "\\mathbb{P}(C_i|H) = \\frac{\\mathbb{P}(H|C_i) \\mathbb{P}(C_i)}{\\sum_{i=1}^5 \\mathbb{P}(H|C_i) \\mathbb{P}(C_i)}\n",
    "$$\n",
    "\n",
    "Now,\n",
    "\n",
    "$$\n",
    "\\begin{eqnarray}\n",
    "\\sum_{i=1}^5 \\mathbb{P}(H|C_i) \\mathbb{P}(C_i) & = & \\frac{1}{5} \\left(0 + \\frac{1}{4} + \\frac{1}{2} + \\frac{3}{4} + 1 \\right) \\\\\n",
    "& = & \\frac{1}{2}\n",
    "\\end{eqnarray}\n",
    "$$\n",
    "\n",
    "So,\n",
    "\n",
    "$$\n",
    "\\begin{eqnarray}\n",
    "\\mathbb{P}(C_1 | H) & = & 0 \\\\\n",
    "\\mathbb{P}(C_2|H) & = & \\frac{\\frac{1}{4} \\times \\frac{1}{5}}{\\frac{1}{2}} = \\frac{1}{10} \\\\\n",
    "\\mathbb{P}(C_3|H) & = & \\frac{\\frac{1}{2} \\times \\frac{1}{5}}{\\frac{1}{2}} = \\frac{1}{5} \\\\\n",
    "\\mathbb{P}(C_4|H) & = & \\frac{\\frac{3}{4} \\times \\frac{1}{5}}{\\frac{1}{2}} = \\frac{3}{10} \\\\\n",
    "\\mathbb{P}(C_5|H) & = & \\frac{\\frac{1}{5}}{\\frac{1}{2}} = \\frac{2}{5}\n",
    "\\end{eqnarray}\n",
    "$$"
   ]
  },
  {
   "cell_type": "markdown",
   "metadata": {},
   "source": [
    "## Part b.\n",
    "\n",
    "Since the $C_i$ form a partition, we have\n",
    "\n",
    "$$\n",
    "\\mathbb{P}(H_2 | H_1) = \\sum_{i=1}^5 \\mathbb{P}(H_2 C_i | H_1)\n",
    "$$\n",
    "\n",
    "Now,\n",
    "\n",
    "$$\n",
    "\\mathbb{P}(H_2 C_i | H_1) = \\frac{\\mathbb{P}(H_1 H_2 C)}{\\mathbb{P}(H_1)}\n",
    "$$\n",
    "\n",
    "But we found in part a. that\n",
    "\n",
    "$$\n",
    "\\mathbb{P}(H_1) = \\sum_{i=1}^5 \\mathbb{P}(H_1|C_i) \\mathbb{P}(C_i) = \\frac{1}{2}\n",
    "$$\n",
    "\n",
    "So,\n",
    "\n",
    "$$\n",
    "\\mathbb{P}(H_2 C_i | H_1) = 2 \\mathbb{P}(H_1 H_2 | C_i) \\mathbb{P}(C_i)\n",
    "$$\n",
    "\n",
    "$$\n",
    "\\begin{eqnarray}\n",
    "\\mathbb{P}(H_2 C_1 | H_1) & = & 0 \\\\\n",
    "\\mathbb{P}(H_2 C_2 | H_1) & = & 2 \\times \\frac{1}{16} \\times \\frac{1}{5} = \\frac{1}{40} \\\\\n",
    "\\mathbb{P}(H_2 C_3 | H_1) & = & 2 \\times \\frac{1}{4} \\times \\frac{1}{5} = \\frac{1}{10} \\\\\n",
    "\\mathbb{P}(H_2 C_4 | H_1) & = & 2 \\times \\frac{9}{16} \\times \\frac{1}{5} = \\frac{9}{40} \\\\\n",
    "\\mathbb{P}(H_2 C_5 | H_1) & = & \\frac{2}{5}\n",
    "\\end{eqnarray}\n",
    "$$\n",
    "\n",
    "$$\n",
    "\\implies \\mathbb{P}(H_2 | H_1) = \\frac{1}{40} + \\frac{1}{10} + \\frac{9}{40} + \\frac{2}{5} = \\frac{3}{4}\n",
    "$$"
   ]
  },
  {
   "cell_type": "markdown",
   "metadata": {},
   "source": [
    "## Part c.\n",
    "\n",
    "$$\n",
    "\\begin{eqnarray}\n",
    "\\mathbb{P}(C_i | B_4) & = & \\frac{\\mathbb{P}(B_4 | C_i) \\mathbb{P}(C_i)}{\\mathbb{P}(B_4)} \\\\\n",
    "& = & \\frac{\\mathbb{P}(B_4 | C_i) \\mathbb{P}(C_i)}{\\sum_{i=1}^5 \\mathbb{P}(B_4 | C_i) \\mathbb{P}(C_i)}\n",
    "\\end{eqnarray}\n",
    "$$"
   ]
  },
  {
   "cell_type": "markdown",
   "metadata": {},
   "source": [
    "$$\n",
    "\\begin{eqnarray}\n",
    "\\mathbb{P}(B_4 | C_1) & = & 0 \\\\\n",
    "\\mathbb{P}(B_4 | C_2) & = & \\left( \\frac{3}{4} \\right)^3 \\times \\frac{1}{4} = \\frac{27}{256} \\\\\n",
    "\\mathbb{P}(B_4 | C_3) & = & \\left( \\frac{1}{2} \\right)^3 \\times \\frac{1}{2} = \\frac{1}{16} \\\\\n",
    "\\mathbb{P}(B_4 | C_4) & = & \\left( \\frac{1}{4} \\right)^3 \\times \\frac{3}{4} = \\frac{3}{256} \\\\\n",
    "\\mathbb{P}(B_4 | C_5) & = & 0\n",
    "\\end{eqnarray}\n",
    "$$\n",
    "\n",
    "$$\n",
    "\\implies \\mathbb{P}(B_4) = \\frac{23}{128} \\times \\frac{1}{5} = \\frac{23}{640}\n",
    "$$\n",
    "\n",
    "$$\n",
    "\\begin{eqnarray}\n",
    "\\mathbb{P}(C_1 | B_4) & = & 0 \\\\\n",
    "\\mathbb{P}(C_2 | B_4) & = & \\frac{\\frac{27}{256} \\times \\frac{1}{5}}{\\frac{23}{64}} \\\\\n",
    "\\mathbb{P}(C_3 | B_4) & = & \\frac{\\frac{1}{16} \\times \\frac{1}{5}}{\\frac{23}{640}} = \\frac{\\frac{1}{16}}{\\frac{23}{128}} = \\frac{8}{23} \\\\\n",
    "\\mathbb{P}(C_4 | B_4) & = & \\frac{\\frac{3}{256} \\times \\frac{1}{5}}{\\frac{23}{640}} = \\frac{\\frac{3}{256}}{\\frac{23}{128}} = \\frac{3}{46} \\\\\n",
    "\\mathbb{P}(C_5 | B_4) & = & 0\n",
    "\\end{eqnarray}\n",
    "$$"
   ]
  }
 ],
 "metadata": {
  "kernelspec": {
   "display_name": "Python 3",
   "language": "python",
   "name": "python3"
  },
  "language_info": {
   "codemirror_mode": {
    "name": "ipython",
    "version": 3
   },
   "file_extension": ".py",
   "mimetype": "text/x-python",
   "name": "python",
   "nbconvert_exporter": "python",
   "pygments_lexer": "ipython3",
   "version": "3.8.10"
  }
 },
 "nbformat": 4,
 "nbformat_minor": 4
}
