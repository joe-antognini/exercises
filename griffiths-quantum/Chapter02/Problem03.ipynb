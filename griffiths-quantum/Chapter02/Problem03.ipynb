{
 "cells": [
  {
   "cell_type": "markdown",
   "metadata": {},
   "source": [
    "# Problem 2.3\n",
    "\n",
    "The time-independent Schrödinger equation states\n",
    "\n",
    "$$\n",
    "-\\frac{\\hbar^2}{2m} \\frac{d^2 \\psi}{dx^2} = E \\psi.\n",
    "$$\n",
    "\n",
    "If we let\n",
    "\n",
    "$$\n",
    "k = \\frac{\\sqrt{2mE}}{\\hbar},\n",
    "$$\n",
    "\n",
    "where $k$ is possibly imaginary, then the general solution to the Schrödinger equation is\n",
    "\n",
    "$$\n",
    "\\psi = A \\sin(kx) + B \\cos(kx).\n",
    "$$\n",
    "\n",
    "For the case of $E = 0$ we have $k = 0$.  This implies that\n",
    "\n",
    "$$\n",
    "\\psi = B \\cos(kx).\n",
    "$$\n",
    "\n",
    "But $\\psi(x = 0) = 0$, so we must have that $B = 0$.  Hence $\\psi = 0$ and no solution exists.\n",
    "\n",
    "For the case of $E < 0$ we now have that $k$ is imaginary.  Let us write $k = i \\kappa$ so that $\\kappa \\in \\mathbb{R}$ and $\\kappa > 0$.  Then the solution to the Schrödinger equation can be written\n",
    "\n",
    "$$\n",
    "\\psi = A \\sin(i \\kappa x) + B \\cos(i \\kappa x).\n",
    "$$\n",
    "\n",
    "Once again we have $\\psi(x = 0) = 0$, so $B = 0$.  Now the solution reads\n",
    "\n",
    "$$\n",
    "\\psi = A \\sin(i \\kappa x).\n",
    "$$\n",
    "\n",
    "We can rewrite this as\n",
    "\n",
    "$$\n",
    "\\psi = \\frac{A (e^{-\\kappa x} - e^{\\kappa x})}{2i}\n",
    "$$\n",
    "\n",
    "We must also have that $\\psi(x = a) = 0$, so this means that\n",
    "\n",
    "$$\n",
    "\\begin{eqnarray}\n",
    " & e^{-\\kappa a} & = & e^{\\kappa a} \\\\\n",
    "\\Longrightarrow & -\\kappa a & = & \\kappa a \\\\\n",
    "\\Longrightarrow & -\\kappa & = & \\kappa.\n",
    "\\end{eqnarray}\n",
    "$$\n",
    "\n",
    "But this is only true if $\\kappa = 0$, whereas by assumption we have $\\kappa > 0$.  Hence no solution for $k < 0$ exists."
   ]
  }
 ],
 "metadata": {
  "kernelspec": {
   "display_name": "Python 3",
   "language": "python",
   "name": "python3"
  },
  "language_info": {
   "codemirror_mode": {
    "name": "ipython",
    "version": 3
   },
   "file_extension": ".py",
   "mimetype": "text/x-python",
   "name": "python",
   "nbconvert_exporter": "python",
   "pygments_lexer": "ipython3",
   "version": "3.8.5"
  }
 },
 "nbformat": 4,
 "nbformat_minor": 4
}
