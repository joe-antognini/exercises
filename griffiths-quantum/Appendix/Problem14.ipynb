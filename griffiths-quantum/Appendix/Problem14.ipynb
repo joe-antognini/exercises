{
 "cells": [
  {
   "cell_type": "code",
   "execution_count": 1,
   "metadata": {},
   "outputs": [],
   "source": [
    "import numpy as np"
   ]
  },
  {
   "cell_type": "markdown",
   "metadata": {},
   "source": [
    "## Problem A.14\n",
    "\n",
    "### Part a.\n",
    "\n",
    "$$\n",
    "\\textbf{R}_1 = \\left( \\begin{matrix}\n",
    "\\cos \\theta & -\\sin \\theta & 0 \\\\\n",
    "\\sin \\theta & \\cos \\theta & 0 \\\\\n",
    "0 & 0 & 1\n",
    "\\end{matrix} \\right)\n",
    "$$\n",
    "\n",
    "### Part b.\n",
    "\n",
    "This matrix will rotate the $x$-axis into the $y$-axis, the $y$-axis into the $z$-axis, and the $z$-axis into the $x$-axis:\n",
    "$$\n",
    "\\textbf{R}_2 = \\left( \\begin{matrix}\n",
    "0 & 0 & 1 \\\\\n",
    "1 & 0 & 0 \\\\\n",
    "0 & 1 & 0 \\\\\n",
    "\\end{matrix} \\right)\n",
    "$$\n",
    "\n",
    "### Part c.\n",
    "\n",
    "$$\n",
    "\\textbf{R}_3 = \\left( \\begin{matrix}\n",
    "1 & 0 & 0 \\\\\n",
    "0 & 1 & 0 \\\\\n",
    "0 & 0 & -1 \\\\\n",
    "\\end{matrix} \\right)\n",
    "$$\n",
    "\n",
    "### Part d.\n",
    "\n",
    "$$\n",
    "\\textbf{R}_1 \\tilde{\\textbf{R}}_1 = \\left( \\begin{matrix}\n",
    "\\cos \\theta & -\\sin \\theta & 0 \\\\\n",
    "\\sin \\theta & \\cos \\theta & 0 \\\\\n",
    "0 & 0 & 1\n",
    "\\end{matrix} \\right) \\left( \\begin{matrix}\n",
    "\\cos \\theta & \\sin \\theta & 0 \\\\\n",
    "-\\sin \\theta & \\cos \\theta & 0 \\\\\n",
    "0 & 0 & 1\n",
    "\\end{matrix} \\right) = \\left( \\begin{matrix}\n",
    "\\cos^2 \\theta + \\sin^2 \\theta & \\cos \\theta \\sin \\theta - \\cos \\theta \\sin \\theta & 0 \\\\\n",
    "\\cos \\theta \\sin \\theta - \\cos \\theta \\sin \\theta & \\cos^2 \\theta + \\sin^2 \\theta & 0 \\\\\n",
    "0 & 0 & 1 \\\\\n",
    "\\end{matrix} \\right) = \\left( \\begin{matrix}\n",
    "1 & 0 & 0 \\\\\n",
    "0 & 1 & 0 \\\\\n",
    "0 & 0 & 1 \\\\\n",
    "\\end{matrix} \\right)\n",
    "$$\n",
    "\n",
    "$$\n",
    "\\textrm{det}(\\textbf{R}_1) = \\cos^2 \\theta + \\sin^2 \\theta = 1\n",
    "$$\n",
    "\n",
    "$$\n",
    "\\textbf{R}_2 \\tilde{\\textbf{R}}_2 = \\left( \\begin{matrix}\n",
    "0 & 0 & 1 \\\\\n",
    "1 & 0 & 0 \\\\\n",
    "0 & 1 & 0 \\\\\n",
    "\\end{matrix} \\right) \\left( \\begin{matrix}\n",
    "0 & 1 & 0 \\\\\n",
    "0 & 0 & 1 \\\\\n",
    "1 & 0 & 0 \\\\\n",
    "\\end{matrix} \\right) = \\left( \\begin{matrix}\n",
    "1 & 0 & 0 \\\\\n",
    "0 & 1 & 0 \\\\\n",
    "0 & 0 & 1 \\\\\n",
    "\\end{matrix} \\right)\n",
    "$$\n",
    "\n",
    "$$\n",
    "\\textrm{det}(\\textbf{R}_2) = 1\n",
    "$$\n",
    "\n",
    "$$\n",
    "\\textbf{R}_3 \\tilde{\\textbf{R}}_3 = \\left( \\begin{matrix}\n",
    "1 & 0 & 0 \\\\\n",
    "0 & 1 & 0 \\\\\n",
    "0 & 0 & -1 \\\\\n",
    "\\end{matrix} \\right) \\left( \\begin{matrix}\n",
    "1 & 0 & 0 \\\\\n",
    "0 & 1 & 0 \\\\\n",
    "0 & 0 & -1 \\\\\n",
    "\\end{matrix} \\right) = \\left( \\begin{matrix}\n",
    "1 & 0 & 0 \\\\\n",
    "0 & 1 & 0 \\\\\n",
    "0 & 0 & 1 \\\\\n",
    "\\end{matrix} \\right)\n",
    "$$\n",
    "\n",
    "$$\n",
    "\\textrm{det}(\\textbf{R}_3) = -1\n",
    "$$"
   ]
  },
  {
   "cell_type": "code",
   "execution_count": 2,
   "metadata": {},
   "outputs": [],
   "source": [
    "def R1(theta):\n",
    "    return np.array([\n",
    "        [np.cos(theta), -np.sin(theta), 0],\n",
    "        [np.sin(theta), np.cos(theta), 0],\n",
    "        [0, 0, 1]\n",
    "    ])"
   ]
  },
  {
   "cell_type": "code",
   "execution_count": 3,
   "metadata": {},
   "outputs": [
    {
     "data": {
      "text/plain": [
       "array([[ 1.00000000e+00, -1.95932709e-18,  0.00000000e+00],\n",
       "       [-1.95932709e-18,  1.00000000e+00,  0.00000000e+00],\n",
       "       [ 0.00000000e+00,  0.00000000e+00,  1.00000000e+00]])"
      ]
     },
     "execution_count": 3,
     "metadata": {},
     "output_type": "execute_result"
    }
   ],
   "source": [
    "R1(.123) @ R1(.123).T"
   ]
  },
  {
   "cell_type": "code",
   "execution_count": 4,
   "metadata": {},
   "outputs": [
    {
     "data": {
      "text/plain": [
       "1.0"
      ]
     },
     "execution_count": 4,
     "metadata": {},
     "output_type": "execute_result"
    }
   ],
   "source": [
    "np.linalg.det(R1(.123))"
   ]
  },
  {
   "cell_type": "code",
   "execution_count": 5,
   "metadata": {},
   "outputs": [],
   "source": [
    "R2 = np.array([\n",
    "    [0, 0, 1],\n",
    "    [1, 0, 0],\n",
    "    [0, 1, 0]\n",
    "])"
   ]
  },
  {
   "cell_type": "code",
   "execution_count": 6,
   "metadata": {},
   "outputs": [
    {
     "data": {
      "text/plain": [
       "array([[1, 0, 0],\n",
       "       [0, 1, 0],\n",
       "       [0, 0, 1]])"
      ]
     },
     "execution_count": 6,
     "metadata": {},
     "output_type": "execute_result"
    }
   ],
   "source": [
    "R2 @ R2.T"
   ]
  },
  {
   "cell_type": "code",
   "execution_count": 7,
   "metadata": {},
   "outputs": [
    {
     "data": {
      "text/plain": [
       "1.0"
      ]
     },
     "execution_count": 7,
     "metadata": {},
     "output_type": "execute_result"
    }
   ],
   "source": [
    "np.linalg.det(R2)"
   ]
  },
  {
   "cell_type": "code",
   "execution_count": 8,
   "metadata": {},
   "outputs": [],
   "source": [
    "R3 = np.array([\n",
    "    [1, 0, 0],\n",
    "    [0, 1, 0],\n",
    "    [0, 0, -1]\n",
    "])"
   ]
  },
  {
   "cell_type": "code",
   "execution_count": 9,
   "metadata": {},
   "outputs": [
    {
     "data": {
      "text/plain": [
       "array([[1, 0, 0],\n",
       "       [0, 1, 0],\n",
       "       [0, 0, 1]])"
      ]
     },
     "execution_count": 9,
     "metadata": {},
     "output_type": "execute_result"
    }
   ],
   "source": [
    "R3 @ R3.T"
   ]
  },
  {
   "cell_type": "code",
   "execution_count": 10,
   "metadata": {},
   "outputs": [
    {
     "data": {
      "text/plain": [
       "-1.0"
      ]
     },
     "execution_count": 10,
     "metadata": {},
     "output_type": "execute_result"
    }
   ],
   "source": [
    "np.linalg.det(R3)"
   ]
  }
 ],
 "metadata": {
  "kernelspec": {
   "display_name": "Python 3",
   "language": "python",
   "name": "python3"
  },
  "language_info": {
   "codemirror_mode": {
    "name": "ipython",
    "version": 3
   },
   "file_extension": ".py",
   "mimetype": "text/x-python",
   "name": "python",
   "nbconvert_exporter": "python",
   "pygments_lexer": "ipython3",
   "version": "3.7.3"
  }
 },
 "nbformat": 4,
 "nbformat_minor": 2
}
