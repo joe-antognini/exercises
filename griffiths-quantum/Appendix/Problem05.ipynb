{
 "cells": [
  {
   "cell_type": "markdown",
   "metadata": {},
   "source": [
    "Invisible Latex commands are in this cell.\n",
    "\n",
    "$$\\newcommand{\\ket}[1]{\\left|{#1}\\right\\rangle}$$\n",
    "$$\\newcommand{\\bra}[1]{\\left\\langle{#1}\\right|}$$\n",
    "$$\\newcommand{\\braket}[2]{\\left\\langle{#1}\\middle|{#2}\\right\\rangle}$$\n",
    "$$\\newcommand{\\norm}[1]{\\left\\lVert#1\\right\\rVert}$$"
   ]
  },
  {
   "cell_type": "markdown",
   "metadata": {},
   "source": [
    "## Problem A.5\n",
    "\n",
    "Let\n",
    "\n",
    "$$\n",
    "\\ket{\\gamma} \\equiv \\ket{\\beta} - \\frac{\\braket{\\alpha}{\\beta}}{\\braket{\\alpha}{\\alpha}} \\ket{\\alpha}.\n",
    "$$\n",
    "\n",
    "Now consider the norm of $\\gamma$:\n",
    "\n",
    "\\begin{eqnarray}\n",
    "\\braket{\\gamma}{\\gamma} & = & \\left( \\bra{\\beta} - \\frac{\\braket{\\beta}{\\alpha}}{\\braket{\\alpha}{\\alpha}} \\bra{\\alpha} \\right) \\left( \\ket{\\beta} - \\frac{\\braket{\\alpha}{\\beta}}{\\braket{\\alpha}{\\alpha}} \\ket{\\alpha} \\right) \\\\\n",
    "& = & \\braket{\\beta}{\\beta} - \\frac{\\braket{\\alpha}{\\beta}}{\\braket{\\alpha}{\\alpha}} \\braket{\\beta}{\\alpha} - \\frac{\\braket{\\beta}{\\alpha}}{\\braket{\\alpha}{\\alpha}} \\braket{\\alpha}{\\beta} + \\frac{\\braket{\\beta}{\\alpha} \\braket{\\alpha}{\\beta}}{\\braket{\\alpha}{\\alpha}^2} \\braket{\\alpha}{\\alpha} \\\\\n",
    "& = & \\braket{\\beta}{\\beta} + \\frac{\\braket{\\beta}{\\alpha} \\braket{\\alpha}{\\beta}}{\\braket{\\alpha}{\\alpha}}\n",
    "\\end{eqnarray}\n",
    "\n",
    "Now, note that $\\braket{\\gamma}{\\gamma} \\geq 0$, so\n",
    "\n",
    "$$\n",
    "\\braket{\\alpha}{\\alpha} \\braket{\\beta}{\\beta} \\geq \\left| \\braket{\\alpha}{\\beta} \\right|^2\n",
    "$$\n",
    "\n",
    "as required."
   ]
  },
  {
   "cell_type": "code",
   "execution_count": null,
   "metadata": {},
   "outputs": [],
   "source": []
  }
 ],
 "metadata": {
  "kernelspec": {
   "display_name": "Python 3",
   "language": "python",
   "name": "python3"
  },
  "language_info": {
   "codemirror_mode": {
    "name": "ipython",
    "version": 3
   },
   "file_extension": ".py",
   "mimetype": "text/x-python",
   "name": "python",
   "nbconvert_exporter": "python",
   "pygments_lexer": "ipython3",
   "version": "3.7.3"
  }
 },
 "nbformat": 4,
 "nbformat_minor": 2
}
