{
 "cells": [
  {
   "cell_type": "code",
   "execution_count": 2,
   "metadata": {},
   "outputs": [],
   "source": [
    "import matplotlib.pyplot as plt\n",
    "import numpy as np\n",
    "\n",
    "plt.rc('text', usetex=True)"
   ]
  },
  {
   "cell_type": "markdown",
   "metadata": {},
   "source": [
    "## Problem 1.5\n",
    "\n",
    "### Part a.\n",
    "\n",
    "$$\n",
    "\\begin{eqnarray}\n",
    "\\int_{-\\infty}^{\\infty} | \\Psi |^2 \\, dx & = & 1 \\\\\n",
    "A^2 \\int_{-\\infty}^{\\infty} e^{-2 \\lambda |x|} \\, dx & = & 1 \\\\\n",
    "2 A^2 \\int_0^{\\infty} e^{-2 \\lambda x} \\, dx & = & 1 \\\\\n",
    "-\\frac{A^2}{\\lambda} e^{-2 \\lambda x} \\bigg\\rvert_0^{\\infty} & = & 1 \\\\\n",
    "\\frac{A^2}{\\lambda} & = & 1 \\\\\n",
    "\\implies A & = & \\sqrt{\\lambda} \\\\\n",
    "\\end{eqnarray}\n",
    "$$"
   ]
  },
  {
   "cell_type": "markdown",
   "metadata": {},
   "source": [
    "### Part b.\n",
    "\n",
    "$$\n",
    "\\begin{eqnarray}\n",
    "\\mathbb{E}[x] & = & \\lambda \\int_{-\\infty}^{\\infty} x e^{-2 \\lambda |x|} \\, dx \\\\\n",
    "& = & 0 \\\\\n",
    "\\end{eqnarray}\n",
    "$$\n",
    "\n",
    "where the last step follows because the integrand is an odd function."
   ]
  },
  {
   "cell_type": "markdown",
   "metadata": {},
   "source": [
    "$$\n",
    "\\begin{eqnarray}\n",
    "\\mathbb{E}[x^2] & = & \\lambda \\int_{-\\infty}^{\\infty} x^2 e^{-2 \\lambda |x|} \\, dx \\\\\n",
    "& = & 2 \\lambda \\int_0^{\\infty} x^2 e^{-2 \\lambda x} \\, dx \\\\\n",
    "\\end{eqnarray}\n",
    "$$"
   ]
  },
  {
   "cell_type": "markdown",
   "metadata": {},
   "source": [
    "Now let $u \\equiv 2 \\lambda x$.  Then we have\n",
    "\n",
    "$$\n",
    "\\begin{eqnarray}\n",
    "\\mathbb{E}[x^2] & = & \\frac{1}{4 \\lambda^2} \\int_0^{\\infty} u^2 e^{-u} \\, du \\\\\n",
    "& = & \\frac{1}{4 \\lambda^2} \\left[ -u^2 e^{-u} \\bigg\\rvert_0^{\\infty} + \\int_0^{\\infty} 2 u e^{-u} \\, du \\right] \\\\\n",
    "& = & \\frac{1}{4 \\lambda^2} \\left[ -2u e^{-u} \\bigg\\rvert_0^{\\infty} + 2 \\int_0^{\\infty} e^{-u} \\, du \\right] \\\\\n",
    "& = & \\frac{1}{2 \\lambda^2}\n",
    "\\end{eqnarray}\n",
    "$$\n",
    "\n",
    "where we have performed integration by parts twice and in both cases the boundary conditions disappear."
   ]
  },
  {
   "cell_type": "markdown",
   "metadata": {},
   "source": [
    "### Part c.\n",
    "\n",
    "The standard deviation is\n",
    "\n",
    "$$\n",
    "\\begin{eqnarray}\n",
    "\\sigma & = & \\sqrt{\\mathbb{E}[x^2] - \\mathbb{E}[x]^2} \\\\\n",
    "& = & \\frac{1}{\\sqrt{2} \\lambda}\n",
    "\\end{eqnarray}\n",
    "$$"
   ]
  },
  {
   "cell_type": "code",
   "execution_count": 16,
   "metadata": {},
   "outputs": [
    {
     "data": {
      "image/png": "[encoded data removed]",
      "text/plain": [
       "<Figure size 432x288 with 1 Axes>"
      ]
     },
     "metadata": {
      "needs_background": "light"
     },
     "output_type": "display_data"
    }
   ],
   "source": [
    "X = np.linspace(-5, 5, num=500)\n",
    "lambda_ = 1\n",
    "A = np.sqrt(lambda_)\n",
    "Psi2 = A * np.exp(-lambda_ * np.abs(X))\n",
    "sigma = 1 / (np.sqrt(2) * lambda_)\n",
    "\n",
    "plt.plot(X, Psi2, c='k')\n",
    "plt.xlabel('$x$', fontsize=18)\n",
    "plt.ylabel('$|\\Psi|^2$', fontsize=18)\n",
    "plt.axvline(sigma, color='k', linestyle=':')\n",
    "plt.axvline(-sigma, color='k', linestyle=':')\n",
    "plt.axvspan(-sigma, sigma, color='lightgray', alpha=0.2);"
   ]
  },
  {
   "cell_type": "markdown",
   "metadata": {},
   "source": [
    "The probability that the particle will be found more than one standard deviation from the origin is:\n",
    "\n",
    "$$\n",
    "\\begin{eqnarray}\n",
    "p(|x| > \\sigma) & = & 2 \\int_{\\frac{1}{\\sqrt{2} \\lambda}}^{\\infty} \\lambda e^{-2 \\lambda x} \\, dx \\\\\n",
    "& = & -e^{-2 \\lambda x} \\bigg\\rvert_{\\frac{1}{\\sqrt{2} \\lambda}}^{\\infty} \\\\\n",
    "& = & e^{-\\sqrt{2}}\n",
    "\\end{eqnarray}\n",
    "$$"
   ]
  },
  {
   "cell_type": "markdown",
   "metadata": {},
   "source": [
    "## Problem 1.6\n",
    "\n",
    "The suggested application of integration by parts is not valid because the derivative and the integrand are with respect to different variables.  (The derivative is with respect to $t$ and the integrand is with respect to $x$.)  Integration by parts only works if the derivatives and integrands are with respect to the same variables."
   ]
  },
  {
   "cell_type": "markdown",
   "metadata": {},
   "source": [
    "## Problem 1.7\n",
    "\n",
    "$$\n",
    "\\begin{eqnarray}\n",
    "\\frac{d \\langle p \\rangle}{dt} & = & -i \\hbar \\int \\frac{\\partial}{\\partial t} \\left[ \\Psi^* \\frac{\\partial \\Psi}{\\partial x} \\right] \\, dx \\\\\n",
    "& = & -i \\hbar \\int \\frac{\\partial \\Psi^*}{\\partial t} \\frac{\\partial \\Psi}{\\partial x} + \\Psi^* \\frac{\\partial^2 \\Psi}{\\partial t \\partial x} \\, dx \\\\\n",
    "& = & -i \\hbar \\int \\frac{\\partial \\Psi^*}{\\partial t} \\frac{\\partial \\Psi}{ \\partial x} + \\Psi^* \\frac{\\partial}{\\partial x} \\left[ \\frac{i \\hbar}{2m} \\frac{\\partial^2 \\Psi}{\\partial x^2} - \\frac{i}{\\hbar} V \\Psi \\right] \\, dx \\\\\n",
    "& = & -i \\hbar \\int \\frac{i \\hbar}{2m} \\left( \\Psi^* \\frac{\\partial^3 \\Psi}{\\partial x^3} - \\frac{\\partial^2 \\Psi^*}{\\partial x^2} \\frac{\\partial \\Psi}{\\partial x} \\right) + \\frac{i}{\\hbar} \\left( V \\Psi^* \\frac{\\partial \\Psi}{\\partial x} - \\Psi^* \\frac{\\partial V}{\\partial x} \\Psi - \\Psi^* V \\frac{\\partial \\Psi}{\\partial x} \\right) \\, dx \\\\\n",
    "& = & -i \\hbar \\int \\frac{i \\hbar}{2m} \\left( - \\frac{\\partial \\Psi^*}{\\partial x} \\frac{\\partial^2 \\Psi}{\\partial x^2} + \\frac{\\partial \\Psi^*}{\\partial x} \\frac{\\partial^2 \\Psi}{\\partial x^2} \\right) - \\frac{i}{\\hbar} \\frac{\\partial V}{\\partial x} |\\Psi|^2 \\, dx \\\\\n",
    "& = & -\\int \\frac{\\partial V}{\\partial x} |\\Psi|^2 \\, dx \\\\\n",
    "& = & \\left\\langle - \\frac{\\partial V}{\\partial x} \\right\\rangle \\\\\n",
    "\\end{eqnarray}\n",
    "$$"
   ]
  },
  {
   "cell_type": "markdown",
   "metadata": {},
   "source": [
    "Where we use integration by parts going from the fourth to the fifth line."
   ]
  },
  {
   "cell_type": "markdown",
   "metadata": {},
   "source": [
    "## Problem 1.8\n",
    "\n",
    "Suppose we have a wavefunction, $\\Psi$, which satisfies the Schroedinger equation:\n",
    "\n",
    "$$\n",
    "i \\hbar \\frac{\\partial \\Psi}{\\partial t} = -\\frac{\\hbar^2}{2m} \\frac{\\partial^2 \\Psi}{\\partial x^2} + V \\Psi\n",
    "$$"
   ]
  },
  {
   "cell_type": "markdown",
   "metadata": {},
   "source": [
    "Now add a constant $V_0$ to the potential and let $\\Psi^{\\prime}$ be the wavefunction that now satisfies the Schroedinger equation:\n",
    "\n",
    "$$\n",
    "i \\hbar \\frac{\\partial \\Psi^{\\prime}}{\\partial t} = -\\frac{\\hbar^2}{2m} \\frac{\\partial^2 \\Psi^{\\prime}}{\\partial x^2} + (V + V_0) \\Psi^{\\prime}\n",
    "$$"
   ]
  },
  {
   "cell_type": "markdown",
   "metadata": {},
   "source": [
    "Let us suppose that $\\Psi^{\\prime}$ is separable and can be related to $\\Psi$ as follows:\n",
    "\n",
    "$$\n",
    "\\Psi^{\\prime} = \\Psi f(t)\n",
    "$$\n",
    "\n",
    "Then the Schrödinger equation gives us\n",
    "\n",
    "$$\n",
    "i \\hbar \\left( \\frac{\\partial \\Psi}{\\partial t} f(t) + \\Psi \\frac{df}{dt} \\right) = -\\frac{\\hbar^2}{2m} \\frac{\\partial^2 \\Psi^{\\prime}}{\\partial x^2} f(t) + (V + V_0) \\Psi f(t)\n",
    "$$"
   ]
  },
  {
   "cell_type": "markdown",
   "metadata": {},
   "source": [
    "We can subtract off the Schrödinger equation for $\\Psi$, leaving\n",
    "\n",
    "$$\n",
    "i \\hbar \\Psi \\frac{df}{dt} = V_0 \\Psi f(t)\n",
    "$$"
   ]
  },
  {
   "cell_type": "markdown",
   "metadata": {},
   "source": [
    "Dividing off $\\Psi$, we have\n",
    "\n",
    "$$\n",
    "\\frac{df}{dt} = -\\frac{i V_0}{\\hbar} f(t)\n",
    "$$\n",
    "\n",
    "This implies that\n",
    "\n",
    "$$\n",
    "f(t) = e^{-\\frac{iV_0}{\\hbar} t}\n",
    "$$\n",
    "\n",
    "Hence\n",
    "\n",
    "$$\n",
    "\\Psi^{\\prime} = \\Psi e^{-\\frac{iV_0}{\\hbar} t}\n",
    "$$"
   ]
  },
  {
   "cell_type": "markdown",
   "metadata": {},
   "source": [
    "Since the expectation values are calculated from both the wavefunction and its conjugate, the exponential will cancel out and not affect the outcome."
   ]
  },
  {
   "cell_type": "markdown",
   "metadata": {},
   "source": [
    "## Problem 1.9\n",
    "\n",
    "### Part a.\n",
    "\n",
    "$$\n",
    "\\begin{eqnarray}\n",
    "|\\Psi(x, t)|^2 & = & 1 \\\\\n",
    "A^2 \\int_0^{\\infty} e^{-2amx^2 / \\hbar} \\, dx & = & 1 \\\\\n",
    "A^2 \\sqrt{\\frac{\\hbar \\pi}{2 a m}} & = & 1 \\\\\n",
    "\\end{eqnarray}\n",
    "$$\n",
    "\n",
    "$$\n",
    "\\implies A = \\left( \\frac{2am}{\\pi \\hbar} \\right)^{\\frac{1}{4}}\n",
    "$$"
   ]
  },
  {
   "cell_type": "markdown",
   "metadata": {},
   "source": [
    "### Part b."
   ]
  },
  {
   "cell_type": "markdown",
   "metadata": {},
   "source": [
    "First note that\n",
    "\n",
    "$$\n",
    "\\frac{\\partial \\Psi}{\\partial t} = -ia \\Psi\n",
    "$$\n",
    "\n",
    "and\n",
    "\n",
    "$$\n",
    "\\frac{\\partial \\Psi}{\\partial x} = -\\frac{2amx}{\\hbar} \\Psi\n",
    "$$\n",
    "\n",
    "and so\n",
    "\n",
    "$$\n",
    "\\begin{eqnarray}\n",
    "\\frac{\\partial^2 \\Psi}{\\partial x^2} & = & \\left(\\frac{2amx}{\\hbar}\\right)^2 \\Psi - \\frac{2am}{\\hbar} \\Psi \\\\\n",
    "& = & \\left( \\frac{2am}{\\hbar} \\right) \\left(\\frac{2amx^2}{\\hbar} - 1 \\right) \\Psi \\\\\n",
    "\\end{eqnarray}\n",
    "$$"
   ]
  },
  {
   "cell_type": "markdown",
   "metadata": {},
   "source": [
    "To satisfy the Schrödinger equation we have\n",
    "\n",
    "$$\n",
    "i \\hbar \\frac{\\partial \\Psi}{\\partial t} = -\\frac{\\hbar^2}{2m} \\frac{\\partial^2 \\Psi}{\\partial x^2} + V \\Psi\n",
    "$$"
   ]
  },
  {
   "cell_type": "markdown",
   "metadata": {},
   "source": [
    "$$\n",
    "\\implies a \\hbar \\Psi = a \\left(\\hbar - 2amx^2 \\right) \\Psi + V \\Psi\n",
    "$$"
   ]
  },
  {
   "cell_type": "markdown",
   "metadata": {},
   "source": [
    "Solving for $V$,\n",
    "\n",
    "$$\n",
    "\\begin{eqnarray}\n",
    "V \\Psi & = & a \\left( \\hbar + 2amx^2 - \\hbar \\right) \\Psi \\\\\n",
    "& = & 2a^2 m x^2 \\Psi \\\\\n",
    "\\end{eqnarray}\n",
    "$$\n",
    "\n",
    "$$\n",
    "\\implies V = 2a^2 m x^2\n",
    "$$"
   ]
  },
  {
   "cell_type": "markdown",
   "metadata": {},
   "source": [
    "### Part c.\n",
    "\n",
    "By symmetry,\n",
    "\n",
    "$$\n",
    "\\langle x \\rangle = \\int_{-\\infty}^{\\infty} A^2 x e^{-2amx^2/\\hbar} \\, dx = 0.\n",
    "$$\n",
    "\n",
    "$$\n",
    "\\begin{eqnarray}\n",
    "\\langle x^2 \\rangle & = & \\left( \\frac{2am}{\\pi \\hbar} \\right)^{\\frac{1}{2}} \\int_{-\\infty}^{\\infty} x^2 e^{-2amx^2/\\hbar} \\, dx \\\\\n",
    "\\end{eqnarray}\n",
    "$$"
   ]
  },
  {
   "cell_type": "markdown",
   "metadata": {},
   "source": [
    "Letting $u \\equiv \\sqrt{2am / \\hbar} x$,\n",
    "\n",
    "$$\n",
    "\\begin{eqnarray}\n",
    "\\langle x^2 \\rangle & = & \\left( \\frac{2am}{\\pi \\hbar} \\right)^{\\frac{1}{2}} \\left( \\frac{\\hbar}{2am} \\right)^{\\frac{3}{2}} \\int_{-\\infty}^{\\infty} u^2 e^{-u^2} \\, du \\\\\n",
    "& = & \\frac{\\hbar}{4am}\n",
    "\\end{eqnarray}\n",
    "$$"
   ]
  },
  {
   "cell_type": "markdown",
   "metadata": {},
   "source": [
    "$$\n",
    "\\begin{eqnarray}\n",
    "\\langle p \\rangle & = & -i \\hbar \\int_{-\\infty}^{\\infty} -\\frac{2xam}{\\hbar} | \\Psi |^2 \\, dx \\\\\n",
    "& = & 2iam \\langle x \\rangle \\\\\n",
    "& = & 0\n",
    "\\end{eqnarray}\n",
    "$$"
   ]
  },
  {
   "cell_type": "markdown",
   "metadata": {},
   "source": [
    "$$\n",
    "\\begin{eqnarray}\n",
    "\\langle p^2 \\rangle & = & \\hbar^2 \\int_{-\\infty}^{\\infty} \\Psi^* \\frac{\\partial^2 \\Psi}{\\partial x^2} \\, dx \\\\\n",
    "& = & -\\hbar^2 \\int_{-\\infty}^{\\infty} \\Psi^* \\frac{\\partial}{\\partial x} \\left[ -\\frac{2xam}{\\hbar} \\Psi \\right] \\, dx \\\\\n",
    "& = & -\\hbar^2 \\int_{-\\infty}^{\\infty} -\\frac{2am}{\\hbar} |\\Psi|^2 - \\frac{2amx}{\\hbar} \\Psi^* \\frac{\\partial \\Psi}{\\partial x} \\, dx \\\\\n",
    "& = & 2am\\hbar \\left[1 + \\int_{-\\infty}^{\\infty} x \\Psi^* \\left( -\\frac{2amx}{\\hbar} \\Psi \\right) \\, dx \\right] \\\\\n",
    "& = & 2am\\hbar \\left[1 - \\frac{2am}{\\hbar} \\int_{-\\infty}^{\\infty} x^2 |\\Psi|^2 \\, dx \\right] \\\\\n",
    "& = & 2am\\hbar \\left(1 - \\frac{2am}{\\hbar} \\langle x^2 \\rangle \\right) \\\\\n",
    "& = & 2am\\hbar \\left(1 - \\frac{1}{2} \\right) \\\\\n",
    "& = & am\\hbar\n",
    "\\end{eqnarray}\n",
    "$$"
   ]
  },
  {
   "cell_type": "markdown",
   "metadata": {},
   "source": [
    "### Part d.\n",
    "\n",
    "This means we have\n",
    "\n",
    "$$\n",
    "\\begin{eqnarray}\n",
    "\\sigma_x & = & \\frac{1}{2} \\sqrt{\\frac{\\hbar}{am}} \\\\\n",
    "\\sigma_p & = & \\sqrt{am\\hbar} \\\\\n",
    "\\end{eqnarray}\n",
    "$$\n",
    "\n",
    "This implies then\n",
    "\n",
    "$$\n",
    "\\sigma_x \\sigma_p = \\frac{\\hbar}{2}\n",
    "$$\n",
    "\n",
    "and so the uncertainty principle is satisfied."
   ]
  }
 ],
 "metadata": {
  "kernelspec": {
   "display_name": "Python 3",
   "language": "python",
   "name": "python3"
  },
  "language_info": {
   "codemirror_mode": {
    "name": "ipython",
    "version": 3
   },
   "file_extension": ".py",
   "mimetype": "text/x-python",
   "name": "python",
   "nbconvert_exporter": "python",
   "pygments_lexer": "ipython3",
   "version": "3.7.4"
  }
 },
 "nbformat": 4,
 "nbformat_minor": 2
}
