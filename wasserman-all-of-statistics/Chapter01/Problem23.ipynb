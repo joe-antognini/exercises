{
 "cells": [
  {
   "cell_type": "markdown",
   "metadata": {},
   "source": [
    "# Problem 1.23"
   ]
  },
  {
   "cell_type": "code",
   "execution_count": 1,
   "metadata": {},
   "outputs": [],
   "source": [
    "import numpy as np"
   ]
  },
  {
   "cell_type": "code",
   "execution_count": 2,
   "metadata": {},
   "outputs": [],
   "source": [
    "np.random.seed(0)"
   ]
  },
  {
   "cell_type": "code",
   "execution_count": 3,
   "metadata": {},
   "outputs": [],
   "source": [
    "rolls = np.random.randint(1, 7, size=1000000)"
   ]
  },
  {
   "cell_type": "markdown",
   "metadata": {},
   "source": [
    "$\\hat{\\mathbb{P}}(A)$ is:"
   ]
  },
  {
   "cell_type": "code",
   "execution_count": 4,
   "metadata": {},
   "outputs": [
    {
     "name": "stdout",
     "output_type": "stream",
     "text": [
      "0.499394\n"
     ]
    }
   ],
   "source": [
    "p_hat_A = np.sum(np.in1d(rolls, [2, 4, 6])) / rolls.size\n",
    "print(p_hat_A)"
   ]
  },
  {
   "cell_type": "markdown",
   "metadata": {},
   "source": [
    "$\\hat{\\mathbb{P}}(B)$ is:"
   ]
  },
  {
   "cell_type": "code",
   "execution_count": 5,
   "metadata": {},
   "outputs": [
    {
     "name": "stdout",
     "output_type": "stream",
     "text": [
      "0.666872\n"
     ]
    }
   ],
   "source": [
    "p_hat_B = np.sum(np.in1d(rolls, [1, 2, 3, 4])) / rolls.size\n",
    "print(p_hat_B)"
   ]
  },
  {
   "cell_type": "markdown",
   "metadata": {},
   "source": [
    "$\\hat{\\mathbb{P}}(AB)$ is:"
   ]
  },
  {
   "cell_type": "code",
   "execution_count": 6,
   "metadata": {},
   "outputs": [
    {
     "name": "stdout",
     "output_type": "stream",
     "text": [
      "0.333197\n"
     ]
    }
   ],
   "source": [
    "p_hat_AB = np.sum(np.in1d(rolls, [2, 4, 6]) & np.in1d(rolls, [1, 2, 3, 4])) / rolls.size\n",
    "print(p_hat_AB)"
   ]
  },
  {
   "cell_type": "markdown",
   "metadata": {},
   "source": [
    "And $\\hat{\\mathbb{P}}(A) \\hat{\\mathbb{P}}(B)$ is:"
   ]
  },
  {
   "cell_type": "code",
   "execution_count": 7,
   "metadata": {},
   "outputs": [
    {
     "data": {
      "text/plain": [
       "0.333031875568"
      ]
     },
     "execution_count": 7,
     "metadata": {},
     "output_type": "execute_result"
    }
   ],
   "source": [
    "p_hat_A * p_hat_B"
   ]
  },
  {
   "cell_type": "markdown",
   "metadata": {},
   "source": [
    "So the events $A$ and $B$ are indeed independent since $\\hat{\\mathbb{P}}(AB) \\approx \\hat{\\mathbb{P}}(A) \\hat{\\mathbb{P}}(B)$."
   ]
  },
  {
   "cell_type": "markdown",
   "metadata": {},
   "source": [
    "Now let's consider a new event $B^{\\prime} = \\{1, 2, 3\\}$.  We see that $\\hat{\\mathbb{P}}(B^{\\prime})$ is"
   ]
  },
  {
   "cell_type": "code",
   "execution_count": 8,
   "metadata": {},
   "outputs": [
    {
     "name": "stdout",
     "output_type": "stream",
     "text": [
      "0.499683\n"
     ]
    }
   ],
   "source": [
    "p_hat_Bprime = np.sum(np.in1d(rolls, [1, 2, 3])) / rolls.size\n",
    "print(p_hat_Bprime)"
   ]
  },
  {
   "cell_type": "markdown",
   "metadata": {},
   "source": [
    "But we see that $\\hat{\\mathbb{P}}(AB)$ is:"
   ]
  },
  {
   "cell_type": "code",
   "execution_count": 9,
   "metadata": {
    "scrolled": true
   },
   "outputs": [
    {
     "name": "stdout",
     "output_type": "stream",
     "text": [
      "0.166008\n"
     ]
    }
   ],
   "source": [
    "p_hat_ABprime = np.sum(np.in1d(rolls, [2, 4, 6]) & np.in1d(rolls, [1, 2, 3])) / rolls.size\n",
    "print(p_hat_ABprime)"
   ]
  },
  {
   "cell_type": "markdown",
   "metadata": {},
   "source": [
    "Whereas $\\hat{\\mathbb{P}}(A) \\hat{\\mathbb{P}}(B^{\\prime})$ is:"
   ]
  },
  {
   "cell_type": "code",
   "execution_count": 10,
   "metadata": {},
   "outputs": [
    {
     "data": {
      "text/plain": [
       "0.249538692102"
      ]
     },
     "execution_count": 10,
     "metadata": {},
     "output_type": "execute_result"
    }
   ],
   "source": [
    "p_hat_A * p_hat_Bprime"
   ]
  },
  {
   "cell_type": "markdown",
   "metadata": {},
   "source": [
    "So $A$ and $B^{\\prime}$ are not independent events."
   ]
  }
 ],
 "metadata": {
  "kernelspec": {
   "display_name": "Python 3",
   "language": "python",
   "name": "python3"
  },
  "language_info": {
   "codemirror_mode": {
    "name": "ipython",
    "version": 3
   },
   "file_extension": ".py",
   "mimetype": "text/x-python",
   "name": "python",
   "nbconvert_exporter": "python",
   "pygments_lexer": "ipython3",
   "version": "3.8.10"
  }
 },
 "nbformat": 4,
 "nbformat_minor": 4
}
