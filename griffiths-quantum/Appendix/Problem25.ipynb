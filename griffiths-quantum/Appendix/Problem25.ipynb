{
 "cells": [
  {
   "cell_type": "code",
   "execution_count": 1,
   "metadata": {},
   "outputs": [],
   "source": [
    "import numpy as np"
   ]
  },
  {
   "cell_type": "markdown",
   "metadata": {},
   "source": [
    "## Problem A.25\n",
    "\n",
    "### Part a.\n",
    "\n",
    "$$\n",
    "\\textbf{T}^{\\dagger} = \\left( \\begin{matrix}\n",
    "1 & 1 - i \\\\\n",
    "1 + i & 0 \\\\\n",
    "\\end{matrix} \\right) = \\textbf{T}\n",
    "$$"
   ]
  },
  {
   "cell_type": "markdown",
   "metadata": {},
   "source": [
    "#### Numerical tests"
   ]
  },
  {
   "cell_type": "code",
   "execution_count": 2,
   "metadata": {},
   "outputs": [],
   "source": [
    "T = np.array([[1, 1-1j], [1+1j, 0]])"
   ]
  },
  {
   "cell_type": "code",
   "execution_count": 3,
   "metadata": {},
   "outputs": [
    {
     "data": {
      "text/plain": [
       "True"
      ]
     },
     "execution_count": 3,
     "metadata": {},
     "output_type": "execute_result"
    }
   ],
   "source": [
    "np.all(np.conj(T.T) == T)"
   ]
  },
  {
   "cell_type": "markdown",
   "metadata": {},
   "source": [
    "### Part b.\n",
    "\n",
    "The eigenvalues are found by solving the following equation:\n",
    "\n",
    "$$\n",
    "\\left| \\begin{matrix}\n",
    "1 - \\lambda & 1 - i \\\\\n",
    "1 + i & -\\lambda\n",
    "\\end{matrix} \\right| = 0\n",
    "$$\n",
    "\n",
    "$$\n",
    "\\begin{eqnarray}\n",
    "\\implies \\lambda^2 - \\lambda - (1 - i)(1 + i) & = & 0 \\\\\n",
    "\\implies \\lambda^2 - \\lambda - 2 & = & 0 \\\\\n",
    "\\implies \\lambda & = & \\frac{1}{2} \\left( 1 \\pm \\sqrt{1 + 8} \\right) \\\\\n",
    "\\implies \\lambda & \\in & \\{-1, 2\\}\n",
    "\\end{eqnarray}\n",
    "$$"
   ]
  },
  {
   "cell_type": "markdown",
   "metadata": {},
   "source": [
    "#### Numerical tests"
   ]
  },
  {
   "cell_type": "code",
   "execution_count": 4,
   "metadata": {},
   "outputs": [
    {
     "data": {
      "text/plain": [
       "array([ 2.+1.04672831e-16j, -1.-1.04672831e-16j])"
      ]
     },
     "execution_count": 4,
     "metadata": {},
     "output_type": "execute_result"
    }
   ],
   "source": [
    "np.linalg.eig(T)[0]"
   ]
  },
  {
   "cell_type": "markdown",
   "metadata": {},
   "source": [
    "### Part c.\n",
    "\n",
    "The eigenvector associated with the eigenvalue 2 is given by the solution to the equation\n",
    "\n",
    "$$\n",
    "\\left( \\begin{matrix}\n",
    "1 & 1 - i \\\\\n",
    "1 + i & 0\n",
    "\\end{matrix} \\right) \\left( \\begin{matrix}\n",
    "v_1 \\\\\n",
    "v_2\n",
    "\\end{matrix} \\right) = 2 \\left( \\begin{matrix}\n",
    "v_1 \\\\\n",
    "v_2\n",
    "\\end{matrix} \\right)\n",
    "$$\n",
    "\n",
    "This implies the following system of equations:\n",
    "\n",
    "$$\n",
    "\\begin{eqnarray}\n",
    "v_1 + (1 - i) v_2 & = & 2 v_1 \\\\\n",
    "(1 + i) v_1 = 2 v_2\n",
    "\\end{eqnarray}\n",
    "$$\n",
    "\n",
    "This yields the unnormalized eigenvector:\n",
    "\n",
    "$$\n",
    "\\textbf{v}^{(2)} = \\left( \\begin{matrix}\n",
    "1 \\\\\n",
    "\\frac{1}{2} (1 + i)\n",
    "\\end{matrix} \\right)\n",
    "$$\n",
    "\n",
    "Normalizing yields\n",
    "\n",
    "$$\n",
    "\\hat{\\textbf{v}}^{(2)} = \\left( \\begin{matrix}\n",
    "\\sqrt{\\frac{2}{3}} \\\\\n",
    "\\frac{1 + i}{\\sqrt{6}}\n",
    "\\end{matrix} \\right)\n",
    "$$\n",
    "\n",
    "The eigenvector associated with the eigenvalue -1 is given by the solution to the system of equations:\n",
    "\n",
    "$$\n",
    "\\begin{eqnarray}\n",
    "v_1 + (1 - i) v_2 & = & -v_1 \\\\\n",
    "(1 + i) v_1 = -v_2\n",
    "\\end{eqnarray}\n",
    "$$\n",
    "\n",
    "This yields the unnormalized eigenvector\n",
    "\n",
    "$$\n",
    "\\textbf{v}^{(-1)} = \\left( \\begin{matrix}\n",
    "1 \\\\\n",
    "-1 - i\n",
    "\\end{matrix} \\right)\n",
    "$$\n",
    "\n",
    "Normalizing yields\n",
    "\n",
    "$$\n",
    "\\hat{\\textbf{v}}^{(-1)} = \\left( \\begin{matrix}\n",
    "\\frac{1}{\\sqrt{3}} \\\\\n",
    "-\\frac{1 + i}{\\sqrt{3}}\n",
    "\\end{matrix} \\right)\n",
    "$$"
   ]
  },
  {
   "cell_type": "markdown",
   "metadata": {},
   "source": [
    "#### Numerical tests"
   ]
  },
  {
   "cell_type": "code",
   "execution_count": 5,
   "metadata": {},
   "outputs": [
    {
     "data": {
      "text/plain": [
       "array([[ 0.81649658+0.j        , -0.40824829+0.40824829j],\n",
       "       [ 0.40824829+0.40824829j,  0.81649658+0.j        ]])"
      ]
     },
     "execution_count": 5,
     "metadata": {},
     "output_type": "execute_result"
    }
   ],
   "source": [
    "np.linalg.eig(T)[1]"
   ]
  },
  {
   "cell_type": "code",
   "execution_count": 6,
   "metadata": {},
   "outputs": [
    {
     "data": {
      "text/plain": [
       "array([0.81649658+0.j        , 0.40824829+0.40824829j])"
      ]
     },
     "execution_count": 6,
     "metadata": {},
     "output_type": "execute_result"
    }
   ],
   "source": [
    "np.array([np.sqrt(2 / 3), (1 + 1j) / np.sqrt(6)])"
   ]
  },
  {
   "cell_type": "code",
   "execution_count": 7,
   "metadata": {},
   "outputs": [
    {
     "data": {
      "text/plain": [
       "array([ 0.57735027+0.j        , -0.57735027-0.57735027j])"
      ]
     },
     "execution_count": 7,
     "metadata": {},
     "output_type": "execute_result"
    }
   ],
   "source": [
    "np.array([1 / np.sqrt(3), -(1 + 1j) / np.sqrt(3)])"
   ]
  },
  {
   "cell_type": "code",
   "execution_count": 8,
   "metadata": {},
   "outputs": [
    {
     "data": {
      "text/plain": [
       "0.9999999999999998"
      ]
     },
     "execution_count": 8,
     "metadata": {},
     "output_type": "execute_result"
    }
   ],
   "source": [
    "np.abs(1 / (np.linalg.eig(T)[1][0, 1] * np.sqrt(3)))"
   ]
  },
  {
   "cell_type": "code",
   "execution_count": 9,
   "metadata": {},
   "outputs": [
    {
     "data": {
      "text/plain": [
       "array([ 0.57735027+0.j        , -0.57735027-0.57735027j])"
      ]
     },
     "execution_count": 9,
     "metadata": {},
     "output_type": "execute_result"
    }
   ],
   "source": [
    "np.linalg.eig(T)[1][:, 1] / (np.linalg.eig(T)[1][0, 1] * np.sqrt(3))"
   ]
  },
  {
   "cell_type": "markdown",
   "metadata": {},
   "source": [
    "### Part d.\n",
    "\n",
    "The inverse of the diagonalizing matrix is\n",
    "\n",
    "$$\n",
    "\\textbf{S}^{-1} = \\left( \\begin{matrix}\n",
    "\\sqrt{\\frac{2}{3}} & \\frac{1}{\\sqrt{3}} \\\\\n",
    "\\frac{1 + i}{\\sqrt{6}} & -\\frac{1 + i}{\\sqrt{3}}\n",
    "\\end{matrix} \\right)\n",
    "$$\n",
    "\n",
    "Now calculating $\\textbf{S}$ we have\n",
    "\n",
    "$$\n",
    "\\textbf{S} = \\left( -\\frac{\\sqrt{2}}{3}(1 + i) - \\frac{1}{3 \\sqrt{2}} (1 + i) \\right)^{-1} \\left( \\begin{matrix}\n",
    "-\\frac{1 + i}{\\sqrt{3}} & -\\frac{1}{\\sqrt{3}} \\\\\n",
    "-\\frac{1 + i}{\\sqrt{6}} & \\sqrt{\\frac{2}{3}}\n",
    "\\end{matrix} \\right)\n",
    "$$\n",
    "\n",
    "So we have\n",
    "\n",
    "$$\n",
    "\\textbf{S} = - \\frac{\\sqrt{2}}{1 + i} \\left( \\begin{matrix}\n",
    "-\\frac{1 + i}{\\sqrt{3}} & -\\frac{1}{\\sqrt{3}} \\\\\n",
    "\\frac{1 + i}{\\sqrt{6}} & \\sqrt{\\frac{2}{3}}\n",
    "\\end{matrix} \\right)\n",
    "$$\n",
    "\n",
    "which reduces to\n",
    "\n",
    "$$\n",
    "\\textbf{S} = \\left( \\begin{matrix}\n",
    "\\sqrt{\\frac{2}{3}} & \\frac{1 - i}{\\sqrt{6}} \\\\\n",
    "\\frac{1}{\\sqrt{3}} & -\\frac{1 - i}{\\sqrt{3}}\n",
    "\\end{matrix} \\right)\n",
    "$$"
   ]
  },
  {
   "cell_type": "markdown",
   "metadata": {},
   "source": [
    "#### Numerical tests"
   ]
  },
  {
   "cell_type": "code",
   "execution_count": 10,
   "metadata": {},
   "outputs": [],
   "source": [
    "Sinv = np.array([[np.sqrt(2 / 3), 1 / np.sqrt(3)], [(1 + 1j) / np.sqrt(6), -(1 + 1j) / np.sqrt(3)]])"
   ]
  },
  {
   "cell_type": "code",
   "execution_count": 11,
   "metadata": {},
   "outputs": [
    {
     "data": {
      "text/plain": [
       "array([[ 0.81649658+0.j        ,  0.40824829-0.40824829j],\n",
       "       [ 0.57735027+0.j        , -0.57735027+0.57735027j]])"
      ]
     },
     "execution_count": 11,
     "metadata": {},
     "output_type": "execute_result"
    }
   ],
   "source": [
    "S = np.linalg.inv(Sinv)\n",
    "S"
   ]
  },
  {
   "cell_type": "code",
   "execution_count": 12,
   "metadata": {},
   "outputs": [
    {
     "data": {
      "text/plain": [
       "array([[ 0.81649658+0.j        ,  0.40824829-0.40824829j],\n",
       "       [ 0.57735027+0.j        , -0.57735027+0.57735027j]])"
      ]
     },
     "execution_count": 12,
     "metadata": {},
     "output_type": "execute_result"
    }
   ],
   "source": [
    "np.array([[np.sqrt(2 / 3), (1 - 1j) / np.sqrt(6)], [1 / np.sqrt(3), -(1 - 1j) / np.sqrt(3)]])"
   ]
  },
  {
   "cell_type": "markdown",
   "metadata": {},
   "source": [
    "#### Analytic tests\n",
    "\n",
    "Now let's check that we can use $\\textbf{S}$ to diagonalize $\\textbf{T}$:\n",
    "\n",
    "$$\n",
    "\\textbf{S}\\textbf{T}\\textbf{S}^{-1} = \\left( \\begin{matrix}\n",
    "\\sqrt{\\frac{2}{3}} & \\frac{1 - i}{\\sqrt{6}} \\\\\n",
    "\\frac{1}{\\sqrt{3}} & -\\frac{1 - i}{\\sqrt{3}}\n",
    "\\end{matrix} \\right) \\left( \\begin{matrix}\n",
    "1 & 1 - i \\\\\n",
    "1 + i & 0\n",
    "\\end{matrix} \\right) \\left( \\begin{matrix}\n",
    "\\sqrt{\\frac{2}{3}} & \\frac{1}{\\sqrt{3}} \\\\\n",
    "\\frac{1 + i}{\\sqrt{6}} & -\\frac{1 + i}{\\sqrt{3}}\n",
    "\\end{matrix} \\right)\n",
    "$$\n",
    "\n",
    "$$\n",
    "\\textbf{S}\\textbf{T}\\textbf{S}^{-1} = \\left( \\begin{matrix}\n",
    "\\frac{2 \\sqrt{2}}{\\sqrt{3}} & \\sqrt{\\frac{2}{3}}(1 - i) \\\\\n",
    "-\\frac{1}{\\sqrt{3}} & \\frac{1 - i}{\\sqrt{3}}\n",
    "\\end{matrix} \\right) \\left( \\begin{matrix}\n",
    "\\sqrt{\\frac{2}{3}} & \\frac{1}{\\sqrt{3}} \\\\\n",
    "\\frac{1 + i}{\\sqrt{6}} & -\\frac{1 + i}{\\sqrt{3}}\n",
    "\\end{matrix} \\right)\n",
    "$$\n",
    "\n",
    "$$\n",
    "\\textbf{S}\\textbf{T}\\textbf{S}^{-1} = \\left( \\begin{matrix}\n",
    "2 & 0 \\\\\n",
    "0 & -1\n",
    "\\end{matrix} \\right)\n",
    "$$"
   ]
  },
  {
   "cell_type": "markdown",
   "metadata": {},
   "source": [
    "### Part e.\n",
    "\n",
    "We have\n",
    "\n",
    "$$\n",
    "\\textrm{Tr}(\\textbf{T}) = 1\n",
    "$$\n",
    "\n",
    "and\n",
    "\n",
    "$$\n",
    "\\textrm{det}(\\textbf{T}) = -2\n",
    "$$\n",
    "\n",
    "in both the original form and the diagonalized form."
   ]
  }
 ],
 "metadata": {
  "kernelspec": {
   "display_name": "Python 3",
   "language": "python",
   "name": "python3"
  },
  "language_info": {
   "codemirror_mode": {
    "name": "ipython",
    "version": 3
   },
   "file_extension": ".py",
   "mimetype": "text/x-python",
   "name": "python",
   "nbconvert_exporter": "python",
   "pygments_lexer": "ipython3",
   "version": "3.7.3"
  }
 },
 "nbformat": 4,
 "nbformat_minor": 2
}
