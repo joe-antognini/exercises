{
 "cells": [
  {
   "cell_type": "markdown",
   "metadata": {},
   "source": [
    "# Problem 1.4"
   ]
  },
  {
   "cell_type": "markdown",
   "metadata": {},
   "source": [
    "We will prove the relation by induction.  First consider the base case where $I$ has two elements:\n",
    "\n",
    "$$\n",
    "\\begin{eqnarray}\n",
    "(A_1 \\cup A_2)^c & \\equiv & \\{ \\omega : \\neg (\\omega \\in A_1 \\vee \\omega \\in A_2 )\\} \\\\\n",
    "& = & \\{ \\omega : \\omega \\notin A_1 \\wedge \\omega \\notin A_2 \\} \\\\\n",
    "& = & \\{ \\omega: \\omega \\notin A_1\\} \\cap \\{\\omega : \\omega \\notin A_2\\} \\\\\n",
    "& = & A_1^c \\cap A_2^c\n",
    "\\end{eqnarray}\n",
    "$$"
   ]
  },
  {
   "cell_type": "markdown",
   "metadata": {},
   "source": [
    "Now, suppose the relation holds for the $n^{\\textrm{th}}$ case.  Let $I_n$ represent an index set of length $n$.\n",
    "\n",
    "$$\n",
    "\\left( \\bigcup_{i \\in I_n} A_i \\right)^c = \\bigcap_{i \\in I_n} A_i^c\n",
    "$$\n",
    "\n",
    "Let us consider the $n+1$ case:\n",
    "\n",
    "$$\n",
    "\\begin{eqnarray}\n",
    "\\left(\\bigcup_{i \\in I_{n+1}} A_i \\right)^c & = & \\left[ \\left( \\bigcup_{i \\in I_n} A_i \\right) \\cup A_{n+1} \\right]^c \\\\\n",
    "& = & \\left\\{ \\omega: \\neg \\left( \\omega \\in \\bigcup_{i \\in I_n} A_i \\vee \\omega \\in A_{n+1} \\right) \\right\\} \\\\\n",
    "& = & \\left\\{ \\omega: \\omega \\notin \\bigcup_{i \\in I_n} A_i \\wedge \\omega \\notin A_{n+1} \\right\\} \\\\\n",
    "& = & \\left( \\bigcup_{i \\in I_n} A_i \\right)^c \\cap A_{n+1}^c \\\\\n",
    "& = & \\left( \\bigcap_{i \\in I_n} A_i^c \\right) \\cap A_{n+1}^c \\\\\n",
    "& = & \\bigcap_{i \\in I_{n+1}} A_i^c\n",
    "\\end{eqnarray}\n",
    "$$"
   ]
  }
 ],
 "metadata": {
  "kernelspec": {
   "display_name": "Python 3",
   "language": "python",
   "name": "python3"
  },
  "language_info": {
   "codemirror_mode": {
    "name": "ipython",
    "version": 3
   },
   "file_extension": ".py",
   "mimetype": "text/x-python",
   "name": "python",
   "nbconvert_exporter": "python",
   "pygments_lexer": "ipython3",
   "version": "3.8.10"
  }
 },
 "nbformat": 4,
 "nbformat_minor": 4
}
