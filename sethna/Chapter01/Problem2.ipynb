{
 "cells": [
  {
   "cell_type": "markdown",
   "metadata": {},
   "source": [
    "# Problem 2"
   ]
  },
  {
   "cell_type": "code",
   "execution_count": 2,
   "metadata": {},
   "outputs": [
    {
     "name": "stdout",
     "output_type": "stream",
     "text": [
      "Populating the interactive namespace from numpy and matplotlib\n"
     ]
    }
   ],
   "source": [
    "%pylab inline"
   ]
  },
  {
   "cell_type": "markdown",
   "metadata": {},
   "source": [
    "## Part a."
   ]
  },
  {
   "cell_type": "markdown",
   "metadata": {},
   "source": [
    "The probability that a random number drawn from a uniform distribution will lie between 0.7 and 0.75 is 0.05.\n",
    "\n",
    "The probability that the waiting time for a radioactive decay of a nucleus will more than twice the exponential decay time is\n",
    "\n",
    "$$\n",
    "\\left. \\int_{2 \\tau}^{\\infty} \\frac{e^{-t / \\tau}}{\\tau} \\, dt = -e^{-t / \\tau} \\, \\right|_{2 \\tau}^{\\infty} = e^{-2} \\approx 0.135.\n",
    "$$"
   ]
  },
  {
   "cell_type": "code",
   "execution_count": 3,
   "metadata": {},
   "outputs": [
    {
     "data": {
      "text/plain": [
       "0.1353352832366127"
      ]
     },
     "execution_count": 3,
     "metadata": {},
     "output_type": "execute_result"
    }
   ],
   "source": [
    "np.exp(-2)"
   ]
  },
  {
   "cell_type": "markdown",
   "metadata": {},
   "source": [
    "The probability that a score will be more than $2 \\sigma$ above the mean when the scores are distributed as a Gaussian is about 0.023."
   ]
  },
  {
   "cell_type": "markdown",
   "metadata": {},
   "source": [
    "## Part b."
   ]
  },
  {
   "cell_type": "markdown",
   "metadata": {},
   "source": [
    "Uniform distribution:\n",
    "\n",
    "$$\n",
    "\\int_0^1 \\, \\dx = 1.\n",
    "$$\n",
    "\n",
    "Exponential distribution:\n",
    "\n",
    "$$\n",
    "\\left. \\int_0^{\\infty} \\frac{e^{-t / \\tau}}{\\tau} \\, dt = -e^{-t / \\tau} \\right|_0^{\\infty} = 1.\n",
    "$$\n",
    "\n",
    "Gaussian distribution:\n",
    "\n",
    "$$\n",
    "\\int_{-infty}^{\\infty} \\frac{1}{\\sqrt{2 \\pi} \\sigma} e^{-v^2 / 2 \\sigma^2} \\, dv\n",
    "$$\n",
    "\n",
    "Let $u = v / \\sigma$.  Then $dv = \\sigma du$ and we have\n",
    "\n",
    "$$\n",
    "\\int_{-infty}^{\\infty} \\frac{1}{\\sqrt{2 \\pi}} e^{-u^2 / 2} \\, du = 1.\n",
    "$$"
   ]
  }
 ],
 "metadata": {
  "kernelspec": {
   "display_name": "Python 3",
   "language": "python",
   "name": "python3"
  },
  "language_info": {
   "codemirror_mode": {
    "name": "ipython",
    "version": 3
   },
   "file_extension": ".py",
   "mimetype": "text/x-python",
   "name": "python",
   "nbconvert_exporter": "python",
   "pygments_lexer": "ipython3",
   "version": "3.6.5"
  }
 },
 "nbformat": 4,
 "nbformat_minor": 2
}
