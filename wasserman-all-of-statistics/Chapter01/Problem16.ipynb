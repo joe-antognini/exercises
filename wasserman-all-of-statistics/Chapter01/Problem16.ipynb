{
 "cells": [
  {
   "cell_type": "markdown",
   "metadata": {},
   "source": [
    "# Problem 1.16\n",
    "\n",
    "We wish to show two thigs.  Firstly, if $A$ and $B$ are independent, then $\\mathbb{P}(A | B) = \\mathbb{P}(A)$.  Secondly, that for any events $A$ and $B$,\n",
    "\n",
    "$$\n",
    "\\mathbb{P}(A) = \\mathbb{P}(A | B) \\mathbb{P}(B) = \\mathbb{P}(B | A) \\mathbb{P}(A)\n",
    "$$\n",
    "\n",
    "Let's consider the first statement.  $A$ and $B$ are independent iff $\\mathbb{P}(AB) = \\mathbb{P}(A) \\mathbb{P}(B)$.  Now,\n",
    "\n",
    "$$\n",
    "\\begin{eqnarray}\n",
    "\\mathbb{P}(A|B) & \\equiv & \\frac{\\mathbb{P}(AB)}{\\mathbb{P}(B)} \\\\\n",
    "& = & \\frac{\\mathbb{P}(A) \\mathbb{P}(B)}{\\mathbb{P}(B)}\n",
    "\\end{eqnarray}\n",
    "$$\n",
    "\n",
    "Suppose $\\mathbb{P}(B) > 0$.  Then $\\mathbb{P}(A|B) = \\mathbb{P}(A)$.  However, if $\\mathbb{P}(B) = 0$, then $\\mathbb{P}(A|B)$ is undefined becaues it is an impossible condition.\n",
    "\n",
    "Now consider the second statement.  Again\n",
    "\n",
    "$$\n",
    "\\mathbb{P}(A|B) \\equiv \\frac{\\mathbb{P}(AB)}{\\mathbb{P}(B)} \\implies \\mathbb{P}(AB) = \\mathbb{P}(A|B) \\mathbb{P}(B)\n",
    "$$\n",
    "\n",
    "However, $\\mathbb{P}(AB) = \\mathbb{P}(BA)$, so similarly\n",
    "\n",
    "$$\n",
    "\\mathbb{P}(AB) = \\mathbb{P}(A|B) \\mathbb{P}(B) = \\mathbb{P}(B|A) \\mathbb{P}(A).\n",
    "$$"
   ]
  }
 ],
 "metadata": {
  "kernelspec": {
   "display_name": "Python 3",
   "language": "python",
   "name": "python3"
  },
  "language_info": {
   "codemirror_mode": {
    "name": "ipython",
    "version": 3
   },
   "file_extension": ".py",
   "mimetype": "text/x-python",
   "name": "python",
   "nbconvert_exporter": "python",
   "pygments_lexer": "ipython3",
   "version": "3.8.10"
  }
 },
 "nbformat": 4,
 "nbformat_minor": 4
}
