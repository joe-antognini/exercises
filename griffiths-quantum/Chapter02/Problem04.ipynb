{
 "cells": [
  {
   "cell_type": "markdown",
   "metadata": {},
   "source": [
    "# Problem 2.4\n",
    "\n",
    "$$\n",
    "\\begin{eqnarray}\n",
    "\\langle x \\rangle & = & \\int_0^a \\frac{2}{a} x \\sin^2 \\left( \\frac{n \\pi}{a} x \\right) \\, dx \\\\\n",
    "& = & a \\left[ \\frac{1}{2} \\sin^2 (n\\pi) + \\frac{1}{2} \\cos^2 (n \\pi) - \\frac{1}{n \\pi} \\sin (n \\pi) \\cos (n\\pi) + \\frac{1}{2 n^2 \\pi^2} \\sin^2 (n \\pi) \\right] \\\\\n",
    "& = & \\frac{a}{2}\n",
    "\\end{eqnarray}\n",
    "$$\n",
    "\n",
    "----\n",
    "\n",
    "$$\n",
    "\\begin{eqnarray}\n",
    "\\langle x^2 \\rangle & = & \\int_0^a \\frac{a}{a} x^2 \\sin^2 \\left( \\frac{n \\pi}{a} x \\right) \\, dx \\\\\n",
    "& = & a^2 \\left( \\frac{1}{3} - \\frac{\\sin(2\\pi n)}{2\\pi n} - \\frac{\\cos(2 \\pi n)}{2 \\pi^2 n^2} + \\frac{\\sin(2 \\pi n)}{4 \\pi^3 n^3} \\right) \\\\\n",
    "& = & a^2 \\left[ \\frac{1}{3} - \\frac{1}{2 n^2 \\pi^2} \\right]\n",
    "\\end{eqnarray}\n",
    "$$\n",
    "\n",
    "----\n",
    "\n",
    "$$\n",
    "\\begin{eqnarray}\n",
    "\\langle p \\rangle & = & \\int_0^a \\frac{2}{a} \\sin \\left( \\frac{n \\pi}{a} x \\right) \\frac{\\hbar}{i} \\frac{\\partial}{\\partial x} \\left[ \\sin \\left( \\frac{\\pi n}{a} x \\right) \\right] \\, dx \\\\\n",
    "& = & \\int_0^a \\frac{2\\pi n}{a^2} \\sin \\left(\\frac{\\pi n}{a} x \\right) \\cos \\left( \\frac{\\pi n}{a} x \\right) \\, x \\\\\n",
    "& = & 0\n",
    "\\end{eqnarray}\n",
    "$$\n",
    "\n",
    "----\n",
    "\n",
    "$$\n",
    "\\begin{eqnarray}\n",
    "\\langle p^2 \\rangle & = & -\\int_0^a \\frac{2 \\hbar^2}{a} \\sin \\left( \\frac{n \\pi x}{a} \\right) \\frac{\\partial^2}{\\partial x^2} \\left[ \\sin \\left( \\frac{n \\pi}{a} x \\right) \\right] \\, dx \\\\\n",
    "& = & \\frac{2 \\hbar^2}{a} \\int_0^a \\left( \\frac{n\\pi}{a} \\right)^2 \\sin \\left( \\frac{n\\pi}{a} x \\right)^2 \\, dx \\\\\n",
    "& = & \\frac{2 (n \\pi \\hbar)^2}{a^3} \\int_0^a \\sin^2 \\left( \\frac{n\\pi}{a} x \\right) \\, dx \\\\\n",
    "& = & \\left( \\frac{n \\pi \\hbar}{a} \\right)^2\n",
    "\\end{eqnarray}\n",
    "$$\n",
    "\n",
    "----\n",
    "\n",
    "$$\n",
    "\\sigma_x = a \\sqrt{ \\frac{1}{2} \\left( \\frac{1}{6} - \\frac{1}{n^2 \\pi^2} \\right) }\n",
    "$$\n",
    "\n",
    "$$\n",
    "\\sigma_p = \\frac{n \\pi \\hbar}{a}\n",
    "$$\n",
    "\n",
    "----\n",
    "\n",
    "$$\n",
    "\\sigma_x \\sigma_p = \\hbar \\sqrt{ \\frac{1}{2} \\left( \\frac{n^2 \\pi^2}{6} - 1 \\right)}\n",
    "$$"
   ]
  }
 ],
 "metadata": {
  "kernelspec": {
   "display_name": "Python 3",
   "language": "python",
   "name": "python3"
  },
  "language_info": {
   "codemirror_mode": {
    "name": "ipython",
    "version": 3
   },
   "file_extension": ".py",
   "mimetype": "text/x-python",
   "name": "python",
   "nbconvert_exporter": "python",
   "pygments_lexer": "ipython3",
   "version": "3.8.5"
  }
 },
 "nbformat": 4,
 "nbformat_minor": 4
}
