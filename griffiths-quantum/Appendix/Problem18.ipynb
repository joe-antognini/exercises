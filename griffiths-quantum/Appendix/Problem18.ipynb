{
 "cells": [
  {
   "cell_type": "code",
   "execution_count": 1,
   "metadata": {},
   "outputs": [],
   "source": [
    "import numpy as np"
   ]
  },
  {
   "cell_type": "markdown",
   "metadata": {},
   "source": [
    "## Problem A.18\n",
    "\n",
    "To find the eigenvalues we must solve the following determinant:\n",
    "\n",
    "$$\n",
    "\\begin{vmatrix}\n",
    "\\cos \\theta - \\lambda & -\\sin \\theta \\\\\n",
    "\\sin \\theta & \\cos \\theta - \\lambda \\\\\n",
    "\\end{vmatrix} = 0\n",
    "$$\n",
    "\n",
    "This implies that we must find the $\\lambda$ that satisfies the equation\n",
    "\n",
    "$$\n",
    "(\\cos \\theta - \\lambda)^2  +\\sin^2 \\theta = 0\n",
    "$$\n",
    "\n",
    "$$\n",
    "\\implies \\lambda^2 - 2 \\lambda \\cos \\theta + 1 = 0\n",
    "$$\n",
    "\n",
    "$$\n",
    "\\begin{eqnarray}\n",
    "\\implies \\lambda & = & \\frac{1}{2} \\left(2 \\cos \\theta \\pm \\sqrt{4 \\cos^2 \\theta - 4} \\right) \\\\\n",
    "& = & \\cos \\theta \\pm \\sqrt{\\cos^2 \\theta - 1} \\\\\n",
    "& = & \\cos \\theta \\pm \\sqrt{- \\sin^2 \\theta} \\\\\n",
    "& = & \\cos \\theta \\pm i \\sin \\theta\n",
    "\\end{eqnarray}\n",
    "$$\n",
    "\n",
    "Thus we only have a real solution iff $\\sin \\theta = 0$, which means that we must have $\\theta \\in \\{0, \\pi\\}$.\n",
    "\n",
    "We can simplify the general case of complex eigenvalues with $\\lambda = e^{\\pm i \\theta}$.  To find the eigenvectors, we have in the positive case\n",
    "\n",
    "$$\n",
    "\\left( \\begin{matrix}\n",
    "\\cos \\theta & -\\sin \\theta \\\\\n",
    "\\sin \\theta & \\cos \\theta \\\\\n",
    "\\end{matrix} \\right) \\left( \\begin{matrix}\n",
    "v_1 \\\\\n",
    "v_2 \\\\\n",
    "\\end{matrix} \\right) = e^{i \\theta} \\left( \\begin{matrix}\n",
    "v_1 \\\\\n",
    "v_2 \\\\\n",
    "\\end{matrix} \\right)\n",
    "$$\n",
    "This implies the following set of equations:\n",
    "$$\n",
    "\\begin{eqnarray}\n",
    "\\cos \\theta v_1 - \\sin \\theta v_2 & = & e^{i \\theta} v_1 \\\\\n",
    "\\sin \\theta v_1 + \\cos \\theta v_2 & = & e^{i \\theta} v_2\n",
    "\\end{eqnarray}\n",
    "$$\n",
    "$$\n",
    "\\begin{eqnarray}\n",
    "\\implies v_1 & = & - \\frac{\\sin \\theta v_2}{e^{i \\theta} - \\cos \\theta} \\\\\n",
    "& = & -\\frac{v_2}{i} \\\\\n",
    "& = & i v_2\n",
    "\\end{eqnarray}\n",
    "$$\n",
    "And so the first eigenvector is\n",
    "$$\n",
    "a^{(1)} = \\frac{1}{\\sqrt{2}} \\left( \\begin{matrix}\n",
    "1 \\\\\n",
    "-i\n",
    "\\end{matrix} \\right)\n",
    "$$\n",
    "To find the second eigenvector, we now have\n",
    "$$\n",
    "\\left( \\begin{matrix}\n",
    "\\cos \\theta & -\\sin \\theta \\\\\n",
    "\\sin \\theta & \\cos \\theta \\\\\n",
    "\\end{matrix} \\right) \\left( \\begin{matrix}\n",
    "v_1 \\\\\n",
    "v_2 \\\\\n",
    "\\end{matrix} \\right) = e^{-i \\theta} \\left( \\begin{matrix}\n",
    "v_1 \\\\\n",
    "v_2 \\\\\n",
    "\\end{matrix} \\right)\n",
    "$$\n",
    "which similarly implies\n",
    "$$\n",
    "\\begin{eqnarray}\n",
    "\\cos \\theta v_1 - \\sin \\theta v_2 & = & e^{-i \\theta} v_1 \\\\\n",
    "\\sin \\theta v_1 + \\cos \\theta v_2 & = & e^{-i \\theta} v_2\n",
    "\\end{eqnarray}\n",
    "$$\n",
    "$$\n",
    "\\begin{eqnarray}\n",
    "\\implies v_1 & = & - \\frac{\\sin \\theta v_2}{e^{-i \\theta} - \\cos \\theta} \\\\\n",
    "& = & \\frac{v_2}{i} \\\\\n",
    "& = & -i v_2\n",
    "\\end{eqnarray}\n",
    "$$\n",
    "And so the second eigenvector is\n",
    "$$\n",
    "a^{(2)} = \\frac{1}{\\sqrt{2}} \\left( \\begin{matrix}\n",
    "1 \\\\\n",
    "i\n",
    "\\end{matrix} \\right)\n",
    "$$"
   ]
  },
  {
   "cell_type": "markdown",
   "metadata": {},
   "source": [
    "### Numerical tests"
   ]
  },
  {
   "cell_type": "code",
   "execution_count": 2,
   "metadata": {},
   "outputs": [],
   "source": [
    "theta = 0.3\n",
    "R = np.array([[np.cos(theta), -np.sin(theta)], [np.sin(theta), np.cos(theta)]])\n",
    "\n",
    "a1 = np.array([1, -1j]) / np.sqrt(2)\n",
    "a2 = np.array([1, 1j]) / np.sqrt(2)"
   ]
  },
  {
   "cell_type": "code",
   "execution_count": 3,
   "metadata": {},
   "outputs": [
    {
     "data": {
      "text/plain": [
       "array([0.67552491+0.20896434j, 0.20896434-0.67552491j])"
      ]
     },
     "execution_count": 3,
     "metadata": {},
     "output_type": "execute_result"
    }
   ],
   "source": [
    "np.matmul(R, a1)"
   ]
  },
  {
   "cell_type": "code",
   "execution_count": 4,
   "metadata": {},
   "outputs": [
    {
     "data": {
      "text/plain": [
       "array([0.67552491+0.20896434j, 0.20896434-0.67552491j])"
      ]
     },
     "execution_count": 4,
     "metadata": {},
     "output_type": "execute_result"
    }
   ],
   "source": [
    "np.exp(1j * theta) * a1"
   ]
  },
  {
   "cell_type": "code",
   "execution_count": 5,
   "metadata": {},
   "outputs": [
    {
     "data": {
      "text/plain": [
       "array([0.67552491-0.20896434j, 0.20896434+0.67552491j])"
      ]
     },
     "execution_count": 5,
     "metadata": {},
     "output_type": "execute_result"
    }
   ],
   "source": [
    "np.matmul(R, a2)"
   ]
  },
  {
   "cell_type": "code",
   "execution_count": 6,
   "metadata": {},
   "outputs": [
    {
     "data": {
      "text/plain": [
       "array([0.67552491-0.20896434j, 0.20896434+0.67552491j])"
      ]
     },
     "execution_count": 6,
     "metadata": {},
     "output_type": "execute_result"
    }
   ],
   "source": [
    "np.exp(-1j * theta) * a2"
   ]
  },
  {
   "cell_type": "markdown",
   "metadata": {},
   "source": [
    "### Continuing the problem..."
   ]
  },
  {
   "cell_type": "markdown",
   "metadata": {},
   "source": [
    "Now to find the similarity matrix $\\textbf{S}$ we note that the matrix $\\textbf{S}^{-1}$ has columns which are the eigenvectors:\n",
    "\n",
    "$$\n",
    "\\textbf{S}^{-1} = \\frac{1}{\\sqrt{2}} \\left( \\begin{matrix}\n",
    "1 & 1 \\\\\n",
    "-i & i \\\\\n",
    "\\end{matrix} \\right)\n",
    "$$\n",
    "\n",
    "The determinant of $\\textbf{S}^{-1}$ is\n",
    "\n",
    "$$\n",
    "\\textrm{det}(\\textbf{S}^{-1}) = i\n",
    "$$\n",
    "\n",
    "so the matrix $\\textbf{S}$ is\n",
    "\n",
    "$$\n",
    "\\textbf{S} = \\frac{1}{\\sqrt{2}} \\left( \\begin{matrix}\n",
    "1 & i \\\\\n",
    "1 & -i\n",
    "\\end{matrix} \\right)\n",
    "$$\n",
    "\n",
    "The diagonalization of $\\textbf{T}$ will be\n",
    "\n",
    "$$\n",
    "\\textbf{S} \\textbf{T} \\textbf{S}^{-1} = \\frac{1}{2} \\left( \\begin{matrix}\n",
    "1 & i \\\\\n",
    "1 & -i\n",
    "\\end{matrix} \\right) \\left( \\begin{matrix}\n",
    "\\cos \\theta & -\\sin \\theta \\\\\n",
    "\\sin \\theta & \\cos \\theta \\\\\n",
    "\\end{matrix} \\right) \\left( \\begin{matrix}\n",
    "1 & 1 \\\\\n",
    "-i & i \\\\\n",
    "\\end{matrix} \\right)\n",
    "$$\n",
    "\n",
    "$$\n",
    "\\textbf{S} \\textbf{T} \\textbf{S}^{-1} = \\frac{1}{2} \\left( \\begin{matrix}\n",
    "1 & i \\\\\n",
    "1 & -i\n",
    "\\end{matrix} \\right) \\left( \\begin{matrix}\n",
    "\\cos \\theta + i \\sin \\theta & \\cos \\theta - i \\sin \\theta \\\\\n",
    "\\sin \\theta - i \\cos \\theta & \\sin \\theta + i \\cos \\theta\n",
    "\\end{matrix} \\right)\n",
    "$$\n",
    "\n",
    "$$\n",
    "\\textbf{S} \\textbf{T} \\textbf{S}^{-1} = \\frac{1}{2} \\left( \\begin{matrix}\n",
    "1 & i \\\\\n",
    "1 & -i\n",
    "\\end{matrix} \\right) \\left( \\begin{matrix}\n",
    "e^{i \\theta} & e^{-i \\theta} \\\\\n",
    "-i e^{i \\theta} & i e^{-i \\theta}\n",
    "\\end{matrix} \\right)\n",
    "$$\n",
    "\n",
    "$$\n",
    "\\textbf{S} \\textbf{T} \\textbf{S}^{-1} = \\left( \\begin{matrix}\n",
    "e^{i \\theta} & 0 \\\\\n",
    "0 & e^{-i \\theta}\n",
    "\\end{matrix} \\right)\n",
    "$$"
   ]
  }
 ],
 "metadata": {
  "kernelspec": {
   "display_name": "Python 3",
   "language": "python",
   "name": "python3"
  },
  "language_info": {
   "codemirror_mode": {
    "name": "ipython",
    "version": 3
   },
   "file_extension": ".py",
   "mimetype": "text/x-python",
   "name": "python",
   "nbconvert_exporter": "python",
   "pygments_lexer": "ipython3",
   "version": "3.7.3"
  }
 },
 "nbformat": 4,
 "nbformat_minor": 2
}
