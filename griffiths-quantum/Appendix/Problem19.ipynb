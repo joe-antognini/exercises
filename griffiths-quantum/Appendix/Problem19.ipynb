{
 "cells": [
  {
   "cell_type": "markdown",
   "metadata": {},
   "source": [
    "## Problem A.19\n",
    "\n",
    "The eigenvalues are given by the solution to the equation\n",
    "\n",
    "$$\n",
    "\\left| \\begin{matrix}\n",
    "1 - \\lambda & 1 \\\\\n",
    "0 & 1 - \\lambda \\\\\n",
    "\\end{matrix} \\right| = 0\n",
    "$$\n",
    "\n",
    "This implies that\n",
    "\n",
    "$$\n",
    "(1 - \\lambda)^2 = 0\n",
    "$$\n",
    "\n",
    "and so the only eigenvalue is $\\lambda = 1$, which has degeneracy 2.\n",
    "\n",
    "The eigenvectors now must satisfy the equation\n",
    "\n",
    "$$\n",
    "\\left( \\begin{matrix}\n",
    "1 & 1 \\\\\n",
    "0 & 1 \\\\\n",
    "\\end{matrix} \\right) \\left( \\begin{matrix}\n",
    "v_1 \\\\\n",
    "v_2 \\\\\n",
    "\\end{matrix} \\right) = \\left( \\begin{matrix}\n",
    "v_1 \\\\\n",
    "v_2 \\\\\n",
    "\\end{matrix} \\right)\n",
    "$$\n",
    "\n",
    "Thus we must have that\n",
    "\n",
    "$$\n",
    "v_2 = 0\n",
    "$$\n",
    "\n",
    "and we have no constraint on $v_1$.  This means that the original matrix $\\textbf{M}$ is no diagonalizable because we cannot construct an eigenbasis that spans the vector space."
   ]
  }
 ],
 "metadata": {
  "kernelspec": {
   "display_name": "Python 3",
   "language": "python",
   "name": "python3"
  },
  "language_info": {
   "codemirror_mode": {
    "name": "ipython",
    "version": 3
   },
   "file_extension": ".py",
   "mimetype": "text/x-python",
   "name": "python",
   "nbconvert_exporter": "python",
   "pygments_lexer": "ipython3",
   "version": "3.7.3"
  }
 },
 "nbformat": 4,
 "nbformat_minor": 2
}
