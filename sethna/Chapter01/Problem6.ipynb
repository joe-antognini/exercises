{
 "cells": [
  {
   "cell_type": "markdown",
   "metadata": {},
   "source": [
    "# Problem 6 "
   ]
  },
  {
   "cell_type": "code",
   "execution_count": 1,
   "metadata": {},
   "outputs": [
    {
     "name": "stdout",
     "output_type": "stream",
     "text": [
      "Populating the interactive namespace from numpy and matplotlib\n"
     ]
    }
   ],
   "source": [
    "%pylab inline\n",
    "\n",
    "from sympy import *"
   ]
  },
  {
   "cell_type": "markdown",
   "metadata": {},
   "source": [
    "## Part a."
   ]
  },
  {
   "cell_type": "code",
   "execution_count": 2,
   "metadata": {},
   "outputs": [],
   "source": [
    "M = 10000\n",
    "Ns = [2, 4, 10]\n",
    "ensembles = []\n",
    "\n",
    "for N in Ns:\n",
    "    non_orthogonal_matrices = np.random.normal(size=(M, N, N))\n",
    "    orthogonal_matrices = non_orthogonal_matrices + np.transpose(non_orthogonal_matrices, (0, 2, 1))\n",
    "    ensembles.append(orthogonal_matrices)"
   ]
  },
  {
   "cell_type": "code",
   "execution_count": 3,
   "metadata": {},
   "outputs": [],
   "source": [
    "all_eigs = []\n",
    "for ensemble in ensembles:\n",
    "    eigs = np.sort(np.linalg.eig(ensemble)[0], axis=1)\n",
    "    all_eigs.append(eigs)"
   ]
  },
  {
   "cell_type": "code",
   "execution_count": 4,
   "metadata": {},
   "outputs": [],
   "source": [
    "splits = []\n",
    "for N, eigs in zip(Ns, all_eigs):\n",
    "    split = eigs[:, int(N / 2) - 1] - eigs[:, int(N / 2)]\n",
    "    splits.append(split)"
   ]
  },
  {
   "cell_type": "code",
   "execution_count": 5,
   "metadata": {},
   "outputs": [
    {
     "data": {
      "image/png": "[encoded data removed]",
      "text/plain": [
       "<matplotlib.figure.Figure at 0x117c8f400>"
      ]
     },
     "metadata": {
      "needs_background": "light"
     },
     "output_type": "display_data"
    }
   ],
   "source": [
    "for N, split in zip(Ns, splits):\n",
    "    hist(split / np.mean(split), 100, histtype='step', linewidth=1, label='N = {}'.format(N))\n",
    "legend(loc='upper right')\n",
    "xlabel('Eigenvalue split')\n",
    "ylabel('N');"
   ]
  },
  {
   "cell_type": "markdown",
   "metadata": {},
   "source": [
    "## Part b.\n",
    "\n",
    "The eigenvalues, $\\lambda$, can be found by calculating the determinant and setting it equal to zero:\n",
    "\n",
    "$$\n",
    "\\begin{eqnarray}\n",
    "\\begin{vmatrix}\n",
    "a - \\lambda & b \\\\\n",
    "b & c - \\lambda \\\\\n",
    "\\end{vmatrix} & = & 0 \\\\\n",
    "\\lambda^2 - (a + c) \\lambda + ac - b^2 & = & 0 \\\\\n",
    "\\end{eqnarray}\n",
    "$$"
   ]
  },
  {
   "cell_type": "markdown",
   "metadata": {},
   "source": [
    "Solving for $\\lambda$ we have\n",
    "\n",
    "$$\n",
    "\\lambda = \\frac{1}{2} \\left( a + c \\pm \\sqrt{(a + c)^2 - 4(ac - b^2)} \\right)\n",
    "$$"
   ]
  },
  {
   "cell_type": "markdown",
   "metadata": {},
   "source": [
    "Now taking the difference between the two solutions to get $\\Delta \\lambda$,\n",
    "\n",
    "$$\n",
    "\\Delta \\lambda = \\sqrt{(a + c)^2 - 4(ac - b^2)} = \\sqrt{(a - c)^2 + 4b^2)}\n",
    "$$"
   ]
  },
  {
   "cell_type": "markdown",
   "metadata": {},
   "source": [
    "Letting $d \\equiv (a - c) / 2$, we now have a joint distribution over two variables.  The probability of any $\\Delta \\lambda$ is now equal to the area in a thin annulus of radius $\\Delta \\lambda$ on the $d, b$ plane.  Since the area of such an annulus goes to zero as $\\Delta \\lambda \\to 0$, the probability density at a split of zero is zero."
   ]
  },
  {
   "cell_type": "markdown",
   "metadata": {},
   "source": [
    "## Part c.\n",
    "\n",
    "The standard deviation of $a$ is equal to 2 (since it is 2 times a Gaussian random variate with standard deviation of 1).  The standard deviation of $b$ is $\\sqrt{2}$ since it is the sum of two independent random Gaussian variates."
   ]
  },
  {
   "cell_type": "code",
   "execution_count": 6,
   "metadata": {},
   "outputs": [
    {
     "data": {
      "text/plain": [
       "0.03458734886368742"
      ]
     },
     "execution_count": 6,
     "metadata": {},
     "output_type": "execute_result"
    }
   ],
   "source": [
    "np.std(ensembles[0][:, 0, 0]) - 2"
   ]
  },
  {
   "cell_type": "code",
   "execution_count": 7,
   "metadata": {},
   "outputs": [
    {
     "data": {
      "text/plain": [
       "-0.014417277992782473"
      ]
     },
     "execution_count": 7,
     "metadata": {},
     "output_type": "execute_result"
    }
   ],
   "source": [
    "np.std(ensembles[0][:, 0, 1]) - np.sqrt(2)"
   ]
  },
  {
   "cell_type": "markdown",
   "metadata": {},
   "source": [
    "The random variate $d$ has standard deviation $\\sqrt{2}$:\n",
    "\n",
    "$$\n",
    "\\begin{eqnarray}\n",
    "\\mathbb{V}[d] & = & \\mathbb{V}\\left[\\frac{a - c}{2}\\right] \\\\\n",
    " & = & \\frac{1}{4} \\left( \\mathbb{V}[a] + \\mathbb{V}[c] \\right) \\\\\n",
    " & = & \\frac{1}{4} (4 + 4) \\\\\n",
    " & = & 2 \\\\\n",
    "\\end{eqnarray}\n",
    "$$"
   ]
  },
  {
   "cell_type": "markdown",
   "metadata": {},
   "source": [
    "## Part d."
   ]
  },
  {
   "cell_type": "markdown",
   "metadata": {},
   "source": [
    "The CDF of $s$ is\n",
    "\n",
    "$$\n",
    "\\begin{eqnarray}\n",
    "F(s) & = & \\int_0^s 2 \\pi s \\frac{1}{2 \\pi \\sigma^2} e^{-s^2 / 2 \\sigma^2} \\, ds \\\\\n",
    " & = & \\int_0^s \\frac{s}{2} e^{-s^2 / 4} \\, ds \\\\\n",
    "f(s) & = & \\frac{s}{2} e^{-s^2 / 4} \\\\\n",
    "\\end{eqnarray}\n",
    "$$"
   ]
  },
  {
   "cell_type": "code",
   "execution_count": 9,
   "metadata": {},
   "outputs": [
    {
     "data": {
      "text/plain": [
       "sqrt(pi)"
      ]
     },
     "execution_count": 9,
     "metadata": {},
     "output_type": "execute_result"
    }
   ],
   "source": [
    "s = Symbol('s')\n",
    "integrate(s**2 / 2 * exp(-s**2 / 4), (s, 0, oo))"
   ]
  },
  {
   "cell_type": "markdown",
   "metadata": {},
   "source": [
    "## Part e."
   ]
  },
  {
   "cell_type": "code",
   "execution_count": 10,
   "metadata": {
    "scrolled": true
   },
   "outputs": [
    {
     "data": {
      "image/png": "[encoded data removed]",
      "text/plain": [
       "<matplotlib.figure.Figure at 0x11c15b6a0>"
      ]
     },
     "metadata": {
      "needs_background": "light"
     },
     "output_type": "display_data"
    }
   ],
   "source": [
    "X = np.linspace(0, 4)\n",
    "Y = np.pi * X / 2 * np.exp(-np.pi * X**2 / 4)\n",
    "plt.plot(X, Y, c='k', linewidth=2, label='Wigner')\n",
    "\n",
    "for N, split in zip(Ns, splits):\n",
    "    plt.hist(split / np.mean(split), 100, normed=True, histtype='step', linewidth=1, label='N = {}'.format(N))\n",
    "legend(loc='upper right')\n",
    "xlabel('s')\n",
    "ylabel('p(s)');"
   ]
  },
  {
   "cell_type": "markdown",
   "metadata": {},
   "source": [
    "## Part f."
   ]
  },
  {
   "cell_type": "code",
   "execution_count": 30,
   "metadata": {},
   "outputs": [],
   "source": [
    "H_ensembles = []\n",
    "\n",
    "for N in Ns:\n",
    "    triu_matrices = np.triu(np.random.choice([-1, 1], size=(M, N, N)))\n",
    "    sym_matrices = triu_matrices + np.transpose(np.triu(triu_matrices, k=1), (0, 2, 1))\n",
    "    H_ensembles.append(sym_matrices)"
   ]
  },
  {
   "cell_type": "code",
   "execution_count": 43,
   "metadata": {},
   "outputs": [],
   "source": [
    "all_H_eigs = []\n",
    "for ensemble in H_ensembles:\n",
    "    eigs = np.sort(np.linalg.eig(ensemble)[0], axis=1)\n",
    "    all_H_eigs.append(np.real(eigs))"
   ]
  },
  {
   "cell_type": "code",
   "execution_count": 44,
   "metadata": {},
   "outputs": [],
   "source": [
    "H_splits = []\n",
    "for N, eigs in zip(Ns, all_H_eigs):\n",
    "    split = eigs[:, int(N / 2) - 1] - eigs[:, int(N / 2)]\n",
    "    H_splits.append(split)"
   ]
  },
  {
   "cell_type": "code",
   "execution_count": 49,
   "metadata": {},
   "outputs": [
    {
     "data": {
      "image/png": "[encoded data removed]",
      "text/plain": [
       "<matplotlib.figure.Figure at 0x1210acfd0>"
      ]
     },
     "metadata": {
      "needs_background": "light"
     },
     "output_type": "display_data"
    }
   ],
   "source": [
    "X = np.linspace(0, 4)\n",
    "Y = np.pi * X / 2 * np.exp(-np.pi * X**2 / 4)\n",
    "plt.plot(X, Y, c='k', linewidth=2, label='Wigner')\n",
    "\n",
    "for N, split in zip(Ns, H_splits):\n",
    "    plt.hist(split / np.mean(split), 100, normed=True, histtype='step', linewidth=1, label='N = {}'.format(N))\n",
    "legend(loc='upper right')\n",
    "xlabel('s')\n",
    "ylabel('p(s)')\n",
    "ylim([0, 1]);"
   ]
  },
  {
   "cell_type": "markdown",
   "metadata": {},
   "source": [
    "The Wigner surmise appears to match the case of $N = 10$ quite well, but $N = 2, 4$ very poorly."
   ]
  },
  {
   "cell_type": "markdown",
   "metadata": {},
   "source": [
    "## Part g.\n",
    "\n",
    "Consider the matrix product $H^T H$:\n",
    "\n",
    "$$\n",
    "H^T H = \\begin{pmatrix}\n",
    "h_{11} & h_{21} & \\cdots \\\\\n",
    "h_{12} & h_{22} & \\cdots \\\\\n",
    "\\vdots & \\vdots & \\ddots \\\\\n",
    "\\end{pmatrix} \\begin{pmatrix}\n",
    "h_{11} & h_{12} & \\cdots \\\\\n",
    "h_{21} & h_{22} & \\cdots \\\\\n",
    "\\vdots & \\vdots & \\ddots \\\\\n",
    "\\end{pmatrix}\n",
    "$$\n",
    "\n",
    "Then\n",
    "\n",
    "$$\n",
    "\\begin{eqnarray}\n",
    "(H^T H)_{ii} & = & \\sum_j x_{ij}^2 \\\\\n",
    "\\textrm{Tr}[H^T H] & = & \\sum_{i, j} x_{ij}^2 \\\\\n",
    "\\end{eqnarray}\n",
    "$$"
   ]
  },
  {
   "cell_type": "markdown",
   "metadata": {},
   "source": [
    "Now consider the orthogonal transformation, $H^{\\prime} \\equiv R^T H R$:\n",
    "\n",
    "$$\n",
    "\\begin{eqnarray}\n",
    "\\textrm{Tr}[H^{\\prime T} H^{\\prime} & = & \\mathrm{Tr}[R^T H^T R R^T H R] \\\\\n",
    " & = & \\mathrm{Tr}[R^T H^T H R] \\\\\n",
    " & = & \\mathrm{Tr}[R R^T H^T H] \\\\\n",
    " & = & \\mathrm{Tr}[H^T H] \\\\\n",
    "\\end{eqnarray}\n",
    "$$"
   ]
  },
  {
   "cell_type": "markdown",
   "metadata": {},
   "source": [
    "## Part f.\n",
    "\n",
    "Noting that $\\sigma_a = \\sigma_c = 2$ and $\\sigma_b = \\sqrt{2}$, the probability density is given by\n",
    "\n",
    "$$\n",
    "\\begin{eqnarray}\n",
    "\\rho(H) & = & \\rho(a, b, c) \\\\\n",
    " & = & \\left( \\frac{1}{\\sqrt{2 \\pi} \\sigma_a^2} e^{-a^2 / (2 \\sigma_a^2)} \\right)\n",
    "       \\left( \\frac{1}{\\sqrt{2 \\pi} \\sigma_b^2} e^{-b^2 / (2 \\sigma_b^2)} \\right)\n",
    "       \\left( \\frac{1}{\\sqrt{2 \\pi} \\sigma_c^2} e^{-c^2 / (2 \\sigma_c^2)} \\right) \\\\\n",
    " & = & \\frac{e^{-(a^2 + 2b^2 + c^2) / 8}}{32 (2 \\pi)^{3/2}} \\\\\n",
    " & = & \\frac{e^{-\\textrm{Tr}[H^T H] / 8}}{32 (2 \\pi)^{3/2}}\n",
    "\\end{eqnarray}\n",
    "$$"
   ]
  },
  {
   "cell_type": "markdown",
   "metadata": {},
   "source": [
    "Since $\\mathrm{Tr}[H^T H]$ is invariant to orthogonal transformations and $\\rho(H)$ only depends on $\\mathrm{Tr}[H^T H]$, $\\rho(H)$ must be invariant to orthogonal transformations as well."
   ]
  }
 ],
 "metadata": {
  "kernelspec": {
   "display_name": "Python 3",
   "language": "python",
   "name": "python3"
  },
  "language_info": {
   "codemirror_mode": {
    "name": "ipython",
    "version": 3
   },
   "file_extension": ".py",
   "mimetype": "text/x-python",
   "name": "python",
   "nbconvert_exporter": "python",
   "pygments_lexer": "ipython3",
   "version": "3.6.5"
  }
 },
 "nbformat": 4,
 "nbformat_minor": 2
}
