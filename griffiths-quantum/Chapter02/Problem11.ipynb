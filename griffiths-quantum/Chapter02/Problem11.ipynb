{
 "cells": [
  {
   "cell_type": "markdown",
   "metadata": {},
   "source": [
    "# Problem 2.11"
   ]
  },
  {
   "cell_type": "markdown",
   "metadata": {},
   "source": [
    "## Part a.\n",
    "\n",
    "Let\n",
    "\n",
    "$$\n",
    "\\begin{eqnarray}\n",
    "\\alpha & \\equiv & \\left(\\frac{m\\omega}{\\pi\\hbar}\\right)^{\\frac{1}{4}} \\\\\n",
    "\\xi & \\equiv & \\sqrt{\\frac{m\\omega}{\\hbar}}x\n",
    "\\end{eqnarray}\n",
    "$$\n",
    "\n",
    "This means that\n",
    "\n",
    "$$\n",
    "\\psi_0 = \\alpha e^{-\\xi^2/2}\n",
    "$$\n",
    "\n",
    "Hence,\n",
    "\n",
    "$$\n",
    "\\begin{eqnarray}\n",
    "\\langle x \\rangle & = & \\int_{-\\infty}^{\\infty} \\alpha^2 x e^{-\\xi^2} \\, dx \\\\\n",
    "& = & \\alpha^2 \\left( \\frac{\\hbar}{m\\omega}\\right) \\int_{-\\infty}^{\\infty} \\xi e^{-\\xi^2} \\, d\\xi \\\\\n",
    "& = & 0\n",
    "\\end{eqnarray}\n",
    "$$\n",
    "\n",
    "$$\n",
    "\\begin{eqnarray}\n",
    "\\langle x^2 \\rangle & = & \\int_{-\\infty}^{\\infty} \\alpha^2 x^2 e^{-\\xi^2} \\, dx \\\\\n",
    "& = & \\alpha^2 \\left(\\frac{\\hbar}{m\\omega}\\right)^{\\frac{3}{2}} \\int_{-\\infty}^{\\infty} \\xi^2 e^{-\\xi^2} \\, d\\xi \\\\\n",
    "& = & \\frac{1}{\\pi^{3/2} \\alpha^4} \\left(\\frac{\\sqrt{\\pi}}{2}\\right) \\\\\n",
    "& = & \\frac{1}{2\\pi\\alpha^4}\n",
    "\\end{eqnarray}\n",
    "$$\n",
    "\n",
    "$$\n",
    "\\begin{eqnarray}\n",
    "\\langle p \\rangle & = & \\int_{-\\infty}^{\\infty} \\alpha e^{-\\xi^2 / 2} \\frac{\\hbar}{i} \\frac{d}{dx} \\alpha e^{-\\xi^2 / 2} \\, dx \\\\\n",
    "& = & \\frac{\\alpha^2 \\hbar}{i} \\int_{-\\infty}^{\\infty} e^{-\\xi^2 / 2} \\left(-\\xi\\right) e^{-\\xi^2 / 2} \\, d\\xi \\\\\n",
    "& = & 0\n",
    "\\end{eqnarray}\n",
    "$$\n",
    "\n",
    "$$\n",
    "\\begin{eqnarray}\n",
    "\\langle p^2 \\rangle & = & -\\alpha^2 \\hbar^2 \\int_{-\\infty}^{\\infty} e^{-\\xi^2 / 2} \\frac{d}{dx} \\left[-\\xi e^{-\\xi^2/ 2} \\right] \\, d\\xi \\\\\n",
    "& = & -\\alpha^2 \\hbar^2 \\sqrt{\\frac{m\\omega}{\\hbar}} \\int_{-\\infty}^{\\infty} e^{-\\xi^2 / 2} \\left(-e^{-\\xi^2 / 2} + \\xi^2 e^{-\\xi^2 / 2} \\right) \\, d\\xi \\\\\n",
    "& = & -\\alpha^2 \\hbar^2 \\sqrt{\\frac{m\\omega}{\\hbar}} \\int_{-\\infty}^{\\infty} \\left(\\xi^2 - 1 \\right) e^{-\\xi^2} \\, d\\xi \\\\\n",
    "& = & -\\alpha^2 \\hbar^2 \\sqrt{\\frac{m\\omega}{\\hbar}} \\left( \\frac{\\sqrt{\\pi}}{2} - \\sqrt{\\pi} \\right) \\\\\n",
    "& = & \\frac{\\alpha^2 \\hbar^2}{2} \\sqrt{\\frac{\\pi m \\omega}{\\hbar}} \\\\\n",
    "& = & \\frac{\\pi}{2} \\alpha^4 \\hbar^2\n",
    "\\end{eqnarray}\n",
    "$$"
   ]
  },
  {
   "cell_type": "markdown",
   "metadata": {},
   "source": [
    "## Part b.\n",
    "\n",
    "$$\n",
    "\\sigma_x = \\frac{1}{\\sqrt{2\\pi}\\alpha^2}\n",
    "$$\n",
    "\n",
    "$$\n",
    "\\sigma_p = \\sqrt{\\frac{\\pi}{2}}\n",
    "$$\n",
    "\n",
    "And so\n",
    "\n",
    "$$\n",
    "\\sigma_x \\sigma_p = \\frac{\\hbar}{2}\n",
    "$$"
   ]
  },
  {
   "cell_type": "markdown",
   "metadata": {},
   "source": [
    "## Part c.\n",
    "\n",
    "$$\n",
    "\\begin{eqnarray}\n",
    "\\langle T \\rangle & = & \\biggl< \\frac{p^2}{2m} \\biggr> \\\\\n",
    "& = & \\frac{ \\langle p^2 \\rangle}{2m} \\\\\n",
    "& = & \\frac{\\pi}{4} \\frac{\\alpha^4}{\\hbar^2}{m} \\\\\n",
    "& = & \\frac{\\hbar\\omega}{4}\n",
    "\\end{eqnarray}\n",
    "$$\n",
    "\n",
    "$$\n",
    "\\begin{eqnarray}\n",
    "\\langle V \\rangle & = & \\biggl< \\frac{1}{2} m \\omega^2 x^2 \\biggr> \\\\\n",
    "& = & \\frac{1}{2} m\\omega^2 \\langle x^2 \\rangle \\\\\n",
    "& = & \\frac{m \\omega^2}{4\\pi \\alpha^4} \\\\\n",
    "& = & \\frac{\\hbar\\omega}{4}\n",
    "\\end{eqnarray}\n",
    "$$\n",
    "\n",
    "$$\n",
    "\\langle T \\rangle + \\langle V \\rangle = \\frac{1}{2} \\hbar\\omega\n",
    "$$\n",
    "\n",
    "This is exactly the ground state energy of the system."
   ]
  }
 ],
 "metadata": {
  "kernelspec": {
   "display_name": "Python 3",
   "language": "python",
   "name": "python3"
  },
  "language_info": {
   "codemirror_mode": {
    "name": "ipython",
    "version": 3
   },
   "file_extension": ".py",
   "mimetype": "text/x-python",
   "name": "python",
   "nbconvert_exporter": "python",
   "pygments_lexer": "ipython3",
   "version": "3.8.10"
  }
 },
 "nbformat": 4,
 "nbformat_minor": 4
}
