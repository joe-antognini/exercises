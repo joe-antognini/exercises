{
 "cells": [
  {
   "cell_type": "markdown",
   "metadata": {},
   "source": [
    "# Problem 1.19\n",
    "\n",
    "We want to know $\\mathbb{P}(W|V)$.  Using Bayes's theorem,\n",
    "\n",
    "$$\n",
    "\\begin{eqnarray}\n",
    "\\mathbb{P}(W|V) & = & \\frac{\\mathbb{P}(V|W) \\mathbb{P}(W)}{\\mathbb{P}(V)} \\\\\n",
    "& = & \\frac{\\mathbb{P}(V|W) \\mathbb{P}(W)}{\\mathbb{P}(V|W) \\mathbb{P}(W) + \\mathbb{P}(V|M) \\mathbb{P}(M) + \\mathbb{P}(V|L) \\mathbb{P}(L)} \\\\\n",
    "& = & \\frac{0.82 \\times 0.5}{0.82 \\times 0.5 + 0.65 \\times 0.3 + 0.5 \\times 0.2} \\\\\n",
    "& \\approx & 0.58\n",
    "\\end{eqnarray}\n",
    "$$"
   ]
  }
 ],
 "metadata": {
  "kernelspec": {
   "display_name": "Python 3",
   "language": "python",
   "name": "python3"
  },
  "language_info": {
   "codemirror_mode": {
    "name": "ipython",
    "version": 3
   },
   "file_extension": ".py",
   "mimetype": "text/x-python",
   "name": "python",
   "nbconvert_exporter": "python",
   "pygments_lexer": "ipython3",
   "version": "3.8.10"
  }
 },
 "nbformat": 4,
 "nbformat_minor": 4
}
