{
 "cells": [
  {
   "cell_type": "markdown",
   "metadata": {},
   "source": [
    "# Problem 2.16\n",
    "\n",
    "$$\n",
    "j = 1: a_3 = -\\frac{2 \\times 4}{2 \\times 3} a_1 = - \\frac{4}{3} a_1\n",
    "$$\n",
    "\n",
    "$$\n",
    "j = 3: a_5 = -\\frac{2 \\times 2}{4 \\times 5} a_3 = -\\frac{a_3}{5}\n",
    "$$\n",
    "\n",
    "$$\n",
    "a_5 \\equiv 32 \\implies a_3 = -160, a_1 = 120\n",
    "$$\n",
    "\n",
    "$$\n",
    "H_5(\\xi) = 32 \\xi^5 - 160 \\xi^3 + 120 \\xi\n",
    "$$\n",
    "\n",
    "$$\n",
    "j = 0: a_2 = -\\frac{2 \\times 6}{1 \\times 2} a_0 = -6a_0\n",
    "$$\n",
    "\n",
    "$$\n",
    "j = 2: a_4 = -\\frac{2 \\times 4}{3 \\times 4} a_2 = -\\frac{2}{3} a_2\n",
    "$$\n",
    "\n",
    "$$\n",
    "j = 4: a_6 = -\\frac{2 \\times 2}{5 \\times 6} a_4 = -\\frac{2}{15} a_4\n",
    "$$\n",
    "\n",
    "$$\n",
    "a_6 \\equiv 64 \\implies a_4 = -480, a_2 = 720, a_0 = -120\n",
    "$$\n",
    "\n",
    "$$\n",
    "H_6(\\xi) = 64 \\xi^6 - 480 \\xi^4 + 720 \\xi^2 - 120\n",
    "$$"
   ]
  }
 ],
 "metadata": {
  "kernelspec": {
   "display_name": "Python 3",
   "language": "python",
   "name": "python3"
  },
  "language_info": {
   "codemirror_mode": {
    "name": "ipython",
    "version": 3
   },
   "file_extension": ".py",
   "mimetype": "text/x-python",
   "name": "python",
   "nbconvert_exporter": "python",
   "pygments_lexer": "ipython3",
   "version": "3.8.10"
  }
 },
 "nbformat": 4,
 "nbformat_minor": 4
}
