{
 "cells": [
  {
   "cell_type": "markdown",
   "metadata": {},
   "source": [
    "# Problem 2.56"
   ]
  },
  {
   "cell_type": "code",
   "execution_count": 1,
   "metadata": {},
   "outputs": [],
   "source": [
    "import numpy as np\n",
    "import scipy.integrate\n",
    "import matplotlib.pyplot as plt"
   ]
  },
  {
   "cell_type": "markdown",
   "metadata": {},
   "source": [
    "One note here: We set the initial condition to `(0, 1)`.  In other words, at the left boundary of the well, the value of the wavefunction is zero and its derivative is taken to be 1.  This is essentially using some unit system in which the amplitude of the wavefunction is such that this is true.  Note, however, that the energies are *independent* of these units.  So long as the initial condition on the amplitude of the wavefunction is zero, the first derivative can be *any* positive value and we will arrive at the same energies."
   ]
  },
  {
   "cell_type": "code",
   "execution_count": 2,
   "metadata": {},
   "outputs": [],
   "source": [
    "def deriv(y, t, k):\n",
    "    \"\"\"This function computes the derivatives in the Schrödinger equation.\n",
    "    \n",
    "    Because the Schrödinger equation is a second order differential equation we must\n",
    "    break it up into two separate first order differential equations by treating\n",
    "    $d\\psi / dt$ as an indpendent variable.\n",
    "    \n",
    "    \"\"\"\n",
    "    psi, dpsidt = y\n",
    "    d2psidt2 = -k**2 * psi\n",
    "    return dpsidt, d2psidt2\n",
    "\n",
    "def psi(k, x, initial_condition):\n",
    "    \"\"\"Find the value of the wavefunction at some position.\n",
    "    \n",
    "    In reality this is just the value of the wavefunction at some large value.\n",
    "    \n",
    "    \"\"\"\n",
    "    return scipy.integrate.odeint(deriv, initial_condition, [0, x], args=(k,))[-1, 0]\n",
    "\n",
    "def wag_the_dog(k_lo, k_hi):\n",
    "    \"\"\"Find a ground state energy experimentally.\n",
    "    \n",
    "    This finds the root of the function that provides the value of the wavefunction at 1\n",
    "    (the other boundary of the well).\n",
    "    \n",
    "    \"\"\"\n",
    "    x_boundary = 1\n",
    "    initial_condition = (0, 1)  # Wavefunction is zero, derivative is 1.\n",
    "    return scipy.optimize.brentq(psi, k_lo, k_hi, args=(x_boundary, initial_condition), xtol=1e-6)"
   ]
  },
  {
   "cell_type": "code",
   "execution_count": 3,
   "metadata": {},
   "outputs": [],
   "source": [
    "def find_energies(n_energies=4, k_start=0.1, delta=0.1):\n",
    "    energies = []\n",
    "    k_lo = k_start\n",
    "    while len(energies) < n_energies:\n",
    "        try:\n",
    "            energy = wag_the_dog(k_lo, k_lo + 0.1)\n",
    "            energies.append(energy)\n",
    "        except ValueError:\n",
    "            pass\n",
    "        \n",
    "        k_lo += delta\n",
    "    return energies"
   ]
  },
  {
   "cell_type": "code",
   "execution_count": 4,
   "metadata": {},
   "outputs": [
    {
     "name": "stdout",
     "output_type": "stream",
     "text": [
      "3.141592674022538\n",
      "6.283185343206204\n",
      "9.424777697347103\n",
      "12.566370162760299\n"
     ]
    }
   ],
   "source": [
    "for energy in find_energies():\n",
    "    print(energy)"
   ]
  }
 ],
 "metadata": {
  "kernelspec": {
   "display_name": "Python 3",
   "language": "python",
   "name": "python3"
  },
  "language_info": {
   "codemirror_mode": {
    "name": "ipython",
    "version": 3
   },
   "file_extension": ".py",
   "mimetype": "text/x-python",
   "name": "python",
   "nbconvert_exporter": "python",
   "pygments_lexer": "ipython3",
   "version": "3.8.5"
  }
 },
 "nbformat": 4,
 "nbformat_minor": 4
}
