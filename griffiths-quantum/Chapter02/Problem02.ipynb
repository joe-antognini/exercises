{
 "cells": [
  {
   "cell_type": "markdown",
   "metadata": {},
   "source": [
    "# Problem 2.2\n",
    "\n",
    "Let us rewrite the time-indpendent Schrödinger equation as follows:\n",
    "\n",
    "$$\n",
    "\\frac{d^2 \\psi}{dx^2} = \\frac{2m}{\\hbar^2} \\left(V(x) - E \\right) \\psi\n",
    "$$\n",
    "\n",
    "The left hand side gives the second derivative of $\\psi$.  If we have $E < V(x)$ for all $x$, then the right hand side of the equation is always positive.  For $\\psi$ to be normalizable we must have that\n",
    "\n",
    "$$\n",
    "\\lim_{x \\to \\pm \\infty} \\psi = 0\n",
    "$$\n",
    "\n",
    "and likewise its first derivative must tend towards zero in this limit since $\\psi^{\\prime}$ is generally continuous.  But the second derivative must be non-zero in one of these limits, which implies that the first derivative cannot be non-zero in one of these limits either.  Hence $\\psi$ is not normalizable if $E < V_{\\textrm{min}}$."
   ]
  }
 ],
 "metadata": {
  "kernelspec": {
   "display_name": "Python 3",
   "language": "python",
   "name": "python3"
  },
  "language_info": {
   "codemirror_mode": {
    "name": "ipython",
    "version": 3
   },
   "file_extension": ".py",
   "mimetype": "text/x-python",
   "name": "python",
   "nbconvert_exporter": "python",
   "pygments_lexer": "ipython3",
   "version": "3.8.5"
  }
 },
 "nbformat": 4,
 "nbformat_minor": 2
}
