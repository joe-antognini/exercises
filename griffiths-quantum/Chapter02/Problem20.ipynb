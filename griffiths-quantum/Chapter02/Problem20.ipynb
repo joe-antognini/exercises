{
 "cells": [
  {
   "cell_type": "markdown",
   "id": "266251b9",
   "metadata": {},
   "source": [
    "# Problem 2.20\n",
    "\n",
    "## Part a.\n",
    "\n",
    "$$\n",
    "\\begin{eqnarray}\n",
    "f(x) & = & \\sum_{n=0}^{\\infty} a_n \\sin \\left( \\frac{n\\pi x}{a} \\right) + b_n \\cos \\left( \\frac{n\\pi x}{a} \\right) \\\\\n",
    "& = & \\sum_{n=0}^{\\infty} a_n \\left( \\frac{e^{in\\pi x / a} - e^{-in\\pi x/a}}{2i} \\right) + b_n \\left( \\frac{ e^{i n\\pi x/a} + e^{-in\\pi x/a}}{2} \\right) \\\\\n",
    "& = & \\sum_{n=0}^{\\infty} \\frac{1}{2} (b_n - i a_n) e^{in\\pi x/a} + \\frac{1}{2} (b_n + i a_n) e^{-in\\pi x / a}\n",
    "\\end{eqnarray}\n",
    "$$"
   ]
  },
  {
   "cell_type": "markdown",
   "id": "25e49c68",
   "metadata": {},
   "source": [
    "Letting $n$ range from $(-\\infty, \\infty)$ and taking $a_{-n} = -a_n$, $b_{-n} \\equiv b_n$,\n",
    "\n",
    "$$\n",
    "f(x) = \\sum_{n=-\\infty}^{\\infty} \\frac{1}{2} (b_n - i a_n) e^{in\\pi x/a}\n",
    "$$\n",
    "\n",
    "$$\n",
    "\\implies c_n = \\frac{1}{2}(b_n - i a_n)\n",
    "$$"
   ]
  },
  {
   "cell_type": "markdown",
   "id": "96c119e8",
   "metadata": {},
   "source": [
    "## Part b.\n",
    "\n",
    "We have\n",
    "\n",
    "$$\n",
    "f(x) = \\sum_{m=-\\infty}^{\\infty} c_m e^{\\frac{i m \\pi x}{a}}\n",
    "$$"
   ]
  },
  {
   "cell_type": "markdown",
   "id": "32f9262e",
   "metadata": {},
   "source": [
    "$$\n",
    "\\begin{eqnarray}\n",
    "\\implies \\int_{-\\infty}^{\\infty} f(x) e^{\\frac{-in\\pi x}{a}} & = & \\int_{-\\infty}^{\\infty} c_m e^{\\frac{im\\pi x}{a}} e^{\\frac{in\\pi x}{a}} \\, dx \\\\\n",
    "& = & \\sum_{m=-\\infty}^{\\infty} c_m \\int_{-\\infty}^{\\infty} e^{\\frac{i \\pi x}{a}(m-n)} \\, dx \\\\\n",
    "\\end{eqnarray}\n",
    "$$\n",
    "\n",
    "For the case $m \\neq n$ we have:\n",
    "\n",
    "$$\n",
    "\\begin{eqnarray}\n",
    "\\implies \\int_{-\\infty}^{\\infty} f(x) e^{\\frac{-in\\pi x}{a}} & = & \\sum_{m=-\\infty}^{\\infty} c_m \\left[ \\frac{a}{i\\pi (m - n)} e^{\\frac{i\\pi x}{a}(m-n)} \\right]_{-a}^a \\\\\n",
    "& = & \\sum_{m=-\\infty}^{\\infty} c_m \\frac{a}{i\\pi(m-n)} e^{m-n} \\left(e^{i\\pi} - e^{-i\\pi} \\right) \\\\\n",
    "& = & 0\n",
    "\\end{eqnarray}\n",
    "$$\n",
    "\n",
    "For the case $m = n$,\n",
    "\n",
    "$$\n",
    "\\implies \\int_{-\\infty}^{\\infty} f(x) e^{\\frac{-in\\pi x}{a}} = \\sum_{m=-\\infty}^{\\infty} 2a c_m\n",
    "$$\n",
    "\n",
    "Hence,\n",
    "\n",
    "$$\n",
    "c_n = \\frac{1}{2a} \\int_{-a}^a f(x) e^{-\\frac{in\\pi x}{a}} \\, dx\n",
    "$$"
   ]
  },
  {
   "cell_type": "markdown",
   "id": "2299bb28",
   "metadata": {},
   "source": [
    "## Part c.\n",
    "\n",
    "$$\n",
    "k \\equiv \\frac{n\\pi}{a}; \\quad F(k) \\equiv \\sqrt{\\frac{2}{pi}} a c_n \\quad \\implies c_n = \\sqrt{\\frac{\\pi}{2}} \\frac{F(k)}{a}\n",
    "$$"
   ]
  },
  {
   "cell_type": "markdown",
   "id": "a11a55fd",
   "metadata": {},
   "source": [
    "$$\n",
    "f(x) = \\sum_{m=-\\infty}^{\\infty} c_n e^{\\frac{in\\pi x}{a}} = \\sum_{k=-\\infty}^{\\infty} \\sqrt{\\frac{\\pi}{2}} \\frac{F(k)}{a} e^{ikx}\n",
    "$$"
   ]
  },
  {
   "cell_type": "markdown",
   "id": "f6fa8ebc",
   "metadata": {},
   "source": [
    "$$\n",
    "\\Delta k = \\frac{\\pi}{a} \\quad \\implies \\quad f(x) = \\sum_{k=-\\infty}^{\\infty} \\frac{1}{\\sqrt{2\\pi}} F(k) e^{ikx} \\Delta k\n",
    "$$"
   ]
  },
  {
   "cell_type": "markdown",
   "id": "3d632ac0",
   "metadata": {},
   "source": [
    "And next,\n",
    "\n",
    "$$\n",
    "\\sqrt{\\frac{\\pi}{2}} \\frac{F(k)}{a} = \\frac{1}{2a} \\int_{-a}^a f(x) e^{-ikx} \\, dx\n",
    "$$\n",
    "\n",
    "$$\n",
    "\\implies F(k) = \\frac{1}{\\sqrt{2\\pi}} \\int_{-a}^a f(x) e^{-ikx} \\, dx\n",
    "$$"
   ]
  },
  {
   "cell_type": "markdown",
   "id": "5d3505c7",
   "metadata": {},
   "source": [
    "## Part d.\n",
    "\n",
    "$$\n",
    "\\lim_{a \\to \\infty} f(x) = \\lim_{a \\to \\infty} \\sum_{k=-\\infty}^{\\infty} \\frac{1}{\\sqrt{2\\pi}} F(k) e^{ikx} \\Delta k\n",
    "$$\n",
    "\n",
    "$$\n",
    "\\implies f(x) = \\frac{1}{\\sqrt{2\\pi}} \\int_{-\\infty}^{\\infty} F(k) e^{ikx} \\, dk\n",
    "$$\n",
    "\n",
    "$$\n",
    "\\lim_{a \\to \\infty} F(k) = \\lim_{a \\to \\infty} \\frac{1}{\\sqrt{2\\pi}} \\int_{-a}^a f(x) e^{-ikx} \\, dx\n",
    "$$\n",
    "\n",
    "$$\n",
    "\\implies F(k) = \\frac{1}{\\sqrt{2\\pi}} \\int_{-\\infty}^{\\infty} f(x) e^{-ikx} \\, dx\n",
    "$$"
   ]
  }
 ],
 "metadata": {
  "kernelspec": {
   "display_name": "Python 3 (ipykernel)",
   "language": "python",
   "name": "python3"
  },
  "language_info": {
   "codemirror_mode": {
    "name": "ipython",
    "version": 3
   },
   "file_extension": ".py",
   "mimetype": "text/x-python",
   "name": "python",
   "nbconvert_exporter": "python",
   "pygments_lexer": "ipython3",
   "version": "3.10.6"
  }
 },
 "nbformat": 4,
 "nbformat_minor": 5
}
