{
 "cells": [
  {
   "cell_type": "markdown",
   "metadata": {},
   "source": [
    "# Problem 2.1\n",
    "\n",
    "Consider the sequence $y_1 < y_2 < \\cdots < x$ where $\\lim_{i \\to \\infty} y_x = x$.  Let\n",
    "\n",
    "$$\n",
    "\\begin{eqnarray}\n",
    "A & \\equiv & (-\\infty, x] \\\\\n",
    "A_i & \\equiv & (-\\infty, y_i ]\n",
    "\\end{eqnarray}\n",
    "$$\n",
    "\n",
    "Now, $A = A_i \\cup (A - A_i)$.  Furthermore, note that $A_i$ and $(A - A_i)$ are disjoint.  So,\n",
    "\n",
    "$$\n",
    "\\mathbb{P}(\\omega \\in A) = \\mathbb{P}(\\omega \\in | A_i \\cup (A - A_i)))\n",
    "$$\n",
    "\n",
    "$$\n",
    "\\implies \\mathbb{P}(\\omega \\in A) = \\mathbb{P}(\\omega \\in A_i) + \\mathbb{P}(\\omega \\in A - A_i)\n",
    "$$\n",
    "\n",
    "$$\n",
    "\\implies \\mathbb{P}(\\omega \\in A - A_i) = \\mathbb{P}(\\omega \\in A) - \\mathbb{P}(\\omega \\in A_i)\n",
    "$$\n",
    "\n",
    "Now $\\lim_{i \\to \\infty} A - A_i = \\lim_{i \\to \\infty} (y_i, x] = \\{x\\}$, so\n",
    "\n",
    "$$\n",
    "\\begin{eqnarray}\n",
    "\\lim_{i \\to \\infty} \\mathbb{P}(X = x) & = & F(x^+) - \\mathbb{P}(\\omega \\in A_i) \\\\\n",
    "& = & F(x^+) - \\mathbb{P}(x \\leq y_i) \\\\\n",
    "& = & F(x^+) - F(x^-)\n",
    "\\end{eqnarray}\n",
    "$$"
   ]
  }
 ],
 "metadata": {
  "kernelspec": {
   "display_name": "Python 3",
   "language": "python",
   "name": "python3"
  },
  "language_info": {
   "codemirror_mode": {
    "name": "ipython",
    "version": 3
   },
   "file_extension": ".py",
   "mimetype": "text/x-python",
   "name": "python",
   "nbconvert_exporter": "python",
   "pygments_lexer": "ipython3",
   "version": "3.8.10"
  }
 },
 "nbformat": 4,
 "nbformat_minor": 4
}
