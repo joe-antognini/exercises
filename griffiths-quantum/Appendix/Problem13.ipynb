{
 "cells": [
  {
   "cell_type": "markdown",
   "metadata": {},
   "source": [
    "## Problem A.13\n",
    "\n",
    "A matrix is Hermitian iff $\\textbf{H} = \\textbf{H}^{\\dagger}$.  This means that $\\textrm{det}(\\textbf{H}) = \\textrm{det}(\\textbf{H}^{\\dagger})$.  But because the determinant of a matrix is invariant under the transpose operation, this means that $\\textrm{det}(\\textbf{H}) = \\textrm{det}(\\textbf{H}^*)$.  Now, since a determinant is simply a polynomial in the matrix entries, this means that the determinant of the complex conjugate matrix is equal to the complex conjugate of the determinant of the original matrix.  This means that $\\textrm{det}(\\textbf{H}) = \\left( \\textrm{det}(\\textbf{H})\\right)^*$.  This then implies that $\\textrm{det}(\\textbf{H})$ must be real.\n",
    "\n",
    "For a unitary matrix we have\n",
    "$$\n",
    "\\begin{eqnarray}\n",
    "\\textrm{det}(\\textbf{U}) & = & \\textrm{det}(\\tilde{\\textbf{U}}) \\\\\n",
    "& = & \\textrm{det}(\\textbf{U}^{\\dagger})^* \\\\\n",
    "& = & \\textrm{det}(\\textbf{U}^{-1})^* \\\\\n",
    "& = & \\frac{1}{\\textrm{det}(\\textbf{U})^*}\n",
    "\\end{eqnarray}\n",
    "$$\n",
    "This implies that $|\\textrm{det}(\\textbf{U})|^2 = 1$ and so $\\textrm{det}(\\textbf{U})$ has unit modulus.\n",
    "\n",
    "For an orthogonal matrix we have\n",
    "$$\n",
    "\\begin{eqnarray}\n",
    "\\textrm{det}(\\textbf{O}) & = & \\textrm{det}(\\tilde{\\textbf{O}}) \\\\\n",
    "& = & \\textrm{det}(\\textbf{O}^{-1}) \\\\\n",
    "& = & \\frac{1}{\\textrm{det}(\\textbf{O})}\n",
    "\\end{eqnarray}\n",
    "$$\n",
    "This implies that $\\textrm{det}(\\textbf{O})^2 = 1$.  Now, since all the entries of an orthogonal matrix are real, this means that the determinant must be real as well.  The only real numbers satisfying this equation is then $\\textrm{det}(\\textbf{O}) = \\pm 1$."
   ]
  }
 ],
 "metadata": {
  "kernelspec": {
   "display_name": "Python 3",
   "language": "python",
   "name": "python3"
  },
  "language_info": {
   "codemirror_mode": {
    "name": "ipython",
    "version": 3
   },
   "file_extension": ".py",
   "mimetype": "text/x-python",
   "name": "python",
   "nbconvert_exporter": "python",
   "pygments_lexer": "ipython3",
   "version": "3.7.3"
  }
 },
 "nbformat": 4,
 "nbformat_minor": 2
}
