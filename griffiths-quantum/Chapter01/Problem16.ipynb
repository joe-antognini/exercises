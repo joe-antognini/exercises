{
 "cells": [
  {
   "cell_type": "markdown",
   "metadata": {},
   "source": [
    "# Problem 1.16\n",
    "\n",
    "$$\n",
    "\\begin{eqnarray}\n",
    "\\frac{d}{dt} \\int_{-\\infty}^{\\infty} \\Psi_1^* \\Psi_2 \\, dx\n",
    "& = & \\int_{-\\infty}^{\\infty} \\Psi_1^* \\frac{\\partial \\Psi_2}{\\partial t} + \\frac{\\partial \\Psi_1^*}{\\partial t} \\Psi_2 \\, dx \\\\\n",
    "& = & \\int_{-\\infty}^{\\infty} \\Psi_1^* \\left( \\frac{i \\hbar}{2m} \\frac{\\partial^2 \\Psi_2}{\\partial x^2} - \\frac{i}{\\hbar} V \\Psi_2 \\right) + \\left( -\\frac{i\\hbar}{2m} \\frac{\\partial^2 \\Psi^*}{\\partial x^2} + \\frac{i}{\\hbar} V \\Psi_1^* \\right) \\Psi_2 \\, dx \\\\\n",
    "& = & \\int_{-\\infty}^{\\infty} \\frac{i \\hbar}{2m} \\left( \\Psi_1^* \\frac{\\partial^2 \\Psi_2}{\\partial x^2} - \\frac{\\partial^2 \\Psi_1}{\\partial x^2} \\Psi_2 \\right) + \\frac{i}{\\hbar} \\left( \\Psi_1^* \\Psi_2 - \\Psi_1^* \\Psi_2 \\right) V \\\\\n",
    "& = & \\frac{i \\hbar}{2m} \\int_{-\\infty}^{\\infty} \\frac{\\partial}{\\partial x} \\left[ \\Psi_1^* \\frac{\\partial \\Psi_2}{\\partial x} - \\frac{\\partial \\Psi_1^*}{\\partial x} \\Psi_2 \\right] \\, dx \\\\\n",
    "& = & \\frac{i \\hbar}{2m} \\left[ \\Psi_1^* \\frac{\\partial \\Psi_2}{\\partial x} - \\frac{\\partial \\Psi_1^*}{\\partial x} \\Psi_2 \\right]_{-\\infty}^{\\infty} \\\\\n",
    "& = & 0\n",
    "\\end{eqnarray}\n",
    "$$"
   ]
  }
 ],
 "metadata": {
  "kernelspec": {
   "display_name": "Python 3",
   "language": "python",
   "name": "python3"
  },
  "language_info": {
   "codemirror_mode": {
    "name": "ipython",
    "version": 3
   },
   "file_extension": ".py",
   "mimetype": "text/x-python",
   "name": "python",
   "nbconvert_exporter": "python",
   "pygments_lexer": "ipython3",
   "version": "3.7.4"
  }
 },
 "nbformat": 4,
 "nbformat_minor": 2
}
