{
 "cells": [
  {
   "cell_type": "markdown",
   "metadata": {},
   "source": [
    "# Problem 2"
   ]
  },
  {
   "cell_type": "code",
   "execution_count": 2,
   "metadata": {},
   "outputs": [
    {
     "name": "stdout",
     "output_type": "stream",
     "text": [
      "Populating the interactive namespace from numpy and matplotlib\n"
     ]
    }
   ],
   "source": [
    "%pylab inline"
   ]
  },
  {
   "cell_type": "markdown",
   "metadata": {},
   "source": [
    "## Part a."
   ]
  },
  {
   "cell_type": "markdown",
   "metadata": {},
   "source": [
    "The probability that a random number drawn from a uniform distribution will lie between 0.7 and 0.75 is 0.05.\n",
    "\n",
    "The probability that the waiting time for a radioactive decay of a nucleus will more than twice the exponential decay time is\n",
    "\n",
    "$$\n",
    "\\left. \\int_{2 \\tau}^{\\infty} \\frac{e^{-t / \\tau}}{\\tau} \\, dt = -e^{-t / \\tau} \\, \\right|_{2 \\tau}^{\\infty} = e^{-2} \\approx 0.135.\n",
    "$$"
   ]
  },
  {
   "cell_type": "code",
   "execution_count": 3,
   "metadata": {},
   "outputs": [
    {
     "data": {
      "text/plain": [
       "0.1353352832366127"
      ]
     },
     "execution_count": 3,
     "metadata": {},
     "output_type": "execute_result"
    }
   ],
   "source": [
    "np.exp(-2)"
   ]
  },
  {
   "cell_type": "markdown",
   "metadata": {},
   "source": [
    "The probability that a score will be more than $2 \\sigma$ above the mean when the scores are distributed as a Gaussian is about 0.023."
   ]
  },
  {
   "cell_type": "markdown",
   "metadata": {},
   "source": [
    "## Part b."
   ]
  },
  {
   "cell_type": "markdown",
   "metadata": {},
   "source": [
    "Uniform distribution:\n",
    "\n",
    "$$\n",
    "\\int_0^1 \\, \\dx = 1.\n",
    "$$\n",
    "\n",
    "Exponential distribution:\n",
    "\n",
    "$$\n",
    "\\left. \\int_0^{\\infty} \\frac{e^{-t / \\tau}}{\\tau} \\, dt = -e^{-t / \\tau} \\right|_0^{\\infty} = 1.\n",
    "$$\n",
    "\n",
    "Gaussian distribution:\n",
    "\n",
    "$$\n",
    "\\int_{-infty}^{\\infty} \\frac{1}{\\sqrt{2 \\pi} \\sigma} e^{-v^2 / 2 \\sigma^2} \\, dv\n",
    "$$\n",
    "\n",
    "Let $u = v / \\sigma$.  Then $dv = \\sigma du$ and we have\n",
    "\n",
    "$$\n",
    "\\int_{-infty}^{\\infty} \\frac{1}{\\sqrt{2 \\pi}} e^{-u^2 / 2} \\, du = 1.\n",
    "$$"
   ]
  },
  {
   "cell_type": "markdown",
   "metadata": {},
   "source": [
    "## Part c.\n",
    "\n",
    "The two random variables $x$ and $y$ have a joint distribution $p(x, y)$.  Now, given any particular value of $x$, we must have $y = z - x$.  To get the probability of achieving a particular value of $z$ we must then integrate over all possible values of $x$:\n",
    "\n",
    "$$\n",
    "p(z) = \\int p(x, z - x \\, dx = \\int p(x) p(z - x) \\, dx.\n",
    "$$"
   ]
  },
  {
   "cell_type": "markdown",
   "metadata": {},
   "source": [
    "## Part d.\n",
    "\n",
    "We have $\\mathbb{E}[v_x] = 0$ and $\\mathbb{V}[v_x] = \\mathbb{E}[v_x^2] - \\mathbb{E}[v_x]^2 = \\sigma^2 = kT/M$.  This implies that $E_{k, x} = kT/2$."
   ]
  },
  {
   "cell_type": "markdown",
   "metadata": {},
   "source": [
    "The joint distribution is\n",
    "\n",
    "$$\n",
    "p(v_x, v_y, v_z) = \\frac{1}{(2 \\pi)^{3/2} \\sigma^3} e^{-\\frac{1}{2 \\sigma^2}(v_x^2 + v_y^2 + v_z^2)} = \\frac{1}{(2 \\pi)^{3/2} \\sigma^3} e^{-v^2 / 2 \\sigma^2}.\n",
    "$$"
   ]
  },
  {
   "cell_type": "markdown",
   "metadata": {},
   "source": [
    "Because this distribution is spherically symmetric, the probability that $v$ falls within a thin shell of thickness $dv$ is\n",
    "\n",
    "$$\n",
    "F(v) = \\left(\\frac{1}{(2 \\pi)^{3/2} \\sigma^3} e^{-v^2 / 2 \\sigma^2}\\right) \\left( 4 \\pi v^2 dv \\right)\n",
    "$$"
   ]
  },
  {
   "cell_type": "markdown",
   "metadata": {},
   "source": [
    "And so\n",
    "\n",
    "$$\n",
    "f(v) = \\sqrt{\\frac{2}{\\pi}} \\frac{v^2}{\\sigma^3} e^{-v^2 / 2 \\sigma^2}\n",
    "$$"
   ]
  },
  {
   "cell_type": "code",
   "execution_count": null,
   "metadata": {},
   "outputs": [],
   "source": []
  }
 ],
 "metadata": {
  "kernelspec": {
   "display_name": "Python 3",
   "language": "python",
   "name": "python3"
  },
  "language_info": {
   "codemirror_mode": {
    "name": "ipython",
    "version": 3
   },
   "file_extension": ".py",
   "mimetype": "text/x-python",
   "name": "python",
   "nbconvert_exporter": "python",
   "pygments_lexer": "ipython3",
   "version": "3.6.5"
  }
 },
 "nbformat": 4,
 "nbformat_minor": 2
}
