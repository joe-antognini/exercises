{
 "cells": [
  {
   "cell_type": "markdown",
   "metadata": {},
   "source": [
    "# Problem 2.9"
   ]
  },
  {
   "cell_type": "markdown",
   "metadata": {},
   "source": [
    "We have\n",
    "\n",
    "$$\n",
    "\\begin{eqnarray}\n",
    "\\langle H \\rangle & = & \\int \\frac{30}{a^5} x(a - x) \\left( -\\frac{\\hbar^2}{2m} \\right) \\frac{\\partial^2}{\\partial     x^2} \\left[ x(a - x) \\right] \\, dx \\\\\n",
    "& = & -\\frac{15 \\hbar^2}{ma^2} \\int_0^a x(a - x)(-2) \\, dx \\\\\n",
    "& = & \\frac{30 \\hbar^2}{ma^5} \\int_0^a x(a - x) \\, dx \\\\\n",
    "& = & \\frac{30 \\hbar^2}{ma^5} \\left[ \\frac{ax^2}{2} - \\frac{x^3}{3} \\right]_0^a \\\\\n",
    "& = & \\frac{30 \\hbar^2}{ma^5} \\left( \\frac{a^3}{6} \\right) \\\\\n",
    "& = & \\frac{5 \\hbar^2}{ma^2} \\\\\n",
    "\\end{eqnarray}\n",
    "$$"
   ]
  }
 ],
 "metadata": {
  "kernelspec": {
   "display_name": "Python 3",
   "language": "python",
   "name": "python3"
  },
  "language_info": {
   "codemirror_mode": {
    "name": "ipython",
    "version": 3
   },
   "file_extension": ".py",
   "mimetype": "text/x-python",
   "name": "python",
   "nbconvert_exporter": "python",
   "pygments_lexer": "ipython3",
   "version": "3.8.5"
  }
 },
 "nbformat": 4,
 "nbformat_minor": 4
}
