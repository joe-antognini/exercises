{
 "cells": [
  {
   "cell_type": "code",
   "execution_count": 1,
   "metadata": {},
   "outputs": [],
   "source": [
    "import numpy as np"
   ]
  },
  {
   "cell_type": "markdown",
   "metadata": {},
   "source": [
    "## Problem A.8"
   ]
  },
  {
   "cell_type": "code",
   "execution_count": 2,
   "metadata": {},
   "outputs": [],
   "source": [
    "A = np.array([[-1, 1, 1j], [2, 0, 3], [2j, -2j, 2]])\n",
    "B = np.array([[2, 0, -1j], [0, 1, 0], [1j, 3, 2]])"
   ]
  },
  {
   "cell_type": "markdown",
   "metadata": {},
   "source": [
    "### Part a.\n",
    "\n",
    "$$\n",
    "\\textbf{A} + \\textbf{B} = \\left(\n",
    "\\begin{matrix}\n",
    "1 & 1 & 0 \\\\\n",
    "2 & 1 & 3 \\\\\n",
    "3i & 3 - 2i & 4 \\\\\n",
    "\\end{matrix} \\right)\n",
    "$$"
   ]
  },
  {
   "cell_type": "code",
   "execution_count": 3,
   "metadata": {},
   "outputs": [
    {
     "data": {
      "text/plain": [
       "array([[1.+0.j, 1.+0.j, 0.+0.j],\n",
       "       [2.+0.j, 1.+0.j, 3.+0.j],\n",
       "       [0.+3.j, 3.-2.j, 4.+0.j]])"
      ]
     },
     "execution_count": 3,
     "metadata": {},
     "output_type": "execute_result"
    }
   ],
   "source": [
    "A + B"
   ]
  },
  {
   "cell_type": "markdown",
   "metadata": {},
   "source": [
    "### Part b.\n",
    "\n",
    "$$\n",
    "\\textbf{A} \\textbf{B} = \\left(\n",
    "\\begin{matrix}\n",
    "-3 & 1 + 3i & 3i \\\\\n",
    "4 + 3i & 9 & 6 - 2i \\\\\n",
    "6i & 6 - 2i & 6 \\\\\n",
    "\\end{matrix} \\right)\n",
    "$$"
   ]
  },
  {
   "cell_type": "code",
   "execution_count": 4,
   "metadata": {},
   "outputs": [
    {
     "data": {
      "text/plain": [
       "array([[-3.+0.j,  1.+3.j,  0.+3.j],\n",
       "       [ 4.+3.j,  9.+0.j,  6.-2.j],\n",
       "       [ 0.+6.j,  6.-2.j,  6.+0.j]])"
      ]
     },
     "execution_count": 4,
     "metadata": {},
     "output_type": "execute_result"
    }
   ],
   "source": [
    "A @ B"
   ]
  },
  {
   "cell_type": "markdown",
   "metadata": {},
   "source": [
    "### Part c.\n",
    "\n",
    "$$\n",
    "\\textbf{B} \\textbf{A} = \\left(\n",
    "\\begin{matrix}\n",
    "0 & 0 & 0 \\\\\n",
    "2 & 0 & 3 \\\\\n",
    "6 + 3i & -3i & 12 \\\\\n",
    "\\end{matrix} \\right)\n",
    "$$\n",
    "\n",
    "This implies that\n",
    "\n",
    "$$\n",
    "\\left[ \\textbf{A}, \\textbf{B} \\right] = \\left(\n",
    "\\begin{matrix}\n",
    "-3 & 1 + 3i & 3i \\\\\n",
    "2 + 3i & 9 & 3 - 2i \\\\\n",
    "-6 + 3i & 6 + i & -6 \\\\\n",
    "\\end{matrix}\n",
    "\\right)\n",
    "$$"
   ]
  },
  {
   "cell_type": "code",
   "execution_count": 5,
   "metadata": {},
   "outputs": [
    {
     "data": {
      "text/plain": [
       "array([[-3.+0.j,  1.+3.j,  0.+3.j],\n",
       "       [ 2.+3.j,  9.+0.j,  3.-2.j],\n",
       "       [-6.+3.j,  6.+1.j, -6.+0.j]])"
      ]
     },
     "execution_count": 5,
     "metadata": {},
     "output_type": "execute_result"
    }
   ],
   "source": [
    "A@B - B@A"
   ]
  },
  {
   "cell_type": "markdown",
   "metadata": {},
   "source": [
    "### Part d.\n",
    "\n",
    "$$\n",
    "\\tilde{\\textbf{A}} = \\left(\n",
    "\\begin{matrix}\n",
    "-1 & 2 & 2i \\\\\n",
    "1 & 0 & -2i \\\\\n",
    "i & 3 & 2 \\\\\n",
    "\\end{matrix} \\right)\n",
    "$$"
   ]
  },
  {
   "cell_type": "code",
   "execution_count": 6,
   "metadata": {},
   "outputs": [
    {
     "data": {
      "text/plain": [
       "array([[-1.+0.j,  2.+0.j,  0.+2.j],\n",
       "       [ 1.+0.j,  0.+0.j, -0.-2.j],\n",
       "       [ 0.+1.j,  3.+0.j,  2.+0.j]])"
      ]
     },
     "execution_count": 6,
     "metadata": {},
     "output_type": "execute_result"
    }
   ],
   "source": [
    "np.transpose(A)"
   ]
  },
  {
   "cell_type": "markdown",
   "metadata": {},
   "source": [
    "### Part e.\n",
    "\n",
    "$$\n",
    "\\textbf{A}^* = \\left(\n",
    "\\begin{matrix}\n",
    "-1 & 1 & -i \\\\\n",
    "2 & 0 & 3 \\\\\n",
    "-2i & 2i & 2 \\\\\n",
    "\\end{matrix} \\right)\n",
    "$$"
   ]
  },
  {
   "cell_type": "code",
   "execution_count": 7,
   "metadata": {},
   "outputs": [
    {
     "data": {
      "text/plain": [
       "array([[-1.-0.j,  1.-0.j,  0.-1.j],\n",
       "       [ 2.-0.j,  0.-0.j,  3.-0.j],\n",
       "       [ 0.-2.j, -0.+2.j,  2.-0.j]])"
      ]
     },
     "execution_count": 7,
     "metadata": {},
     "output_type": "execute_result"
    }
   ],
   "source": [
    "np.conj(A)"
   ]
  },
  {
   "cell_type": "markdown",
   "metadata": {},
   "source": [
    "### Part f.\n",
    "\n",
    "$$\n",
    "\\textbf{A}^\\dagger = \\left(\n",
    "\\begin{matrix}\n",
    "-1 & 2 & -2i \\\\\n",
    "1 & 0 & 2i \\\\\n",
    "-i & 3 & 2 \\\\\n",
    "\\end{matrix} \\right)\n",
    "$$"
   ]
  },
  {
   "cell_type": "code",
   "execution_count": 8,
   "metadata": {},
   "outputs": [
    {
     "data": {
      "text/plain": [
       "array([[-1.-0.j,  2.-0.j,  0.-2.j],\n",
       "       [ 1.-0.j,  0.-0.j, -0.+2.j],\n",
       "       [ 0.-1.j,  3.-0.j,  2.-0.j]])"
      ]
     },
     "execution_count": 8,
     "metadata": {},
     "output_type": "execute_result"
    }
   ],
   "source": [
    "np.matrix.getH(A)"
   ]
  },
  {
   "cell_type": "markdown",
   "metadata": {},
   "source": [
    "### Part g.\n",
    "\n",
    "$$\n",
    "\\textrm{det}(\\textbf{B}) = \n",
    "2 \\left| \\begin{matrix} 1 & 0 \\\\ 3 & 2 \\end{matrix} \\right|\n",
    "-i \\left| \\begin{matrix} 0 & 1 \\\\ i & 3 \\end{matrix} \\right|\n",
    "= 4 - 1 = 3\n",
    "$$"
   ]
  },
  {
   "cell_type": "code",
   "execution_count": 9,
   "metadata": {},
   "outputs": [
    {
     "data": {
      "text/plain": [
       "(2.9999999999999996+0j)"
      ]
     },
     "execution_count": 9,
     "metadata": {},
     "output_type": "execute_result"
    }
   ],
   "source": [
    "np.linalg.det(B)"
   ]
  },
  {
   "cell_type": "markdown",
   "metadata": {},
   "source": [
    "### Part h.\n",
    "\n",
    "The matrix of cofactors is given by\n",
    "\n",
    "$$\n",
    "\\textbf{C} = \\left( \\begin{matrix}\n",
    "2 & 0 & -i \\\\\n",
    "-3i & 5 & -6 \\\\\n",
    "i & 0 & 2 \\\\\n",
    "\\end{matrix} \\right)\n",
    "$$\n",
    "\n",
    "and so the inverse is\n",
    "\n",
    "$$\n",
    "\\textbf{B}^{-1} = \\frac{1}{3} \\left( \\begin{matrix}\n",
    "2 & -3i & i \\\\\n",
    "0 & 3 & 0 \\\\\n",
    "-i & -6 & 2 \\\\\n",
    "\\end{matrix} \\right)\n",
    "$$\n",
    "\n",
    "We have\n",
    "\n",
    "$$\n",
    "\\textbf{B}^{-1} \\textbf{B} = \\frac{1}{3} \\left( \\begin{matrix}\n",
    "2 & -3i & i \\\\\n",
    "0 & 3 & 0 \\\\\n",
    "-i & -6 & 2 \\\\\n",
    "\\end{matrix} \\right) \\left( \\begin{matrix}\n",
    "2 & 0 & -i \\\\\n",
    "0 & 1 & 0 \\\\\n",
    "i & 3 & 2 \\\\\n",
    "\\end{matrix} \\right)\n",
    "= \\left( \\begin{matrix}\n",
    "1 & 0 & 0 \\\\\n",
    "0 & 1 & 0 \\\\\n",
    "0 & 0 & 1 \\\\\n",
    "\\end{matrix} \\right)\n",
    "$$\n",
    "\n",
    "as required."
   ]
  },
  {
   "cell_type": "code",
   "execution_count": 10,
   "metadata": {},
   "outputs": [
    {
     "data": {
      "text/plain": [
       "array([[ 0.66666667+0.j        ,  0.        -1.j        ,\n",
       "         0.        +0.33333333j],\n",
       "       [ 0.        +0.j        ,  1.        +0.j        ,\n",
       "         0.        +0.j        ],\n",
       "       [ 0.        -0.33333333j, -2.        -0.j        ,\n",
       "         0.66666667+0.j        ]])"
      ]
     },
     "execution_count": 10,
     "metadata": {},
     "output_type": "execute_result"
    }
   ],
   "source": [
    "np.linalg.inv(B)"
   ]
  },
  {
   "cell_type": "markdown",
   "metadata": {},
   "source": [
    "$\\textbf{A}$ does not have an inverse because its determinant is zero:\n",
    "\n",
    "$$\n",
    "\\textrm{det}(\\textbf{A}) = - \\left| \\begin{matrix} 0 & 3 \\\\ -2i & 1 \\end{matrix} \\right|\n",
    "- \\left| \\begin{matrix} 2 & 3 \\\\ 2i & 2 \\end{matrix} \\right|\n",
    "+ i \\left| \\begin{matrix} 2 & 0 \\\\ 2i & -2i \\\\ \\end{matrix} \\right|\n",
    "= -6i -4 + 6i + 4 = 0\n",
    "$$"
   ]
  },
  {
   "cell_type": "code",
   "execution_count": 11,
   "metadata": {},
   "outputs": [
    {
     "data": {
      "text/plain": [
       "0j"
      ]
     },
     "execution_count": 11,
     "metadata": {},
     "output_type": "execute_result"
    }
   ],
   "source": [
    "np.linalg.det(A)"
   ]
  }
 ],
 "metadata": {
  "kernelspec": {
   "display_name": "Python 3",
   "language": "python",
   "name": "python3"
  },
  "language_info": {
   "codemirror_mode": {
    "name": "ipython",
    "version": 3
   },
   "file_extension": ".py",
   "mimetype": "text/x-python",
   "name": "python",
   "nbconvert_exporter": "python",
   "pygments_lexer": "ipython3",
   "version": "3.7.3"
  }
 },
 "nbformat": 4,
 "nbformat_minor": 2
}
