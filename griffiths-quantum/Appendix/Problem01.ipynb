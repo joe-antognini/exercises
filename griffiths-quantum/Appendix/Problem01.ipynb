{
 "cells": [
  {
   "cell_type": "markdown",
   "metadata": {},
   "source": [
    "## Problem A.1\n",
    "\n",
    "### Part a.\n",
    "\n",
    "Yes, the subset of all vectors with $a_z = 0$ is a vector space.  Since the the original set is a vector space, the properties of vector addition and multiplication all hold, but we must show that the subspace is closed.  Here, note that the sum of any two vectors in the subspace will have $a_z = 0$ as well since the sum can be done component-wise.  Furthermore, scalar multiplication is closed since we can again perform the operation component-wise and this will maintain $a_z = 0$.  Finally, the null vector is in this subspace since the null vector has $a_z = 0$, and the inverse vectors are in the subspace since the inverses can be found component-wise and $-0 = 0 = a_z$.\n",
    "\n",
    "The dimension of the subspace is 2 since it is spanned by the basis vectors $\\hat{i}$ and $\\hat{j}$.\n",
    "\n",
    "### Part b.\n",
    "\n",
    "The subspace of all vectors with $a_z = 1$ is not a subspace because it is not closed under vector addition or scalar multiplication.  For example, $2 \\cdot \\hat{k}$ is not in the subspace even though $\\hat{k}$ is.  Furthermore the subspace does not have a null vector since the null vector must have $a_z = 0$.\n",
    "\n",
    "### Part c.\n",
    "\n",
    "The subset of all vectors whose components are all equal is a vector space.\n",
    "\n",
    "Consider $\\textbf{a} = a \\hat{i} + a \\hat{j} + a \\hat{k}$ and $\\textbf{b} = b \\hat{i} + b \\hat{j} + b \\hat{k}$.  Then $\\textbf{a} + \\textbf{b} = (a + b) \\hat{i} + (a + b) \\hat{j} + (a + b) \\hat{k}$.  All the components are equal, so the vector stays in the subspace.  Similarly, $c \\textbf{a} = ca \\hat{i} + ca \\hat{j} + ca \\hat{k}$.  All the components are equal so the vector stays in the subspace.  Thus the subspace is closed under addition and multiplication.  Finally, the null vector exists in this subspace and the inverse vectors all also have the same components and so exist in the subspace."
   ]
  }
 ],
 "metadata": {
  "kernelspec": {
   "display_name": "Python 3",
   "language": "python",
   "name": "python3"
  },
  "language_info": {
   "codemirror_mode": {
    "name": "ipython",
    "version": 3
   },
   "file_extension": ".py",
   "mimetype": "text/x-python",
   "name": "python",
   "nbconvert_exporter": "python",
   "pygments_lexer": "ipython3",
   "version": "3.7.3"
  }
 },
 "nbformat": 4,
 "nbformat_minor": 2
}
