{
 "cells": [
  {
   "cell_type": "markdown",
   "metadata": {},
   "source": [
    "# Problem 2.55"
   ]
  },
  {
   "cell_type": "code",
   "execution_count": 1,
   "metadata": {},
   "outputs": [],
   "source": [
    "import numpy as np\n",
    "import scipy.integrate\n",
    "import matplotlib.pyplot as plt"
   ]
  },
  {
   "cell_type": "markdown",
   "metadata": {},
   "source": [
    "See Problem 2.54 for a few more details about these functions."
   ]
  },
  {
   "cell_type": "code",
   "execution_count": 3,
   "metadata": {},
   "outputs": [],
   "source": [
    "def deriv(y, t, K):\n",
    "    \"\"\"This function computes the derivatives in the Schrödinger equation.\n",
    "    \n",
    "    Because the Schrödinger equation is a second order differential equation we must\n",
    "    break it up into two separate first order differential equations by treating\n",
    "    $d\\psi / dt$ as an indpendent variable.\n",
    "    \n",
    "    \"\"\"\n",
    "    psi, dpsidt = y\n",
    "    d2psidt2 = (t**2 - K) * psi\n",
    "    return dpsidt, d2psidt2\n",
    "\n",
    "def psi(K, x, initial_condition):\n",
    "    \"\"\"Find the value of the wavefunction at some position.\n",
    "    \n",
    "    In reality this is just the value of the wavefunction at some large value.\n",
    "    \n",
    "    \"\"\"\n",
    "    return scipy.integrate.odeint(deriv, initial_condition, [0, x], args=(K,))[-1, 0]\n",
    "\n",
    "def wag_the_dog(K_lo, K_hi, initial_condition, x_big=10):\n",
    "    \"\"\"Find a ground state energy experimentally.\n",
    "    \n",
    "    This finds the root of the function that provides the value of the wavefunction at some large value.\n",
    "    \n",
    "    \"\"\"\n",
    "    return scipy.optimize.brentq(psi, K_lo, K_hi, args=(x_big, initial_condition), xtol=1e-6)"
   ]
  },
  {
   "cell_type": "code",
   "execution_count": 6,
   "metadata": {},
   "outputs": [],
   "source": [
    "def find_energies(n_energies=3, K_start=1.1, delta=0.1):\n",
    "    energies = []\n",
    "    K_lo = K_start\n",
    "    while len(energies) < n_energies:\n",
    "        initial_condition = (0, 1) if len(energies) % 2 == 0 else (1, 0)\n",
    "        try:\n",
    "            energy = wag_the_dog(K_lo, K_lo + 0.1, initial_condition)\n",
    "            energies.append(energy)\n",
    "        except ValueError:\n",
    "            K_lo += delta\n",
    "    return energies"
   ]
  },
  {
   "cell_type": "code",
   "execution_count": 8,
   "metadata": {},
   "outputs": [
    {
     "data": {
      "text/plain": [
       "[3.0000000000000018, 4.999999999999999, 6.999999999999992]"
      ]
     },
     "execution_count": 8,
     "metadata": {},
     "output_type": "execute_result"
    }
   ],
   "source": [
    "find_energies()"
   ]
  }
 ],
 "metadata": {
  "kernelspec": {
   "display_name": "Python 3",
   "language": "python",
   "name": "python3"
  },
  "language_info": {
   "codemirror_mode": {
    "name": "ipython",
    "version": 3
   },
   "file_extension": ".py",
   "mimetype": "text/x-python",
   "name": "python",
   "nbconvert_exporter": "python",
   "pygments_lexer": "ipython3",
   "version": "3.8.5"
  }
 },
 "nbformat": 4,
 "nbformat_minor": 4
}
