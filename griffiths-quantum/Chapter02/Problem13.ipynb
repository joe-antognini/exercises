{
 "cells": [
  {
   "cell_type": "markdown",
   "metadata": {},
   "source": [
    "# Problem 2.13\n",
    "\n",
    "## Part a.\n",
    "\n",
    "$$\n",
    "\\begin{eqnarray}\n",
    "A^2 \\int 9\\psi_0^2 + 24 \\psi_0 \\psi_1 + 16 \\psi_1^2 \\, dx & = & 1 \\\\\n",
    "25 A^2 & = & 1\\\\\n",
    "\\end{eqnarray}\n",
    "$$\n",
    "\n",
    "$$\n",
    "\\implies A = \\frac{1}{5}\n",
    "$$"
   ]
  },
  {
   "cell_type": "markdown",
   "metadata": {},
   "source": [
    "## Part b.\n",
    "\n",
    "$$\n",
    "\\begin{eqnarray}\n",
    "\\Psi(x, t) & = & \\frac{3}{5} \\psi_0(x) e^{-iE_0 t / \\hbar} + \\frac{4}{5} \\psi_1(x) e^{-i E_1 t / \\hbar} \\\\\n",
    "& = & \\frac{3}{5} \\psi_0(x) e^{-i\\omega t / 2} + \\frac{4}{5} \\psi_1(x) e^{-3i\\omega t/2}\n",
    "\\end{eqnarray}\n",
    "$$"
   ]
  },
  {
   "cell_type": "markdown",
   "metadata": {},
   "source": [
    "$$\n",
    "\\begin{eqnarray}\n",
    "|\\Psi(x, t)|^2 & = & \\frac{9}{25} \\psi_0^2(x) \\psi_0(x) + \\frac{12}{25} \\psi_0^*(x) \\psi_1(x) e^{-i\\omega t} + \\frac{12}{25} \\psi_0(x) \\psi_1^*(x) e^{i\\omega t} + \\frac{16}{25}\\psi_1^*(x) \\psi_1(x) \\\\\n",
    "& = & \\frac{9}{25} \\sqrt{\\frac{m\\omega}{\\pi\\hbar}} e^{-m\\omega x^2 / \\hbar} + \\frac{16}{25} \\left( \\frac{2m\\omega}{\\hbar} \\right) \\sqrt{\\frac{m\\omega}{\\pi\\hbar}} x^2 e^{-m\\omega x^2 / \\hbar} + \\frac{12}{25} \\sqrt{\\frac{m\\omega}{\\pi\\hbar}} \\sqrt{\\frac{2m\\omega}{\\hbar}} x e^{-m\\omega x^2 / \\hbar} \\cos (\\omega t)\n",
    "\\end{eqnarray}\n",
    "$$"
   ]
  },
  {
   "cell_type": "markdown",
   "metadata": {},
   "source": [
    "Let\n",
    "\n",
    "$$\n",
    "\\begin{eqnarray}\n",
    "\\alpha & \\equiv & \\left( \\frac{m\\omega}{\\pi \\hbar} \\right)^{\\frac{1}{4}} \\\\\n",
    "\\xi & \\equiv & \\sqrt{\\frac{m\\omega}{\\hbar}} x\n",
    "\\end{eqnarray}\n",
    "$$"
   ]
  },
  {
   "cell_type": "markdown",
   "metadata": {},
   "source": [
    "Hence\n",
    "\n",
    "$$\n",
    "| \\Psi(x, t) |^2 = \\frac{9}{25} \\alpha e^{-\\xi^2} + \\frac{32}{25} \\alpha^2 \\xi^2 e^{-\\xi^2} + \\frac{12 \\sqrt{2}}{25} \\alpha^2 \\xi e^{-\\xi^2} \\cos(\\omega t)\n",
    "$$"
   ]
  }
 ],
 "metadata": {
  "kernelspec": {
   "display_name": "Python 3",
   "language": "python",
   "name": "python3"
  },
  "language_info": {
   "codemirror_mode": {
    "name": "ipython",
    "version": 3
   },
   "file_extension": ".py",
   "mimetype": "text/x-python",
   "name": "python",
   "nbconvert_exporter": "python",
   "pygments_lexer": "ipython3",
   "version": "3.8.10"
  }
 },
 "nbformat": 4,
 "nbformat_minor": 4
}
