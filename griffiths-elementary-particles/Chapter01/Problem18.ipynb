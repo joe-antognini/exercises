{
 "cells": [
  {
   "cell_type": "markdown",
   "metadata": {},
   "source": [
    "# Problem 1.18\n",
    "\n",
    "Positrons are not relevant for chemistry because the universe is dominated by matter rather than antimatter and they can only be produced at energies that far exceed the energies available in chemical processes.  Muons similarly are only produced at high energies.  Neutrinos are not relevant for chemistry because they only interact via the weak interaction and chemistry is restricted to electrical interactions.  Pions require more energy to produce than is available via chemical means and also decay quickly.  Quarks are not relevant because quark confinement keeps them in the nucleus and only extremely high energies can probe the structure of the nucleus.  Intermediate vector bosons are not relevant because they decay in about $10^{-25}$ s."
   ]
  }
 ],
 "metadata": {
  "kernelspec": {
   "display_name": "Python 3",
   "language": "python",
   "name": "python3"
  },
  "language_info": {
   "codemirror_mode": {
    "name": "ipython",
    "version": 3
   },
   "file_extension": ".py",
   "mimetype": "text/x-python",
   "name": "python",
   "nbconvert_exporter": "python",
   "pygments_lexer": "ipython3",
   "version": "3.8.10"
  }
 },
 "nbformat": 4,
 "nbformat_minor": 4
}
