{
 "cells": [
  {
   "cell_type": "markdown",
   "metadata": {},
   "source": [
    "There are some (possibly invisible) Latex commands in this cell.  This notebook may not render properly on Github.\n",
    "\n",
    "$$\\newcommand{\\ket}[1]{\\left|{#1}\\right\\rangle}$$\n",
    "$$\\newcommand{\\bra}[1]{\\left\\langle{#1}\\right|}$$\n",
    "$$\\newcommand{\\braket}[2]{\\left\\langle{#1}\\middle|{#2}\\right\\rangle}$$\n",
    "$$\\newcommand{\\norm}[1]{\\left\\lVert#1\\right\\rVert}$$"
   ]
  },
  {
   "cell_type": "markdown",
   "metadata": {},
   "source": [
    "## Problem A.24\n",
    "\n",
    "Suppose that for any vector $\\ket{\\gamma}$ we have\n",
    "\n",
    "$$\n",
    "\\braket{\\gamma}{\\hat{T} \\gamma} = \\braket{\\hat{T} \\gamma}{\\gamma}\n",
    "$$\n",
    "\n",
    "Since $\\ket{\\gamma}$ is an arbitrary vector, we can write it as the sum of two other arbitrary vectors:\n",
    "\n",
    "$$\n",
    "\\ket{\\gamma} \\equiv \\ket{\\alpha} + \\ket{\\beta}\n",
    "$$\n",
    "\n",
    "Now, substituting,\n",
    "\n",
    "$$\n",
    "\\left( \\bra{\\alpha} + \\bra{\\beta} \\right) \\left( \\ket{\\hat{T} \\alpha} + \\ket{\\hat{T} \\beta} \\right) = \\left( \\bra{\\hat{T} \\alpha} + \\bra{\\hat{T} \\beta} \\right) \\left( \\ket{\\alpha} + \\ket{\\beta} \\right)\n",
    "$$\n",
    "\n",
    "$$\n",
    "\\implies \\braket{\\alpha}{\\hat{T} \\beta} + \\braket{\\beta}{\\hat{T} \\alpha} = \\braket{\\hat{T} \\alpha}{\\beta} + \\braket{\\hat{T} \\beta}{\\alpha}\n",
    "$$\n",
    "\n",
    "Now define another vector\n",
    "\n",
    "$$\n",
    "\\ket{\\gamma^{\\prime}} \\equiv \\ket{\\alpha} + i \\ket{\\beta}\n",
    "$$\n",
    "\n",
    "This now implies\n",
    "\n",
    "$$\n",
    "\\left( \\bra{\\alpha} - i \\bra{\\beta} \\right) \\left( \\ket{\\hat{T} \\alpha} + i \\ket{\\hat{T} \\beta} \\right) = \\left( \\bra{\\hat{T} \\alpha} - i \\bra{\\hat{T} \\beta} \\right) \\left( \\ket{\\alpha} + i \\ket{\\beta} \\right)\n",
    "$$\n",
    "\n",
    "$$\n",
    "\\implies \\braket{\\alpha}{\\hat{T} \\beta} - \\braket{\\beta}{\\hat{T} \\alpha} = \\braket{\\hat{T} \\alpha}{\\beta} - \\braket{\\hat{T} \\beta}{\\alpha}\n",
    "$$\n",
    "\n",
    "Adding the result from using $\\ket{\\gamma}$ with the result from using vector $\\ket{\\gamma^{\\prime}}$, we get\n",
    "\n",
    "$$\n",
    "\\braket{\\beta}{\\hat{T} \\alpha} = \\braket{\\hat{T} \\beta}{\\alpha}\n",
    "$$\n",
    "\n",
    "as required."
   ]
  }
 ],
 "metadata": {
  "kernelspec": {
   "display_name": "Python 3",
   "language": "python",
   "name": "python3"
  },
  "language_info": {
   "codemirror_mode": {
    "name": "ipython",
    "version": 3
   },
   "file_extension": ".py",
   "mimetype": "text/x-python",
   "name": "python",
   "nbconvert_exporter": "python",
   "pygments_lexer": "ipython3",
   "version": "3.7.3"
  }
 },
 "nbformat": 4,
 "nbformat_minor": 2
}
