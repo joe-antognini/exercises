{
 "cells": [
  {
   "cell_type": "markdown",
   "metadata": {},
   "source": [
    "# Problem 1.8\n",
    "\n",
    "We have that $\\forall A_i, \\mathbb{P}(A_i) = 1$, and wee wish to show that\n",
    "\n",
    "$$\n",
    "\\mathbb{P} \\left( \\bigcap_{i=1}^{\\infty} A_i \\right) = 1\n",
    "$$\n",
    "\n",
    "Note that\n",
    "\n",
    "$$\n",
    "\\mathbb{P}\\left( \\bigcap_{i=1}^{\\infty} A_i \\right) = 1 - \\mathbb{P} \\left[ \\left( \\bigcap_{i=1}^{\\infty} A_i \\right)^c \\right]\n",
    "$$\n",
    "\n",
    "From Problem 1.4,\n",
    "\n",
    "$$\n",
    "\\mathbb{P} \\left( \\bigcap_{i=1}^{\\infty} A_i \\right) = 1 - \\mathbb{P} \\left[ \\bigcup_{i=1}^{\\infty} A_i^c \\right]\n",
    "$$\n",
    "\n",
    "And from Problem 1.7,\n",
    "\n",
    "$$\n",
    "\\mathbb{P} \\left( \\bigcap_{i=1}^{\\infty} A_i \\right) \\geq 1 - \\mathbb{P} \\left( \\sum_{i=1}^{\\infty} A_i^c \\right)\n",
    "$$\n",
    "\n",
    "Now, $\\mathbb{P}(A_i) = 1 \\implies \\mathbb{P}(A_i^c) = 0$.\n",
    "\n",
    "$$\n",
    "\\implies \\mathbb{P}\\left(\\bigcap_{i=1}^{\\infty} A_i \\right) \\geq 1\n",
    "$$\n",
    "\n",
    "And because $\\mathbb{P}(A_i) \\leq 1 \\forall A_i$,\n",
    "\n",
    "$$\n",
    "\\mathbb{P}\\left( \\bigcap_{i=1}^{\\infty} A_i \\right) = 1.\n",
    "$$"
   ]
  }
 ],
 "metadata": {
  "kernelspec": {
   "display_name": "Python 3",
   "language": "python",
   "name": "python3"
  },
  "language_info": {
   "codemirror_mode": {
    "name": "ipython",
    "version": 3
   },
   "file_extension": ".py",
   "mimetype": "text/x-python",
   "name": "python",
   "nbconvert_exporter": "python",
   "pygments_lexer": "ipython3",
   "version": "3.8.10"
  }
 },
 "nbformat": 4,
 "nbformat_minor": 4
}
