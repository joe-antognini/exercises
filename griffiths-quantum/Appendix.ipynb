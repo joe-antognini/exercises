{
 "cells": [
  {
   "cell_type": "markdown",
   "metadata": {},
   "source": [
    "# Appendix"
   ]
  },
  {
   "cell_type": "code",
   "execution_count": 1,
   "metadata": {},
   "outputs": [],
   "source": [
    "import numpy as np"
   ]
  },
  {
   "cell_type": "markdown",
   "metadata": {},
   "source": [
    "Invisible Latex commands are in this cell.\n",
    "\n",
    "$$\\newcommand{\\ket}[1]{\\left|{#1}\\right\\rangle}$$\n",
    "$$\\newcommand{\\bra}[1]{\\left\\langle{#1}\\right|}$$\n",
    "$$\\newcommand{\\braket}[2]{\\left\\langle{#1}\\middle|{#2}\\right\\rangle}$$\n",
    "$$\\newcommand{\\norm}[1]{\\left\\lVert#1\\right\\rVert}$$"
   ]
  },
  {
   "cell_type": "markdown",
   "metadata": {},
   "source": [
    "## Problem A.1"
   ]
  },
  {
   "cell_type": "markdown",
   "metadata": {},
   "source": [
    "### Part a."
   ]
  },
  {
   "cell_type": "markdown",
   "metadata": {},
   "source": [
    "Yes, the subset of all vectors with $a_z = 0$ is a vector space.  Since the the original set is a vector space, the properties of vector addition and multiplication all hold, but we must show that the subspace is closed.  Here, note that the sum of any two vectors in the subspace will have $a_z = 0$ as well since the sum can be done component-wise.  Furthermore, scalar multiplication is closed since we can again perform the operation component-wise and this will maintain $a_z = 0$.  Finally, the null vector is in this subspace since the null vector has $a_z = 0$, and the inverse vectors are in the subspace since the inverses can be found component-wise and $-0 = 0 = a_z$.\n",
    "\n",
    "The dimension of the subspace is 2 since it is spanned by the basis vectors $\\hat{i}$ and $\\hat{j}$."
   ]
  },
  {
   "cell_type": "markdown",
   "metadata": {},
   "source": [
    "### Part b."
   ]
  },
  {
   "cell_type": "markdown",
   "metadata": {},
   "source": [
    "The subspace of all vectors with $a_z = 1$ is not a subspace because it is not closed under vector addition or scalar multiplication.  For example, $2 \\cdot \\hat{k}$ is not in the subspace even though $\\hat{k}$ is.  Furthermore the subspace does not have a null vector since the null vector must have $a_z = 0$."
   ]
  },
  {
   "cell_type": "markdown",
   "metadata": {},
   "source": [
    "### Part c."
   ]
  },
  {
   "cell_type": "markdown",
   "metadata": {},
   "source": [
    "The subset of all vectors whose components are all equal is a vector space.\n",
    "\n",
    "Consider $\\textbf{a} = a \\hat{i} + a \\hat{j} + a \\hat{k}$ and $\\textbf{b} = b \\hat{i} + b \\hat{j} + b \\hat{k}$.  Then $\\textbf{a} + \\textbf{b} = (a + b) \\hat{i} + (a + b) \\hat{j} + (a + b) \\hat{k}$.  All the components are equal, so the vector stays in the subspace.  Similarly, $c \\textbf{a} = ca \\hat{i} + ca \\hat{j} + ca \\hat{k}$.  All the components are equal so the vector stays in the subspace.  Thus the subspace is closed under addition and multiplication.  Finally, the null vector exists in this subspace and the inverse vectors all also have the same components and so exist in the subspace."
   ]
  },
  {
   "cell_type": "markdown",
   "metadata": {},
   "source": [
    "## Problem A.2"
   ]
  },
  {
   "cell_type": "markdown",
   "metadata": {},
   "source": [
    "### Part a."
   ]
  },
  {
   "cell_type": "markdown",
   "metadata": {},
   "source": [
    "This set is a vector space.  The sum of two polynomials of degree $N$ is also a polynomial of degree $N$ or less, so the set is closed under addition.  Multiplying a polynomial of degree $N$ by a scalar is also a polynomial of degree $N$ or less, so the set is closed under multiplication.  Furthermore, $0$ exists as a null vector, and the inverse vectors also exist by taking the coefficients of the polynomials and multilpying them by $-1$."
   ]
  },
  {
   "cell_type": "markdown",
   "metadata": {},
   "source": [
    "### Part b."
   ]
  },
  {
   "cell_type": "markdown",
   "metadata": {},
   "source": [
    "The set of even polynomials is also a vector space since the sum of two even polynomials is also an even polynomial (nor does multiplication by a scalar change the evenness of the polynomial).  Furthermore this subset contains the null vector and every inverse vector."
   ]
  },
  {
   "cell_type": "markdown",
   "metadata": {},
   "source": [
    "### Part c."
   ]
  },
  {
   "cell_type": "markdown",
   "metadata": {},
   "source": [
    "The subset of polynomials with the leading coefficient equal to 1 is not a vector space since the sum of two such polynomials has a leading coefficient equal to 2 and is therefore not in the space."
   ]
  },
  {
   "cell_type": "markdown",
   "metadata": {},
   "source": [
    "### Part d."
   ]
  },
  {
   "cell_type": "markdown",
   "metadata": {},
   "source": [
    "The subset of polynomials with the value 0 at $x = 1$ is a vector space.  We can write such polynomials as\n",
    "\n",
    "$$\n",
    "a = (x - 1) \\sum_{i = 0}^{N - 1} a_i x^i\n",
    "$$\n",
    "\n",
    "Now, the sum of two such polynomials is\n",
    "\n",
    "\\begin{eqnarray}\n",
    "\\textbf{a} + \\textbf{b} & = & (x - 1) \\sum_{i = 0}^{N - 1} a_i x^i + (x - 1) \\sum_{i = 0}^{N - 1} b_i x^i \\\\\n",
    " & = & (x - 1) \\sum_{i = 0}^{N - 1} (a_i + b_i) x^i\n",
    "\\end{eqnarray}\n",
    "\n",
    "and so is closed under vector addition.  Similarly, multiplying such a polynomial by a scalar results in\n",
    "\n",
    "\\begin{eqnarray}\n",
    "c \\textbf{a} & = & c (x - 1) \\sum_{i = 0}^{N - 1} a_i x^i \\\\\n",
    "& = & (x - 1) \\sum_{i = 0}^{N - 1} (c a_i) x^i\n",
    "\\end{eqnarray}\n",
    "\n",
    "and so is closed under scalar multiplication.  The space contains the null vector since setting the $a_i = 0$ results in a polynomial which is 0 at $x = 1$.  Finally, the space contains all inverse vectors by setting the coefficients equal to $-a_i$."
   ]
  },
  {
   "cell_type": "markdown",
   "metadata": {},
   "source": [
    "### Part e."
   ]
  },
  {
   "cell_type": "markdown",
   "metadata": {},
   "source": [
    "The subset of polynomials with the value 1 at $x = 0$ is not a vector space since it does not contain the null vector nor is it closed under addition since the sum of two such polynomials will have the value 2 at $x = 0$."
   ]
  },
  {
   "cell_type": "markdown",
   "metadata": {},
   "source": [
    "## Problem A.3"
   ]
  },
  {
   "cell_type": "markdown",
   "metadata": {},
   "source": [
    "We may write the vector $\\ket{\\alpha}$ as\n",
    "\n",
    "$$\n",
    "\\ket{\\alpha} = \\sum_i a_i \\ket{e_i}\n",
    "$$\n",
    "\n",
    "Now, suppose there were some other component representation in this basis.  Then we could write \n",
    "\n",
    "$$\n",
    "\\ket{\\alpha} = \\sum_i b_i \\ket{e_i}\n",
    "$$\n",
    "\n",
    "with $a_i \\neq b_i$ for some $i$.  But now consider the difference between these two representations:\n",
    "\n",
    "$$\n",
    "\\sum_i a_i \\ket{e_i} - \\sum_i b_i \\ket{e_i} = \\sum_i (a_i - b_i) \\ket{e_i} \\neq 0\n",
    "$$\n",
    "\n",
    "since by assumption there is some component that is different.  But we must have that this difference equals zero since $\\ket{\\alpha} - \\ket{\\alpha} = 0$ and the null vector has zeros in all components."
   ]
  },
  {
   "cell_type": "markdown",
   "metadata": {},
   "source": [
    "## Problem A.4"
   ]
  },
  {
   "cell_type": "markdown",
   "metadata": {},
   "source": [
    "$$\n",
    "\\norm{e_1} = 2\n",
    "$$\n",
    "\n",
    "$$\n",
    "\\ket{e_1^{\\prime}} = \\frac{1}{2}(1 + i) \\hat{i} + \\frac{1}{2} \\hat{j} + \\frac{i}{2} \\hat{k}\n",
    "$$\n",
    "\n",
    "$$\n",
    "\\braket{e_1^{\\prime}}{e_2} = \\frac{i}{2} (1 - i) + \\frac{3}{2} - \\frac{i}{2} = \\frac{1}{2}(i + 1 - 3 - i) = 2\n",
    "$$\n",
    "\n",
    "$$\n",
    "\\ket{e_2} - \\braket{e_1^{\\prime}}{e_2} = i \\hat{i} + 3 \\hat{j} + \\hat{k} - 2((1 + i) \\hat{i} + \\hat{j} + i \\hat{k}) \n",
    "= -\\hat{i} + 2 \\hat{j} + (1 - i) \\hat{k}\n",
    "$$\n",
    "\n",
    "$$\n",
    "\\norm{\\ket{e_2} - \\braket{e_1^{\\prime}}{e_2}} = \\sqrt{1 + 4 + 2} = \\sqrt{7}\n",
    "$$\n",
    "\n",
    "$$\n",
    "\\ket{e_2^{\\prime}} = -\\frac{1}{\\sqrt{7}} \\hat{i} + \\frac{2}{\\sqrt{7}} \\hat{j} + \\frac{1 - i}{\\sqrt{7}} \\hat{k}\n",
    "$$\n",
    "\n",
    "$$\n",
    "\\braket{e_1^{\\prime}}{e_3} = 14\n",
    "$$\n",
    "\n",
    "$$\n",
    "\\braket{e_2^{\\prime}}{e_3} = 8 \\sqrt{7}\n",
    "$$\n",
    "\n",
    "$$\n",
    "\\ket{e_3} - \\braket{e_1^{\\prime}}{e_3} - \\braket{e_2^{\\prime}}{e_3} =\n",
    "28 \\hat{j} - 7((1 + i) \\hat{i} + \\hat{j} + i \\hat{k}) - 8(-\\hat{i} + 2\\hat{j} + (1 - i) \\hat{k}) =\n",
    "(1 - 7i) \\hat{i} + 5 \\hat{j} + (-8 + i)\\hat{k}\n",
    "$$\n",
    "\n",
    "$$\n",
    "\\norm{\\ket{e_3} - \\braket{e_1^{\\prime}}{e_3} - \\braket{e_2^{\\prime}}{e_3}} = \\sqrt{140}\n",
    "$$\n",
    "\n",
    "$$\n",
    "\\ket{e_3^{\\prime}} = \\frac{1}{2 \\sqrt{35}} ((1 - 7i) \\hat{i} + 5 \\hat{j} + (-8 + i) \\hat{k})\n",
    "$$"
   ]
  },
  {
   "cell_type": "code",
   "execution_count": 2,
   "metadata": {},
   "outputs": [],
   "source": [
    "e1 = np.array([1 + 1j, 1, 1j])\n",
    "e2 = np.array([1j, 3, 1])\n",
    "e3 = np.array([0, 28, 0])"
   ]
  },
  {
   "cell_type": "code",
   "execution_count": 37,
   "metadata": {},
   "outputs": [
    {
     "data": {
      "text/plain": [
       "array([0.5+0.5j, 0.5+0.j , 0. +0.5j])"
      ]
     },
     "execution_count": 37,
     "metadata": {},
     "output_type": "execute_result"
    }
   ],
   "source": [
    "e1prime = e1 / np.linalg.norm(e1)\n",
    "e1prime"
   ]
  },
  {
   "cell_type": "code",
   "execution_count": 41,
   "metadata": {},
   "outputs": [],
   "source": [
    "e2prime = (e2 - np.vdot(e1prime, e2) * e1prime) / np.linalg.norm(e2 - np.vdot(e1prime, e2) * e1prime)"
   ]
  },
  {
   "cell_type": "code",
   "execution_count": 40,
   "metadata": {},
   "outputs": [
    {
     "data": {
      "text/plain": [
       "True"
      ]
     },
     "execution_count": 40,
     "metadata": {},
     "output_type": "execute_result"
    }
   ],
   "source": [
    "np.allclose(e2prime, np.array([-1 / np.sqrt(7), 2 / np.sqrt(7), (1 - 1j) / np.sqrt(7)]))"
   ]
  },
  {
   "cell_type": "code",
   "execution_count": 42,
   "metadata": {},
   "outputs": [],
   "source": [
    "e3prime = ((e3 - np.vdot(e1prime, e3) * e1prime - np.vdot(e2prime, e3) * e2prime) /\n",
    "    np.linalg.norm(e3 - np.vdot(e1prime, e3) * e1prime - np.vdot(e2prime, e3) * e2prime))"
   ]
  },
  {
   "cell_type": "code",
   "execution_count": 43,
   "metadata": {},
   "outputs": [
    {
     "data": {
      "text/plain": [
       "True"
      ]
     },
     "execution_count": 43,
     "metadata": {},
     "output_type": "execute_result"
    }
   ],
   "source": [
    "np.allclose(e3prime, 1 / (2 * np.sqrt(35)) * np.array([1 - 7j, 5, -8 + 1j]))"
   ]
  },
  {
   "cell_type": "markdown",
   "metadata": {},
   "source": [
    "## Problem A.5"
   ]
  },
  {
   "cell_type": "markdown",
   "metadata": {},
   "source": [
    "Let\n",
    "\n",
    "$$\n",
    "\\ket{\\gamma} \\equiv \\ket{\\beta} - \\frac{\\braket{\\alpha}{\\beta}}{\\braket{\\alpha}{\\alpha}} \\ket{\\alpha}.\n",
    "$$\n",
    "\n",
    "Now consider the norm of $\\gamma$:\n",
    "\n",
    "\\begin{eqnarray}\n",
    "\\braket{\\gamma}{\\gamma} & = & \\left( \\bra{\\beta} - \\frac{\\braket{\\beta}{\\alpha}}{\\braket{\\alpha}{\\alpha}} \\bra{\\alpha} \\right) \\left( \\ket{\\beta} - \\frac{\\braket{\\alpha}{\\beta}}{\\braket{\\alpha}{\\alpha}} \\ket{\\alpha} \\right) \\\\\n",
    "& = & \\braket{\\beta}{\\beta} - \\frac{\\braket{\\alpha}{\\beta}}{\\braket{\\alpha}{\\alpha}} \\braket{\\beta}{\\alpha} - \\frac{\\braket{\\beta}{\\alpha}}{\\braket{\\alpha}{\\alpha}} \\braket{\\alpha}{\\beta} + \\frac{\\braket{\\beta}{\\alpha} \\braket{\\alpha}{\\beta}}{\\braket{\\alpha}{\\alpha}^2} \\braket{\\alpha}{\\alpha} \\\\\n",
    "& = & \\braket{\\beta}{\\beta} + \\frac{\\braket{\\beta}{\\alpha} \\braket{\\alpha}{\\beta}}{\\braket{\\alpha}{\\alpha}}\n",
    "\\end{eqnarray}\n",
    "\n",
    "Now, note that $\\braket{\\gamma}{\\gamma} \\geq 0$, so\n",
    "\n",
    "$$\n",
    "\\braket{\\alpha}{\\alpha} \\braket{\\beta}{\\beta} \\geq \\left| \\braket{\\alpha}{\\beta} \\right|^2\n",
    "$$\n",
    "\n",
    "as required."
   ]
  },
  {
   "cell_type": "markdown",
   "metadata": {},
   "source": [
    "## Problem A.6"
   ]
  },
  {
   "cell_type": "markdown",
   "metadata": {},
   "source": [
    "$$\n",
    "\\braket{\\alpha}{\\beta} = (1 - i)(4 - i) - i(2 - 2i) = 1 - 7i\n",
    "$$\n",
    "\n",
    "$$\n",
    "\\braket{\\beta}{\\alpha} = 1 + 7i\n",
    "$$\n",
    "\n",
    "$$\n",
    "\\braket{\\alpha}{\\alpha} = 4\n",
    "$$\n",
    "\n",
    "$$\n",
    "\\braket{\\beta}{\\beta} = 25\n",
    "$$\n",
    "\n",
    "$$\n",
    "\\cos \\theta = \\sqrt{\\frac{(1 + 7i)(1 - 7i)}{4 \\times 25}} = \\frac{1}{\\sqrt{2}}\n",
    "$$\n",
    "\n",
    "And so $\\theta = \\pi / 4$."
   ]
  },
  {
   "cell_type": "code",
   "execution_count": 44,
   "metadata": {},
   "outputs": [],
   "source": [
    "alpha = np.array([1 + 1j, 1, 1j])\n",
    "beta = np.array([4 - 1j, 0, 2 - 2j])"
   ]
  },
  {
   "cell_type": "code",
   "execution_count": 53,
   "metadata": {},
   "outputs": [
    {
     "data": {
      "text/plain": [
       "True"
      ]
     },
     "execution_count": 53,
     "metadata": {},
     "output_type": "execute_result"
    }
   ],
   "source": [
    "np.allclose(\n",
    "    np.pi / 4, \n",
    "    np.arccos(np.sqrt(np.vdot(alpha, beta) * np.vdot(beta, alpha) /\n",
    "                      (np.linalg.norm(alpha)**2 * np.linalg.norm(beta)**2))),\n",
    ")"
   ]
  },
  {
   "cell_type": "markdown",
   "metadata": {},
   "source": [
    "## Problem A.7"
   ]
  },
  {
   "cell_type": "markdown",
   "metadata": {},
   "source": [
    "\\begin{eqnarray}\n",
    "\\norm{\\ket{\\alpha} + \\ket{\\beta}}^2 & = & \\left( \\bra{\\alpha} + \\bra{\\beta} \\right) \\left(\\ket{\\alpha} + \\ket{\\beta}\\right) \\\\\n",
    "& = & \\braket{\\alpha}{\\alpha} + \\braket{\\beta}{\\beta} + \\braket{\\alpha}{\\beta} + \\braket{\\beta}{\\alpha} \\\\\n",
    "& = & \\norm{\\alpha}^2 + \\norm{\\beta}^2 + \\braket{\\alpha}{\\beta} + \\braket{\\alpha}{\\beta}^*\n",
    "\\end{eqnarray}\n",
    "\n",
    "Now note that by the Schwarz inequality $|\\braket{\\alpha}{\\beta}| \\leq \\norm{\\alpha} \\norm{\\beta}$.  This implies that\n",
    "\n",
    "\\begin{eqnarray}\n",
    "\\norm{\\ket{\\alpha} + \\ket{\\beta}}^2 & \\leq & \\norm{\\alpha}^2 + \\norm{\\beta}^2 + 2 \\norm{\\alpha} \\norm{\\beta} \\\\\n",
    "& \\leq & \\left( \\norm{\\alpha} + \\norm{\\beta} \\right)^2\n",
    "\\end{eqnarray}\n",
    "\n",
    "Therefore $\\norm{\\ket{\\alpha} + \\ket{\\beta}} \\leq \\norm{\\alpha} + \\norm{\\beta}$ as required."
   ]
  },
  {
   "cell_type": "code",
   "execution_count": null,
   "metadata": {},
   "outputs": [],
   "source": []
  }
 ],
 "metadata": {
  "kernelspec": {
   "display_name": "Python 3",
   "language": "python",
   "name": "python3"
  },
  "language_info": {
   "codemirror_mode": {
    "name": "ipython",
    "version": 3
   },
   "file_extension": ".py",
   "mimetype": "text/x-python",
   "name": "python",
   "nbconvert_exporter": "python",
   "pygments_lexer": "ipython3",
   "version": "3.6.5"
  }
 },
 "nbformat": 4,
 "nbformat_minor": 2
}
