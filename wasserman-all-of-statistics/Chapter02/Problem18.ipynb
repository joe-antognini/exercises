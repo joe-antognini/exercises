{
 "cells": [
  {
   "cell_type": "markdown",
   "id": "d77df1f7",
   "metadata": {},
   "source": [
    "# Problem 2.18"
   ]
  },
  {
   "cell_type": "code",
   "execution_count": 1,
   "id": "f15a883f",
   "metadata": {},
   "outputs": [],
   "source": [
    "import scipy.optimize\n",
    "import scipy.stats"
   ]
  },
  {
   "cell_type": "markdown",
   "id": "8a39ad24",
   "metadata": {},
   "source": [
    "## Part a."
   ]
  },
  {
   "cell_type": "code",
   "execution_count": 2,
   "id": "871cbf86",
   "metadata": {},
   "outputs": [
    {
     "data": {
      "text/plain": [
       "0.5987063256829237"
      ]
     },
     "execution_count": 2,
     "metadata": {},
     "output_type": "execute_result"
    }
   ],
   "source": [
    "scipy.stats.norm.cdf((7 - 3) / 16)"
   ]
  },
  {
   "cell_type": "markdown",
   "id": "36cba3e9",
   "metadata": {},
   "source": [
    "## Part b."
   ]
  },
  {
   "cell_type": "code",
   "execution_count": 3,
   "id": "09cbac12",
   "metadata": {},
   "outputs": [
    {
     "data": {
      "text/plain": [
       "0.6226697184701571"
      ]
     },
     "execution_count": 3,
     "metadata": {},
     "output_type": "execute_result"
    }
   ],
   "source": [
    "1 - scipy.stats.norm.cdf((-2 - 3) / 16)"
   ]
  },
  {
   "cell_type": "markdown",
   "id": "f710385c",
   "metadata": {},
   "source": [
    "## Part c."
   ]
  },
  {
   "cell_type": "code",
   "execution_count": 4,
   "id": "7f2453eb",
   "metadata": {},
   "outputs": [
    {
     "data": {
      "text/plain": [
       "29.317658031223555"
      ]
     },
     "execution_count": 4,
     "metadata": {},
     "output_type": "execute_result"
    }
   ],
   "source": [
    "16 * scipy.stats.norm.ppf(0.95) + 3"
   ]
  },
  {
   "cell_type": "code",
   "execution_count": 5,
   "id": "db30eebd",
   "metadata": {},
   "outputs": [
    {
     "data": {
      "text/plain": [
       "0.050000000000000044"
      ]
     },
     "execution_count": 5,
     "metadata": {},
     "output_type": "execute_result"
    }
   ],
   "source": [
    "1 - scipy.stats.norm.cdf((_ - 3) / 16)"
   ]
  },
  {
   "cell_type": "markdown",
   "id": "a96382f2",
   "metadata": {},
   "source": [
    "## Part d."
   ]
  },
  {
   "cell_type": "code",
   "execution_count": 6,
   "id": "10b7631e",
   "metadata": {},
   "outputs": [
    {
     "data": {
      "text/plain": [
       "0.09928335718514442"
      ]
     },
     "execution_count": 6,
     "metadata": {},
     "output_type": "execute_result"
    }
   ],
   "source": [
    "scipy.stats.norm.cdf((4 - 3) / 16) - scipy.stats.norm.cdf(-3 / 16)"
   ]
  },
  {
   "cell_type": "markdown",
   "id": "15e0a7b7",
   "metadata": {},
   "source": [
    "## Part e."
   ]
  },
  {
   "cell_type": "code",
   "execution_count": 7,
   "id": "5015c3bb",
   "metadata": {},
   "outputs": [
    {
     "name": "stdout",
     "output_type": "stream",
     "text": [
      "x: 34.35942375264031\n"
     ]
    }
   ],
   "source": [
    "ret = scipy.optimize.root(\n",
    "    lambda x: (1 - scipy.stats.norm.cdf(abs(x))) + scipy.stats.norm.cdf(-abs(x)) - 0.05,\n",
    "    x0=1,\n",
    ")\n",
    "x = 16 * ret.x[0] + 3\n",
    "print(f'x: {x}')"
   ]
  }
 ],
 "metadata": {
  "kernelspec": {
   "display_name": "Python 3 (ipykernel)",
   "language": "python",
   "name": "python3"
  },
  "language_info": {
   "codemirror_mode": {
    "name": "ipython",
    "version": 3
   },
   "file_extension": ".py",
   "mimetype": "text/x-python",
   "name": "python",
   "nbconvert_exporter": "python",
   "pygments_lexer": "ipython3",
   "version": "3.10.6"
  }
 },
 "nbformat": 4,
 "nbformat_minor": 5
}
