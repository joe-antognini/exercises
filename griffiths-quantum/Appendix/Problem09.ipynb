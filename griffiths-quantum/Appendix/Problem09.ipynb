{
 "cells": [
  {
   "cell_type": "code",
   "execution_count": 1,
   "metadata": {},
   "outputs": [],
   "source": [
    "import numpy as np"
   ]
  },
  {
   "cell_type": "markdown",
   "metadata": {},
   "source": [
    "## Problem A.9\n",
    "\n",
    "### Part a.\n",
    "\n",
    "$$\n",
    "\\textbf{A} \\textbf{a} = \\left( \\begin{matrix}\n",
    "-1 & 1 & i \\\\\n",
    "2 & 0 & 3 \\\\\n",
    "2i & -2i & 2 \\\\\n",
    "\\end{matrix} \\right) \\left( \\begin{matrix}\n",
    "i \\\\\n",
    "2i \\\\\n",
    "2 \\\\\n",
    "\\end{matrix} \\right) = \\left( \\begin{matrix}\n",
    "3i \\\\\n",
    "6 + 2 i \\\\\n",
    "6 \\\\\n",
    "\\end{matrix} \\right)\n",
    "$$"
   ]
  },
  {
   "cell_type": "code",
   "execution_count": 2,
   "metadata": {},
   "outputs": [
    {
     "data": {
      "text/plain": [
       "array([[0.+3.j],\n",
       "       [6.+2.j],\n",
       "       [6.+0.j]])"
      ]
     },
     "execution_count": 2,
     "metadata": {},
     "output_type": "execute_result"
    }
   ],
   "source": [
    "A = np.array([[-1, 1, 1j], [2, 0, 3], [2j, -2j, 2]])\n",
    "B = np.array([[2, 0, -1j], [0, 1, 0], [1j, 3, 2]])\n",
    "\n",
    "a = np.array([[1j], [2j], [2]])\n",
    "b = np.array([[2], [1 - 1j], [0]])\n",
    "\n",
    "np.matmul(A, a)"
   ]
  },
  {
   "cell_type": "markdown",
   "metadata": {},
   "source": [
    "### Part b.\n",
    "\n",
    "$$\n",
    "\\textbf{a}^{\\dagger} \\textbf{b} = \\left( \\begin{matrix}\n",
    "-i & -2i & 2 \\\\ \\end{matrix} \\right) \\left( \\begin{matrix}\n",
    "2 \\\\\n",
    "1 - i \\\\\n",
    "0 \\\\\n",
    "\\end{matrix} \\right) = -2i - 2i - 2 = -2 - 4i\n",
    "$$"
   ]
  },
  {
   "cell_type": "code",
   "execution_count": 3,
   "metadata": {},
   "outputs": [
    {
     "data": {
      "text/plain": [
       "array([[-2.-4.j]])"
      ]
     },
     "execution_count": 3,
     "metadata": {},
     "output_type": "execute_result"
    }
   ],
   "source": [
    "np.dot(np.conj(a.T), b)"
   ]
  },
  {
   "cell_type": "markdown",
   "metadata": {},
   "source": [
    "### Part c.\n",
    "\n",
    "$$\n",
    "\\tilde{\\textbf{a}} \\textbf{B} \\textbf{b} = \\left( \\begin{matrix}\n",
    "i & 2i & 2 \\end{matrix} \\right) \\left( \\begin{matrix}\n",
    "2 & 0 & -i \\\\\n",
    "0 & 1 & 0 \\\\\n",
    "i & 3 & 2 \\\\\n",
    "\\end{matrix} \\right) \\left( \\begin{matrix}\n",
    "2 \\\\\n",
    "1 - i \\\\\n",
    "0 \\\\\n",
    "\\end{matrix} \\right) = \\left( \\begin{matrix}\n",
    "i & 2i & 2 \\end{matrix} \\right) \\left( \\begin{matrix}\n",
    "4 \\\\\n",
    "1 - i \\\\\n",
    "3 - i \\\\\n",
    "\\end{matrix} \\right) = 8 + 4i\n",
    "$$"
   ]
  },
  {
   "cell_type": "code",
   "execution_count": 4,
   "metadata": {},
   "outputs": [
    {
     "data": {
      "text/plain": [
       "array([[8.+4.j]])"
      ]
     },
     "execution_count": 4,
     "metadata": {},
     "output_type": "execute_result"
    }
   ],
   "source": [
    "np.matmul(a.T, np.matmul(B, b))"
   ]
  },
  {
   "cell_type": "markdown",
   "metadata": {},
   "source": [
    "### Part d.\n",
    "\n",
    "$$\n",
    "\\textbf{a} \\textbf{b}^{\\dagger} = \\left( \\begin{matrix}\n",
    "i \\\\\n",
    "2i \\\\\n",
    "2 \\\\\n",
    "\\end{matrix} \\right) \\left( \\begin{matrix}\n",
    "2 & 1 + i & 0 \\\\\n",
    "\\end{matrix} \\right) = \\left( \\begin{matrix}\n",
    "2i & -1 + i & 0 \\\\\n",
    "4i & -2 + 2i & 0 \\\\\n",
    "4 & 2 + 2i & 0 \\\\\n",
    "\\end{matrix} \\right)\n",
    "$$"
   ]
  },
  {
   "cell_type": "code",
   "execution_count": 5,
   "metadata": {},
   "outputs": [
    {
     "data": {
      "text/plain": [
       "array([[ 0.+2.j, -1.+1.j,  0.+0.j],\n",
       "       [ 0.+4.j, -2.+2.j,  0.+0.j],\n",
       "       [ 4.+0.j,  2.+2.j,  0.+0.j]])"
      ]
     },
     "execution_count": 5,
     "metadata": {},
     "output_type": "execute_result"
    }
   ],
   "source": [
    "np.matmul(a, np.conj(b.T))"
   ]
  }
 ],
 "metadata": {
  "kernelspec": {
   "display_name": "Python 3",
   "language": "python",
   "name": "python3"
  },
  "language_info": {
   "codemirror_mode": {
    "name": "ipython",
    "version": 3
   },
   "file_extension": ".py",
   "mimetype": "text/x-python",
   "name": "python",
   "nbconvert_exporter": "python",
   "pygments_lexer": "ipython3",
   "version": "3.7.3"
  }
 },
 "nbformat": 4,
 "nbformat_minor": 2
}
