{
 "cells": [
  {
   "cell_type": "code",
   "execution_count": 1,
   "metadata": {},
   "outputs": [],
   "source": [
    "import numpy as np"
   ]
  },
  {
   "cell_type": "markdown",
   "metadata": {},
   "source": [
    "Invisible Latex commands are in this cell.\n",
    "\n",
    "$$\\newcommand{\\ket}[1]{\\left|{#1}\\right\\rangle}$$\n",
    "$$\\newcommand{\\bra}[1]{\\left\\langle{#1}\\right|}$$\n",
    "$$\\newcommand{\\braket}[2]{\\left\\langle{#1}\\middle|{#2}\\right\\rangle}$$\n",
    "$$\\newcommand{\\norm}[1]{\\left\\lVert#1\\right\\rVert}$$"
   ]
  },
  {
   "cell_type": "markdown",
   "metadata": {},
   "source": [
    "## Problem A.6\n",
    "\n",
    "$$\n",
    "\\braket{\\alpha}{\\beta} = (1 - i)(4 - i) - i(2 - 2i) = 1 - 7i\n",
    "$$\n",
    "\n",
    "$$\n",
    "\\braket{\\beta}{\\alpha} = 1 + 7i\n",
    "$$\n",
    "\n",
    "$$\n",
    "\\braket{\\alpha}{\\alpha} = 4\n",
    "$$\n",
    "\n",
    "$$\n",
    "\\braket{\\beta}{\\beta} = 25\n",
    "$$\n",
    "\n",
    "$$\n",
    "\\cos \\theta = \\sqrt{\\frac{(1 + 7i)(1 - 7i)}{4 \\times 25}} = \\frac{1}{\\sqrt{2}}\n",
    "$$\n",
    "\n",
    "And so $\\theta = \\pi / 4$."
   ]
  },
  {
   "cell_type": "code",
   "execution_count": 2,
   "metadata": {},
   "outputs": [
    {
     "data": {
      "text/plain": [
       "True"
      ]
     },
     "execution_count": 2,
     "metadata": {},
     "output_type": "execute_result"
    }
   ],
   "source": [
    "alpha = np.array([1 + 1j, 1, 1j])\n",
    "beta = np.array([4 - 1j, 0, 2 - 2j])\n",
    "\n",
    "np.allclose(\n",
    "    np.pi / 4, \n",
    "    np.arccos(np.sqrt(np.vdot(alpha, beta) * np.vdot(beta, alpha) /\n",
    "                      (np.linalg.norm(alpha)**2 * np.linalg.norm(beta)**2))),\n",
    ")"
   ]
  }
 ],
 "metadata": {
  "kernelspec": {
   "display_name": "Python 3",
   "language": "python",
   "name": "python3"
  },
  "language_info": {
   "codemirror_mode": {
    "name": "ipython",
    "version": 3
   },
   "file_extension": ".py",
   "mimetype": "text/x-python",
   "name": "python",
   "nbconvert_exporter": "python",
   "pygments_lexer": "ipython3",
   "version": "3.7.3"
  }
 },
 "nbformat": 4,
 "nbformat_minor": 2
}
