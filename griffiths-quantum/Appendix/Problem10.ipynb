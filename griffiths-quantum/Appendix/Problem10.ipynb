{
 "cells": [
  {
   "cell_type": "markdown",
   "metadata": {},
   "source": [
    "## Problem A.10\n",
    "\n",
    "### Part a.\n",
    "\n",
    "Consider an arbitrary element of the matrix $\\textbf{T}$, $T_{ij}$.  In general we will have that $T_{ij} \\neq T_{ji}$.  Now suppose it is possible to write $\\textbf{T}$ as a sum of a symmetrix matrix $\\textbf{S}$ and an antisymmetric matrix $\\textbf{A}$.  Then we have\n",
    "\n",
    "$$\n",
    "\\begin{eqnarray}\n",
    "T_{ij} & = & S_{ij} + A_{ij}, \\\\\n",
    "T_{ji} & = & S_{ij} - A_{ij}\n",
    "\\end{eqnarray}\n",
    "$$\n",
    "\n",
    "Solving for $S_{ij}$ and $A_{ij}$ we find\n",
    "\n",
    "$$\n",
    "\\begin{eqnarray}\n",
    "S_{ij} = \\frac{1}{2} \\left( T_{ij} + T_{ji} \\right) \\\\\n",
    "A_{ij} = \\frac{1}{2} \\left( T_{ij} - T_{ji} \\right) \\\\\n",
    "\\end{eqnarray}\n",
    "$$\n",
    "By inspection it can be verified that $\\textbf{S}$ is indeed symmetric and $\\textbf{A}$ is antisymmetric.\n",
    "\n",
    "Thus by construction it is possible to write any matrix as a sum of a symmetric and antisymmetric matrix.\n",
    "\n",
    "### Part b.\n",
    "\n",
    "An arbitrary term of the matrix $\\textbf{T}$ can be written\n",
    "\n",
    "$$\n",
    "T_{ij} = a_{ij} + b_{ij} i.\n",
    "$$\n",
    "\n",
    "Construct a matrix $\\textbf{R}$ whose components are given by $R_{ij} = a_{ij}$ and a matrix $\\textbf{M}$ whose components are given by $M_{ij} = b_{ij} i$.  Then $\\textbf{R}$ is a real matrix and $\\textbf{M}$ is an imaginary matrix and any matrix can be written as the sum of the two.\n",
    "\n",
    "### Part c.\n",
    "\n",
    "Consider an arbitrary element of the matrix $\\textbf{T}$, $T_{ij}$.  Suppose that it is possible to write $\\textbf{T}$ as the sum of a Hermitian matrix $\\textbf{H}$ and a skew-Hermitian matrix $\\textbf{K}$.  Then we have\n",
    "\n",
    "$$\n",
    "\\begin{eqnarray}\n",
    "T_{ij} & = & H_{ij} + K_{ij} \\\\\n",
    "T_{ji}^* & = & H_{ij} - K_{ij} \\\\\n",
    "\\end{eqnarray}\n",
    "$$\n",
    "\n",
    "Solving for $H_{ij}$ and $K_{ij}$ we find\n",
    "\n",
    "$$\n",
    "\\begin{eqnarray}\n",
    "H_{ij} & = & \\frac{1}{2} \\left( T_{ij} + T_{ji}^* \\right) \\\\\n",
    "K_{ij} & = & \\frac{1}{2} \\left( T_{ij} - T_{ji}^* \\right)\n",
    "\\end{eqnarray}\n",
    "$$\n",
    "By inspection it can be verified that $\\textbf{H}$ is indeed Hermitian and $\\textbf{K}$ is skew-Hermitian.\n",
    "\n",
    "Thus by construction it is possible to write any matrix as a sum of a Hermitian and skew-Hermitian matrix."
   ]
  }
 ],
 "metadata": {
  "kernelspec": {
   "display_name": "Python 3",
   "language": "python",
   "name": "python3"
  },
  "language_info": {
   "codemirror_mode": {
    "name": "ipython",
    "version": 3
   },
   "file_extension": ".py",
   "mimetype": "text/x-python",
   "name": "python",
   "nbconvert_exporter": "python",
   "pygments_lexer": "ipython3",
   "version": "3.7.3"
  }
 },
 "nbformat": 4,
 "nbformat_minor": 2
}
