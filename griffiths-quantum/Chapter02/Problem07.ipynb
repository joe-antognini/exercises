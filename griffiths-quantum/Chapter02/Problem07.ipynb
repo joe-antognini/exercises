{
 "cells": [
  {
   "cell_type": "markdown",
   "metadata": {},
   "source": [
    "# Problem 2.7"
   ]
  },
  {
   "cell_type": "code",
   "execution_count": 1,
   "metadata": {},
   "outputs": [],
   "source": [
    "import matplotlib.pyplot as plt\n",
    "import numpy as np"
   ]
  },
  {
   "cell_type": "markdown",
   "metadata": {},
   "source": [
    "## Part a.\n",
    "\n",
    "Let's first find the normalization constant.\n",
    "\n",
    "$$\n",
    "\\begin{eqnarray}\n",
    " \\int | \\psi |^2 \\, dx & = & 1 \\\\\n",
    "\\Longrightarrow \\int_0^{\\frac{a}{2}} A^2 x^2 \\, dx + \\int_{\\frac{a}{2}}^a A^2 (a - x)^2 \\, dx & = & 1 \\\\\n",
    "\\Longrightarrow A^2 \\left[ \\frac{x^3}{3} \\bigg\\rvert_0^{\\frac{a}{2}} + a^2 x - ax^2 + \\frac{x^3}{3} \\bigg\\rvert_{\\frac{a}{2}}^a \\right] \\\\\n",
    "\\Longrightarrow A^2 \\left[ \\frac{a^3}{24} + \\frac{a^3}{2} - a^3 + \\frac{a^3}{4} + \\frac{a^3}{3} - \\frac{a^3}{24} \\right] & = & 1 \\\\\n",
    "\\Longrightarrow \\frac{A^2 a^3}{12} & = & 1 \\\\\n",
    "\\Longrightarrow A & = & 2 \\sqrt{\\frac{3}{a^3}}\n",
    "\\end{eqnarray}\n",
    "$$"
   ]
  },
  {
   "cell_type": "markdown",
   "metadata": {},
   "source": [
    "Now we'll plot the wavefunction taking $a = 1$."
   ]
  },
  {
   "cell_type": "code",
   "execution_count": 4,
   "metadata": {},
   "outputs": [],
   "source": [
    "a = 1\n",
    "A = 2 * np.sqrt(3 / a**3)\n",
    "X = np.linspace(0, a, num=1000)\n",
    "psi = np.zeros_like(X)\n",
    "psi[X < a / 2] = A * X[X < a / 2]\n",
    "psi[X >= a / 2] = A * (a - X[X >= a / 2])"
   ]
  },
  {
   "cell_type": "code",
   "execution_count": 5,
   "metadata": {},
   "outputs": [
    {
     "data": {
      "image/png": "[encoded data removed]",
      "text/plain": [
       "<Figure size 432x288 with 1 Axes>"
      ]
     },
     "metadata": {
      "needs_background": "light"
     },
     "output_type": "display_data"
    }
   ],
   "source": [
    "plt.plot(X, psi, c='k')\n",
    "plt.xlabel(r'$x$')\n",
    "plt.ylabel(r'$\\Psi(x, 0)$');"
   ]
  },
  {
   "cell_type": "markdown",
   "metadata": {},
   "source": [
    "## Part b.\n",
    "\n",
    "We have from eq. 2.36 that\n",
    "\n",
    "$$\n",
    "\\Psi(x, t) = \\sum_{n = 1}^{\\infty} c_n \\sqrt{\\frac{2}{a}} \\sin \\left( \\frac{n\\pi}{a} x \\right) e^{-i\\frac{n^2\\pi^2\\hbar}{2ma^2}t},\n",
    "$$\n",
    "\n",
    "where from eq. 2.37 we have\n",
    "\n",
    "$$\n",
    "c_n = \\sqrt{\\frac{2}{a}} \\int_0^a \\sin \\left( \\frac{n \\pi}{a} x \\right) \\Psi(x, 0) \\, dx.\n",
    "$$\n",
    "\n",
    "Substituting in $\\Psi(x, 0)$ yields\n",
    "\n",
    "$$\n",
    "\\begin{eqnarray}\n",
    "c_n & = & \\frac{2 \\sqrt{6}}{a^2} \\left[ \\int_0^{\\frac{a}{2}} \\sin \\left( \\frac{n \\pi}{a} x \\right) x \\, dx + \\int_{\\frac{a}{2}}^a \\sin \\left( \\frac{n\\pi}{a} x \\right) (a - x) \\, dx \\right] \\\\\n",
    "& = & \\frac{2\\sqrt{6}}{a^2} \\left[ \\left(\\frac{a}{n\\pi} \\right)^2 \\left( \\sin \\left( \\frac{n\\pi}{a} x \\right) - \\frac{n\\pi}{a} x \\cos \\left( \\frac{n\\pi}{a} x \\right) \\right) \\right]_0^{\\frac{a}{2}}\n",
    " - \\left[\\frac{a^2}{n\\pi} \\cos \\left( \\frac{n\\pi}{a} x \\right)\n",
    " - \\left(\\frac{a}{n\\pi}\\right)^2 \\left( \\sin \\left( \\frac{n\\pi}{a} x \\right) - \\frac{n\\pi}{a} x \\cos \\left(\\frac{n\\pi}{a} x \\right)\\right) \\right]_{\\frac{a}{2}}^a \\\\\n",
    "& = & \\frac{2\\sqrt{6}}{a^2} \\left[\\left(\\frac{a}{n\\pi}\\right)^2 \\left( \\sin \\left( \\frac{n\\pi}{2} \\right) - \\frac{n\\pi}{2} \\cos \\left(\\frac{n\\pi}{2} \\right)\\right) - \\frac{a^2}{n\\pi} \\left( \\cos(n\\pi) - \\cos \\left( \\frac{n\\pi}{2} \\right) \\right) - \\left(\\frac{a}{n\\pi}\\right)^2 \\left( \\sin(n\\pi) - \\sin \\left(\\frac{n\\pi}{2} \\right) - n\\pi \\cos(n\\pi) + \\frac{1}{2} n\\pi \\cos \\left( \\frac{1}{2} n\\pi \\right) \\right) \\right] \\\\\n",
    "\\end{eqnarray}\n",
    "$$\n"
   ]
  },
  {
   "cell_type": "markdown",
   "metadata": {},
   "source": [
    "Here we must separate out the cases of even and odd $n$:\n",
    "\n",
    "$$\n",
    "c_n = \\begin{cases}\n",
    " \\frac{2\\sqrt{6}}{a^2} \\left[\\left(\\frac{a}{n\\pi}\\right)^2 \\left(-\\frac{n\\pi}{2}\\right)(-1)^{\\frac{n}{2}} - \\frac{a^2}{n\\pi} \\left(1 - (-1)^{\\frac{n}{2}}\\right) - \\left(\\frac{a}{n\\pi}\\right)^2 \\left(-n\\pi + \\frac{n\\pi}{2} (-1)^{\\frac{n}{2}}\\right)\\right], & n \\; \\textrm{even} \\\\\n",
    " \\frac{2\\sqrt{6}}{a^2} \\left[ \\left(\\frac{a}{n\\pi}\\right)^2\\left(-1\\right)^{\\frac{1}{2}(n-1)} - \\frac{a^2}{n\\pi}(-1)-\\left(\\frac{a}{n\\pi}\\right)^2\\left(-(-1)^{\\frac{1}{2}(n-1)} + n\\pi\\right)\\right] & n \\; \\textrm{odd} \\\\\n",
    "\\end{cases}\n",
    "$$"
   ]
  },
  {
   "cell_type": "markdown",
   "metadata": {},
   "source": [
    "Simplifying,\n",
    "\n",
    "$$\n",
    "c_n = \\begin{cases}\n",
    "\\frac{2\\sqrt{6}}{n\\pi} \\left[-(-1)^{n/2} + 1 - 1 + (-1)^{n/2} \\right], & n \\; \\textrm{even} \\\\\n",
    "\\frac{2\\sqrt{6}}{n\\pi} \\left[ \\frac{(-1)^{\\frac{1}{2}(n - 1)}}{n\\pi} + 1 + \\frac{(-1)^{\\frac{1}{2}(n-1)}}{n\\pi} - 1 \\right], & n \\; \\textrm{odd}\n",
    "\\end{cases}\n",
    "$$"
   ]
  },
  {
   "cell_type": "markdown",
   "metadata": {},
   "source": [
    "This finally becomes\n",
    "\n",
    "$$\n",
    "c_n = \\begin{cases}\n",
    "0, & n \\; \\textrm{even} \\\\\n",
    "(-1)^{\\frac{1}{2}(n - 1)} \\frac{2\\sqrt{6}}{(n\\pi)^2}, & n \\; \\textrm{odd}\n",
    "\\end{cases}\n",
    "$$"
   ]
  },
  {
   "cell_type": "markdown",
   "metadata": {},
   "source": [
    "Putting this all together, we have\n",
    "\n",
    "$$\n",
    "\\Psi(x, t) = \\sum_{n = 1 \\\\ n \\; \\textrm{odd}}^{\\infty} (-1)^{\\frac{1}{2}(n-1)} \\frac{4}{(n\\pi)^2} \\sqrt{\\frac{3}{a}} \\sin \\left( \\frac{n\\pi}{a} x \\right) e^{-i \\frac{n^2 \\pi^2 \\hbar}{2ma^2}t}\n",
    "$$"
   ]
  },
  {
   "cell_type": "markdown",
   "metadata": {},
   "source": [
    "## Part c.\n",
    "\n",
    "The probability that a measurement of the particle's energy will yield $E_1$ is\n",
    "\n",
    "$$\n",
    "\\begin{eqnarray}\n",
    "P(E = E_1) & = & |c_1|^2 \\\\\n",
    "& = & \\left(\\frac{2\\sqrt{6}}{\\pi^2}\\right)^2 \\\\\n",
    "& = & \\frac{24}{\\pi^4}\n",
    "\\end{eqnarray}\n",
    "$$"
   ]
  },
  {
   "cell_type": "code",
   "execution_count": 6,
   "metadata": {
    "scrolled": true
   },
   "outputs": [
    {
     "data": {
      "text/plain": [
       "0.2463835741124241"
      ]
     },
     "execution_count": 6,
     "metadata": {},
     "output_type": "execute_result"
    }
   ],
   "source": [
    "24 / np.pi**4"
   ]
  },
  {
   "cell_type": "markdown",
   "metadata": {},
   "source": [
    "## Part d.\n",
    "\n",
    "The expectation value of the energy is\n",
    "\n",
    "$$\n",
    "\\begin{eqnarray}\n",
    "\\langle H \\rangle & = & \\sum_{n=1\\\\n \\; \\textrm{odd}}^{\\infty} \\frac{24}{(n\\pi)^4} (-1)^{n-1} \\frac{n^2 \\pi^2 \\hbar^2}{2ma^2} \\\\\n",
    "& = & \\sum_{n=1\\\\n \\; \\textrm{odd}}^{\\infty} (-1)^{n-1} \\frac{12 \\hbar^2}{n^2\\pi^2 ma^2} \\\\\n",
    "& = & \\frac{12 \\hbar^2}{ma^2 \\pi^2} \\sum_{n=1\\\\n \\; \\textrm{odd}}^{\\infty} \\frac{(-1)^{n-1}}{n^2} \\\\\n",
    "& = & \\frac{12\\hbar^2}{ma^2\\pi^2} \\left(\\frac{\\pi^2}{8}\\right) \\\\\n",
    "& = & \\frac{3}{2} \\frac{\\hbar^2}{ma^2}\n",
    "\\end{eqnarray}\n",
    "$$"
   ]
  }
 ],
 "metadata": {
  "kernelspec": {
   "display_name": "Python 3",
   "language": "python",
   "name": "python3"
  },
  "language_info": {
   "codemirror_mode": {
    "name": "ipython",
    "version": 3
   },
   "file_extension": ".py",
   "mimetype": "text/x-python",
   "name": "python",
   "nbconvert_exporter": "python",
   "pygments_lexer": "ipython3",
   "version": "3.8.5"
  }
 },
 "nbformat": 4,
 "nbformat_minor": 4
}
