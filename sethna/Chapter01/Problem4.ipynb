{
 "cells": [
  {
   "cell_type": "markdown",
   "metadata": {},
   "source": [
    "# Problem 4"
   ]
  },
  {
   "cell_type": "markdown",
   "metadata": {},
   "source": [
    "By converting the sum to an integral (and centering each bin on an integer so that the range goes from 1/2 to $n$), we have\n",
    "\n",
    "$$\n",
    "\\begin{eqnarray}\n",
    "\\log n! & = & \\sum_{k = 1}^n \\log k \\\\\n",
    " & \\simeq & \\int_{1/2}^{n + 1/2} \\log k \\, dk \\\\\n",
    " & \\simeq & \\left. k \\log k \\right|_{1/2}^{n + 1/2} - \\int_{1/2}^{n + 1/2} \\, dk \\\\\n",
    " & \\simeq & \\left(n + \\frac{1}{2} \\right) \\log \\left( n + \\frac{1}{2} \\right) - n - \\frac{1}{2} \\log \\frac{1}{2}.\n",
    "\\end{eqnarray}\n",
    "$$"
   ]
  },
  {
   "cell_type": "markdown",
   "metadata": {},
   "source": [
    "Taking the log of the more precise formula,\n",
    "\n",
    "$$\n",
    "\\begin{eqnarray}\n",
    "\\log \\left[ \\left(\\frac{n}{e}\\right)^n \\sqrt{2 \\pi n} \\right] & = & n \\log n - n + \\frac{1}{2} \\log(2 \\pi n) \\\\\n",
    " & = & \\left( n + \\frac{1}{2} \\right) \\log n - n + \\frac{1}{2} \\log(2 \\pi) \\\\\n",
    "\\end{eqnarray}\n",
    "$$"
   ]
  },
  {
   "cell_type": "markdown",
   "metadata": {},
   "source": [
    "The difference between the original formula and this, $\\Delta_1$ is\n",
    "\n",
    "$$\n",
    "\\begin{eqnarray}\n",
    "\\Delta_1 & = & \\left( n + \\frac{1}{2} \\right) \\log \\left( n + \\frac{1}{2} \\right) - n - \\frac{1}{2} \\log \\left( \\frac{1}{2} \\right) - \\left( n + \\frac{1}{2} \\right) \\log n + n - \\frac{1}{2} \\log (2 \\pi) \\\\\n",
    " & = & \\left( n + \\frac{1}{2} \\right) \\left[ \\log \\left( n + \\frac{1}{2} \\right) - \\log n \\right] - \\frac{1}{2} \\log \\pi \\\\\n",
    " & = & \\left( n + \\frac{1}{2} \\right) \\log \\left( 1 + \\frac{1}{2n} \\right) - \\frac{1}{2} \\log \\pi \\\\\n",
    " & \\simeq & \\frac{1}{2} + \\frac{1}{4n} - \\frac{1}{2} \\log \\pi \\\\\n",
    "\\lim_{n \\to \\infty} \\Delta_1 & \\simeq & \\frac{1}{2} \\left(1 - \\log \\pi \\right).\n",
    "\\end{eqnarray}\n",
    "$$"
   ]
  },
  {
   "cell_type": "markdown",
   "metadata": {},
   "source": [
    "Now taking the log of the next approximation,\n",
    "\n",
    "$$\n",
    "\\log \\left( \\sqrt{\\frac{2 \\pi}{n + 1}} e^{-(n + 1)} (n + 1)^{n + 1} \\right) = \\frac{1}{2} \\log(2 \\pi) - \\frac{1}{2} \\log (n + 1) - (n + 1) + (n + 1) \\log(n + 1)\n",
    "$$"
   ]
  },
  {
   "cell_type": "markdown",
   "metadata": {},
   "source": [
    "The difference between this and the more precise formula, $\\Delta_2$, is\n",
    "\n",
    "$$\n",
    "\\begin{eqnarray}\n",
    "\\Delta_2 & = & -\\frac{1}{2} \\log(n + 1) - 1 + (n + 1) \\log(n + 1) - \\left( n + \\frac{1}{2} \\right) \\log n \\\\\n",
    " & = & \\left( n + \\frac{1}{2} \\right) \\log \\left(1 + \\frac{1}{n} \\right) - 1 \\\\\n",
    " & = & \\left( n + \\frac{1}{2} \\right) \\log \\left( 1 + \\frac{1}{n} \\right) - 1 \\\\\n",
    " & \\simeq & \\frac{1}{2n} \\\\\n",
    "\\lim_{n \\to \\infty} \\Delta_2 & = & 0.\n",
    "\\end{eqnarray}\n",
    "$$"
   ]
  },
  {
   "cell_type": "code",
   "execution_count": null,
   "metadata": {},
   "outputs": [],
   "source": []
  }
 ],
 "metadata": {
  "kernelspec": {
   "display_name": "Python 3",
   "language": "python",
   "name": "python3"
  },
  "language_info": {
   "codemirror_mode": {
    "name": "ipython",
    "version": 3
   },
   "file_extension": ".py",
   "mimetype": "text/x-python",
   "name": "python",
   "nbconvert_exporter": "python",
   "pygments_lexer": "ipython3",
   "version": "3.6.5"
  }
 },
 "nbformat": 4,
 "nbformat_minor": 2
}
