{
 "cells": [
  {
   "cell_type": "markdown",
   "metadata": {},
   "source": [
    "# Problem 1.14\n",
    "\n",
    "Suppose $\\mathbb{P}(A) = 0$.  Then for any $B$,\n",
    "\n",
    "$$\n",
    "\\mathbb{P}(AB) = \\mathbb{P}(B | A) \\mathbb{P}(A) = 0\n",
    "$$\n",
    "\n",
    "But $\\mathbb{P}(A) \\mathbb{P}(B) = 0$, so\n",
    "\n",
    "$$\n",
    "\\mathbb{P}(AB) = \\mathbb{P}(A) \\mathbb{P}(B)\n",
    "$$\n",
    "\n",
    "and $A$ is independent of any event.\n",
    "\n",
    "Now suppose $\\mathbb{P}(A) = 1$.\n",
    "\n",
    "$$\n",
    "\\begin{eqnarray}\n",
    "\\mathbb{P}(AB) & = & \\mathbb{P}(A) + \\mathbb{P}(B) - \\mathbb{P}(A \\cup B) \\\\\n",
    "& = & 1 + \\mathbb{P}(B) - \\left(1 - \\mathbb{P}(A^c B^c) \\right) \\\\\n",
    "& = & \\mathbb{P}(B) + \\mathbb{P}(B^c | A^c) \\mathbb{P}(A^c) \\\\\n",
    "& = & \\mathbb{P}(B) + \\mathbb{P}(B^c | A^c)\\left(1 - \\mathbb{P}(A)\\right) \\\\\n",
    "& = & \\mathbb{P}(B) \\\\\n",
    "& = & \\mathbb{P}(A) \\mathbb{P}(B)\n",
    "\\end{eqnarray}\n",
    "$$\n",
    "\n",
    "So $A$ is again independent of any event $B$.\n",
    "\n",
    "Now suppose that $A$ is indepednent of itself.  THis means\n",
    "\n",
    "$$\n",
    "\\mathbb{P}(AA) = \\mathbb{P}(A) \\mathbb{P}(A)\n",
    "$$\n",
    "\n",
    "But also\n",
    "\n",
    "$$\n",
    "\\mathbb{P}(AA) = \\mathbb{P}(A | A) \\mathbb{P}(A)\n",
    "$$\n",
    "\n",
    "and if $A$ is independent of itself then $\\mathbb{P}(A|A) = \\mathbb{P}(A) \\mathbb{P}(A)$.  So,\n",
    "\n",
    "$$\n",
    "\\begin{eqnarray}\n",
    "\\mathbb{P}(A) \\mathbb{P}(A) & = & \\mathbb{P}(A | A) \\mathbb{P}(A) \\\\\n",
    "& = & \\mathbb{P}(A) \\mathbb{P}(A) \\mathbb{P}(A)\n",
    "\\end{eqnarray}\n",
    "$$\n",
    "\n",
    "Now this equation can be satisfied if $\\mathbb{P}(A) = 0$.  But if $\\mathbb{P}(A) \\neq 0$, we can divide by $\\left[ \\mathbb{P}(A) \\right]^2$, which leaves $\\mathbb{P}(A) = 1$."
   ]
  }
 ],
 "metadata": {
  "kernelspec": {
   "display_name": "Python 3",
   "language": "python",
   "name": "python3"
  },
  "language_info": {
   "codemirror_mode": {
    "name": "ipython",
    "version": 3
   },
   "file_extension": ".py",
   "mimetype": "text/x-python",
   "name": "python",
   "nbconvert_exporter": "python",
   "pygments_lexer": "ipython3",
   "version": "3.8.10"
  }
 },
 "nbformat": 4,
 "nbformat_minor": 4
}
