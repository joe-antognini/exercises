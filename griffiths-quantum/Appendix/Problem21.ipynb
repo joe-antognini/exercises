{
 "cells": [
  {
   "cell_type": "markdown",
   "metadata": {},
   "source": [
    "## Problem A.21\n",
    "\n",
    "Because it is a polynomial, the characteristic equation may be factored as such:\n",
    "\n",
    "$$\n",
    "\\prod_{i = 1}^n (\\lambda_i - \\lambda) = 0\n",
    "$$\n",
    "\n",
    "Consider now the term without any powers of $\\lambda$.  This must be the $C_0$ term, which in the previous problem was found to be $\\textrm{det}{\\textbf{T})$.  This term is then\n",
    "\n",
    "$$\n",
    "\\begin{eqnarray}\n",
    "\\textrm{det}(\\textbf{T}) & = & C_0 \\\\\n",
    "& = & \\prod_{i = 1}^n \\lambda_i\n",
    "\\end{eqnarray}\n",
    "$$\n",
    "\n",
    "Now consider the $\\lambda^{n-1}$ term, given by the coefficient $C_{n-1}$.  In the previous problem this was found to be equal to $(-1)^{n-1} \\textrm{Tr}(\\textbf{T})$.  Isolating the $\\lambda^{n-1}$ terms of the factorized characteristic equation, we find\n",
    "\n",
    "$$\n",
    "\\begin{eqnarray}\n",
    "(-1)^{n-1} \\textrm{Tr}(\\textbf{T}) & = & C_{n-1} \\\\\n",
    "& = & (-1)^{n-1} \\sum_{i=1}^n \\lambda_i\n",
    "\\end{eqnarray}\n",
    "$$\n",
    "which implies that\n",
    "$$\n",
    "\\textrm{Tr}(\\textbf{T}) = \\sum_{i=1}^n \\lambda_i.\n",
    "$$"
   ]
  }
 ],
 "metadata": {
  "kernelspec": {
   "display_name": "Python 3",
   "language": "python",
   "name": "python3"
  },
  "language_info": {
   "codemirror_mode": {
    "name": "ipython",
    "version": 3
   },
   "file_extension": ".py",
   "mimetype": "text/x-python",
   "name": "python",
   "nbconvert_exporter": "python",
   "pygments_lexer": "ipython3",
   "version": "3.7.3"
  }
 },
 "nbformat": 4,
 "nbformat_minor": 2
}
