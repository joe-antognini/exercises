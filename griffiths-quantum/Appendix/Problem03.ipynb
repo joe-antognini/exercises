{
 "cells": [
  {
   "cell_type": "markdown",
   "metadata": {},
   "source": [
    "Invisible Latex commands are in this cell.\n",
    "\n",
    "$$\\newcommand{\\ket}[1]{\\left|{#1}\\right\\rangle}$$\n",
    "$$\\newcommand{\\bra}[1]{\\left\\langle{#1}\\right|}$$\n",
    "$$\\newcommand{\\braket}[2]{\\left\\langle{#1}\\middle|{#2}\\right\\rangle}$$\n",
    "$$\\newcommand{\\norm}[1]{\\left\\lVert#1\\right\\rVert}$$"
   ]
  },
  {
   "cell_type": "markdown",
   "metadata": {},
   "source": [
    "## Problem A.3\n",
    "\n",
    "We may write the vector $\\ket{\\alpha}$ as\n",
    "\n",
    "$$\n",
    "\\ket{\\alpha} = \\sum_i a_i \\ket{e_i}\n",
    "$$\n",
    "\n",
    "Now, suppose there were some other component representation in this basis.  Then we could write \n",
    "\n",
    "$$\n",
    "\\ket{\\alpha} = \\sum_i b_i \\ket{e_i}\n",
    "$$\n",
    "\n",
    "with $a_i \\neq b_i$ for some $i$.  But now consider the difference between these two representations:\n",
    "\n",
    "$$\n",
    "\\sum_i a_i \\ket{e_i} - \\sum_i b_i \\ket{e_i} = \\sum_i (a_i - b_i) \\ket{e_i} \\neq 0\n",
    "$$\n",
    "\n",
    "since by assumption there is some component that is different.  But we must have that this difference equals zero since $\\ket{\\alpha} - \\ket{\\alpha} = 0$ and the null vector has zeros in all components."
   ]
  }
 ],
 "metadata": {
  "kernelspec": {
   "display_name": "Python 3",
   "language": "python",
   "name": "python3"
  },
  "language_info": {
   "codemirror_mode": {
    "name": "ipython",
    "version": 3
   },
   "file_extension": ".py",
   "mimetype": "text/x-python",
   "name": "python",
   "nbconvert_exporter": "python",
   "pygments_lexer": "ipython3",
   "version": "3.7.3"
  }
 },
 "nbformat": 4,
 "nbformat_minor": 2
}
