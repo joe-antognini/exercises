{
 "cells": [
  {
   "cell_type": "markdown",
   "id": "0e7f090d",
   "metadata": {},
   "source": [
    "# Problem 2.21"
   ]
  },
  {
   "cell_type": "markdown",
   "id": "10cd8b99",
   "metadata": {},
   "source": [
    "## Part a.\n",
    "\n",
    "$$\n",
    "\\begin{eqnarray}\n",
    "A^2 \\int_{-\\infty}^{\\infty} e^{-2a |x|} \\, dx \\\\\n",
    "& = & 2 A^2 \\int_0^{\\infty} e^{-2ax} \\, dx \\\\\n",
    "& = & -\\frac{2A^2}{2a} e^{-2ax} \\, \\bigg|_0^{\\infty} \\\\\n",
    "& = & \\frac{A^2}{a} \\\\\n",
    "& = & 1\n",
    "\\end{eqnarray}\n",
    "$$\n",
    "\n",
    "$$\n",
    "\\implies A = \\sqrt{a}\n",
    "$$"
   ]
  },
  {
   "cell_type": "markdown",
   "id": "58264524",
   "metadata": {},
   "source": [
    "## Part b.\n",
    "\n",
    "$$\n",
    "\\begin{eqnarray}\n",
    "\\phi(k) & = & \\frac{1}{\\sqrt{2\\pi}} \\int_{-\\infty}^{\\infty} \\sqrt{a} e^{-a|x|} e^{-ikx} \\, dx \\\\\n",
    "& = & \\sqrt{\\frac{a}{2\\pi}} \\int_{-\\infty}^{\\infty} e^{-a|x| - ikx} \\, dx \\\\\n",
    "& = & \\sqrt{\\frac{a}{2\\pi}} \\left[ \\int_0^{\\infty} e^{-(a+ik)x} \\, dx + \\int_{-\\infty}^0 e^{(a - ik)x} \\, dx \\right] \\\\\n",
    "& = & \\sqrt{\\frac{a}{2\\pi}} \\left[-\\frac{1}{a+ik} e^{-(a + ik)x} \\, \\bigg|_0^{\\infty} + \\frac{1}{a-ik} e^{(a-ik)x} \\, \\bigg|_{-\\infty}^0 \\right] \\\\\n",
    "& = & \\sqrt{\\frac{a}{2\\pi}} \\left( \\frac{1}{a+ik} + \\frac{1}{a - ik} \\right) \\\\\n",
    "& = & \\sqrt{\\frac{a}{2\\pi}} \\left( \\frac{a - ik + a + ik}{a^2 + k^2} \\right) \\\\\n",
    "& = & \\sqrt{\\frac{a}{2\\pi}} \\left( \\frac{2a}{a^2 + k^2} \\right) \\\\\n",
    "& = & \\sqrt{\\frac{2a^3}{\\pi}} \\frac{1}{a^2 + k^2}\n",
    "\\end{eqnarray}\n",
    "$$"
   ]
  },
  {
   "cell_type": "markdown",
   "id": "e66e8e9e",
   "metadata": {},
   "source": [
    "## Part c.\n",
    "\n",
    "$$\n",
    "\\begin{eqnarray}\n",
    "\\Psi(x, t) & = & \\frac{1}{\\sqrt{2\\pi}} \\int_{-\\infty}^{\\infty} \\sqrt{\\frac{2a^3}{\\pi}} \\frac{1}{a^2 + k^2} e^{i\\left(kx - \\frac{\\hbar k^2}{2m} t \\right)} \\, dk \\\\\n",
    "& = & \\left(\\frac{a}{\\pi} \\right)^{\\frac{3}{2}} \\int_{-\\infty}^{\\infty} \\frac{e^{i\\left(xk - \\frac{\\hbar k^2}{2m} t\\right)}}{a^2 + k^2} \\, dk\n",
    "\\end{eqnarray}\n",
    "$$"
   ]
  },
  {
   "cell_type": "markdown",
   "id": "53551449",
   "metadata": {},
   "source": [
    "## Part d.\n",
    "\n",
    "$$\n",
    "\\lim_{a\\to\\infty} \\Psi(x, t) \\simeq \\frac{1}{\\sqrt{\\pi^3 a}} \\int_{-\\infty}^{\\infty} e^{i \\left(kx - \\frac{\\hbar k^2}{2m} t \\right)} \\, dk\n",
    "$$"
   ]
  },
  {
   "cell_type": "markdown",
   "id": "bfbf2942",
   "metadata": {},
   "source": [
    "In the case of large $a$ the wavefunction $\\Psi$ is very narrow."
   ]
  },
  {
   "cell_type": "markdown",
   "id": "afa061b1",
   "metadata": {},
   "source": [
    "$$\n",
    "\\lim_{a\\to 0} \\Psi(x, t) \\simeq \\left(\\frac{a}{\\pi}\\right)^{\\frac{3}{2}} \\int_{-\\infty}^{\\infty} \\frac{e^{i\\left(xk-\\frac{\\hbar k^2}{2m}t\\right)}}{k^2} \\, dk\n",
    "$$"
   ]
  },
  {
   "cell_type": "markdown",
   "id": "0df9511c",
   "metadata": {},
   "source": [
    "So the wavefunction $\\Psi$ is broad."
   ]
  }
 ],
 "metadata": {
  "kernelspec": {
   "display_name": "Python 3 (ipykernel)",
   "language": "python",
   "name": "python3"
  },
  "language_info": {
   "codemirror_mode": {
    "name": "ipython",
    "version": 3
   },
   "file_extension": ".py",
   "mimetype": "text/x-python",
   "name": "python",
   "nbconvert_exporter": "python",
   "pygments_lexer": "ipython3",
   "version": "3.10.6"
  }
 },
 "nbformat": 4,
 "nbformat_minor": 5
}
