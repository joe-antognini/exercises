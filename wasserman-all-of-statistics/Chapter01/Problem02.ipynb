{
 "cells": [
  {
   "cell_type": "markdown",
   "metadata": {},
   "source": [
    "# Problem 1.2\n",
    "\n",
    "The first statement to prove is that $\\mathbb{P}(\\emptyset) = 0$.  Note that $\\emptyset$ and $\\Omega$ are disjoint.  By the third axiom \n",
    "\n",
    "$$\n",
    "\\mathbb{P}(\\emptyset \\cup \\Omega) = \\mathbb{P}(\\emptyset) + \\mathbb{P}(\\Omega)\n",
    "$$\n",
    "\n",
    "Now $\\emptyset \\cup \\Omega = \\Omega$ so this equation reduces to\n",
    "\n",
    "$$\n",
    "\\mathbb{P}(\\emptyset) = 0.\n",
    "$$\n",
    "\n",
    "----\n",
    "\n",
    "Next we would like to prove that $A \\subset B \\Longrightarrow \\mathbb{P}(A) \\leq \\mathbb{P}(B)$.\n",
    "\n",
    "Let $C \\equiv B - A$.  Then $C$ and $A$ are disjoint and $A \\cup C = B$.  By the third axiom\n",
    "\n",
    "$$\n",
    "\\begin{eqnarray}\n",
    "\\mathbb{P}(A \\cup C) & = & \\mathbb{P}(A) + \\mathbb{P}(C) \\\\\n",
    "\\Longrightarrow \\mathbb{P}(B) & = & \\mathbb{P}(A) + \\mathbb{P}(C) \\\\\n",
    "\\end{eqnarray}\n",
    "$$\n",
    "\n",
    "And because by the first axiom all probabilities are non-negative we must have that $\\mathbb{P}(B) \\geq \\mathbb{P}(A)$.\n",
    "\n",
    "----\n",
    "\n",
    "The third statement to prove is that $0 \\leq \\mathbb{P}(A) \\leq 1$.\n",
    "\n",
    "The first inequality comes immediately from the first axiom.  To show the second, consider $A$ and its complement $A^c$.  These two sets are by definition disjoint and $A \\cup A^c = \\Omega$.  By the third axiom\n",
    "\n",
    "$$\n",
    "\\begin{eqnarray}\n",
    "\\mathbb{P}(A \\cup A^c) & = & \\mathbb{P}(A) + \\mathbb{P}(A^c) \\\\\n",
    "\\Longrightarrow \\mathbb{P}(\\Omega) & = & \\mathbb{P}(A) + \\mathbb{P}(A^c) \\\\\n",
    "1 & = & \\mathbb{P}(A) + \\mathbb{P}(A^c) \\\\\n",
    "\\end{eqnarray}\n",
    "$$\n",
    "\n",
    "where we have invoked the second axiom in the last step.  We therefore have $\\mathbb{P}(A) = 1 - \\mathbb{P}(A^c)$.  Now by the first axiom we must have that $\\mathbb{P}(A) \\leq 1$.  Hence $0 \\leq \\mathbb{P}(A) \\leq 1$.\n",
    "\n",
    "----\n",
    "\n",
    "Now we would like to show that $\\mathbb{P}(A^c) = 1 - \\mathbb{P}(A)$.  We in fact showed this result as an intermediate step in the proof of the previous statement.\n",
    "\n",
    "----\n",
    "\n",
    "Finally we would like to show that\n",
    "\n",
    "$$\n",
    "A \\cap B = \\emptyset \\Longrightarrow \\mathbb{P}(A \\cup B) = \\mathbb{P}(A) + \\mathbb{P}(B).\n",
    "$$\n",
    "\n",
    "This result simply follows from the third axiom when we note that $A \\cap B = \\emptyset$ implies that $A$ and $B$ are disjoint."
   ]
  }
 ],
 "metadata": {
  "kernelspec": {
   "display_name": "Python 3",
   "language": "python",
   "name": "python3"
  },
  "language_info": {
   "codemirror_mode": {
    "name": "ipython",
    "version": 3
   },
   "file_extension": ".py",
   "mimetype": "text/x-python",
   "name": "python",
   "nbconvert_exporter": "python",
   "pygments_lexer": "ipython3",
   "version": "3.8.5"
  }
 },
 "nbformat": 4,
 "nbformat_minor": 4
}
