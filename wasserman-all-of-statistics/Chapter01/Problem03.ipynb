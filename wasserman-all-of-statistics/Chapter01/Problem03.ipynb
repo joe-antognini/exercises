{
 "cells": [
  {
   "cell_type": "markdown",
   "metadata": {},
   "source": [
    "# Problem 1.3"
   ]
  },
  {
   "cell_type": "markdown",
   "metadata": {},
   "source": [
    "## Part a.\n",
    "\n",
    "We have that $X \\in Y$ if $\\forall x \\in X \\implies x \\in Y$.\n",
    "\n",
    "Consider sets $B_n$ and $B_{n+1}$.\n",
    "\n",
    "$$\n",
    "\\begin{eqnarray}\n",
    "B_n & = & \\bigcup_{i = n}^{\\infty} A_i \\\\\n",
    "& = & A_n \\cup \\left( \\bigcup_{i = n + 1}^{\\infty} A_i \\right) \\\\\n",
    "& = & A_n \\cup B_{n + 1}\n",
    "\\end{eqnarray}\n",
    "$$"
   ]
  },
  {
   "cell_type": "markdown",
   "metadata": {},
   "source": [
    "Hence $\\omega \\in B_{n+1} \\implies \\omega \\in B_n$, so $B_{n+1} \\subset B_n$ for any $n$."
   ]
  },
  {
   "cell_type": "markdown",
   "metadata": {},
   "source": [
    "Now consider sets $C_n$ and $C_{n+1}$:\n",
    "\n",
    "$$\n",
    "\\begin{eqnarray}\n",
    "C_n & \\equiv & \\bigcap_{i = n}^{\\infty} A_i \\\\\n",
    "& = & A_n \\cap \\left( \\bigcap_{i = n + 1}^{\\infty} A_i \\right) \\\\\n",
    "& = & A_n \\cap C_{n+1}\n",
    "\\end{eqnarray}\n",
    "$$"
   ]
  },
  {
   "cell_type": "markdown",
   "metadata": {},
   "source": [
    "The definition of intersection is that $\\omega \\in C_n \\implies \\omega \\in A_n \\, \\& \\, \\omega \\in C_{n+1}$.  Hence $C_n \\subset C_{n+1}$."
   ]
  },
  {
   "cell_type": "markdown",
   "metadata": {},
   "source": [
    "## Part b.\n",
    "\n",
    "Let's first show that $\\omega \\in \\bigcap_{n=1}^{\\infty} B_n \\implies \\omega \\in A_n$ for an infinite number of $n$.  To do this, suppose it were not true and $\\omega \\in A_n$ for a finite number of $n$.  This means there would have to be a largest $n$, say $M$.  Hence $\\omega \\notin A_n \\, \\forall n > M$.  But by our condition\n",
    "\n",
    "$$\n",
    "\\omega \\in \\bigcap_{n=1}^{\\infty} B_n \\implies \\omega \\in \\bigcap_{n=1}^{\\infty} \\left( \\bigcup_{i=n}^{\\infty} A_i \\right)\n",
    "$$"
   ]
  },
  {
   "cell_type": "markdown",
   "metadata": {},
   "source": [
    "Hence for any $n$ we must have that $\\omega \\in \\bigcup_{i=n}^{\\infty} A_i$.  Pick some $n > M$, say $n = M + 1$.  Then $\\omega \\in \\bigcup_{i=M+1}^{\\infty} A_i$.  Then there must be some $n > M$ for which $\\omega \\in A_n$, in contradiction to our previous result that $\\omega \\notin A_n \\, \\forall n > M$.  Our assumption that $\\omega \\in A_n$ for a finite number of $n$ must therefore be false and so $\\omega \\in A_n$ for an infinite number of $n$."
   ]
  },
  {
   "cell_type": "markdown",
   "metadata": {},
   "source": [
    "Now we go in the other direction.  We now have by assumption that $\\omega \\in A_n$ for an infinite number of $n$.  Another way of stating this is that $\\forall n, \\exists m > n \\ni \\omega \\in A_m$.  Now consider an arbitrary $B_n$.  By definition\n",
    "\n",
    "$$\n",
    "B_n \\equiv \\bigcup_{i = n}^{\\infty} A_i\n",
    "$$\n",
    "\n",
    "Hence if $\\omega \\in A_i$ for any $i \\geq n$, then $\\omega \\in B_n$.  But this is precisely our assumption, so $\\forall n, \\omega \\in B_n$.  And this means that\n",
    "\n",
    "$$\n",
    "\\omega \\in \\bigcap_{i = 1}^{\\infty} B_i\n",
    "$$"
   ]
  },
  {
   "cell_type": "markdown",
   "metadata": {},
   "source": [
    "## Part c.\n",
    "\n",
    "We will first show that $\\omega \\in \\bigcup_{n=1}^{\\infty} C_n$ implies that $\\omega \\in A_n$ forall but a finite number of $n$.  One way to formalize this is that $\\exists m \\ni \\forall n > m, \\omega \\in A_n$.  Now since $\\omega \\in \\bigcup_{n=1}^{\\infty} C_n$, we must have that $\\omega \\in C_n$ for at least one valeu of $n$.  Call the smallest of these $m$.  So \\omega \\in C_m$, for some $m$.  This implies that\n",
    "\n",
    "$$\n",
    "\\omega \\in \\bigcap_{n=m}^{\\infty} A_n\n",
    "$$\n",
    "\n",
    "So $\\omega \\in A_n \\forall n > m$ as required."
   ]
  },
  {
   "cell_type": "markdown",
   "metadata": {},
   "source": [
    "Going the other way, we now assume that $\\exists m \\ni \\forall n > m, \\omega \\in A_n$.  By the same logic this implies that\n",
    "\n",
    "$$\n",
    "\\omega \\in \\bigcap_{n=m}^{\\infty} A_n \\implies \\omega \\in C_m\n",
    "$$\n",
    "\n",
    "So\n",
    "\n",
    "$$\n",
    "\\omega \\in \\bigcup_{n=1}^{\\infty} C_n\n",
    "$$"
   ]
  }
 ],
 "metadata": {
  "kernelspec": {
   "display_name": "Python 3",
   "language": "python",
   "name": "python3"
  },
  "language_info": {
   "codemirror_mode": {
    "name": "ipython",
    "version": 3
   },
   "file_extension": ".py",
   "mimetype": "text/x-python",
   "name": "python",
   "nbconvert_exporter": "python",
   "pygments_lexer": "ipython3",
   "version": "3.8.10"
  }
 },
 "nbformat": 4,
 "nbformat_minor": 4
}
