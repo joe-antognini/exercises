{
 "cells": [
  {
   "cell_type": "markdown",
   "metadata": {},
   "source": [
    "# Problem 1.11\n",
    "\n",
    "We wish to show that\n",
    "\n",
    "$$\n",
    "\\mathbb{P}(AB) = \\mathbb{P}(A) \\mathbb{P}(B) \\implies \\mathbb{P}(A^c B^c) = \\mathbb{P}(A^c) \\mathbb{P}(B^c)\n",
    "$$\n",
    "\n",
    "Note that\n",
    "\n",
    "$$\n",
    "\\begin{eqnarray}\n",
    "\\mathbb{P}(A^c B^c) & = & \\mathbb{P}\\left((A \\cup B)^c\\right) \\\\\n",
    "& = & 1 - \\mathbb{P}(A \\cup B) \\\\\n",
    "& = & 1 - \\left( \\mathbb{P}(A) + \\mathbb{P}(B) - \\mathbb{P}(AB) \\right) \\\\\n",
    "& = & 1 - \\mathbb{P}(A) - \\mathbb{P}(B) + \\mathbb{P}(A) \\mathbb{P}(B) \\\\\n",
    "& = & \\left( 1 - \\mathbb{P}(A) \\right) \\left( 1 - \\mathbb{P}(B) \\right) \\\\\n",
    "& = & \\mathbb{P}(A^c) \\mathbb{P}(B^c)\n",
    "\\end{eqnarray}\n",
    "$$"
   ]
  }
 ],
 "metadata": {
  "kernelspec": {
   "display_name": "Python 3",
   "language": "python",
   "name": "python3"
  },
  "language_info": {
   "codemirror_mode": {
    "name": "ipython",
    "version": 3
   },
   "file_extension": ".py",
   "mimetype": "text/x-python",
   "name": "python",
   "nbconvert_exporter": "python",
   "pygments_lexer": "ipython3",
   "version": "3.8.10"
  }
 },
 "nbformat": 4,
 "nbformat_minor": 4
}
