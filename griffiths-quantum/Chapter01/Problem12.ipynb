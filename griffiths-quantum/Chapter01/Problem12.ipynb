{
 "cells": [
  {
   "cell_type": "markdown",
   "metadata": {},
   "source": [
    "# Problem 1.12"
   ]
  },
  {
   "cell_type": "code",
   "execution_count": 2,
   "metadata": {},
   "outputs": [],
   "source": [
    "import matplotlib.pyplot as plt\n",
    "import numpy as np"
   ]
  },
  {
   "cell_type": "markdown",
   "metadata": {},
   "source": [
    "## Part a.\n",
    "\n",
    "We have that $x = r \\cos \\theta$.  To change variables in a probability distribution we take advantage of conservation of probability:\n",
    "\n",
    "$$\n",
    "| \\rho(x) \\, dx | = | \\rho(\\theta) \\, d\\theta |\n",
    "$$\n",
    "\n",
    "This implies that\n",
    "\n",
    "$$\n",
    "\\rho(x) = \\rho(\\theta) \\, \\left| \\frac{d\\theta}{dx} \\right|\n",
    "$$"
   ]
  },
  {
   "cell_type": "markdown",
   "metadata": {},
   "source": [
    "Since $\\theta = \\arccos \\frac{x}{r}$, we have\n",
    "\n",
    "$$\n",
    "\\frac{d\\theta}{dx} = -\\frac{1}{r \\sqrt{1 - \\left( \\frac{x}{r}\\right)^2}}.\n",
    "$$"
   ]
  },
  {
   "cell_type": "markdown",
   "metadata": {},
   "source": [
    "And so\n",
    "\n",
    "$$\n",
    "\\rho(x) = \\frac{1}{\\pi r \\sqrt{1 - \\left( \\frac{x}{r} \\right)^2}}\n",
    "$$\n",
    "\n",
    "over the range $-r < x < r$ and zero elsewhere."
   ]
  },
  {
   "cell_type": "code",
   "execution_count": 9,
   "metadata": {},
   "outputs": [],
   "source": [
    "r = 1\n",
    "X = np.linspace(-2 * r, 2 * r, num=250)\n",
    "X0 = X[(X > -r) & (X < r)]\n",
    "rho = np.zeros_like(X)\n",
    "rho[(X > -r) & (X < r)] = 1 / (np.pi * r * np.sqrt(1 - (X0 / r)**2))"
   ]
  },
  {
   "cell_type": "code",
   "execution_count": 10,
   "metadata": {},
   "outputs": [
    {
     "data": {
      "image/png": "[encoded data removed]",
      "text/plain": [
       "<Figure size 432x288 with 1 Axes>"
      ]
     },
     "metadata": {
      "needs_background": "light"
     },
     "output_type": "display_data"
    }
   ],
   "source": [
    "plt.plot(X, rho, linewidth=2, c='k')\n",
    "plt.xlabel(r'$x$')\n",
    "plt.ylabel(r'$\\rho(x)$');"
   ]
  },
  {
   "cell_type": "markdown",
   "metadata": {},
   "source": [
    "## Part b.\n",
    "\n",
    "$$\n",
    "\\begin{eqnarray}\n",
    "\\langle x \\rangle & = & \\frac{1}{\\pi r} \\int_{-r}^r \\frac{x}{\\sqrt{1 - \\left( \\frac{x}{r} \\right)^2}} \\, dx \\\\\n",
    "& = & 0\n",
    "\\end{eqnarray}\n",
    "$$"
   ]
  },
  {
   "cell_type": "markdown",
   "metadata": {},
   "source": [
    "$$\n",
    "\\begin{eqnarray}\n",
    "\\langle x^2 \\rangle & = & \\frac{1}{\\pi r} \\int_{-r}^r \\frac{x^2}{\\sqrt{1 - \\left( \\frac{x}{r} \\right)^2}} \\, dx \\\\\n",
    "& = & \\frac{r}{2 \\pi} \\left[ r \\arcsin \\left( \\frac{x}{r} \\right) - x \\sqrt{1 - \\left( \\frac{x}{r} \\right)^2 }\\right]_{-r}^r \\\\\n",
    "& = & \\frac{r^2}{2} \\\\\n",
    "\\end{eqnarray}\n",
    "$$"
   ]
  },
  {
   "cell_type": "markdown",
   "metadata": {},
   "source": [
    "$$\n",
    "\\sigma = \\frac{r}{\\sqrt{2}}\n",
    "$$"
   ]
  },
  {
   "cell_type": "markdown",
   "metadata": {},
   "source": [
    "in Problem 1.10 we showed that $\\langle \\cos \\theta \\rangle = 0$.  Since $x = r \\cos \\theta$ we shuold expect that $\\langle x \\rangle = 0$ as well.  Similalry, we have $\\langle x^2 \\rangle = r^2 \\langle \\cos^2 \\theta \\rangle = \\frac{r^2}{2}$."
   ]
  }
 ],
 "metadata": {
  "kernelspec": {
   "display_name": "Python 3",
   "language": "python",
   "name": "python3"
  },
  "language_info": {
   "codemirror_mode": {
    "name": "ipython",
    "version": 3
   },
   "file_extension": ".py",
   "mimetype": "text/x-python",
   "name": "python",
   "nbconvert_exporter": "python",
   "pygments_lexer": "ipython3",
   "version": "3.7.4"
  }
 },
 "nbformat": 4,
 "nbformat_minor": 2
}
