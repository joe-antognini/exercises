{
 "cells": [
  {
   "cell_type": "markdown",
   "metadata": {},
   "source": [
    "# Problem 1.14"
   ]
  },
  {
   "cell_type": "markdown",
   "metadata": {},
   "source": [
    "## Part a.\n",
    "\n",
    "We have\n",
    "\n",
    "$$\n",
    "P_{ab} = \\int_a^b | \\Psi |^2 \\, dx\n",
    "$$\n",
    "\n",
    "$$\n",
    "\\begin{eqnarray}\n",
    "\\implies \\frac{d P_{ab}}{dt} & = & \\int_a^b \\Psi^* \\frac{\\partial \\Psi}{\\partial t} + \\frac{\\partial \\Psi^*}{\\partial t} \\Psi \\, dx \\\\\n",
    "& = & \\int_a^b \\Psi^* \\left( \\frac{i \\hbar}{2m} \\frac{\\partial^2 \\Psi}{\\partial x^2} - \\frac{i}{\\hbar} V \\Psi \\right) + \\left( -\\frac{i \\hbar}{2m} \\frac{\\partial^2 \\Psi^*}{\\partial x^2} + \\frac{i}{\\hbar} V \\Psi^* \\right) \\Psi \\, dx \\\\\n",
    "& = & \\int_a^b \\frac{\\partial}{\\partial x} \\left[ \\frac{i \\hbar}{2m} \\left( \\Psi^* \\frac{\\partial \\Psi}{\\partial x} - \\frac{\\partial \\Psi^*}{\\partial x} \\Psi \\right) \\right] \\, dx \\\\\n",
    "& = & J(a, t) - J(b, t)\n",
    "\\end{eqnarray}\n",
    "$$\n",
    "\n",
    "where in the last step the integral cancels with the partial derivative."
   ]
  },
  {
   "cell_type": "markdown",
   "metadata": {},
   "source": [
    "## Part b.\n",
    "\n",
    "For this wavefunction we have\n",
    "\n",
    "$$\n",
    "\\frac{\\partial \\Psi}{\\partial x} = -\\frac{2amx}{\\hbar} \\Psi\n",
    "$$\n",
    "\n",
    "and likewise\n",
    "\n",
    "$$\n",
    "\\frac{\\partial \\Psi^*}{\\partial x} = -\\frac{2amx}{\\hbar} \\Psi^*\n",
    "$$\n",
    "\n",
    "This means that\n",
    "\n",
    "$$\n",
    "\\begin{eqnarray}\n",
    "J & = & \\frac{i \\hbar}{2m} \\left( \\frac{2amx}{\\hbar} \\right) \\left( \\Psi \\Psi^* - \\Psi^* \\Psi \\right) \\\\\n",
    " & = & 0\n",
    "\\end{eqnarray}\n",
    "$$"
   ]
  }
 ],
 "metadata": {
  "kernelspec": {
   "display_name": "Python 3",
   "language": "python",
   "name": "python3"
  },
  "language_info": {
   "codemirror_mode": {
    "name": "ipython",
    "version": 3
   },
   "file_extension": ".py",
   "mimetype": "text/x-python",
   "name": "python",
   "nbconvert_exporter": "python",
   "pygments_lexer": "ipython3",
   "version": "3.7.4"
  }
 },
 "nbformat": 4,
 "nbformat_minor": 2
}
