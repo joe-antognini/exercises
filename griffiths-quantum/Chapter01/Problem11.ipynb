{
 "cells": [
  {
   "cell_type": "code",
   "execution_count": 1,
   "metadata": {},
   "outputs": [],
   "source": [
    "import matplotlib.pyplot as plt\n",
    "import numpy as np"
   ]
  },
  {
   "cell_type": "markdown",
   "metadata": {},
   "source": [
    "# Problem 1.11"
   ]
  },
  {
   "cell_type": "markdown",
   "metadata": {},
   "source": [
    "## Part a.\n",
    "\n",
    "The probability distribution $\\rho(\\theta)$ is uniform in $\\theta$:\n",
    "\n",
    "$$\n",
    "\\rho(\\theta) = \\begin{cases}\n",
    " \\frac{1}{\\pi}, & 0 < \\theta < \\pi \\\\\n",
    " 0, & \\textrm{otherwise}\n",
    "\\end{cases}\n",
    "$$"
   ]
  },
  {
   "cell_type": "code",
   "execution_count": 2,
   "metadata": {},
   "outputs": [],
   "source": [
    "X = np.linspace(-np.pi / 2, 3 * np.pi / 2, num=1000)\n",
    "rho = np.zeros_like(X)\n",
    "rho[(X > 0) & (X < np.pi)] = 1 / np.pi"
   ]
  },
  {
   "cell_type": "code",
   "execution_count": 3,
   "metadata": {},
   "outputs": [
    {
     "data": {
      "image/png": "[encoded data removed]",
      "text/plain": [
       "<Figure size 432x288 with 1 Axes>"
      ]
     },
     "metadata": {
      "needs_background": "light"
     },
     "output_type": "display_data"
    }
   ],
   "source": [
    "plt.plot(X, rho, linewidth=2, c='k')\n",
    "plt.xlabel(r'$\\theta$')\n",
    "plt.ylabel(r'$\\rho(\\theta)$');"
   ]
  },
  {
   "cell_type": "markdown",
   "metadata": {},
   "source": [
    "## Part b.\n",
    "\n",
    "$$\n",
    "\\begin{eqnarray}\n",
    "\\langle \\theta \\rangle & = & \\int_0^{\\pi} \\frac{\\theta}{\\pi} \\, d\\theta \\\\\n",
    " & = & \\frac{\\pi}{2}\n",
    "\\end{eqnarray}\n",
    "$$"
   ]
  },
  {
   "cell_type": "markdown",
   "metadata": {},
   "source": [
    "$$\n",
    "\\begin{eqnarray}\n",
    "\\langle \\theta^2 \\rangle & = & \\int_0^{\\pi} \\frac{\\theta^2}{\\pi} \\, d\\theta \\\\\n",
    "& = & \\frac{\\theta^3}{3 \\pi} \\, \\bigg\\rvert_0^{\\pi} \\\\\n",
    "& = & \\frac{\\pi^2}{3}\n",
    "\\end{eqnarray}\n",
    "$$"
   ]
  },
  {
   "cell_type": "markdown",
   "metadata": {},
   "source": [
    "$$\n",
    "\\begin{eqnarray}\n",
    "\\sigma & = & \\sqrt{\\frac{\\pi^2}{3} - \\frac{\\pi^2}{4}} \\\\\n",
    "& = & \\frac{\\pi}{2 \\sqrt{3}}\n",
    "\\end{eqnarray}\n",
    "$$"
   ]
  },
  {
   "cell_type": "markdown",
   "metadata": {},
   "source": [
    "## Part c.\n",
    "\n",
    "$$\n",
    "\\begin{eqnarray}\n",
    "\\langle \\sin \\theta \\rangle & = & \\frac{1}{\\pi} \\int_0^{\\pi} \\sin \\theta \\, d\\theta \\\\\n",
    "& = & -\\frac{\\cos \\theta}{\\pi} \\, \\bigg\\rvert_0^{\\pi} \\\\\n",
    "& = & \\frac{2}{\\pi}\n",
    "\\end{eqnarray}\n",
    "$$"
   ]
  },
  {
   "cell_type": "markdown",
   "metadata": {},
   "source": [
    "$$\n",
    "\\begin{eqnarray}\n",
    "\\langle \\cos \\theta \\rangle & = & \\frac{1}{\\pi} \\int_0^{\\pi} \\cos \\theta \\, d\\theta \\\\\n",
    "& = & \\frac{\\sin \\theta}{\\pi} \\, \\bigg\\rvert_0^{\\pi} \\\\\n",
    "& = & 0\n",
    "\\end{eqnarray}\n",
    "$$"
   ]
  },
  {
   "cell_type": "markdown",
   "metadata": {},
   "source": [
    "$$\n",
    "\\begin{eqnarray}\n",
    "\\langle \\cos^2 \\theta \\rangle & = & \\frac{1}{\\pi} \\int_0^{\\pi} \\cos^2 \\theta \\, d\\theta \\\\\n",
    "& = & \\frac{1}{\\pi} \\left[ \\frac{\\theta}{2} + \\frac{1}{2} \\sin \\theta \\cos \\theta \\right]_0^{\\pi} \\\\\n",
    "& = & \\frac{1}{2}\n",
    "\\end{eqnarray}\n",
    "$$"
   ]
  }
 ],
 "metadata": {
  "kernelspec": {
   "display_name": "Python 3",
   "language": "python",
   "name": "python3"
  },
  "language_info": {
   "codemirror_mode": {
    "name": "ipython",
    "version": 3
   },
   "file_extension": ".py",
   "mimetype": "text/x-python",
   "name": "python",
   "nbconvert_exporter": "python",
   "pygments_lexer": "ipython3",
   "version": "3.7.4"
  }
 },
 "nbformat": 4,
 "nbformat_minor": 2
}
