{
 "cells": [
  {
   "cell_type": "code",
   "execution_count": 1,
   "metadata": {},
   "outputs": [],
   "source": [
    "import matplotlib.pyplot as plt\n",
    "import numpy as np\n",
    "\n",
    "plt.rc('text', usetex=True)"
   ]
  },
  {
   "cell_type": "markdown",
   "metadata": {},
   "source": [
    "## Problem 1.1\n",
    "\n",
    "### Part a.\n",
    "\n",
    "$$\n",
    "\\begin{eqnarray}\n",
    "\\langle j^2 \\rangle & = & \\frac{1}{14} \\left(14^2 + 15^2 + 3 \\times 16^2 + 2 \\times 22^2 + 2 \\times 24^2 + 5 \\times 25^2 \\right) \\\\\n",
    "& = & \\frac{3217}{7} \\\\\n",
    "& \\approx & 459.57\n",
    "\\end{eqnarray}\n",
    "$$"
   ]
  },
  {
   "cell_type": "markdown",
   "metadata": {},
   "source": [
    "$$\n",
    "\\begin{eqnarray}\n",
    "\\langle j \\rangle^2 & = & \\left[\\frac{1}{14} \\left(14 + 15 + 3 \\times 16 + 2 \\times 22 + 2 \\times 24 + 5 \\times 25 \\right) \\right]^2 \\\\\n",
    "& = & 441\n",
    "\\end{eqnarray}\n",
    "$$"
   ]
  },
  {
   "cell_type": "code",
   "execution_count": 2,
   "metadata": {},
   "outputs": [],
   "source": [
    "ages = np.array([14, 15, 16, 16, 16, 22, 22, 24, 24, 25, 25, 25, 25, 25])"
   ]
  },
  {
   "cell_type": "code",
   "execution_count": 3,
   "metadata": {},
   "outputs": [
    {
     "data": {
      "text/plain": [
       "459.57142857142856"
      ]
     },
     "execution_count": 3,
     "metadata": {},
     "output_type": "execute_result"
    }
   ],
   "source": [
    "np.sum(ages**2) / ages.size"
   ]
  },
  {
   "cell_type": "code",
   "execution_count": 4,
   "metadata": {},
   "outputs": [
    {
     "data": {
      "text/plain": [
       "459.57142857142856"
      ]
     },
     "execution_count": 4,
     "metadata": {},
     "output_type": "execute_result"
    }
   ],
   "source": [
    "3217 / 7"
   ]
  },
  {
   "cell_type": "code",
   "execution_count": 5,
   "metadata": {},
   "outputs": [
    {
     "data": {
      "text/plain": [
       "441.0"
      ]
     },
     "execution_count": 5,
     "metadata": {},
     "output_type": "execute_result"
    }
   ],
   "source": [
    "np.sum(ages)**2 / 14**2"
   ]
  },
  {
   "cell_type": "code",
   "execution_count": 6,
   "metadata": {},
   "outputs": [
    {
     "data": {
      "text/plain": [
       "21.0"
      ]
     },
     "execution_count": 6,
     "metadata": {},
     "output_type": "execute_result"
    }
   ],
   "source": [
    "np.mean(ages)"
   ]
  },
  {
   "cell_type": "markdown",
   "metadata": {},
   "source": [
    "### Part b.\n",
    "\n",
    "$$\n",
    "\\Delta j = \\{ -7, -6, -5, -5, -5, 1, 1, 3, 3, 4, 4, 4, 4, 4 \\}\n",
    "$$\n",
    "\n",
    "And so\n",
    "\n",
    "$$\n",
    "\\begin{eqnarray}\n",
    "\\sigma^2 & = & \\frac{1}{14} \\left( (-7)^2 + (-6)^2 + 3 \\times (-5)^2 + 2 \\times 1^2 + 2 \\times 3^2 + 5 \\times 4^2 \\right) \\\\\n",
    "& = & \\frac{130}{7} \\\\\n",
    "& \\approx & 18.57\n",
    "\\end{eqnarray}\n",
    "$$"
   ]
  },
  {
   "cell_type": "code",
   "execution_count": 7,
   "metadata": {},
   "outputs": [],
   "source": [
    "deltas = ages - np.mean(ages)"
   ]
  },
  {
   "cell_type": "code",
   "execution_count": 8,
   "metadata": {},
   "outputs": [
    {
     "data": {
      "text/plain": [
       "array([-7., -6., -5., -5., -5.,  1.,  1.,  3.,  3.,  4.,  4.,  4.,  4.,\n",
       "        4.])"
      ]
     },
     "execution_count": 8,
     "metadata": {},
     "output_type": "execute_result"
    }
   ],
   "source": [
    "deltas"
   ]
  },
  {
   "cell_type": "code",
   "execution_count": 9,
   "metadata": {},
   "outputs": [
    {
     "data": {
      "text/plain": [
       "260.0"
      ]
     },
     "execution_count": 9,
     "metadata": {},
     "output_type": "execute_result"
    }
   ],
   "source": [
    "np.sum(deltas**2)"
   ]
  },
  {
   "cell_type": "code",
   "execution_count": 10,
   "metadata": {},
   "outputs": [
    {
     "data": {
      "text/plain": [
       "18.571428571428573"
      ]
     },
     "execution_count": 10,
     "metadata": {},
     "output_type": "execute_result"
    }
   ],
   "source": [
    "np.mean(deltas**2)"
   ]
  },
  {
   "cell_type": "code",
   "execution_count": 11,
   "metadata": {},
   "outputs": [
    {
     "data": {
      "text/plain": [
       "18.571428571428573"
      ]
     },
     "execution_count": 11,
     "metadata": {},
     "output_type": "execute_result"
    }
   ],
   "source": [
    "130 / 7"
   ]
  },
  {
   "cell_type": "markdown",
   "metadata": {},
   "source": [
    "### Part c.\n",
    "\n",
    "$$\n",
    "\\begin{eqnarray}\n",
    "\\langle j^2 \\rangle - \\langle j \\rangle^2 & = & \\frac{3217}{7} - 441 \\\\\n",
    "& = & \\frac{130}{7} \\\\\n",
    "& = & \\sigma^2\n",
    "\\end{eqnarray}\n",
    "$$"
   ]
  },
  {
   "cell_type": "code",
   "execution_count": 12,
   "metadata": {},
   "outputs": [
    {
     "data": {
      "text/plain": [
       "130"
      ]
     },
     "execution_count": 12,
     "metadata": {},
     "output_type": "execute_result"
    }
   ],
   "source": [
    "3217 - 441 * 7"
   ]
  },
  {
   "cell_type": "markdown",
   "metadata": {},
   "source": [
    "## Problem 1.2\n",
    "\n",
    "### Part a.\n",
    "\n",
    "The distribution is\n",
    "\n",
    "$$\n",
    "\\rho(x) = \\frac{1}{2 \\sqrt{hx}}\n",
    "$$\n",
    "\n",
    "We already have $\\langle x \\rangle$ so we must calculate $\\langle x^2 \\rangle$.\n",
    "\n",
    "$$\n",
    "\\begin{eqnarray}\n",
    "\\langle x^2 \\rangle & = & \\int_0^h x^2 \\cdot \\frac{1}{2 \\sqrt{h x}} \\, dx \\\\\n",
    "& = & \\int_0^h \\frac{x^{3/2}}{2 \\sqrt{h}} \\, dx \\\\\n",
    "& = & \\frac{x^{5/2}}{5 \\sqrt{h}} \\, \\bigg\\rvert_0^h \\\\\n",
    "& = & \\frac{h^2}{5}\n",
    "\\end{eqnarray}\n",
    "$$"
   ]
  },
  {
   "cell_type": "markdown",
   "metadata": {},
   "source": [
    "This means that\n",
    "\n",
    "$$\n",
    "\\begin{eqnarray}\n",
    "\\sigma^2 & = & \\frac{h^2}{5} - \\left( \\frac{h}{3} \\right)^2 \\\\\n",
    "& = & \\frac{4}{9} h^2\n",
    "\\end{eqnarray}\n",
    "$$\n",
    "\n",
    "And therefore\n",
    "\n",
    "$$\n",
    "\\sigma = \\frac{2}{3} h\n",
    "$$"
   ]
  },
  {
   "cell_type": "markdown",
   "metadata": {},
   "source": [
    "### Part b.\n",
    "\n",
    "Since the probability distribution is 0 for $x < 0$ and $x > h$, the probability that $x$ is found more than one standard deviation from the mean is zero."
   ]
  },
  {
   "cell_type": "markdown",
   "metadata": {},
   "source": [
    "## Problem 1.3\n",
    "\n",
    "### Part a.\n",
    "\n",
    "We have $\\rho(x) = A e^{-\\lambda (x - a)^2}$ and would like to find $A$ given the constraint\n",
    "\n",
    "$$\n",
    "\\int_{-\\infty}^{\\infty} \\rho(x) \\, dx = 1.\n",
    "$$\n",
    "\n",
    "This means that\n",
    "\n",
    "$$\n",
    "A = \\left[ \\int_{-\\infty}^{\\infty} e^{-\\lambda (x - a)^2} \\, dx \\right]^{-1}\n",
    "$$\n",
    "\n",
    "Let\n",
    "\n",
    "$$\n",
    "I \\equiv \\int_{-\\infty}^{\\infty} e^{-x^2} \\, dx.\n",
    "$$\n",
    "\n",
    "Since the variable of integration is a dummy variable we can then square the integral with two dummy variables:\n",
    "\n",
    "$$\n",
    "I^2 = \\int_{-\\infty}^{\\infty} \\, dx \\int_{-\\infty}^{\\infty} \\, dy \\, e^{-(x^2 + y^2)}\n",
    "$$\n",
    "\n",
    "Since $x$ and $y$ are indepednent variables, we can transform from a Cartesian coordinate system to a polar system.  Then we have\n",
    "\n",
    "$$\n",
    "\\begin{eqnarray}\n",
    "I^2 & = & \\int_0^{\\infty} r \\, dr \\int_0^{2 \\pi} d\\theta \\, e^{-r^2} \\\\\n",
    "& = & 2 \\pi \\int_0^{\\infty} dr \\, r e^{-r^2}\n",
    "\\end{eqnarray}\n",
    "$$\n",
    "\n",
    "Now let $u \\equiv r^2$.  Then\n",
    "\n",
    "$$\n",
    "\\begin{eqnarray}\n",
    "I^2 & = & \\pi \\int_0^{\\infty} e^{-u} \\, du \\\\\n",
    "& = & - \\pi e^{-u} \\, \\bigg\\rvert_0^{\\infty} \\\\\n",
    "& = & \\pi\n",
    "\\end{eqnarray}\n",
    "$$\n",
    "\n",
    "Therefore $I = \\sqrt{\\pi}$.  Now let us use $I$ to find $A$.  Let $v \\equiv \\sqrt{\\lambda} (x - a)$.  Then\n",
    "\n",
    "$$\n",
    "\\begin{eqnarray}\n",
    "\\int_{-\\infty}^{\\infty} e^{-\\lambda (x - a)^2} \\, dx & = & \\frac{1}{\\sqrt{\\lambda}} \\int_{-\\infty}^{\\infty} e^{-v^2} \\, dv \\\\\n",
    "& = & \\sqrt{\\frac{\\pi}{\\lambda}}\n",
    "\\end{eqnarray}\n",
    "$$\n",
    "\n",
    "Therefore\n",
    "\n",
    "$$\n",
    "A = \\sqrt{\\frac{\\lambda}{\\pi}}\n",
    "$$"
   ]
  },
  {
   "cell_type": "markdown",
   "metadata": {},
   "source": [
    "### Part b.\n",
    "\n",
    "$$\n",
    "\\langle x \\rangle = \\sqrt{\\frac{\\lambda}{\\pi}} \\int_{-\\infty}^{\\infty} x e^{-\\lambda (x - a)^2} \\, dx\n",
    "$$"
   ]
  },
  {
   "cell_type": "markdown",
   "metadata": {},
   "source": [
    "Now let $u \\equiv \\sqrt{\\lambda} (x - a)$.  Then\n",
    "\n",
    "$$\n",
    "\\begin{eqnarray}\n",
    "\\langle x \\rangle & = & \\frac{1}{\\sqrt{\\pi}} \\int_{-\\infty}^{\\infty} \\left(\\frac{u}{\\sqrt{\\lambda}} + a\\right) e^{-u^2} \\, du \\\\\n",
    "& = & \\frac{1}{\\sqrt{\\pi}} \\left[ \\int_{-\\infty}^{\\infty} \\frac{u}{\\sqrt{\\lambda}} e^{-u^2} \\, du + a \\int_{-\\infty}^{\\infty} e^{-u^2} \\, du \\right]\n",
    "\\end{eqnarray}\n",
    "$$"
   ]
  },
  {
   "cell_type": "markdown",
   "metadata": {},
   "source": [
    "The first integral is 0 by symmetry and we found in the previous part that the second integral is $\\sqrt{\\pi}$.  Thus\n",
    "\n",
    "$$\n",
    "\\langle x \\rangle = a\n",
    "$$"
   ]
  },
  {
   "cell_type": "markdown",
   "metadata": {},
   "source": [
    "Now let us find $\\langle x^2 \\rangle$.\n",
    "\n",
    "$$\n",
    "\\langle x^2 \\rangle = \\sqrt{\\frac{\\lambda}{\\pi}} \\int_{-\\infty}^{\\infty} x^2 e^{-\\lambda (x - a)^2} \\, dx\n",
    "$$"
   ]
  },
  {
   "cell_type": "markdown",
   "metadata": {},
   "source": [
    "Let $u \\equiv \\sqrt{\\lambda} (x - a)$.  Then\n",
    "\n",
    "$$\n",
    "\\begin{eqnarray}\n",
    "\\langle x^2 \\rangle & = & \\frac{1}{\\sqrt{\\pi}} \\int_{-\\infty}^{\\infty} \\left( \\frac{u}{\\sqrt{\\lambda}} + a \\right)^2 e^{-u^2} \\, du \\\\\n",
    "& = & \\frac{1}{\\sqrt{\\pi}} \\left[ \\frac{1}{\\lambda} \\int_{-\\infty}^{\\infty} u^2 e^{-u^2} \\, du + \\frac{2a}{\\sqrt{\\lambda}} \\int_{-\\infty}^{\\infty} u e^{-u^2} \\, du + a^2 \\int_{-\\infty}^{\\infty} e^{-u^2} \\, du \\right]\n",
    "\\end{eqnarray}\n",
    "$$"
   ]
  },
  {
   "cell_type": "markdown",
   "metadata": {},
   "source": [
    "Now the middle integral drops out due to symmetry and the last integral is equal to $\\sqrt{\\pi}$.  Therefore we have\n",
    "\n",
    "$$\n",
    "\\langle x^2 \\rangle = \\frac{1}{\\sqrt{\\pi}} \\left[ \\frac{1}{\\lambda} \\int_{-\\infty}^{\\infty} u^2 e^{-u^2} \\, du + a^2 \\sqrt{\\pi} \\right]\n",
    "$$"
   ]
  },
  {
   "cell_type": "markdown",
   "metadata": {},
   "source": [
    "We can solve the remaining integral using integration by parts:\n",
    "\n",
    "$$\n",
    "\\begin{eqnarray}\n",
    "\\int_{-\\infty}^{\\infty} u^2 e^{-u^2} du & = & -\\frac{1}{2} u e^{-u^2} \\, \\bigg\\rvert_{-\\infty}^{\\infty} + \\frac{1}{2} \\int_{-\\infty}^{\\infty} e^{-u^2} du \\\\\n",
    "& = & \\frac{\\sqrt{\\pi}}{2}\n",
    "\\end{eqnarray}\n",
    "$$"
   ]
  },
  {
   "cell_type": "markdown",
   "metadata": {},
   "source": [
    "We then have\n",
    "\n",
    "$$\n",
    "\\langle x^2 \\rangle = \\frac{1}{2 \\lambda} + a^2\n",
    "$$"
   ]
  },
  {
   "cell_type": "markdown",
   "metadata": {},
   "source": [
    "Lastly, we would like to find $\\sigma$:\n",
    "\n",
    "$$\n",
    "\\begin{eqnarray}\n",
    "\\sigma^2 & = & \\langle x^2 \\rangle - \\langle x \\rangle^2 \\\\\n",
    "& = & \\frac{1}{2 \\lambda} + a^2 - a^2 \\\\\n",
    "& = & \\frac{1}{2 \\lambda}\n",
    "\\end{eqnarray}\n",
    "$$\n",
    "\n",
    "And so\n",
    "\n",
    "$$\n",
    "\\sigma = \\frac{1}{\\sqrt{2 \\lambda}}\n",
    "$$"
   ]
  },
  {
   "cell_type": "markdown",
   "metadata": {},
   "source": [
    "### Part c."
   ]
  },
  {
   "cell_type": "code",
   "execution_count": 13,
   "metadata": {},
   "outputs": [
    {
     "data": {
      "image/png": "[encoded data removed]",
      "text/plain": [
       "<Figure size 432x288 with 1 Axes>"
      ]
     },
     "metadata": {
      "needs_background": "light"
     },
     "output_type": "display_data"
    }
   ],
   "source": [
    "X = np.linspace(-5, 5, num=500)\n",
    "rho = 1 / np.sqrt(np.pi) * np.exp(-X**2)\n",
    "\n",
    "plt.plot(X, rho, c='k')\n",
    "plt.xlabel(r'$x$', fontsize=18)\n",
    "plt.ylabel(r'$\\rho(x)$', fontsize=18);"
   ]
  },
  {
   "cell_type": "markdown",
   "metadata": {},
   "source": [
    "## Problem 1.4\n",
    "\n",
    "### Part a.\n",
    "\n",
    "The normalization constraint imposes\n",
    "\n",
    "$$\n",
    "\\begin{eqnarray}\n",
    "\\int_0^a A^2 \\left( \\frac{x}{a} \\right)^2 \\, dx + \\int_a^1 A^2 \\frac{(b-x)^2}{(b-a)^2} \\, dx & = & 1 \\\\\n",
    "\\implies \\frac{A^2 x^3}{3 a^2} \\, \\bigg\\rvert_0^a - \\frac{A^2 (b - x)^3}{3 (b - a)^2} \\, \\bigg\\rvert_a^b & = & 1 \\\\\n",
    "\\implies \\frac{A^2 a}{3} + \\frac{A^2 (b - a)}{3} & = & 1 \\\\\n",
    "\\implies A & = & \\sqrt{\\frac{3}{b}}\n",
    "\\end{eqnarray}\n",
    "$$"
   ]
  },
  {
   "cell_type": "markdown",
   "metadata": {},
   "source": [
    "### Part b.\n",
    "\n",
    "For concreteness, let us take $a = 1/3$ and $b = 1$."
   ]
  },
  {
   "cell_type": "code",
   "execution_count": 14,
   "metadata": {},
   "outputs": [],
   "source": [
    "X = np.linspace(-1, 2, num=500)\n",
    "Y = np.zeros_like(X)\n",
    "a = 1 / 3\n",
    "b = 1\n",
    "A = np.sqrt(3 / b)\n",
    "\n",
    "piece1 = A * X / a\n",
    "piece2 = A * (b - X) / (b - a)\n",
    "\n",
    "Y += ((X >= 0) & (X < a)) * piece1 + ((X >= a) & (X < b)) * piece2"
   ]
  },
  {
   "cell_type": "code",
   "execution_count": 15,
   "metadata": {},
   "outputs": [
    {
     "data": {
      "image/png": "[encoded data removed]",
      "text/plain": [
       "<Figure size 432x288 with 1 Axes>"
      ]
     },
     "metadata": {
      "needs_background": "light"
     },
     "output_type": "display_data"
    }
   ],
   "source": [
    "plt.plot(X, Y, c='k')\n",
    "plt.xlabel(r'$x$', fontsize=18)\n",
    "plt.ylabel(r'$\\Psi$', fontsize=18);"
   ]
  },
  {
   "cell_type": "markdown",
   "metadata": {},
   "source": [
    "### Part c.\n",
    "\n",
    "The mode of this distribution is given by the maximum of $\\Psi$, which is $a$."
   ]
  },
  {
   "cell_type": "markdown",
   "metadata": {},
   "source": [
    "### Part d.\n",
    "\n",
    "The probability of finding the particle to the left of $a$ is\n",
    "\n",
    "$$\n",
    "\\begin{eqnarray}\n",
    "\\frac{3}{b} \\int_0^a \\left( \\frac{x}{a} \\right)^2 \\, dx & = & \\frac{x^3}{a^2 b} \\bigg\\rvert_0^a \\\\\n",
    "& = & \\frac{a}{b}\n",
    "\\end{eqnarray}\n",
    "$$\n",
    "\n",
    "This implies that in the case $b = a$, the probability of finding the particle to the left of $a$ is $1$, as it should be, and in the cse $b = 2a$, the probability is $1/2$, which is again as expected."
   ]
  },
  {
   "cell_type": "markdown",
   "metadata": {},
   "source": [
    "### Part e.\n",
    "\n",
    "$$\n",
    "\\begin{eqnarray}\n",
    "\\mathbb{E}[x] & = & \\frac{3}{(ab)^2} \\int_0^a x^3 \\, dx + \\frac{3}{b^2 (b-a)^2} \\int_a^b x^3 \\, dx \\\\\n",
    "& = & \\frac{3}{4} \\left( \\frac{a}{b} \\right)^2 + \\frac{3}{4} \\frac{(b-a)^2}{b^2} \\\\\n",
    "& = & \\frac{3}{4} \\left( \\frac{a}{b} \\right)^2 \\left( 1 + \\left( \\frac{b}{a} - 1 \\right)^2 \\right)\n",
    "\\end{eqnarray}\n",
    "$$"
   ]
  },
  {
   "cell_type": "markdown",
   "metadata": {},
   "source": [
    "## Problem 1.5\n",
    "\n",
    "### Part a.\n",
    "\n",
    "$$\n",
    "\\begin{eqnarray}\n",
    "\\int_{-\\infty}^{\\infty} | \\Psi |^2 \\, dx & = & 1 \\\\\n",
    "A^2 \\int_{-\\infty}^{\\infty} e^{-2 \\lambda |x|} \\, dx & = & 1 \\\\\n",
    "2 A^2 \\int_0^{\\infty} e^{-2 \\lambda x} \\, dx & = & 1 \\\\\n",
    "-\\frac{A^2}{\\lambda} e^{-2 \\lambda x} \\bigg\\rvert_0^{\\infty} & = & 1 \\\\\n",
    "\\frac{A^2}{\\lambda} & = & 1 \\\\\n",
    "\\implies A & = & \\sqrt{\\lambda} \\\\\n",
    "\\end{eqnarray}\n",
    "$$"
   ]
  },
  {
   "cell_type": "markdown",
   "metadata": {},
   "source": [
    "### Part b.\n",
    "\n",
    "$$\n",
    "\\begin{eqnarray}\n",
    "\\mathbb{E}[x] & = & \\lambda \\int_{-\\infty}^{\\infty} x e^{-2 \\lambda |x|} \\, dx \\\\\n",
    "& = & 0 \\\\\n",
    "\\end{eqnarray}\n",
    "$$\n",
    "\n",
    "where the last step follows because the integrand is an odd function."
   ]
  },
  {
   "cell_type": "markdown",
   "metadata": {},
   "source": [
    "$$\n",
    "\\begin{eqnarray}\n",
    "\\mathbb{E}[x^2] & = & \\lambda \\int_{-\\infty}^{\\infty} x^2 e^{-2 \\lambda |x|} \\, dx \\\\\n",
    "& = & 2 \\lambda \\int_0^{\\infty} x^2 e^{-2 \\lambda x} \\, dx \\\\\n",
    "\\end{eqnarray}\n",
    "$$"
   ]
  },
  {
   "cell_type": "markdown",
   "metadata": {},
   "source": [
    "Now let $u \\equiv 2 \\lambda x$.  Then we have\n",
    "\n",
    "$$\n",
    "\\begin{eqnarray}\n",
    "\\mathbb{E}[x^2] & = & \\frac{1}{4 \\lambda^2} \\int_0^{\\infty} u^2 e^{-u} \\, du \\\\\n",
    "& = & \\frac{1}{4 \\lambda^2} \\left[ -u^2 e^{-u} \\bigg\\rvert_0^{\\infty} + \\int_0^{\\infty} 2 u e^{-u} \\, du \\right] \\\\\n",
    "& = & \\frac{1}{4 \\lambda^2} \\left[ -2u e^{-u} \\bigg\\rvert_0^{\\infty} + 2 \\int_0^{\\infty} e^{-u} \\, du \\right] \\\\\n",
    "& = & \\frac{1}{2 \\lambda^2}\n",
    "\\end{eqnarray}\n",
    "$$\n",
    "\n",
    "where we have performed integration by parts twice and in both cases the boundary conditions disappear."
   ]
  },
  {
   "cell_type": "markdown",
   "metadata": {},
   "source": [
    "### Part c.\n",
    "\n",
    "The standard deviation is\n",
    "\n",
    "$$\n",
    "\\begin{eqnarray}\n",
    "\\sigma & = & \\sqrt{\\mathbb{E}[x^2] - \\mathbb{E}[x]^2} \\\\\n",
    "& = & \\frac{1}{\\sqrt{2} \\lambda}\n",
    "\\end{eqnarray}\n",
    "$$"
   ]
  },
  {
   "cell_type": "code",
   "execution_count": 16,
   "metadata": {},
   "outputs": [
    {
     "data": {
      "image/png": "[encoded data removed]",
      "text/plain": [
       "<Figure size 432x288 with 1 Axes>"
      ]
     },
     "metadata": {
      "needs_background": "light"
     },
     "output_type": "display_data"
    }
   ],
   "source": [
    "X = np.linspace(-5, 5, num=500)\n",
    "lambda_ = 1\n",
    "A = np.sqrt(lambda_)\n",
    "Psi2 = A * np.exp(-lambda_ * np.abs(X))\n",
    "sigma = 1 / (np.sqrt(2) * lambda_)\n",
    "\n",
    "plt.plot(X, Psi2, c='k')\n",
    "plt.xlabel('$x$', fontsize=18)\n",
    "plt.ylabel('$|\\Psi|^2$', fontsize=18)\n",
    "plt.axvline(sigma, color='k', linestyle=':')\n",
    "plt.axvline(-sigma, color='k', linestyle=':')\n",
    "plt.axvspan(-sigma, sigma, color='lightgray', alpha=0.2);"
   ]
  },
  {
   "cell_type": "markdown",
   "metadata": {},
   "source": [
    "The probability that the particle will be found more than one standard deviation from the origin is:\n",
    "\n",
    "$$\n",
    "\\begin{eqnarray}\n",
    "p(|x| > \\sigma) & = & 2 \\int_{\\frac{1}{\\sqrt{2} \\lambda}}^{\\infty} \\lambda e^{-2 \\lambda x} \\, dx \\\\\n",
    "& = & -e^{-2 \\lambda x} \\bigg\\rvert_{\\frac{1}{\\sqrt{2} \\lambda}}^{\\infty} \\\\\n",
    "& = & e^{-\\sqrt{2}}\n",
    "\\end{eqnarray}\n",
    "$$"
   ]
  },
  {
   "cell_type": "markdown",
   "metadata": {},
   "source": [
    "## Problem 1.6\n",
    "\n",
    "The suggested application of integration by parts is not valid because the derivative and the integrand are with respect to different variables.  (The derivative is with respect to $t$ and the integrand is with respect to $x$.)  Integration by parts only works if the derivatives and integrands are with respect to the same variables."
   ]
  },
  {
   "cell_type": "markdown",
   "metadata": {},
   "source": [
    "## Problem 1.7\n",
    "\n",
    "$$\n",
    "\\begin{eqnarray}\n",
    "\\frac{d \\langle p \\rangle}{dt} & = & -i \\hbar \\int \\frac{\\partial}{\\partial t} \\left[ \\Psi^* \\frac{\\partial \\Psi}{\\partial x} \\right] \\, dx \\\\\n",
    "& = & -i \\hbar \\int \\frac{\\partial \\Psi^*}{\\partial t} \\frac{\\partial \\Psi}{\\partial x} + \\Psi^* \\frac{\\partial^2 \\Psi}{\\partial t \\partial x} \\, dx \\\\\n",
    "& = & -i \\hbar \\int \\frac{\\partial \\Psi^*}{\\partial t} \\frac{\\partial \\Psi}{ \\partial x} + \\Psi^* \\frac{\\partial}{\\partial x} \\left[ \\frac{i \\hbar}{2m} \\frac{\\partial^2 \\Psi}{\\partial x^2} - \\frac{i}{\\hbar} V \\Psi \\right] \\, dx \\\\\n",
    "& = & -i \\hbar \\int \\frac{i \\hbar}{2m} \\left( \\Psi^* \\frac{\\partial^3 \\Psi}{\\partial x^3} - \\frac{\\partial^2 \\Psi^*}{\\partial x^2} \\frac{\\partial \\Psi}{\\partial x} \\right) + \\frac{i}{\\hbar} \\left( V \\Psi^* \\frac{\\partial \\Psi}{\\partial x} - \\Psi^* \\frac{\\partial V}{\\partial x} \\Psi - \\Psi^* V \\frac{\\partial \\Psi}{\\partial x} \\right) \\, dx \\\\\n",
    "& = & -i \\hbar \\int \\frac{i \\hbar}{2m} \\left( - \\frac{\\partial \\Psi^*}{\\partial x} \\frac{\\partial^2 \\Psi}{\\partial x^2} + \\frac{\\partial \\Psi^*}{\\partial x} \\frac{\\partial^2 \\Psi}{\\partial x^2} \\right) - \\frac{i}{\\hbar} \\frac{\\partial V}{\\partial x} |\\Psi|^2 \\, dx \\\\\n",
    "& = & -\\int \\frac{\\partial V}{\\partial x} |\\Psi|^2 \\, dx \\\\\n",
    "& = & \\left\\langle - \\frac{\\partial V}{\\partial x} \\right\\rangle \\\\\n",
    "\\end{eqnarray}\n",
    "$$"
   ]
  },
  {
   "cell_type": "markdown",
   "metadata": {},
   "source": [
    "Where we use integration by parts going from the fourth to the fifth line."
   ]
  },
  {
   "cell_type": "markdown",
   "metadata": {},
   "source": [
    "## Problem 1.8\n",
    "\n",
    "Suppose we have a wavefunction, $\\Psi$, which satisfies the Schroedinger equation:\n",
    "\n",
    "$$\n",
    "i \\hbar \\frac{\\partial \\Psi}{\\partial t} = -\\frac{\\hbar^2}{2m} \\frac{\\partial^2 \\Psi}{\\partial x^2} + V \\Psi\n",
    "$$"
   ]
  },
  {
   "cell_type": "markdown",
   "metadata": {},
   "source": [
    "Now add a constant $V_0$ to the potential and let $\\Psi^{\\prime}$ be the wavefunction that now satisfies the Schroedinger equation:\n",
    "\n",
    "$$\n",
    "i \\hbar \\frac{\\partial \\Psi^{\\prime}}{\\partial t} = -\\frac{\\hbar^2}{2m} \\frac{\\partial^2 \\Psi^{\\prime}}{\\partial x^2} + (V + V_0) \\Psi^{\\prime}\n",
    "$$"
   ]
  },
  {
   "cell_type": "markdown",
   "metadata": {},
   "source": [
    "Let us suppose that $\\Psi^{\\prime}$ is separable and can be related to $\\Psi$ as follows:\n",
    "\n",
    "$$\n",
    "\\Psi^{\\prime} = \\Psi f(t)\n",
    "$$\n",
    "\n",
    "Then the Schrödinger equation gives us\n",
    "\n",
    "$$\n",
    "i \\hbar \\left( \\frac{\\partial \\Psi}{\\partial t} f(t) + \\Psi \\frac{df}{dt} \\right) = -\\frac{\\hbar^2}{2m} \\frac{\\partial^2 \\Psi^{\\prime}}{\\partial x^2} f(t) + (V + V_0) \\Psi f(t)\n",
    "$$"
   ]
  },
  {
   "cell_type": "markdown",
   "metadata": {},
   "source": [
    "We can subtract off the Schrödinger equation for $\\Psi$, leaving\n",
    "\n",
    "$$\n",
    "i \\hbar \\Psi \\frac{df}{dt} = V_0 \\Psi f(t)\n",
    "$$"
   ]
  },
  {
   "cell_type": "markdown",
   "metadata": {},
   "source": [
    "Dividing off $\\Psi$, we have\n",
    "\n",
    "$$\n",
    "\\frac{df}{dt} = -\\frac{i V_0}{\\hbar} f(t)\n",
    "$$\n",
    "\n",
    "This implies that\n",
    "\n",
    "$$\n",
    "f(t) = e^{-\\frac{iV_0}{\\hbar} t}\n",
    "$$\n",
    "\n",
    "Hence\n",
    "\n",
    "$$\n",
    "\\Psi^{\\prime} = \\Psi e^{-\\frac{iV_0}{\\hbar} t}\n",
    "$$"
   ]
  },
  {
   "cell_type": "markdown",
   "metadata": {},
   "source": [
    "Since the expectation values are calculated from both the wavefunction and its conjugate, the exponential will cancel out and not affect the outcome."
   ]
  }
 ],
 "metadata": {
  "kernelspec": {
   "display_name": "Python 3",
   "language": "python",
   "name": "python3"
  },
  "language_info": {
   "codemirror_mode": {
    "name": "ipython",
    "version": 3
   },
   "file_extension": ".py",
   "mimetype": "text/x-python",
   "name": "python",
   "nbconvert_exporter": "python",
   "pygments_lexer": "ipython3",
   "version": "3.7.3"
  }
 },
 "nbformat": 4,
 "nbformat_minor": 2
}
