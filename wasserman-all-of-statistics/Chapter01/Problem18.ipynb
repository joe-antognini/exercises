{
 "cells": [
  {
   "cell_type": "markdown",
   "metadata": {},
   "source": [
    "# Problem 1.18\n",
    "\n",
    "We have that $\\mathbb{P}(A_1 | B) < \\mathbb{P}(A_1)$.  Now $\\mathbb{P}(\\cdot | B)$ acts as a probability, so\n",
    "\n",
    "$$\n",
    "\\begin{eqnarray}\n",
    "& 1 - \\mathbb{P}(A_1^c | B) < 1 - \\mathbb{P}(A_1^c) \\\\\n",
    "\\implies & \\mathbb{P}(A_1^c | B) > \\mathbb{P}(A_1^c)\n",
    "\\end{eqnarray}\n",
    "$$\n",
    "\n",
    "Now, $A^c = \\bigcup_{i=2}^N A_i$.  Suppsoe that $\\mathbb{P}(A_2 | B) > \\mathbb{P}(A_2)$.  Then we are done and have found the $i$ for which $\\mathbb{P}(A_i | B) > \\mathbb{P}(A_i)$.  Alternatively, suppose $\\mathbb{P}(A_2 | B) \\leq \\mathbb{P}(A_2)$.  Since $A_1$ and $A_2$ are disjoint (as are $A_1 \\cap B$ and $A_2 \\cap B$), $\\mathbb{P}(A_1 \\cap A_2) = \\mathbb{P}(A_1) + \\mathbb{P}(A_2)$, and so\n",
    "\n",
    "$$\n",
    "\\begin{eqnarray}\n",
    "& \\mathbb{P}(A_1 | B) + \\mathbb{P}(A_2 | B) < \\mathbb{P}(A_1) + \\mathbb{P}(A_2) \\\\\n",
    "\\implies & \\mathbb{P}(A_1 \\cup A_2 | B) < \\mathbb{P}(A_1 \\cup A_2)\n",
    "\\end{eqnarray}\n",
    "$$\n",
    "\n",
    "Now we can continue teh process, iterating through the $A_i$.  Suppose that we get to the last event $A_k$.  Then we have\n",
    "\n",
    "$$\n",
    "\\begin{eqnarray}\n",
    "& \\mathbb{P}\\left( \\bigcup_{i=1}^{k-1} A_i \\big| B \\right) < \\mathbb{P} \\left( \\bigcup_{i=1}^{k-1} A_i \\right) \\\\\n",
    "\\implies & 1 - \\mathbb{P} \\left( \\left( \\bigcup_{i=1}^{k-1} A_i \\right)^c \\big| B \\right) < 1 - \\mathbb{P} \\left( \\left( \\bigcup_{i=1}^{k-1} A_i \\right)^c \\right) \\\\\n",
    "\\implies & \\mathbb{P} \\left( \\left( \\bigcup_{i=1}^{k-1} A_i \\right)^c \\right) < \\mathbb{P} \\left( \\left( \\bigcup_{i=1}^{k-1} A_i \\right)^c \\big| B \\right)\n",
    "\\end{eqnarray}\n",
    "$$\n",
    "\n",
    "But $\\left( \\bigcup_{i=1}^{k-1} A_i \\right)^c = A_k$, so $\\mathbb{P}(A_k) < \\mathbb{P}(A_k | B)$.  Hence we muts have that $\\mathbb{P}(A_i) < \\mathbb{P}(A_i | B)$ for some $A_i$."
   ]
  }
 ],
 "metadata": {
  "kernelspec": {
   "display_name": "Python 3",
   "language": "python",
   "name": "python3"
  },
  "language_info": {
   "codemirror_mode": {
    "name": "ipython",
    "version": 3
   },
   "file_extension": ".py",
   "mimetype": "text/x-python",
   "name": "python",
   "nbconvert_exporter": "python",
   "pygments_lexer": "ipython3",
   "version": "3.8.10"
  }
 },
 "nbformat": 4,
 "nbformat_minor": 4
}
