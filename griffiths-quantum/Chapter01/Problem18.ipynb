{
 "cells": [
  {
   "cell_type": "markdown",
   "metadata": {},
   "source": [
    "# Problem 1.18"
   ]
  },
  {
   "cell_type": "code",
   "execution_count": 1,
   "metadata": {},
   "outputs": [],
   "source": [
    "import astropy.units as u\n",
    "import astropy.constants as const"
   ]
  },
  {
   "cell_type": "markdown",
   "metadata": {},
   "source": [
    "## Part a."
   ]
  },
  {
   "cell_type": "markdown",
   "metadata": {},
   "source": [
    "Solving for $T$,\n",
    "\n",
    "$$\n",
    "T \\sim \\frac{h^2}{3 m k_B \\lambda^2}\n",
    "$$\n",
    "\n",
    "Using the mass of an electron, we have\n",
    "\n",
    "$$\n",
    "T \\sim 130,000 \\, \\textrm{K}\n",
    "$$\n",
    "\n",
    "For a proton we have\n",
    "\n",
    "$$\n",
    "T \\sim 70 \\, \\textrm{K}\n",
    "$$"
   ]
  },
  {
   "cell_type": "markdown",
   "metadata": {},
   "source": [
    "### Numerical verification"
   ]
  },
  {
   "cell_type": "markdown",
   "metadata": {},
   "source": [
    "Using the mass of an electron:"
   ]
  },
  {
   "cell_type": "code",
   "execution_count": 2,
   "metadata": {},
   "outputs": [
    {
     "data": {
      "text/latex": [
       "$129293.34 \\; \\mathrm{K}$"
      ],
      "text/plain": [
       "<Quantity 129293.34152039 K>"
      ]
     },
     "execution_count": 2,
     "metadata": {},
     "output_type": "execute_result"
    }
   ],
   "source": [
    "(const.h**2 / (3 * const.m_e * const.k_B * (0.3 * u.nm)**2)).to(u.K)"
   ]
  },
  {
   "cell_type": "markdown",
   "metadata": {},
   "source": [
    "Using the mass of a proton:"
   ]
  },
  {
   "cell_type": "code",
   "execution_count": 3,
   "metadata": {},
   "outputs": [
    {
     "data": {
      "text/latex": [
       "$70.415355 \\; \\mathrm{K}$"
      ],
      "text/plain": [
       "<Quantity 70.41535454 K>"
      ]
     },
     "execution_count": 3,
     "metadata": {},
     "output_type": "execute_result"
    }
   ],
   "source": [
    "(const.h**2 / (3 * const.m_p * const.k_B * (0.3 * u.nm)**2)).to(u.K)"
   ]
  },
  {
   "cell_type": "markdown",
   "metadata": {},
   "source": [
    "## Part b.\n",
    "\n",
    "Let's write the ideal gas formula in terms of the number density:\n",
    "\n",
    "$$\n",
    "P = nk_B T\n",
    "$$\n",
    "\n",
    "Now we have\n",
    "\n",
    "$$\n",
    "\\lambda \\sim \\frac{1}{n^{1/3}} = \\left( \\frac{k_B T}{P} \\right)^{\\frac{1}{3}}\n",
    "$$"
   ]
  },
  {
   "cell_type": "markdown",
   "metadata": {},
   "source": [
    "$$\n",
    "\\implies \\frac{h}{\\sqrt{3 m k_B T}} \\sim \\left( \\frac{k_B T}{P} \\right)^{\\frac{1}{3}}\n",
    "$$"
   ]
  },
  {
   "cell_type": "markdown",
   "metadata": {},
   "source": [
    "$$\n",
    "\\implies \\frac{h^2}{3 m k_B T} \\sim \\left( \\frac{k_B T}{P} \\right)^{\\frac{2}{3}}\n",
    "$$"
   ]
  },
  {
   "cell_type": "markdown",
   "metadata": {},
   "source": [
    "$$\n",
    "\\implies k_B T \\sim \\left( \\frac{h^2 P^{2/3}}{3m} \\right)^{\\frac{3}{5}}\n",
    "$$"
   ]
  },
  {
   "cell_type": "markdown",
   "metadata": {},
   "source": [
    "$$\n",
    "\\implies T \\sim \\frac{1}{k_B} \\left( \\frac{h^2}{3m} \\right)^{\\frac{3}{5}} P^{\\frac{2}{5}}\n",
    "$$"
   ]
  },
  {
   "cell_type": "markdown",
   "metadata": {},
   "source": [
    "For Helium at one atmosphere we have $T \\sim 3 \\, \\textrm{K}$.  For Hydrogen in space we have $T \\sim 2 \\times 10^{-8} \\, \\textrm{K}$."
   ]
  },
  {
   "cell_type": "code",
   "execution_count": 4,
   "metadata": {},
   "outputs": [
    {
     "data": {
      "text/latex": [
       "$2.9240433 \\; \\mathrm{K}$"
      ],
      "text/plain": [
       "<Quantity 2.92404327 K>"
      ]
     },
     "execution_count": 4,
     "metadata": {},
     "output_type": "execute_result"
    }
   ],
   "source": [
    "m_He = (2 * const.m_p + 2 * const.m_n)\n",
    "(1 / const.k_B * (const.h**2 / (3 * m_He))**(3 / 5) * (const.atm)**(2 / 5)).to(u.K)"
   ]
  },
  {
   "cell_type": "code",
   "execution_count": 5,
   "metadata": {},
   "outputs": [
    {
     "data": {
      "text/latex": [
       "$1.8706581 \\times 10^{-8} \\; \\mathrm{K}$"
      ],
      "text/plain": [
       "<Quantity 1.87065815e-08 K>"
      ]
     },
     "execution_count": 5,
     "metadata": {},
     "output_type": "execute_result"
    }
   ],
   "source": [
    "p_space = (1 / (u.cm)**3) * const.k_B * (3 * u.K)\n",
    "(1 / const.k_B * (const.h**2 / (3 * const.m_p))**(3 / 5) * p_space**(2 / 5)).to(u.K)"
   ]
  },
  {
   "cell_type": "markdown",
   "metadata": {},
   "source": [
    "Note that the text is misleading here.  The interstellar medium consists of several components, but none of them have the properties described.  Only the centers of giant molecular clouds have temperatures close to 3 K.  More typically, the warm neutral and warm ionized mediums have temperatures of $\\sim$6000 -- 10,000 K and number densities slightly below $1 \\, \\textrm{cm}^{-3}$.  The hot ionized medium has a temperature of $10^6 - 10^7 \\, \\textrm{K}$ and densities of $10^{-4} - 10^{-2} \\, \\textrm{cm}^{-3}$."
   ]
  }
 ],
 "metadata": {
  "kernelspec": {
   "display_name": "Python 3",
   "language": "python",
   "name": "python3"
  },
  "language_info": {
   "codemirror_mode": {
    "name": "ipython",
    "version": 3
   },
   "file_extension": ".py",
   "mimetype": "text/x-python",
   "name": "python",
   "nbconvert_exporter": "python",
   "pygments_lexer": "ipython3",
   "version": "3.7.4"
  }
 },
 "nbformat": 4,
 "nbformat_minor": 2
}
