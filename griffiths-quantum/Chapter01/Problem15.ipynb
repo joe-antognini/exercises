{
 "cells": [
  {
   "cell_type": "markdown",
   "metadata": {},
   "source": [
    "# Problem 1.15\n",
    "\n",
    "## Part a.\n",
    "\n",
    "We have \n",
    "\n",
    "$$\n",
    "\\frac{\\partial \\Psi}{\\partial t} = \\frac{i \\hbar}{2m} \\frac{\\partial^2 \\Psi}{\\partial x^2} - \\frac{i}{\\hbar} V_0 \\Psi - \\frac{\\Gamma}{\\hbar} \\Psi\n",
    "$$\n",
    "\n",
    "and\n",
    "\n",
    "$$\n",
    "\\frac{\\partial \\Psi}{\\partial t} = -\\frac{i \\hbar}{2m} \\frac{\\partial^2 \\Psi}{\\partial x^2} + \\frac{i}{\\hbar} V_0 \\Psi - \\frac{\\Gamma}{\\hbar} \\Psi.\n",
    "$$\n",
    "\n",
    "This means that\n",
    "\n",
    "$$\n",
    "\\begin{eqnarray}\n",
    "\\frac{\\partial |\\Psi|^2}{\\partial t} & = & \\frac{i \\hbar}{2m} \\left( \\Psi^* \\frac{\\partial^2 \\Psi}{\\partial x^2} - \\frac{\\partial^2 \\Psi^*}{\\partial x^2} \\Psi \\right) - \\frac{\\Gamma}{\\hbar} \\left( \\Psi^* \\Psi + \\Psi \\Psi^* \\right) \\\\\n",
    "& = & -\\frac{2 \\Gamma}{\\hbar} | \\Psi |^2\n",
    "\\end{eqnarray}\n",
    "$$"
   ]
  },
  {
   "cell_type": "markdown",
   "metadata": {},
   "source": [
    "And so\n",
    "\n",
    "$$\n",
    "\\frac{dP}{dt} = -\\frac{2\\Gamma}{\\hbar} P\n",
    "$$"
   ]
  },
  {
   "cell_type": "markdown",
   "metadata": {},
   "source": [
    "## Part b.\n",
    "\n",
    "Solving this differential equation we get\n",
    "\n",
    "$$\n",
    "P(t) = e^{-2 \\Gamma t / \\hbar}\n",
    "$$\n",
    "\n",
    "$$\n",
    "\\implies \\tau = \\frac{\\hbar}{2 \\Gamma}\n",
    "$$"
   ]
  }
 ],
 "metadata": {
  "kernelspec": {
   "display_name": "Python 3",
   "language": "python",
   "name": "python3"
  },
  "language_info": {
   "codemirror_mode": {
    "name": "ipython",
    "version": 3
   },
   "file_extension": ".py",
   "mimetype": "text/x-python",
   "name": "python",
   "nbconvert_exporter": "python",
   "pygments_lexer": "ipython3",
   "version": "3.7.4"
  }
 },
 "nbformat": 4,
 "nbformat_minor": 2
}
