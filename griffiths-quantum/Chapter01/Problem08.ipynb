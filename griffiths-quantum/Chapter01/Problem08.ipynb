{
 "cells": [
  {
   "cell_type": "markdown",
   "metadata": {},
   "source": [
    "## Problem 1.8\n",
    "\n",
    "Suppose we have a wavefunction, $\\Psi$, which satisfies the Schroedinger equation:\n",
    "\n",
    "$$\n",
    "i \\hbar \\frac{\\partial \\Psi}{\\partial t} = -\\frac{\\hbar^2}{2m} \\frac{\\partial^2 \\Psi}{\\partial x^2} + V \\Psi\n",
    "$$\n",
    "\n",
    "Now add a constant $V_0$ to the potential and let $\\Psi^{\\prime}$ be the wavefunction that now satisfies the Schroedinger equation:\n",
    "\n",
    "$$\n",
    "i \\hbar \\frac{\\partial \\Psi^{\\prime}}{\\partial t} = -\\frac{\\hbar^2}{2m} \\frac{\\partial^2 \\Psi^{\\prime}}{\\partial x^2} + (V + V_0) \\Psi^{\\prime}\n",
    "$$\n",
    "\n",
    "Let us suppose that $\\Psi^{\\prime}$ is separable and can be related to $\\Psi$ as follows:\n",
    "\n",
    "$$\n",
    "\\Psi^{\\prime} = \\Psi f(t)\n",
    "$$\n",
    "\n",
    "Then the Schrödinger equation gives us\n",
    "\n",
    "$$\n",
    "i \\hbar \\left( \\frac{\\partial \\Psi}{\\partial t} f(t) + \\Psi \\frac{df}{dt} \\right) = -\\frac{\\hbar^2}{2m} \\frac{\\partial^2 \\Psi^{\\prime}}{\\partial x^2} f(t) + (V + V_0) \\Psi f(t)\n",
    "$$\n",
    "\n",
    "We can subtract off the Schrödinger equation for $\\Psi$, leaving\n",
    "\n",
    "$$\n",
    "i \\hbar \\Psi \\frac{df}{dt} = V_0 \\Psi f(t)\n",
    "$$\n",
    "\n",
    "Dividing off $\\Psi$, we have\n",
    "\n",
    "$$\n",
    "\\frac{df}{dt} = -\\frac{i V_0}{\\hbar} f(t)\n",
    "$$\n",
    "\n",
    "This implies that\n",
    "\n",
    "$$\n",
    "f(t) = e^{-\\frac{iV_0}{\\hbar} t}\n",
    "$$\n",
    "\n",
    "Hence\n",
    "\n",
    "$$\n",
    "\\Psi^{\\prime} = \\Psi e^{-\\frac{iV_0}{\\hbar} t}\n",
    "$$\n",
    "\n",
    "Since the expectation values are calculated from both the wavefunction and its conjugate, the exponential will cancel out and not affect the outcome."
   ]
  }
 ],
 "metadata": {
  "kernelspec": {
   "display_name": "Python 3",
   "language": "python",
   "name": "python3"
  },
  "language_info": {
   "codemirror_mode": {
    "name": "ipython",
    "version": 3
   },
   "file_extension": ".py",
   "mimetype": "text/x-python",
   "name": "python",
   "nbconvert_exporter": "python",
   "pygments_lexer": "ipython3",
   "version": "3.7.4"
  }
 },
 "nbformat": 4,
 "nbformat_minor": 2
}
