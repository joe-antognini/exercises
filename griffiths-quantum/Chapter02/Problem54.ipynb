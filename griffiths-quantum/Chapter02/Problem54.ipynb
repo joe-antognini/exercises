{
 "cells": [
  {
   "cell_type": "markdown",
   "metadata": {},
   "source": [
    "# Problem 2.54"
   ]
  },
  {
   "cell_type": "code",
   "execution_count": 1,
   "metadata": {},
   "outputs": [],
   "source": [
    "import numpy as np\n",
    "import scipy.integrate\n",
    "import matplotlib.pyplot as plt"
   ]
  },
  {
   "cell_type": "code",
   "execution_count": 2,
   "metadata": {},
   "outputs": [],
   "source": [
    "def deriv(y, t, K):\n",
    "    \"\"\"This function computes the derivatives in the Schrödinger equation.\n",
    "    \n",
    "    Because the Schrödinger equation is a second order differential equation we must\n",
    "    break it up into two separate first order differential equations by treating\n",
    "    $d\\psi / dt$ as an indpendent variable.\n",
    "    \n",
    "    \"\"\"\n",
    "    psi, dpsidt = y\n",
    "    d2psidt2 = (t**2 - K) * psi\n",
    "    return dpsidt, d2psidt2"
   ]
  },
  {
   "cell_type": "markdown",
   "metadata": {},
   "source": [
    "Following the instructions in the problem, let's solve the Schrödinger equation when $K = 0.9$."
   ]
  },
  {
   "cell_type": "code",
   "execution_count": 3,
   "metadata": {},
   "outputs": [],
   "source": [
    "X = np.linspace(0, 10)"
   ]
  },
  {
   "cell_type": "code",
   "execution_count": 4,
   "metadata": {},
   "outputs": [],
   "source": [
    "K = 0.9"
   ]
  },
  {
   "cell_type": "code",
   "execution_count": 5,
   "metadata": {},
   "outputs": [],
   "source": [
    "psi = scipy.integrate.odeint(deriv, (1, 0), X, args=(K,))[:, 0]"
   ]
  },
  {
   "cell_type": "code",
   "execution_count": 6,
   "metadata": {},
   "outputs": [
    {
     "data": {
      "image/png": "[encoded data removed]",
      "text/plain": [
       "<Figure size 432x288 with 1 Axes>"
      ]
     },
     "metadata": {
      "needs_background": "light"
     },
     "output_type": "display_data"
    }
   ],
   "source": [
    "plt.plot(X, psi)\n",
    "plt.xlabel('$x$')\n",
    "plt.ylabel('$\\psi$');"
   ]
  },
  {
   "cell_type": "markdown",
   "metadata": {},
   "source": [
    "As expected the wavefunction blows up at large $x$.\n",
    "\n",
    "Let's now try choosing a $K$ that is slightly above 1 and see what happens."
   ]
  },
  {
   "cell_type": "code",
   "execution_count": 7,
   "metadata": {},
   "outputs": [],
   "source": [
    "K = 1.1"
   ]
  },
  {
   "cell_type": "code",
   "execution_count": 8,
   "metadata": {},
   "outputs": [],
   "source": [
    "psi = scipy.integrate.odeint(deriv, (1, 0), X, args=(K,))[:, 0]"
   ]
  },
  {
   "cell_type": "code",
   "execution_count": 9,
   "metadata": {},
   "outputs": [
    {
     "data": {
      "image/png": "[encoded data removed]",
      "text/plain": [
       "<Figure size 432x288 with 1 Axes>"
      ]
     },
     "metadata": {
      "needs_background": "light"
     },
     "output_type": "display_data"
    }
   ],
   "source": [
    "plt.plot(X, psi)\n",
    "plt.xlabel('$x$')\n",
    "plt.ylabel('$\\psi$');"
   ]
  },
  {
   "cell_type": "markdown",
   "metadata": {},
   "source": [
    "Once again the wavefunction blows up, but this time in the opposite direction.  This implies that there is a solution within this range."
   ]
  },
  {
   "cell_type": "markdown",
   "metadata": {},
   "source": [
    "Let's now generalize the solution by calculating $\\psi$ for some arbitrary value $x$ by numerically solving the Schrödinger equation."
   ]
  },
  {
   "cell_type": "code",
   "execution_count": 10,
   "metadata": {},
   "outputs": [],
   "source": [
    "def psi(K, x):\n",
    "    \"\"\"Find the value of the wavefunction at some position.\n",
    "    \n",
    "    In reality this is just the value of the wavefunction at some large value.\n",
    "    \n",
    "    \"\"\"\n",
    "    return scipy.integrate.odeint(deriv, (1, 0), [0, x], args=(K,))[-1, 0]"
   ]
  },
  {
   "cell_type": "markdown",
   "metadata": {},
   "source": [
    "Now all we need to do is choose a large value of $x$, say 10 and then find the root of $\\psi(K)$."
   ]
  },
  {
   "cell_type": "code",
   "execution_count": 11,
   "metadata": {},
   "outputs": [],
   "source": [
    "def wag_the_dog(K_lo=0.9, K_hi=1.1, x_big=10):\n",
    "    \"\"\"Find a ground state energy experimentally.\n",
    "    \n",
    "    This finds the root of the function that provides the value of the wavefunction at some large value.\n",
    "    \n",
    "    \"\"\"\n",
    "    return scipy.optimize.brentq(psi, K_lo, K_hi, args=(x_big,), xtol=1e-6)"
   ]
  },
  {
   "cell_type": "code",
   "execution_count": 12,
   "metadata": {},
   "outputs": [
    {
     "data": {
      "text/plain": [
       "0.9999999620582672"
      ]
     },
     "execution_count": 12,
     "metadata": {},
     "output_type": "execute_result"
    }
   ],
   "source": [
    "wag_the_dog()"
   ]
  }
 ],
 "metadata": {
  "kernelspec": {
   "display_name": "Python 3",
   "language": "python",
   "name": "python3"
  },
  "language_info": {
   "codemirror_mode": {
    "name": "ipython",
    "version": 3
   },
   "file_extension": ".py",
   "mimetype": "text/x-python",
   "name": "python",
   "nbconvert_exporter": "python",
   "pygments_lexer": "ipython3",
   "version": "3.8.5"
  }
 },
 "nbformat": 4,
 "nbformat_minor": 4
}
