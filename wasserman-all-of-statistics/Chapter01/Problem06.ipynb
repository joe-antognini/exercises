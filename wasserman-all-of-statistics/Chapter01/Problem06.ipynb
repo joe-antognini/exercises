{
 "cells": [
  {
   "cell_type": "markdown",
   "metadata": {},
   "source": [
    "# Problem 1.6\n",
    "\n",
    "A uniform distribution means that for $A \\in \\Omega, B \\in \\Omega$\n",
    "\n",
    "$$\n",
    "|A| = |B| \\implies \\mathbb{P}(A) = \\mathbb{P}(B)\n",
    "$$\n",
    "\n",
    "We have $\\Omega = \\mathbb{N}$.  Consider the subsets\n",
    "\n",
    "$$\n",
    "\\begin{eqnarray}\n",
    "A & = & \\left\\{ x \\in \\Omega : x \\mod 3 = 0 \\right\\} \\\\\n",
    "B & = & \\left\\{ x \\in \\Omega : x \\mod 3 = 1 \\right\\} \\\\\n",
    "C & = & \\left\\{ x \\in \\Omega : x \\mod 3 = 2 \\right\\} \\\\\n",
    "\\end{eqnarray}\n",
    "$$\n",
    "\n",
    "Clearly these subsets are disjoint and $A \\cup B \\cup C = \\Omega$.  Furthermore, $|A| = |B| = |C|$.  Thus, if a uniform distribution exists,\n",
    "\n",
    "$$\n",
    "\\mathbb{P}(A) = \\mathbb{P}(B) = \\mathbb{P}(C)\n",
    "$$\n",
    "\n",
    "and\n",
    "\n",
    "$$\n",
    "\\mathbb{P}(A) + \\mathbb{P}(B) + \\mathbb{P}(C) = 1\n",
    "$$\n",
    "\n",
    "and so $\\mathbb{P}(A) = \\frac{1}{3}$.\n",
    "\n",
    "Now consider the subset $B \\cup C$.  We have $|B \\cup C| = |A|$ since both sets are countably infinite and can be put into a 1:1 correspondance with each other.  Since $B \\cup C$ and $A$ are disjoint, we have\n",
    "\n",
    "$$\n",
    "\\mathbb{P}(A) = \\mathbb{P}(B \\cup C)\n",
    "$$\n",
    "\n",
    "and\n",
    "\n",
    "$$\n",
    "\\mathbb{P}(A) + \\mathbb{P}(B \\cup C) = 1 \\implies \\mathbb{P}(A) = \\frac{1}{2}\n",
    "$$\n",
    "\n",
    "But this is a contradiction since we earlier found that $\\mathbb{P}(A) = \\frac{1}{3}$.  Therefore our premise that there exists a uniform distribution on this sample space is wrong."
   ]
  }
 ],
 "metadata": {
  "kernelspec": {
   "display_name": "Python 3",
   "language": "python",
   "name": "python3"
  },
  "language_info": {
   "codemirror_mode": {
    "name": "ipython",
    "version": 3
   },
   "file_extension": ".py",
   "mimetype": "text/x-python",
   "name": "python",
   "nbconvert_exporter": "python",
   "pygments_lexer": "ipython3",
   "version": "3.8.10"
  }
 },
 "nbformat": 4,
 "nbformat_minor": 4
}
