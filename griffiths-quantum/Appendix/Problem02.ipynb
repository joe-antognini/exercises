{
 "cells": [
  {
   "cell_type": "markdown",
   "metadata": {},
   "source": [
    "## Problem A.2\n",
    "\n",
    "### Part a.\n",
    "\n",
    "This set is a vector space.  The sum of two polynomials of degree $N$ is also a polynomial of degree $N$ or less, so the set is closed under addition.  Multiplying a polynomial of degree $N$ by a scalar is also a polynomial of degree $N$ or less, so the set is closed under multiplication.  Furthermore, $0$ exists as a null vector, and the inverse vectors also exist by taking the coefficients of the polynomials and multilpying them by $-1$.\n",
    "\n",
    "### Part b.\n",
    "\n",
    "The set of even polynomials is also a vector space since the sum of two even polynomials is also an even polynomial (nor does multiplication by a scalar change the evenness of the polynomial).  Furthermore this subset contains the null vector and every inverse vector.\n",
    "\n",
    "### Part c.\n",
    "\n",
    "The subset of polynomials with the leading coefficient equal to 1 is not a vector space since the sum of two such polynomials has a leading coefficient equal to 2 and is therefore not in the space.\n",
    "\n",
    "### Part d.\n",
    "\n",
    "The subset of polynomials with the value 0 at $x = 1$ is a vector space.  We can write such polynomials as\n",
    "\n",
    "$$\n",
    "a = (x - 1) \\sum_{i = 0}^{N - 1} a_i x^i\n",
    "$$\n",
    "\n",
    "Now, the sum of two such polynomials is\n",
    "\n",
    "\\begin{eqnarray}\n",
    "\\textbf{a} + \\textbf{b} & = & (x - 1) \\sum_{i = 0}^{N - 1} a_i x^i + (x - 1) \\sum_{i = 0}^{N - 1} b_i x^i \\\\\n",
    " & = & (x - 1) \\sum_{i = 0}^{N - 1} (a_i + b_i) x^i\n",
    "\\end{eqnarray}\n",
    "\n",
    "and so is closed under vector addition.  Similarly, multiplying such a polynomial by a scalar results in\n",
    "\n",
    "\\begin{eqnarray}\n",
    "c \\textbf{a} & = & c (x - 1) \\sum_{i = 0}^{N - 1} a_i x^i \\\\\n",
    "& = & (x - 1) \\sum_{i = 0}^{N - 1} (c a_i) x^i\n",
    "\\end{eqnarray}\n",
    "\n",
    "and so is closed under scalar multiplication.  The space contains the null vector since setting the $a_i = 0$ results in a polynomial which is 0 at $x = 1$.  Finally, the space contains all inverse vectors by setting the coefficients equal to $-a_i$.\n",
    "\n",
    "### Part e.\n",
    "\n",
    "The subset of polynomials with the value 1 at $x = 0$ is not a vector space since it does not contain the null vector nor is it closed under addition since the sum of two such polynomials will have the value 2 at $x = 0$."
   ]
  }
 ],
 "metadata": {
  "kernelspec": {
   "display_name": "Python 3",
   "language": "python",
   "name": "python3"
  },
  "language_info": {
   "codemirror_mode": {
    "name": "ipython",
    "version": 3
   },
   "file_extension": ".py",
   "mimetype": "text/x-python",
   "name": "python",
   "nbconvert_exporter": "python",
   "pygments_lexer": "ipython3",
   "version": "3.7.3"
  }
 },
 "nbformat": 4,
 "nbformat_minor": 2
}
