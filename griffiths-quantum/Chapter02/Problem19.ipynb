{
 "cells": [
  {
   "cell_type": "markdown",
   "id": "ad977b6a",
   "metadata": {},
   "source": [
    "# Problem 2.19"
   ]
  },
  {
   "cell_type": "markdown",
   "id": "f12db2a5",
   "metadata": {},
   "source": [
    "$$\n",
    "J \\equiv \\frac{i \\hbar}{2m} \\left( \\Psi \\frac{\\partial \\Psi^*}{\\partial x} - \\Psi^* \\frac{\\partial\\Psi}{\\partial x} \\right)\n",
    "$$"
   ]
  },
  {
   "cell_type": "markdown",
   "id": "c6be3857",
   "metadata": {},
   "source": [
    "$$\n",
    "\\begin{eqnarray}\n",
    "\\Psi & = & Ae^{i\\left(kx - \\frac{\\hbar k^2}{2m} t \\right)} \\\\\n",
    "& = & A e^{i(kx - \\omega t)}\n",
    "\\end{eqnarray}\n",
    "$$"
   ]
  },
  {
   "cell_type": "markdown",
   "id": "7c0d83da",
   "metadata": {},
   "source": [
    "$$\n",
    "\\begin{eqnarray}\n",
    "J & = & \\frac{i\\hbar}{2m} \\left[ A e^{i(kx - \\omega t)} \\left(-i Ake^{-i(kx-\\omega t)} \\right) - Ae^{-i(kx-\\omega t)} A ik e^{i(kx - \\omega t)} \\right] \\\\\n",
    "& = & -\\frac{A^2 \\hbar k}{2m} \\left[ e^{i(kx-\\omega t) - i(kx - \\omega t)} - e^{-i(kx - \\omega t) + i(kx - \\omega t)} \\right] \\\\\n",
    "& = & 0\n",
    "\\end{eqnarray}\n",
    "$$"
   ]
  }
 ],
 "metadata": {
  "kernelspec": {
   "display_name": "Python 3 (ipykernel)",
   "language": "python",
   "name": "python3"
  },
  "language_info": {
   "codemirror_mode": {
    "name": "ipython",
    "version": 3
   },
   "file_extension": ".py",
   "mimetype": "text/x-python",
   "name": "python",
   "nbconvert_exporter": "python",
   "pygments_lexer": "ipython3",
   "version": "3.10.6"
  }
 },
 "nbformat": 4,
 "nbformat_minor": 5
}
