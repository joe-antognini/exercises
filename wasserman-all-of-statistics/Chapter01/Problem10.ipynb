{
 "cells": [
  {
   "cell_type": "markdown",
   "metadata": {},
   "source": [
    "# Problem 1.10\n",
    "\n",
    "Represent the probability that the reward is behind door $i$ by $\\mathbb{P}(r = i)$, adn the probability that door $i$ is opened by $\\mathbb{P}(d = i)$.  We wish to find $\\mathbb{P}(r = 1 | d = 2)$.  By Bayes's Theorem,\n",
    "\n",
    "$$\n",
    "\\begin{eqnarray}\n",
    "\\mathbb{P}(r = 1 | d = 2) & = & \\frac{\\mathbb{P}(d = 2 | r = 1) \\mathbb{P}(r = 1)}{\\mathbb{P}(d = 2)} \\\\\n",
    "& = & \\frac{\\mathbb{P}(d = 2 | r = 1) \\mathbb{P}(r = 1)}{\\sum_{i=1}^3 \\mathbb{P}(d = 2 | r = i) \\mathbb{P}(r = i)}\n",
    "\\end{eqnarray}\n",
    "$$\n",
    "\n",
    "Now,\n",
    "\n",
    "$$\n",
    "\\begin{eqnarray}\n",
    "\\mathbb{P}(d = 2 | r = 1) & = & \\frac{1}{2} \\\\\n",
    "\\mathbb{P}(d = 2 | r = 2) & = & 0 \\\\\n",
    "\\mathbb{P}(d = 2 | r = 3) & = & 1\n",
    "\\end{eqnarray}\n",
    "$$\n",
    "\n",
    "and $\\mathbb{P}(r) = \\frac{1}{3}$.  So,\n",
    "\n",
    "$$\n",
    "\\mathbb{P}(r = 1 | d = 2) = \\frac{\\frac{1}{2} \\times \\frac{1}{3}}{\\frac{1}{2} \\times \\frac{1}{3} + 1 \\times \\frac{1}{3}} = \\frac{1}{3}\n",
    "$$\n",
    "\n",
    "Also, $\\mathbb{P}(r = 2 | d = 2) = 0$, so $\\mathbb{P}(r = 3 | d = 2) = 1 - \\mathbb{P}(r = 1 | d = 2) = \\frac{2}{3}$.  So it is beneficial to switch."
   ]
  }
 ],
 "metadata": {
  "kernelspec": {
   "display_name": "Python 3",
   "language": "python",
   "name": "python3"
  },
  "language_info": {
   "codemirror_mode": {
    "name": "ipython",
    "version": 3
   },
   "file_extension": ".py",
   "mimetype": "text/x-python",
   "name": "python",
   "nbconvert_exporter": "python",
   "pygments_lexer": "ipython3",
   "version": "3.8.10"
  }
 },
 "nbformat": 4,
 "nbformat_minor": 4
}
