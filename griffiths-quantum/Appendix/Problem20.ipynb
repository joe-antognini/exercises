{
 "cells": [
  {
   "cell_type": "markdown",
   "metadata": {},
   "source": [
    "## Problem A.20\n",
    "\n",
    "The characteristic equation can be written\n",
    "\n",
    "$$\n",
    "C_n \\lambda^n + C_{n-1} \\lambda^{n-1} + \\cdots + C_0 = 0\n",
    "$$\n",
    "\n",
    "By the Leibniz formula, the determinant can be written\n",
    "\n",
    "$$\n",
    "\\textrm{det}(\\textbf{T} - \\lambda \\textbf{I}) = \\sum_{\\sigma} \\left( \\textrm{sgn}(\\sigma) \\prod_{i=1}^n T_{i \\sigma_i} - \\lambda \\delta_{i \\sigma_i} \\right),\n",
    "$$\n",
    "where $\\sigma$ represents a permutation and $\\sigma_i$ represents the $i^{\\textrm{th}}$ term of that permutation and the sum is taken over all possible permutations of the range $\\{1, \\ldots, n \\}$.\n",
    "\n",
    "Let us first consider the $C_n$ coefficient.  To find its value we must identify the $\\lambda^n$ term.  Note that the Kronecker delta will vanish for at least one value of $i$ for all permutations except the first permutation, which is just the original order $[1, \\ldots, n]$.  Considering only that permutation, we find that the $\\lambda^n$ term is simply\n",
    "\n",
    "$$\n",
    "C_n = (-1)^n.\n",
    "$$\n",
    "\n",
    "Now consider the second coefficient, $C_{n-1}$, which is associated with the $\\lambda^{n-1}$ term.  Once again, observe that the Kronecker delta will vanish for at least one value of $i$ for all permutations except the first permutation, which is just the original order $[1, \\ldots, n]$.  But if the Kronecker delta vanishes for one value of $i$, it must vanish for some other value of $i$ because the first $i$ must occupy the space for this other value of $i$.  So in fact, at least *two* Kronecker deltas must vanish.  Thus, in order to obtain a $\\lambda^{n-1}$ term, only one permutation is possible: the original order of $[1, \\ldots, n]$.  Fixing this permutation, and examining the Leibniz formula, we find\n",
    "\n",
    "$$\n",
    "\\begin{eqnarray}\n",
    "C_{n-1} & = & \\sum_{i=1}^n (-1)^{n-1} T_{ii} \\\\\n",
    "& = & (-1)^{n-1} \\textrm{Tr}(\\textbf{T})\n",
    "\\end{eqnarray}\n",
    "$$\n",
    "\n",
    "For the last coefficient, $C_0$, note that any cross term in the Leibniz formula with the Kronecker delta will contain a power of $\\lambda$.  The term without any powers of $\\lambda$ can then just be written\n",
    "\n",
    "$$\n",
    "\\begin{eqnarray}\n",
    "C_0 & = & \\sum_{\\sigma} \\left( \\textrm{sgn}(\\sigma) \\prod_{i=1}^n T_{i \\sigma_i} \\right) \\\\\n",
    "& = & \\textrm{det}(\\textbf{T}) \n",
    "\\end{eqnarray}\n",
    "$$"
   ]
  }
 ],
 "metadata": {
  "kernelspec": {
   "display_name": "Python 3",
   "language": "python",
   "name": "python3"
  },
  "language_info": {
   "codemirror_mode": {
    "name": "ipython",
    "version": 3
   },
   "file_extension": ".py",
   "mimetype": "text/x-python",
   "name": "python",
   "nbconvert_exporter": "python",
   "pygments_lexer": "ipython3",
   "version": "3.7.3"
  }
 },
 "nbformat": 4,
 "nbformat_minor": 2
}
