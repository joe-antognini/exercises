{
 "cells": [
  {
   "cell_type": "code",
   "execution_count": 1,
   "id": "d391b417",
   "metadata": {},
   "outputs": [],
   "source": [
    "from typing import List\n",
    "\n",
    "import numpy as np"
   ]
  },
  {
   "cell_type": "code",
   "execution_count": 2,
   "id": "62dc7448",
   "metadata": {},
   "outputs": [],
   "source": [
    "def check_group_membership(g: np.ndarray, group: List[np.ndarray], tol: float) -> bool:\n",
    "    for elem in group:\n",
    "        if np.allclose(g, elem, atol=tol, rtol=tol):\n",
    "            return True\n",
    "    return False\n",
    "\n",
    "\n",
    "def generate_group(\n",
    "    generators: List[np.ndarray], max_size: int = 1000, tol: float = 1e-6\n",
    ") -> List[np.ndarray]:\n",
    "    group = generators[:]\n",
    "    \n",
    "    while True:\n",
    "        old_group = group[:]\n",
    "        for g_1 in old_group:\n",
    "            for g_2 in old_group:\n",
    "                g = g_1 @ g_2\n",
    "                if not check_group_membership(g, group, tol):\n",
    "                    group.append(g)\n",
    "        if len(old_group) == len(group) or len(group) > max_size:\n",
    "            break\n",
    "    \n",
    "    return group"
   ]
  },
  {
   "cell_type": "code",
   "execution_count": 3,
   "id": "88d71504",
   "metadata": {},
   "outputs": [],
   "source": [
    "g = np.array([[np.sqrt(3) / 2, 1/2], [-1/2, np.sqrt(3) / 2]])"
   ]
  },
  {
   "cell_type": "code",
   "execution_count": 4,
   "id": "3d93b195",
   "metadata": {},
   "outputs": [],
   "source": [
    "group = generate_group([g])"
   ]
  },
  {
   "cell_type": "code",
   "execution_count": 5,
   "id": "fd48a45e",
   "metadata": {},
   "outputs": [
    {
     "data": {
      "text/plain": [
       "[array([[ 0.8660254,  0.5      ],\n",
       "        [-0.5      ,  0.8660254]]),\n",
       " array([[ 0.5      ,  0.8660254],\n",
       "        [-0.8660254,  0.5      ]]),\n",
       " array([[-1.11022302e-16,  1.00000000e+00],\n",
       "        [-1.00000000e+00, -9.61481343e-17]]),\n",
       " array([[-0.5      ,  0.8660254],\n",
       "        [-0.8660254, -0.5      ]]),\n",
       " array([[-0.8660254,  0.5      ],\n",
       "        [-0.5      , -0.8660254]]),\n",
       " array([[-1.00000000e+00, -2.22044605e-16],\n",
       "        [ 2.07170437e-16, -1.00000000e+00]]),\n",
       " array([[-0.8660254, -0.5      ],\n",
       "        [ 0.5      , -0.8660254]]),\n",
       " array([[-0.5      , -0.8660254],\n",
       "        [ 0.8660254, -0.5      ]]),\n",
       " array([[ 2.77555756e-16, -1.00000000e+00],\n",
       "        [ 1.00000000e+00,  2.73570235e-16]]),\n",
       " array([[ 0.5      , -0.8660254],\n",
       "        [ 0.8660254,  0.5      ]]),\n",
       " array([[ 0.8660254, -0.5      ],\n",
       "        [ 0.5      ,  0.8660254]]),\n",
       " array([[ 1.00000000e+00,  3.84592537e-16],\n",
       "        [-3.88578059e-16,  1.00000000e+00]])]"
      ]
     },
     "execution_count": 5,
     "metadata": {},
     "output_type": "execute_result"
    }
   ],
   "source": [
    "group"
   ]
  },
  {
   "cell_type": "code",
   "execution_count": 6,
   "id": "4ca974c0",
   "metadata": {},
   "outputs": [
    {
     "data": {
      "text/plain": [
       "12"
      ]
     },
     "execution_count": 6,
     "metadata": {},
     "output_type": "execute_result"
    }
   ],
   "source": [
    "len(group)"
   ]
  },
  {
   "cell_type": "code",
   "execution_count": 7,
   "id": "42262d1f",
   "metadata": {},
   "outputs": [],
   "source": [
    "g = np.array([[1 / np.sqrt(2), 1 / np.sqrt(2)], [-1 / np.sqrt(2), 1 / np.sqrt(2)]])"
   ]
  },
  {
   "cell_type": "code",
   "execution_count": 8,
   "id": "fab01efe",
   "metadata": {},
   "outputs": [],
   "source": [
    "group = generate_group([g])"
   ]
  },
  {
   "cell_type": "code",
   "execution_count": 9,
   "id": "2a7456e3",
   "metadata": {},
   "outputs": [
    {
     "data": {
      "text/plain": [
       "8"
      ]
     },
     "execution_count": 9,
     "metadata": {},
     "output_type": "execute_result"
    }
   ],
   "source": [
    "len(group)"
   ]
  }
 ],
 "metadata": {
  "kernelspec": {
   "display_name": "Python 3 (ipykernel)",
   "language": "python",
   "name": "python3"
  },
  "language_info": {
   "codemirror_mode": {
    "name": "ipython",
    "version": 3
   },
   "file_extension": ".py",
   "mimetype": "text/x-python",
   "name": "python",
   "nbconvert_exporter": "python",
   "pygments_lexer": "ipython3",
   "version": "3.10.6"
  }
 },
 "nbformat": 4,
 "nbformat_minor": 5
}
