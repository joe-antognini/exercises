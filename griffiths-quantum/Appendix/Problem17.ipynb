{
 "cells": [
  {
   "cell_type": "code",
   "execution_count": 1,
   "metadata": {},
   "outputs": [],
   "source": [
    "import numpy as np"
   ]
  },
  {
   "cell_type": "markdown",
   "metadata": {},
   "source": [
    "## Problem A.17\n",
    "\n",
    "Let us write out the first trace explicitly:\n",
    "\n",
    "$$\n",
    "\\textrm{Tr}(\\textbf{T}_1 \\textbf{T}_2) = \\sum_{i, k} \\textbf{T}_{1, ik} \\textbf{T}_{2, ki}\n",
    "$$\n",
    "\n",
    "Now consider the second trace:\n",
    "\n",
    "$$\n",
    "\\begin{eqnarray}\n",
    "\\textrm{Tr}(\\textbf{T}_2 \\textbf{T}_1) & = & \\sum_{i, k} \\textbf{T}_{2, ik} \\textbf{T}_{1, ki} \\\\\n",
    "& = & \\sum_{k, i} \\textbf{T}_{1, ki} \\textbf{T}_{2, ik} \\\\\n",
    "\\end{eqnarray}\n",
    "$$\n",
    "where we can do this second step because each individual term is just the product of two scalars and therefore commutes.  Now because the summation indices are dummy indices we can simply rename them:\n",
    "$$\n",
    "\\begin{eqnarray}\n",
    "\\textrm{Tr}(\\textbf{T}_2 \\textbf{T}_1) & = & \\sum_{i, k} \\textbf{T}_{1, ik} \\textbf{T}_{2, ki} \\\\\n",
    "& = & \\textrm{Tr}(\\textbf{T}_1 \\textbf{T}_2)\n",
    "\\end{eqnarray}\n",
    "$$\n",
    "\n",
    "As a counterexample to show that the trace is not conserved for all permutations of the product of three matrices, consider the following:\n",
    "\n",
    "$$\n",
    "\\textbf{T}_1 = \\left( \\begin{matrix}\n",
    "0 & 1 \\\\\n",
    "1 & 0 \\\\\n",
    "\\end{matrix} \\right)\n",
    "$$\n",
    "\n",
    "$$\n",
    "\\textbf{T}_2 = \\left( \\begin{matrix}\n",
    "1 & 1 \\\\\n",
    "0 & 0 \\\\\n",
    "\\end{matrix} \\right)\n",
    "$$\n",
    "\n",
    "$$\n",
    "\\textbf{T}_3 = \\left( \\begin{matrix}\n",
    "1 & 0 \\\\\n",
    "1 & 0 \\\\\n",
    "\\end{matrix} \\right)\n",
    "$$\n",
    "\n",
    "Now we have\n",
    "$$\n",
    "\\textbf{T}_1 \\textbf{T}_2 \\textbf{T}_3 = \\left( \\begin{matrix}\n",
    "0 & 1 \\\\\n",
    "1 & 0 \\\\\n",
    "\\end{matrix} \\right) \\left( \\begin{matrix}\n",
    "1 & 1 \\\\\n",
    "0 & 0 \\\\\n",
    "\\end{matrix} \\right) \\left( \\begin{matrix}\n",
    "1 & 0 \\\\\n",
    "1 & 0 \\\\\n",
    "\\end{matrix} \\right) = \\left( \\begin{matrix}\n",
    "0 & 1 \\\\\n",
    "1 & 0 \\\\\n",
    "\\end{matrix} \\right) \\left( \\begin{matrix}\n",
    "2 & 0 \\\\\n",
    "0 & 0 \\\\\n",
    "\\end{matrix} \\right) = \\left( \\begin{matrix}\n",
    "0 & 0 \\\\\n",
    "2 & 0 \\\\\n",
    "\\end{matrix} \\right).\n",
    "$$\n",
    "So we have\n",
    "$$\n",
    "\\textrm{Tr}(\\textbf{T}_1 \\textbf{T}_2 \\textbf{T}_3) = 0\n",
    "$$\n",
    "\n",
    "Now consider the following product:\n",
    "$$\n",
    "\\textbf{T}_2 \\textbf{T}_1 \\textbf{T}_3 = \\left( \\begin{matrix}\n",
    "1 & 1 \\\\\n",
    "0 & 0 \\\\\n",
    "\\end{matrix} \\right) \\left( \\begin{matrix}\n",
    "0 & 1 \\\\\n",
    "1 & 0 \\\\\n",
    "\\end{matrix} \\right) \\left( \\begin{matrix}\n",
    "1 & 0 \\\\\n",
    "1 & 0 \\\\\n",
    "\\end{matrix} \\right) = \\left( \\begin{matrix}\n",
    "1 & 1 \\\\\n",
    "0 & 0 \\\\\n",
    "\\end{matrix} \\right) \\left( \\begin{matrix}\n",
    "1 & 0 \\\\\n",
    "1 & 0 \\\\\n",
    "\\end{matrix} \\right) = \\left( \\begin{matrix}\n",
    "2 & 0 \\\\\n",
    "0 & 0 \\\\\n",
    "\\end{matrix} \\right).\n",
    "$$\n",
    "So we have $\\textrm{Tr}(\\textbf{T}_2 \\textbf{T}_1 \\textbf{T}_3) = 2$."
   ]
  },
  {
   "cell_type": "markdown",
   "metadata": {},
   "source": [
    "### Numerical tests"
   ]
  },
  {
   "cell_type": "code",
   "execution_count": 2,
   "metadata": {},
   "outputs": [],
   "source": [
    "T1 = np.array([[0, 1], [1, 0]])\n",
    "T2 = np.array([[1, 1], [0, 0]])\n",
    "T3 = np.array([[1, 0], [1, 0]])"
   ]
  },
  {
   "cell_type": "code",
   "execution_count": 3,
   "metadata": {},
   "outputs": [
    {
     "data": {
      "text/plain": [
       "0"
      ]
     },
     "execution_count": 3,
     "metadata": {},
     "output_type": "execute_result"
    }
   ],
   "source": [
    "np.trace(T1 @ T2 @ T3)"
   ]
  },
  {
   "cell_type": "code",
   "execution_count": 4,
   "metadata": {},
   "outputs": [
    {
     "data": {
      "text/plain": [
       "2"
      ]
     },
     "execution_count": 4,
     "metadata": {},
     "output_type": "execute_result"
    }
   ],
   "source": [
    "np.trace(T2 @ T1 @ T3)"
   ]
  }
 ],
 "metadata": {
  "kernelspec": {
   "display_name": "Python 3",
   "language": "python",
   "name": "python3"
  },
  "language_info": {
   "codemirror_mode": {
    "name": "ipython",
    "version": 3
   },
   "file_extension": ".py",
   "mimetype": "text/x-python",
   "name": "python",
   "nbconvert_exporter": "python",
   "pygments_lexer": "ipython3",
   "version": "3.7.3"
  }
 },
 "nbformat": 4,
 "nbformat_minor": 2
}
