{
 "cells": [
  {
   "cell_type": "markdown",
   "metadata": {},
   "source": [
    "# Problem 1.12\n",
    "\n",
    "Denote the cards as $1, 2, 3$, with the following sides:\n",
    "\n",
    "1: Green, Green \\\n",
    "2: Green, Red \\\n",
    "3: Red, Red\n",
    "\n",
    "We want to find the probability that we've chosen card 1 given that we've seen a green side, i.e., $\\mathbb{P}(C = 1 | S = G)$.  From Bayes's Theorem,\n",
    "\n",
    "$$\n",
    "\\begin{eqnarray}\n",
    "\\mathbb{P}(C = 1 | S = G) & = & \\frac{\\mathbb{P}(S = G | C = 1) \\mathbb{P}(C = 1)}{\\mathbb{P}(S = G)} \\\\\n",
    "& = & \\frac{\\mathbb{P}(S = G | C = 1) \\mathbb{P}(C = 1)}{\\mathbb{P}(S = G | C = 1) \\mathbb{P}(C = 1) + \\mathbb{P}(S = G | C = 2) \\mathbb{P}(C = 2) + \\mathbb{P}(S = G | C = 3) \\mathbb{P}(C = 3)} \\\\\n",
    "& = & \\frac{1 \\times \\frac{1}{3}}{1 \\times \\frac{1}{3} + \\frac{1}{2} \\times \\frac{1}{3} + 0 \\times \\frac{1}{3}} \\\\\n",
    "& = & \\frac{2}{3}\n",
    "\\end{eqnarray}\n",
    "$$"
   ]
  }
 ],
 "metadata": {
  "kernelspec": {
   "display_name": "Python 3",
   "language": "python",
   "name": "python3"
  },
  "language_info": {
   "codemirror_mode": {
    "name": "ipython",
    "version": 3
   },
   "file_extension": ".py",
   "mimetype": "text/x-python",
   "name": "python",
   "nbconvert_exporter": "python",
   "pygments_lexer": "ipython3",
   "version": "3.8.10"
  }
 },
 "nbformat": 4,
 "nbformat_minor": 4
}
