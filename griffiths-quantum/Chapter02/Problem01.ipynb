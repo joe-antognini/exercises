{
 "cells": [
  {
   "cell_type": "markdown",
   "metadata": {},
   "source": [
    "# Problem 2.1"
   ]
  },
  {
   "cell_type": "markdown",
   "metadata": {},
   "source": [
    "## Part a.\n",
    "\n",
    "Let us write the separation constant as\n",
    "\n",
    "$$\n",
    "E = E_0 + i \\Gamma,\n",
    "$$\n",
    "\n",
    "where both $E_0$ and $\\Gamma$ are real.\n",
    "\n",
    "Then the stationary states are written\n",
    "\n",
    "$$\n",
    "\\begin{eqnarray}\n",
    "\\Psi(x, t) & = & \\psi(x) e^{-i(E_0 + i \\Gamma) t / \\hbar} \\\\\n",
    "& = & \\psi(x) e^{\\Gamma t / \\hbar} e^{- i E_0 t / \\hbar}\n",
    "\\end{eqnarray}\n",
    "$$\n",
    "\n",
    "Assuming that $\\Psi(x, t)$ is normalized at $t = 0$, then $\\Psi(x, t)$ cannot be normalized at any other time because the amplitude will be different by a factor of $e^{2 \\Gamma t / \\hbar}$, which will be non-zero unless $\\Gamma = 0$."
   ]
  },
  {
   "cell_type": "markdown",
   "metadata": {},
   "source": [
    "## Part b.\n",
    "\n",
    "Suppose that $\\psi$ satisfies the time-independent Schrödinger equation.  Then\n",
    "\n",
    "$$\n",
    "-\\frac{\\hbar^2}{2m} \\frac{d^2 \\psi}{dx^2} + V \\psi = E \\psi\n",
    "$$\n",
    "\n",
    "This means that $\\psi^*$ is also a solution since we can just take the complex conjugate of the above equation:\n",
    "\n",
    "$$\n",
    "-\\frac{\\hbar^2}{2m} \\frac{d^2 \\psi^*}{dx^2} + V \\psi^* = E \\psi^*\n",
    "$$\n",
    "\n",
    "And since any linear combination of solutions is also a solution, then \n",
    "\n",
    "$$\n",
    "\\psi_r \\equiv \\frac{1}{2} \\left( \\psi + \\psi^* \\right)\n",
    "$$\n",
    "\n",
    "is also a solution and is guaranteed to be real.  Similarly,\n",
    "\n",
    "$$\n",
    "\\psi_i \\equiv \\frac{1}{2} \\left( \\psi - \\psi^* \\right)\n",
    "$$\n",
    "\n",
    "is a solution and is guaranteed to be pure imaginary.  Thus any solution can be written as\n",
    "\n",
    "$$\n",
    "\\psi = \\psi_r + \\psi_i\n",
    "$$\n",
    "\n",
    "Letting\n",
    "\n",
    "$$\n",
    "\\begin{eqnarray}\n",
    "\\psi_{r, 1} & \\equiv & \\psi_r \\\\\n",
    "\\psi_{r, 2} & \\equiv & -i \\psi_i\n",
    "\\end{eqnarray}\n",
    "$$\n",
    "\n",
    "then both $\\psi{r, 1}$ and $\\psi_{r, 2}$ are real.  Hence any solution $\\psi$ can be written as a linear combination of two real solutions:\n",
    "\n",
    "$$\n",
    "\\psi = \\psi_{r, 1} - i \\psi_{r, 2}\n",
    "$$"
   ]
  },
  {
   "cell_type": "markdown",
   "metadata": {},
   "source": [
    "## Part c.\n",
    "\n",
    "If $\\psi(x)$ is a solution to the time-indpendent Schrödinger equation, then\n",
    "\n",
    "$$\n",
    "-\\frac{\\hbar^2}{2m} \\frac{d^2 \\psi(x)}{dx^2} + V(x) \\psi(x) = E \\psi(x)\n",
    "$$\n",
    "\n",
    "Now suppose that $V(x)$ is even.  Then we must also have\n",
    "\n",
    "$$\n",
    "-\\frac{\\hbar^2}{2m} \\frac{d^2 \\psi(-x)}{dx^2} + V(x) \\psi(-x) = E \\psi(-x)\n",
    "$$\n",
    "\n",
    "and so $\\psi(-x)$ is also a solution.  We can therefore construct the following two new solutions as linear combinations of these two:\n",
    "\n",
    "$$\n",
    "\\begin{eqnarray}\n",
    "\\psi_{\\textrm{even}} & \\equiv & \\frac{1}{2} \\left( \\psi(x) + \\psi(-x) \\right) \\\\\n",
    "\\psi_{\\textrm{odd}} & \\equiv & \\frac{1}{2} \\left( \\psi(x) - \\psi(-x) \\right) \\\\\n",
    "\\end{eqnarray}\n",
    "$$\n",
    "\n",
    "where the first is an even function and the second is an odd function.  Any arbitrary solution can therefore be written as a sum of an even and odd solution:\n",
    "\n",
    "$$\n",
    "\\psi = \\frac{1}{2} \\left( \\psi_{\\textrm{even}} + \\psi_{\\textrm{odd}} \\right)\n",
    "$$"
   ]
  }
 ],
 "metadata": {
  "kernelspec": {
   "display_name": "Python 3",
   "language": "python",
   "name": "python3"
  },
  "language_info": {
   "codemirror_mode": {
    "name": "ipython",
    "version": 3
   },
   "file_extension": ".py",
   "mimetype": "text/x-python",
   "name": "python",
   "nbconvert_exporter": "python",
   "pygments_lexer": "ipython3",
   "version": "3.7.4"
  }
 },
 "nbformat": 4,
 "nbformat_minor": 2
}
