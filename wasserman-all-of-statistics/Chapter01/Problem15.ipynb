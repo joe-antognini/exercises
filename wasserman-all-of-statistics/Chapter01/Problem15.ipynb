{
 "cells": [
  {
   "cell_type": "markdown",
   "metadata": {},
   "source": [
    "# Problem 1.15\n",
    "\n",
    "## Part a.\n",
    "\n",
    "We want to find $\\mathbb{P}(B \\geq 2 | B \\geq 1)$, where $\\mathbb{P}(B)$ is the probability that $B$ children have blue eyes.\n",
    "\n",
    "$$\n",
    "\\begin{eqnarray}\n",
    "\\mathbb{P}(B \\geq 2 | B \\geq 1) & = & \\frac{\\mathbb{P}(B \\geq 2 \\cap B \\geq 1)}{\\mathbb{P}(B \\geq 1)} \\\\\n",
    "& = & \\frac{\\mathbb{P}(B \\geq 2)}{\\mathbb{P}(B \\geq 1)}\n",
    "\\end{eqnarray}\n",
    "$$\n",
    "\n",
    "$$\n",
    "\\mathbb{P}(B \\geq 1) = 1 - \\mathbb{P}(0) = 1 - \\frac{1}{8} = \\frac{7}{8}\n",
    "$$\n",
    "\n",
    "$$\n",
    "\\mathbb{P}(B \\geq 2) = \\mathbb{P}(B = 2) + \\mathbb{P}(B = 3) = {3 \\choose 2} \\frac{1}{2^3} + \\frac{1}{2^3} = \\frac{3}{8} + \\frac{1}{8} = \\frac{1}{2}\n",
    "$$\n",
    "\n",
    "So,\n",
    "\n",
    "$$\n",
    "\\mathbb{P}(B \\geq 2 | B \\geq 1) = \\frac{1/2}{7/8} = \\frac{4}{7}\n",
    "$$\n",
    "\n",
    "## Part b.\n",
    "\n",
    "Since the probability that each child has blue eyes is independent of any other this is equivalent to asking what the probabiilty is that at least one child out of two has blue eyes.\n",
    "\n",
    "$$\n",
    "\\mathbb{P}(B \\geq 1) = {2 \\choose 1} \\frac{1}{2^2} = \\frac{1}{2}\n",
    "$$"
   ]
  }
 ],
 "metadata": {
  "kernelspec": {
   "display_name": "Python 3",
   "language": "python",
   "name": "python3"
  },
  "language_info": {
   "codemirror_mode": {
    "name": "ipython",
    "version": 3
   },
   "file_extension": ".py",
   "mimetype": "text/x-python",
   "name": "python",
   "nbconvert_exporter": "python",
   "pygments_lexer": "ipython3",
   "version": "3.8.10"
  }
 },
 "nbformat": 4,
 "nbformat_minor": 4
}
