{
 "cells": [
  {
   "cell_type": "markdown",
   "metadata": {},
   "source": [
    "## Problem A.22\n",
    "\n",
    "### Part a.\n",
    "\n",
    "Suppose that $[\\textbf{T}_1^e, \\textbf{T}_2^e] = 0$.  This implies that\n",
    "\n",
    "$$\n",
    "\\textbf{T}_1^e \\textbf{T}_2^e - \\textbf{T}_2^e \\textbf{T}_1^e = 0\n",
    "$$\n",
    "\n",
    "Multiplying the left by $\\textbf{S}$ and the right by $\\textbf{S}^{-1}$, we have\n",
    "\n",
    "$$\n",
    "\\begin{eqnarray}\n",
    "\\textbf{S} \\textbf{T}_1^e \\textbf{T}_2^e \\textbf{S}^{-1} - \\textbf{S} \\textbf{T}_2^e \\textbf{T}_1^e \\textbf{S}^{-1} & = & 0 \\\\\n",
    "\\implies \\textbf{S} \\textbf{T}_1^e \\textbf{S}^{-1} \\textbf{S} \\textbf{T}_2^e \\textbf{S}^{-1} - \\textbf{S} \\textbf{T}_2^e \\textbf{S}^{-1} \\textbf{S} \\textbf{T}_1^e \\textbf{S}^{-1} & = & 0 \\\\\n",
    "\\implies \\textbf{T}_1^f \\textbf{T}_2^f - \\textbf{T}_2^f \\textbf{T}_1^f & = & 0\n",
    "\\end{eqnarray}\n",
    "$$\n",
    "\n",
    "### Part b.\n",
    "\n",
    "If two matrices $\\textbf{T}_1$ and $\\textbf{T}_2$ are simultaneously diagonalizable, then there exists a matrix $\\textbf{S}$ that will diagonalize both $\\textbf{T}_1$ and $\\textbf{T}_2$.  This means that we would have\n",
    "\n",
    "$$\n",
    "\\begin{eqnarray}\n",
    "\\textbf{S} \\textbf{T}_1 \\textbf{S}^{-1} & = & \\textbf{D}_1 \\\\\n",
    "\\textbf{S} \\textbf{T}_2 \\textbf{S}^{-1} & = & \\textbf{D}_2,\n",
    "\\end{eqnarray}\n",
    "$$\n",
    "\n",
    "where $\\textbf{D}_i$ represents some diagonal matrix.\n",
    "\n",
    "Consider now the commutator of $\\textbf{T}_1$ and $\\textbf{T}_2$.  By multiplying $\\textbf{S}$ on the left and $\\textbf{S}^{-1}$ on the right, we get\n",
    "\n",
    "$$\n",
    "\\begin{eqnarray}\n",
    "[\\textbf{T}_1, \\textbf{T}_2] & = & \\textbf{T}_1 \\textbf{T}_2 - \\textbf{T}_2 \\textbf{T}_1 \\\\\n",
    "& = & \\textbf{S} \\textbf{T}_1 \\textbf{S}^{-1} \\textbf{S} \\textbf{T}_2 - \\textbf{S} \\textbf{T}_2 \\textbf{S}^{-1} \\textbf{S} \\textbf{T}_1 \\textbf{S}^{-1} \\\\\n",
    "& = & \\textbf{D}_1 \\textbf{D}_2 - \\textbf{D}_2 \\textbf{D}_1 \\\\\n",
    "& = & 0\n",
    "\\end{eqnarray}\n",
    "$$\n",
    "\n",
    "where we obtain the last step because any two diagonal matrices commute."
   ]
  }
 ],
 "metadata": {
  "kernelspec": {
   "display_name": "Python 3",
   "language": "python",
   "name": "python3"
  },
  "language_info": {
   "codemirror_mode": {
    "name": "ipython",
    "version": 3
   },
   "file_extension": ".py",
   "mimetype": "text/x-python",
   "name": "python",
   "nbconvert_exporter": "python",
   "pygments_lexer": "ipython3",
   "version": "3.7.3"
  }
 },
 "nbformat": 4,
 "nbformat_minor": 2
}
