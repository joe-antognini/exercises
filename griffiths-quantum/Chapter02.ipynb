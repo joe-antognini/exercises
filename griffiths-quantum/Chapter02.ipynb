{
 "cells": [
  {
   "cell_type": "code",
   "execution_count": 24,
   "metadata": {},
   "outputs": [],
   "source": [
    "import numpy as np\n",
    "import sympy as sym\n",
    "from IPython.display import display"
   ]
  },
  {
   "cell_type": "code",
   "execution_count": 13,
   "metadata": {},
   "outputs": [],
   "source": [
    "sym.init_printing(use_latex='mathjax')"
   ]
  },
  {
   "cell_type": "code",
   "execution_count": 2,
   "metadata": {},
   "outputs": [],
   "source": [
    "a, n, x, pi = sym.symbols('a n x pi')"
   ]
  },
  {
   "cell_type": "code",
   "execution_count": 19,
   "metadata": {
    "scrolled": true
   },
   "outputs": [
    {
     "data": {
      "text/latex": [
       "$$\\begin{cases} 0 & \\text{for}\\: \\left(n = 0 \\wedge \\pi = 0\\right) \\vee n = 0 \\vee \\pi = 0 \\\\\\frac{2 \\left(\\frac{a^{2} \\sin^{2}{\\left (n \\pi \\right )}}{4} + \\frac{a^{2} \\cos^{2}{\\left (n \\pi \\right )}}{4} - \\frac{a^{2} \\sin{\\left (n \\pi \\right )} \\cos{\\left (n \\pi \\right )}}{2 n \\pi} + \\frac{a^{2} \\sin^{2}{\\left (n \\pi \\right )}}{4 n^{2} \\pi^{2}}\\right)}{a} & \\text{otherwise} \\end{cases}$$"
      ],
      "text/plain": [
       "⎧                                  0                                    for (n\n",
       "⎪                                                                             \n",
       "⎪  ⎛ 2    2         2    2         2                      2    2     ⎞        \n",
       "⎪  ⎜a ⋅sin (n⋅π)   a ⋅cos (n⋅π)   a ⋅sin(n⋅π)⋅cos(n⋅π)   a ⋅sin (n⋅π)⎟        \n",
       "⎨2⋅⎜──────────── + ──────────── - ──────────────────── + ────────────⎟        \n",
       "⎪  ⎜     4              4                2⋅n⋅π                2  2   ⎟        \n",
       "⎪  ⎝                                                       4⋅n ⋅π    ⎠        \n",
       "⎪─────────────────────────────────────────────────────────────────────        \n",
       "⎩                                  a                                          \n",
       "\n",
       " = 0 ∧ π = 0) ∨ n = 0 ∨ π = 0\n",
       "                             \n",
       "                             \n",
       "                             \n",
       "                             \n",
       "                             \n",
       "                             \n",
       "       otherwise             \n",
       "                             "
      ]
     },
     "metadata": {},
     "output_type": "display_data"
    }
   ],
   "source": [
    "display(sym.integrate(2 / a * x * sym.sin(n * pi * x / a)**2, (x, 0, a)))"
   ]
  },
  {
   "cell_type": "code",
   "execution_count": 21,
   "metadata": {
    "scrolled": false
   },
   "outputs": [
    {
     "data": {
      "text/latex": [
       "$$\\begin{cases} 0 & \\text{for}\\: n = 0 \\vee \\pi = 0 \\\\\\frac{a^{2} \\left(\\frac{n^{3} \\pi^{3}}{3} - \\frac{n^{2} \\pi^{2} \\sin{\\left (2 n \\pi \\right )}}{2} - \\frac{n \\pi \\cos{\\left (2 n \\pi \\right )}}{2} + \\frac{\\sin{\\left (2 n \\pi \\right )}}{4}\\right)}{n^{3} \\pi^{3}} & \\text{otherwise} \\end{cases}$$"
      ],
      "text/plain": [
       "⎧                             0                               for n = 0 ∨ π = \n",
       "⎪                                                                             \n",
       "⎪   ⎛ 3  3    2  2                                         ⎞                  \n",
       "⎪ 2 ⎜n ⋅π    n ⋅π ⋅sin(2⋅n⋅π)   n⋅π⋅cos(2⋅n⋅π)   sin(2⋅n⋅π)⎟                  \n",
       "⎨a ⋅⎜───── - ──────────────── - ────────────── + ──────────⎟                  \n",
       "⎪   ⎝  3            2                 2              4     ⎠                  \n",
       "⎪───────────────────────────────────────────────────────────      otherwise   \n",
       "⎪                            3  3                                             \n",
       "⎩                           n ⋅π                                              \n",
       "\n",
       "0\n",
       " \n",
       " \n",
       " \n",
       " \n",
       " \n",
       " \n",
       " \n",
       " "
      ]
     },
     "metadata": {},
     "output_type": "display_data"
    }
   ],
   "source": [
    "display(sym.simplify(sym.integrate(2 / a * x**2 * sym.sin(n * pi * x / a)**2, (x, 0, a))))"
   ]
  },
  {
   "cell_type": "code",
   "execution_count": 22,
   "metadata": {
    "scrolled": true
   },
   "outputs": [
    {
     "data": {
      "text/latex": [
       "$$\\begin{cases} \\frac{a}{2} - \\frac{a \\sin{\\left (2 n \\pi \\right )}}{4 n \\pi} & \\text{for}\\: \\frac{n \\pi}{a} \\neq 0 \\\\0 & \\text{otherwise} \\end{cases}$$"
      ],
      "text/plain": [
       "⎧a   a⋅sin(2⋅n⋅π)      n⋅π    \n",
       "⎪─ - ────────────  for ─── ≠ 0\n",
       "⎨2      4⋅n⋅π           a     \n",
       "⎪                             \n",
       "⎩       0           otherwise "
      ]
     },
     "metadata": {},
     "output_type": "display_data"
    }
   ],
   "source": [
    "display(sym.simplify(sym.integrate(sym.sin(n * pi * x / a)**2, (x, 0, a))))"
   ]
  },
  {
   "cell_type": "code",
   "execution_count": 26,
   "metadata": {
    "scrolled": true
   },
   "outputs": [
    {
     "data": {
      "text/latex": [
       "$$\\begin{cases} \\frac{a}{2} - \\frac{a \\sin{\\left (2 n \\pi \\right )}}{4 n \\pi} & \\text{for}\\: \\frac{n \\pi}{a} \\neq 0 \\\\0 & \\text{otherwise} \\end{cases}$$"
      ],
      "text/plain": [
       "⎧a   a⋅sin(2⋅n⋅π)      n⋅π    \n",
       "⎪─ - ────────────  for ─── ≠ 0\n",
       "⎨2      4⋅n⋅π           a     \n",
       "⎪                             \n",
       "⎩       0           otherwise "
      ]
     },
     "execution_count": 26,
     "metadata": {},
     "output_type": "execute_result"
    }
   ],
   "source": [
    "sym.simplify(sym.integrate(sym.sin(n * pi * x / a)**2, (x, 0, a)))"
   ]
  },
  {
   "cell_type": "code",
   "execution_count": 25,
   "metadata": {},
   "outputs": [
    {
     "data": {
      "text/latex": [
       "$$0.5678618083866119$$"
      ],
      "text/plain": [
       "0.5678618083866119"
      ]
     },
     "execution_count": 25,
     "metadata": {},
     "output_type": "execute_result"
    }
   ],
   "source": [
    "np.sqrt(np.pi**2 / 12 - 1 / 2)"
   ]
  },
  {
   "cell_type": "code",
   "execution_count": null,
   "metadata": {},
   "outputs": [],
   "source": []
  }
 ],
 "metadata": {
  "kernelspec": {
   "display_name": "Python 3",
   "language": "python",
   "name": "python3"
  },
  "language_info": {
   "codemirror_mode": {
    "name": "ipython",
    "version": 3
   },
   "file_extension": ".py",
   "mimetype": "text/x-python",
   "name": "python",
   "nbconvert_exporter": "python",
   "pygments_lexer": "ipython3",
   "version": "3.7.3"
  }
 },
 "nbformat": 4,
 "nbformat_minor": 2
}
