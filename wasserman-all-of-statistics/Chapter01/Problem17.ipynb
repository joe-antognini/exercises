{
 "cells": [
  {
   "cell_type": "markdown",
   "metadata": {},
   "source": [
    "# Problem 1.17\n",
    "\n",
    "We can take advantage of the associativity of the intersection operator to write\n",
    "\n",
    "$$\n",
    "\\begin{eqnarray}\n",
    "\\mathbb{P}(ABC) & = & \\mathbb{P}(A \\cap (B \\cap C)) \\\\\n",
    "& = & \\mathbb{P}(A \\cap (BC)) \\\\\n",
    "& = & \\mathbb{P}(A | BC) \\mathbb{P}(BC)\n",
    "\\end{eqnarray}\n",
    "$$\n",
    "\n",
    "Then applying the conditional probability to $\\mathbb{P}(BC)$,\n",
    "\n",
    "$$\n",
    "\\mathbb{P}(ABC) = \\mathbb{P}(A|BC)\\mathbb{P}(B|C) \\mathbb{P}(C)\n",
    "$$"
   ]
  }
 ],
 "metadata": {
  "kernelspec": {
   "display_name": "Python 3",
   "language": "python",
   "name": "python3"
  },
  "language_info": {
   "codemirror_mode": {
    "name": "ipython",
    "version": 3
   },
   "file_extension": ".py",
   "mimetype": "text/x-python",
   "name": "python",
   "nbconvert_exporter": "python",
   "pygments_lexer": "ipython3",
   "version": "3.8.10"
  }
 },
 "nbformat": 4,
 "nbformat_minor": 4
}
